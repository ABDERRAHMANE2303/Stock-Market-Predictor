{
 "cells": [
  {
   "cell_type": "markdown",
   "metadata": {},
   "source": [
    "# AAPL Data Context Viewer\n",
    "\n",
    "This notebook displays the head of all AAPL CSV files across different model folders and periods to provide a quick overview."
   ]
  },
  {
   "cell_type": "code",
   "execution_count": 1,
   "metadata": {},
   "outputs": [],
   "source": [
    "import pandas as pd\n",
    "import os\n",
    "import glob\n",
    "from IPython.display import display, Markdown"
   ]
  },
  {
   "cell_type": "markdown",
   "metadata": {},
   "source": [
    "## Helper Functions"
   ]
  },
  {
   "cell_type": "code",
   "execution_count": 2,
   "metadata": {},
   "outputs": [],
   "source": [
    "def display_csv_head(file_path, rows=5):\n",
    "    \"\"\"\n",
    "    Display the head of a CSV file with a title showing the file path.\n",
    "    \"\"\"\n",
    "    try:\n",
    "        # Check if file exists\n",
    "        if not os.path.exists(file_path):\n",
    "            display(Markdown(f\"## ❌ File not found: {file_path}\"))\n",
    "            return\n",
    "            \n",
    "        # Read the CSV\n",
    "        df = pd.read_csv(file_path)\n",
    "        \n",
    "        # Display file info\n",
    "        display(Markdown(f\"## 📊 {file_path}\"))\n",
    "        display(Markdown(f\"**Shape:** {df.shape[0]} rows × {df.shape[1]} columns\"))\n",
    "        \n",
    "        # Display head\n",
    "        display(df.head(rows))\n",
    "        \n",
    "        # Display column info\n",
    "        display(Markdown(\"**Columns:**\"))\n",
    "        col_info = pd.DataFrame({\n",
    "            'Type': df.dtypes,\n",
    "            'Non-Null Count': df.count(),\n",
    "            'Null Count': df.isnull().sum()\n",
    "        })\n",
    "        display(col_info)\n",
    "        \n",
    "        print(\"\\n\" + \"-\"*80 + \"\\n\")\n",
    "    except Exception as e:\n",
    "        display(Markdown(f\"## ❌ Error reading {file_path}: {str(e)}\"))\n",
    "        print(\"\\n\" + \"-\"*80 + \"\\n\")"
   ]
  },
  {
   "cell_type": "markdown",
   "metadata": {},
   "source": [
    "## Cleaned Data"
   ]
  },
  {
   "cell_type": "code",
   "execution_count": 3,
   "metadata": {},
   "outputs": [
    {
     "data": {
      "text/markdown": [
       "## 📊 cleaned/AAPL.csv"
      ],
      "text/plain": [
       "<IPython.core.display.Markdown object>"
      ]
     },
     "metadata": {},
     "output_type": "display_data"
    },
    {
     "data": {
      "text/markdown": [
       "**Shape:** 2513 rows × 22 columns"
      ],
      "text/plain": [
       "<IPython.core.display.Markdown object>"
      ]
     },
     "metadata": {},
     "output_type": "display_data"
    },
    {
     "data": {
      "application/vnd.microsoft.datawrangler.viewer.v0+json": {
       "columns": [
        {
         "name": "index",
         "rawType": "int64",
         "type": "integer"
        },
        {
         "name": "date",
         "rawType": "object",
         "type": "string"
        },
        {
         "name": "open",
         "rawType": "float64",
         "type": "float"
        },
        {
         "name": "high",
         "rawType": "float64",
         "type": "float"
        },
        {
         "name": "low",
         "rawType": "float64",
         "type": "float"
        },
        {
         "name": "close",
         "rawType": "float64",
         "type": "float"
        },
        {
         "name": "volume",
         "rawType": "int64",
         "type": "integer"
        },
        {
         "name": "dividends",
         "rawType": "float64",
         "type": "float"
        },
        {
         "name": "splits",
         "rawType": "float64",
         "type": "float"
        },
        {
         "name": "symbol",
         "rawType": "object",
         "type": "string"
        },
        {
         "name": "Sector",
         "rawType": "object",
         "type": "string"
        },
        {
         "name": "Industry",
         "rawType": "object",
         "type": "string"
        },
        {
         "name": "return",
         "rawType": "float64",
         "type": "float"
        },
        {
         "name": "ma5",
         "rawType": "float64",
         "type": "float"
        },
        {
         "name": "ma20",
         "rawType": "float64",
         "type": "float"
        },
        {
         "name": "ma50",
         "rawType": "float64",
         "type": "float"
        },
        {
         "name": "volatility",
         "rawType": "float64",
         "type": "float"
        },
        {
         "name": "volume_ma20",
         "rawType": "float64",
         "type": "float"
        },
        {
         "name": "day_of_week",
         "rawType": "int64",
         "type": "integer"
        },
        {
         "name": "month",
         "rawType": "int64",
         "type": "integer"
        },
        {
         "name": "year",
         "rawType": "int64",
         "type": "integer"
        },
        {
         "name": "next_day_close",
         "rawType": "float64",
         "type": "float"
        },
        {
         "name": "price_up",
         "rawType": "int64",
         "type": "integer"
        }
       ],
       "conversionMethod": "pd.DataFrame",
       "ref": "b4078baa-08f2-4b54-8e0b-1b753f5b3356",
       "rows": [
        [
         "0",
         "2015-05-13 00:00:00-04:00",
         "28.290463870135092",
         "28.523695007429996",
         "28.22767120066569",
         "28.25906753540039",
         "138776800",
         "0.0",
         "0.0",
         "AAPL",
         "Technology",
         "Consumer Electronics",
         "0.0233316392062845",
         "28.88430862426758",
         "29.091413688659667",
         "28.676283950805665",
         "0.0104451768177029",
         "170446000.0",
         "2",
         "5",
         "2015",
         "28.918397903442383",
         "1"
        ],
        [
         "1",
         "2015-05-14 00:00:00-04:00",
         "28.57303815415217",
         "28.918397903442383",
         "28.516973015362268",
         "28.918397903442383",
         "180814000",
         "0.0",
         "0.0",
         "AAPL",
         "Technology",
         "Consumer Electronics",
         "0.0233316392062845",
         "28.88430862426758",
         "29.091413688659667",
         "28.676283950805665",
         "0.0104451768177029",
         "170446000.0",
         "3",
         "5",
         "2015",
         "28.87802505493164",
         "0"
        ],
        [
         "2",
         "2015-05-15 00:00:00-04:00",
         "28.94530388818296",
         "29.039492885957355",
         "28.75243972456577",
         "28.87802505493164",
         "152832000",
         "0.0",
         "0.0",
         "AAPL",
         "Technology",
         "Consumer Electronics",
         "-0.0013960956151701",
         "28.88430862426758",
         "29.091413688659667",
         "28.676283950805665",
         "0.0104451768177029",
         "170446000.0",
         "4",
         "5",
         "2015",
         "29.19647979736328",
         "1"
        ],
        [
         "3",
         "2015-05-18 00:00:00-04:00",
         "28.7905687737688",
         "29.31533760796462",
         "28.78608260489397",
         "29.19647979736328",
         "203531600",
         "0.0",
         "0.0",
         "AAPL",
         "Technology",
         "Consumer Electronics",
         "0.011027580377324",
         "28.88430862426758",
         "29.091413688659667",
         "28.676283950805665",
         "0.0104451768177029",
         "170446000.0",
         "0",
         "5",
         "2015",
         "29.169572830200195",
         "0"
        ],
        [
         "4",
         "2015-05-19 00:00:00-04:00",
         "29.308613283085617",
         "29.351223337213625",
         "29.07313900949819",
         "29.169572830200195",
         "178532800",
         "0.0",
         "0.0",
         "AAPL",
         "Technology",
         "Consumer Electronics",
         "-0.0009215825794696",
         "28.88430862426758",
         "29.091413688659667",
         "28.676283950805665",
         "0.0104451768177029",
         "170446000.0",
         "1",
         "5",
         "2015",
         "29.16732788085937",
         "0"
        ]
       ],
       "shape": {
        "columns": 22,
        "rows": 5
       }
      },
      "text/html": [
       "<div>\n",
       "<style scoped>\n",
       "    .dataframe tbody tr th:only-of-type {\n",
       "        vertical-align: middle;\n",
       "    }\n",
       "\n",
       "    .dataframe tbody tr th {\n",
       "        vertical-align: top;\n",
       "    }\n",
       "\n",
       "    .dataframe thead th {\n",
       "        text-align: right;\n",
       "    }\n",
       "</style>\n",
       "<table border=\"1\" class=\"dataframe\">\n",
       "  <thead>\n",
       "    <tr style=\"text-align: right;\">\n",
       "      <th></th>\n",
       "      <th>date</th>\n",
       "      <th>open</th>\n",
       "      <th>high</th>\n",
       "      <th>low</th>\n",
       "      <th>close</th>\n",
       "      <th>volume</th>\n",
       "      <th>dividends</th>\n",
       "      <th>splits</th>\n",
       "      <th>symbol</th>\n",
       "      <th>Sector</th>\n",
       "      <th>...</th>\n",
       "      <th>ma5</th>\n",
       "      <th>ma20</th>\n",
       "      <th>ma50</th>\n",
       "      <th>volatility</th>\n",
       "      <th>volume_ma20</th>\n",
       "      <th>day_of_week</th>\n",
       "      <th>month</th>\n",
       "      <th>year</th>\n",
       "      <th>next_day_close</th>\n",
       "      <th>price_up</th>\n",
       "    </tr>\n",
       "  </thead>\n",
       "  <tbody>\n",
       "    <tr>\n",
       "      <th>0</th>\n",
       "      <td>2015-05-13 00:00:00-04:00</td>\n",
       "      <td>28.290464</td>\n",
       "      <td>28.523695</td>\n",
       "      <td>28.227671</td>\n",
       "      <td>28.259068</td>\n",
       "      <td>138776800</td>\n",
       "      <td>0.0</td>\n",
       "      <td>0.0</td>\n",
       "      <td>AAPL</td>\n",
       "      <td>Technology</td>\n",
       "      <td>...</td>\n",
       "      <td>28.884309</td>\n",
       "      <td>29.091414</td>\n",
       "      <td>28.676284</td>\n",
       "      <td>0.010445</td>\n",
       "      <td>170446000.0</td>\n",
       "      <td>2</td>\n",
       "      <td>5</td>\n",
       "      <td>2015</td>\n",
       "      <td>28.918398</td>\n",
       "      <td>1</td>\n",
       "    </tr>\n",
       "    <tr>\n",
       "      <th>1</th>\n",
       "      <td>2015-05-14 00:00:00-04:00</td>\n",
       "      <td>28.573038</td>\n",
       "      <td>28.918398</td>\n",
       "      <td>28.516973</td>\n",
       "      <td>28.918398</td>\n",
       "      <td>180814000</td>\n",
       "      <td>0.0</td>\n",
       "      <td>0.0</td>\n",
       "      <td>AAPL</td>\n",
       "      <td>Technology</td>\n",
       "      <td>...</td>\n",
       "      <td>28.884309</td>\n",
       "      <td>29.091414</td>\n",
       "      <td>28.676284</td>\n",
       "      <td>0.010445</td>\n",
       "      <td>170446000.0</td>\n",
       "      <td>3</td>\n",
       "      <td>5</td>\n",
       "      <td>2015</td>\n",
       "      <td>28.878025</td>\n",
       "      <td>0</td>\n",
       "    </tr>\n",
       "    <tr>\n",
       "      <th>2</th>\n",
       "      <td>2015-05-15 00:00:00-04:00</td>\n",
       "      <td>28.945304</td>\n",
       "      <td>29.039493</td>\n",
       "      <td>28.752440</td>\n",
       "      <td>28.878025</td>\n",
       "      <td>152832000</td>\n",
       "      <td>0.0</td>\n",
       "      <td>0.0</td>\n",
       "      <td>AAPL</td>\n",
       "      <td>Technology</td>\n",
       "      <td>...</td>\n",
       "      <td>28.884309</td>\n",
       "      <td>29.091414</td>\n",
       "      <td>28.676284</td>\n",
       "      <td>0.010445</td>\n",
       "      <td>170446000.0</td>\n",
       "      <td>4</td>\n",
       "      <td>5</td>\n",
       "      <td>2015</td>\n",
       "      <td>29.196480</td>\n",
       "      <td>1</td>\n",
       "    </tr>\n",
       "    <tr>\n",
       "      <th>3</th>\n",
       "      <td>2015-05-18 00:00:00-04:00</td>\n",
       "      <td>28.790569</td>\n",
       "      <td>29.315338</td>\n",
       "      <td>28.786083</td>\n",
       "      <td>29.196480</td>\n",
       "      <td>203531600</td>\n",
       "      <td>0.0</td>\n",
       "      <td>0.0</td>\n",
       "      <td>AAPL</td>\n",
       "      <td>Technology</td>\n",
       "      <td>...</td>\n",
       "      <td>28.884309</td>\n",
       "      <td>29.091414</td>\n",
       "      <td>28.676284</td>\n",
       "      <td>0.010445</td>\n",
       "      <td>170446000.0</td>\n",
       "      <td>0</td>\n",
       "      <td>5</td>\n",
       "      <td>2015</td>\n",
       "      <td>29.169573</td>\n",
       "      <td>0</td>\n",
       "    </tr>\n",
       "    <tr>\n",
       "      <th>4</th>\n",
       "      <td>2015-05-19 00:00:00-04:00</td>\n",
       "      <td>29.308613</td>\n",
       "      <td>29.351223</td>\n",
       "      <td>29.073139</td>\n",
       "      <td>29.169573</td>\n",
       "      <td>178532800</td>\n",
       "      <td>0.0</td>\n",
       "      <td>0.0</td>\n",
       "      <td>AAPL</td>\n",
       "      <td>Technology</td>\n",
       "      <td>...</td>\n",
       "      <td>28.884309</td>\n",
       "      <td>29.091414</td>\n",
       "      <td>28.676284</td>\n",
       "      <td>0.010445</td>\n",
       "      <td>170446000.0</td>\n",
       "      <td>1</td>\n",
       "      <td>5</td>\n",
       "      <td>2015</td>\n",
       "      <td>29.167328</td>\n",
       "      <td>0</td>\n",
       "    </tr>\n",
       "  </tbody>\n",
       "</table>\n",
       "<p>5 rows × 22 columns</p>\n",
       "</div>"
      ],
      "text/plain": [
       "                        date       open       high        low      close  \\\n",
       "0  2015-05-13 00:00:00-04:00  28.290464  28.523695  28.227671  28.259068   \n",
       "1  2015-05-14 00:00:00-04:00  28.573038  28.918398  28.516973  28.918398   \n",
       "2  2015-05-15 00:00:00-04:00  28.945304  29.039493  28.752440  28.878025   \n",
       "3  2015-05-18 00:00:00-04:00  28.790569  29.315338  28.786083  29.196480   \n",
       "4  2015-05-19 00:00:00-04:00  29.308613  29.351223  29.073139  29.169573   \n",
       "\n",
       "      volume  dividends  splits symbol      Sector  ...        ma5       ma20  \\\n",
       "0  138776800        0.0     0.0   AAPL  Technology  ...  28.884309  29.091414   \n",
       "1  180814000        0.0     0.0   AAPL  Technology  ...  28.884309  29.091414   \n",
       "2  152832000        0.0     0.0   AAPL  Technology  ...  28.884309  29.091414   \n",
       "3  203531600        0.0     0.0   AAPL  Technology  ...  28.884309  29.091414   \n",
       "4  178532800        0.0     0.0   AAPL  Technology  ...  28.884309  29.091414   \n",
       "\n",
       "        ma50  volatility  volume_ma20  day_of_week  month  year  \\\n",
       "0  28.676284    0.010445  170446000.0            2      5  2015   \n",
       "1  28.676284    0.010445  170446000.0            3      5  2015   \n",
       "2  28.676284    0.010445  170446000.0            4      5  2015   \n",
       "3  28.676284    0.010445  170446000.0            0      5  2015   \n",
       "4  28.676284    0.010445  170446000.0            1      5  2015   \n",
       "\n",
       "   next_day_close  price_up  \n",
       "0       28.918398         1  \n",
       "1       28.878025         0  \n",
       "2       29.196480         1  \n",
       "3       29.169573         0  \n",
       "4       29.167328         0  \n",
       "\n",
       "[5 rows x 22 columns]"
      ]
     },
     "metadata": {},
     "output_type": "display_data"
    },
    {
     "data": {
      "text/markdown": [
       "**Columns:**"
      ],
      "text/plain": [
       "<IPython.core.display.Markdown object>"
      ]
     },
     "metadata": {},
     "output_type": "display_data"
    },
    {
     "data": {
      "application/vnd.microsoft.datawrangler.viewer.v0+json": {
       "columns": [
        {
         "name": "index",
         "rawType": "object",
         "type": "string"
        },
        {
         "name": "Type",
         "rawType": "object",
         "type": "unknown"
        },
        {
         "name": "Non-Null Count",
         "rawType": "int64",
         "type": "integer"
        },
        {
         "name": "Null Count",
         "rawType": "int64",
         "type": "integer"
        }
       ],
       "conversionMethod": "pd.DataFrame",
       "ref": "7dd7ef3a-b981-4b48-b5af-dd14bf8e0c72",
       "rows": [
        [
         "date",
         "object",
         "2513",
         "0"
        ],
        [
         "open",
         "float64",
         "2513",
         "0"
        ],
        [
         "high",
         "float64",
         "2513",
         "0"
        ],
        [
         "low",
         "float64",
         "2513",
         "0"
        ],
        [
         "close",
         "float64",
         "2513",
         "0"
        ],
        [
         "volume",
         "int64",
         "2513",
         "0"
        ],
        [
         "dividends",
         "float64",
         "2513",
         "0"
        ],
        [
         "splits",
         "float64",
         "2513",
         "0"
        ],
        [
         "symbol",
         "object",
         "2513",
         "0"
        ],
        [
         "Sector",
         "object",
         "2513",
         "0"
        ],
        [
         "Industry",
         "object",
         "2513",
         "0"
        ],
        [
         "return",
         "float64",
         "2513",
         "0"
        ],
        [
         "ma5",
         "float64",
         "2513",
         "0"
        ],
        [
         "ma20",
         "float64",
         "2513",
         "0"
        ],
        [
         "ma50",
         "float64",
         "2513",
         "0"
        ],
        [
         "volatility",
         "float64",
         "2513",
         "0"
        ],
        [
         "volume_ma20",
         "float64",
         "2513",
         "0"
        ],
        [
         "day_of_week",
         "int64",
         "2513",
         "0"
        ],
        [
         "month",
         "int64",
         "2513",
         "0"
        ],
        [
         "year",
         "int64",
         "2513",
         "0"
        ],
        [
         "next_day_close",
         "float64",
         "2513",
         "0"
        ],
        [
         "price_up",
         "int64",
         "2513",
         "0"
        ]
       ],
       "shape": {
        "columns": 3,
        "rows": 22
       }
      },
      "text/html": [
       "<div>\n",
       "<style scoped>\n",
       "    .dataframe tbody tr th:only-of-type {\n",
       "        vertical-align: middle;\n",
       "    }\n",
       "\n",
       "    .dataframe tbody tr th {\n",
       "        vertical-align: top;\n",
       "    }\n",
       "\n",
       "    .dataframe thead th {\n",
       "        text-align: right;\n",
       "    }\n",
       "</style>\n",
       "<table border=\"1\" class=\"dataframe\">\n",
       "  <thead>\n",
       "    <tr style=\"text-align: right;\">\n",
       "      <th></th>\n",
       "      <th>Type</th>\n",
       "      <th>Non-Null Count</th>\n",
       "      <th>Null Count</th>\n",
       "    </tr>\n",
       "  </thead>\n",
       "  <tbody>\n",
       "    <tr>\n",
       "      <th>date</th>\n",
       "      <td>object</td>\n",
       "      <td>2513</td>\n",
       "      <td>0</td>\n",
       "    </tr>\n",
       "    <tr>\n",
       "      <th>open</th>\n",
       "      <td>float64</td>\n",
       "      <td>2513</td>\n",
       "      <td>0</td>\n",
       "    </tr>\n",
       "    <tr>\n",
       "      <th>high</th>\n",
       "      <td>float64</td>\n",
       "      <td>2513</td>\n",
       "      <td>0</td>\n",
       "    </tr>\n",
       "    <tr>\n",
       "      <th>low</th>\n",
       "      <td>float64</td>\n",
       "      <td>2513</td>\n",
       "      <td>0</td>\n",
       "    </tr>\n",
       "    <tr>\n",
       "      <th>close</th>\n",
       "      <td>float64</td>\n",
       "      <td>2513</td>\n",
       "      <td>0</td>\n",
       "    </tr>\n",
       "    <tr>\n",
       "      <th>volume</th>\n",
       "      <td>int64</td>\n",
       "      <td>2513</td>\n",
       "      <td>0</td>\n",
       "    </tr>\n",
       "    <tr>\n",
       "      <th>dividends</th>\n",
       "      <td>float64</td>\n",
       "      <td>2513</td>\n",
       "      <td>0</td>\n",
       "    </tr>\n",
       "    <tr>\n",
       "      <th>splits</th>\n",
       "      <td>float64</td>\n",
       "      <td>2513</td>\n",
       "      <td>0</td>\n",
       "    </tr>\n",
       "    <tr>\n",
       "      <th>symbol</th>\n",
       "      <td>object</td>\n",
       "      <td>2513</td>\n",
       "      <td>0</td>\n",
       "    </tr>\n",
       "    <tr>\n",
       "      <th>Sector</th>\n",
       "      <td>object</td>\n",
       "      <td>2513</td>\n",
       "      <td>0</td>\n",
       "    </tr>\n",
       "    <tr>\n",
       "      <th>Industry</th>\n",
       "      <td>object</td>\n",
       "      <td>2513</td>\n",
       "      <td>0</td>\n",
       "    </tr>\n",
       "    <tr>\n",
       "      <th>return</th>\n",
       "      <td>float64</td>\n",
       "      <td>2513</td>\n",
       "      <td>0</td>\n",
       "    </tr>\n",
       "    <tr>\n",
       "      <th>ma5</th>\n",
       "      <td>float64</td>\n",
       "      <td>2513</td>\n",
       "      <td>0</td>\n",
       "    </tr>\n",
       "    <tr>\n",
       "      <th>ma20</th>\n",
       "      <td>float64</td>\n",
       "      <td>2513</td>\n",
       "      <td>0</td>\n",
       "    </tr>\n",
       "    <tr>\n",
       "      <th>ma50</th>\n",
       "      <td>float64</td>\n",
       "      <td>2513</td>\n",
       "      <td>0</td>\n",
       "    </tr>\n",
       "    <tr>\n",
       "      <th>volatility</th>\n",
       "      <td>float64</td>\n",
       "      <td>2513</td>\n",
       "      <td>0</td>\n",
       "    </tr>\n",
       "    <tr>\n",
       "      <th>volume_ma20</th>\n",
       "      <td>float64</td>\n",
       "      <td>2513</td>\n",
       "      <td>0</td>\n",
       "    </tr>\n",
       "    <tr>\n",
       "      <th>day_of_week</th>\n",
       "      <td>int64</td>\n",
       "      <td>2513</td>\n",
       "      <td>0</td>\n",
       "    </tr>\n",
       "    <tr>\n",
       "      <th>month</th>\n",
       "      <td>int64</td>\n",
       "      <td>2513</td>\n",
       "      <td>0</td>\n",
       "    </tr>\n",
       "    <tr>\n",
       "      <th>year</th>\n",
       "      <td>int64</td>\n",
       "      <td>2513</td>\n",
       "      <td>0</td>\n",
       "    </tr>\n",
       "    <tr>\n",
       "      <th>next_day_close</th>\n",
       "      <td>float64</td>\n",
       "      <td>2513</td>\n",
       "      <td>0</td>\n",
       "    </tr>\n",
       "    <tr>\n",
       "      <th>price_up</th>\n",
       "      <td>int64</td>\n",
       "      <td>2513</td>\n",
       "      <td>0</td>\n",
       "    </tr>\n",
       "  </tbody>\n",
       "</table>\n",
       "</div>"
      ],
      "text/plain": [
       "                   Type  Non-Null Count  Null Count\n",
       "date             object            2513           0\n",
       "open            float64            2513           0\n",
       "high            float64            2513           0\n",
       "low             float64            2513           0\n",
       "close           float64            2513           0\n",
       "volume            int64            2513           0\n",
       "dividends       float64            2513           0\n",
       "splits          float64            2513           0\n",
       "symbol           object            2513           0\n",
       "Sector           object            2513           0\n",
       "Industry         object            2513           0\n",
       "return          float64            2513           0\n",
       "ma5             float64            2513           0\n",
       "ma20            float64            2513           0\n",
       "ma50            float64            2513           0\n",
       "volatility      float64            2513           0\n",
       "volume_ma20     float64            2513           0\n",
       "day_of_week       int64            2513           0\n",
       "month             int64            2513           0\n",
       "year              int64            2513           0\n",
       "next_day_close  float64            2513           0\n",
       "price_up          int64            2513           0"
      ]
     },
     "metadata": {},
     "output_type": "display_data"
    },
    {
     "name": "stdout",
     "output_type": "stream",
     "text": [
      "\n",
      "--------------------------------------------------------------------------------\n",
      "\n"
     ]
    }
   ],
   "source": [
    "# Display cleaned data\n",
    "display_csv_head('cleaned/AAPL.csv')"
   ]
  },
  {
   "cell_type": "markdown",
   "metadata": {},
   "source": [
    "## LSTM Model Data"
   ]
  },
  {
   "cell_type": "code",
   "execution_count": 8,
   "metadata": {},
   "outputs": [
    {
     "data": {
      "text/markdown": [
       "## 📊 lstm/initial/AAPL_lstm.csv"
      ],
      "text/plain": [
       "<IPython.core.display.Markdown object>"
      ]
     },
     "metadata": {},
     "output_type": "display_data"
    },
    {
     "data": {
      "text/markdown": [
       "**Shape:** 2513 rows × 43 columns"
      ],
      "text/plain": [
       "<IPython.core.display.Markdown object>"
      ]
     },
     "metadata": {},
     "output_type": "display_data"
    },
    {
     "data": {
      "application/vnd.microsoft.datawrangler.viewer.v0+json": {
       "columns": [
        {
         "name": "index",
         "rawType": "int64",
         "type": "integer"
        },
        {
         "name": "open_scaled",
         "rawType": "float64",
         "type": "float"
        },
        {
         "name": "high_scaled",
         "rawType": "float64",
         "type": "float"
        },
        {
         "name": "low_scaled",
         "rawType": "float64",
         "type": "float"
        },
        {
         "name": "close_scaled",
         "rawType": "float64",
         "type": "float"
        },
        {
         "name": "volume_scaled",
         "rawType": "float64",
         "type": "float"
        },
        {
         "name": "return_scaled",
         "rawType": "float64",
         "type": "float"
        },
        {
         "name": "ma5_scaled",
         "rawType": "float64",
         "type": "float"
        },
        {
         "name": "ma20_scaled",
         "rawType": "float64",
         "type": "float"
        },
        {
         "name": "ma50_scaled",
         "rawType": "float64",
         "type": "float"
        },
        {
         "name": "volatility_scaled",
         "rawType": "float64",
         "type": "float"
        },
        {
         "name": "volume_ma20_scaled",
         "rawType": "float64",
         "type": "float"
        },
        {
         "name": "day_of_week_scaled",
         "rawType": "float64",
         "type": "float"
        },
        {
         "name": "month_scaled",
         "rawType": "float64",
         "type": "float"
        },
        {
         "name": "date",
         "rawType": "object",
         "type": "string"
        },
        {
         "name": "next_day_close",
         "rawType": "float64",
         "type": "float"
        },
        {
         "name": "next_day_close_scaled",
         "rawType": "float64",
         "type": "float"
        },
        {
         "name": "price_up",
         "rawType": "int64",
         "type": "integer"
        },
        {
         "name": "open_min",
         "rawType": "float64",
         "type": "float"
        },
        {
         "name": "open_max",
         "rawType": "float64",
         "type": "float"
        },
        {
         "name": "high_min",
         "rawType": "float64",
         "type": "float"
        },
        {
         "name": "high_max",
         "rawType": "float64",
         "type": "float"
        },
        {
         "name": "low_min",
         "rawType": "float64",
         "type": "float"
        },
        {
         "name": "low_max",
         "rawType": "float64",
         "type": "float"
        },
        {
         "name": "close_min",
         "rawType": "float64",
         "type": "float"
        },
        {
         "name": "close_max",
         "rawType": "float64",
         "type": "float"
        },
        {
         "name": "volume_min",
         "rawType": "float64",
         "type": "float"
        },
        {
         "name": "volume_max",
         "rawType": "float64",
         "type": "float"
        },
        {
         "name": "return_min",
         "rawType": "float64",
         "type": "float"
        },
        {
         "name": "return_max",
         "rawType": "float64",
         "type": "float"
        },
        {
         "name": "ma5_min",
         "rawType": "float64",
         "type": "float"
        },
        {
         "name": "ma5_max",
         "rawType": "float64",
         "type": "float"
        },
        {
         "name": "ma20_min",
         "rawType": "float64",
         "type": "float"
        },
        {
         "name": "ma20_max",
         "rawType": "float64",
         "type": "float"
        },
        {
         "name": "ma50_min",
         "rawType": "float64",
         "type": "float"
        },
        {
         "name": "ma50_max",
         "rawType": "float64",
         "type": "float"
        },
        {
         "name": "volatility_min",
         "rawType": "float64",
         "type": "float"
        },
        {
         "name": "volatility_max",
         "rawType": "float64",
         "type": "float"
        },
        {
         "name": "volume_ma20_min",
         "rawType": "float64",
         "type": "float"
        },
        {
         "name": "volume_ma20_max",
         "rawType": "float64",
         "type": "float"
        },
        {
         "name": "day_of_week_min",
         "rawType": "float64",
         "type": "float"
        },
        {
         "name": "day_of_week_max",
         "rawType": "float64",
         "type": "float"
        },
        {
         "name": "month_min",
         "rawType": "float64",
         "type": "float"
        },
        {
         "name": "month_max",
         "rawType": "float64",
         "type": "float"
        }
       ],
       "conversionMethod": "pd.DataFrame",
       "ref": "0ea7c3a6-0b1c-418f-89c6-48e6304e0b34",
       "rows": [
        [
         "0",
         "0.0324206696511711",
         "0.0315899007076642",
         "0.0327275705218503",
         "0.0318596036212941",
         "0.1846928621838087",
         "0.5390547441350431",
         "0.0333724411707648",
         "0.0333505295496325",
         "0.0309972212770311",
         "0.0890936764311381",
         "0.4867818018385527",
         "0.5",
         "0.3636363636363636",
         "2015-05-13 00:00:00-04:00",
         "28.918397903442383",
         "0.0346291898455336",
         "1",
         "20.596724324562143",
         "257.90642916266114",
         "20.97890756798759",
         "259.81433504408284",
         "20.475438954996395",
         "257.3470466563245",
         "20.67453956604004",
         "258.7355041503906",
         "23234700.0",
         "648825200.0",
         "-0.1286470984548489",
         "0.1532885292613965",
         "21.03520812988281",
         "256.23228149414064",
         "21.47980070114136",
         "249.71044921875",
         "21.90075462341309",
         "240.48580993652345",
         "0.0048154573540499",
         "0.0680042232593866",
         "37800500.0",
         "310295280.0",
         "0.0",
         "4.0",
         "1.0",
         "12.0"
        ],
        [
         "1",
         "0.0336114101824522",
         "0.0332425152304904",
         "0.0339489149349864",
         "0.0346291898455336",
         "0.2518888953716528",
         "0.5390547441350431",
         "0.0333724411707648",
         "0.0333505295496325",
         "0.0309972212770311",
         "0.0890936764311381",
         "0.4867818018385527",
         "0.75",
         "0.3636363636363636",
         "2015-05-14 00:00:00-04:00",
         "28.87802505493164",
         "0.0344595994694666",
         "0",
         "20.596724324562143",
         "257.90642916266114",
         "20.97890756798759",
         "259.81433504408284",
         "20.475438954996395",
         "257.3470466563245",
         "20.67453956604004",
         "258.7355041503906",
         "23234700.0",
         "648825200.0",
         "-0.1286470984548489",
         "0.1532885292613965",
         "21.03520812988281",
         "256.23228149414064",
         "21.47980070114136",
         "249.71044921875",
         "21.90075462341309",
         "240.48580993652345",
         "0.0048154573540499",
         "0.0680042232593866",
         "37800500.0",
         "310295280.0",
         "0.0",
         "4.0",
         "1.0",
         "12.0"
        ],
        [
         "2",
         "0.0351801017548629",
         "0.0337495379272262",
         "0.0349429838801358",
         "0.0344595994694666",
         "0.2071599552742568",
         "0.4513477202950413",
         "0.0333724411707648",
         "0.0333505295496325",
         "0.0309972212770311",
         "0.0890936764311381",
         "0.4867818018385527",
         "1.0",
         "0.3636363636363636",
         "2015-05-15 00:00:00-04:00",
         "29.19647979736328",
         "0.0357973019482735",
         "1",
         "20.596724324562143",
         "257.90642916266114",
         "20.97890756798759",
         "259.81433504408284",
         "20.475438954996395",
         "257.3470466563245",
         "20.67453956604004",
         "258.7355041503906",
         "23234700.0",
         "648825200.0",
         "-0.1286470984548489",
         "0.1532885292613965",
         "21.03520812988281",
         "256.23228149414064",
         "21.47980070114136",
         "249.71044921875",
         "21.90075462341309",
         "240.48580993652345",
         "0.0048154573540499",
         "0.0680042232593866",
         "37800500.0",
         "310295280.0",
         "0.0",
         "4.0",
         "1.0",
         "12.0"
        ],
        [
         "3",
         "0.0345280630423302",
         "0.0349044952336956",
         "0.0350850139049863",
         "0.0357973019482735",
         "0.2882027460455361",
         "0.4954133678087281",
         "0.0333724411707648",
         "0.0333505295496325",
         "0.0309972212770311",
         "0.0890936764311381",
         "0.4867818018385527",
         "0.0",
         "0.3636363636363636",
         "2015-05-18 00:00:00-04:00",
         "29.169572830200195",
         "0.0356842764163049",
         "0",
         "20.596724324562143",
         "257.90642916266114",
         "20.97890756798759",
         "259.81433504408284",
         "20.475438954996395",
         "257.3470466563245",
         "20.67453956604004",
         "258.7355041503906",
         "23234700.0",
         "648825200.0",
         "-0.1286470984548489",
         "0.1532885292613965",
         "21.03520812988281",
         "256.23228149414064",
         "21.47980070114136",
         "249.71044921875",
         "21.90075462341309",
         "240.48580993652345",
         "0.0048154573540499",
         "0.0680042232593866",
         "37800500.0",
         "310295280.0",
         "0.0",
         "4.0",
         "1.0",
         "12.0"
        ],
        [
         "4",
         "0.0367110521858641",
         "0.0350547481908395",
         "0.0362968788785469",
         "0.0356842764163049",
         "0.2482424205610539",
         "0.4530307748261205",
         "0.0333724411707648",
         "0.0333505295496325",
         "0.0309972212770311",
         "0.0890936764311381",
         "0.4867818018385527",
         "0.25",
         "0.3636363636363636",
         "2015-05-19 00:00:00-04:00",
         "29.16732788085937",
         "0.035674846271616",
         "0",
         "20.596724324562143",
         "257.90642916266114",
         "20.97890756798759",
         "259.81433504408284",
         "20.475438954996395",
         "257.3470466563245",
         "20.67453956604004",
         "258.7355041503906",
         "23234700.0",
         "648825200.0",
         "-0.1286470984548489",
         "0.1532885292613965",
         "21.03520812988281",
         "256.23228149414064",
         "21.47980070114136",
         "249.71044921875",
         "21.90075462341309",
         "240.48580993652345",
         "0.0048154573540499",
         "0.0680042232593866",
         "37800500.0",
         "310295280.0",
         "0.0",
         "4.0",
         "1.0",
         "12.0"
        ]
       ],
       "shape": {
        "columns": 43,
        "rows": 5
       }
      },
      "text/html": [
       "<div>\n",
       "<style scoped>\n",
       "    .dataframe tbody tr th:only-of-type {\n",
       "        vertical-align: middle;\n",
       "    }\n",
       "\n",
       "    .dataframe tbody tr th {\n",
       "        vertical-align: top;\n",
       "    }\n",
       "\n",
       "    .dataframe thead th {\n",
       "        text-align: right;\n",
       "    }\n",
       "</style>\n",
       "<table border=\"1\" class=\"dataframe\">\n",
       "  <thead>\n",
       "    <tr style=\"text-align: right;\">\n",
       "      <th></th>\n",
       "      <th>open_scaled</th>\n",
       "      <th>high_scaled</th>\n",
       "      <th>low_scaled</th>\n",
       "      <th>close_scaled</th>\n",
       "      <th>volume_scaled</th>\n",
       "      <th>return_scaled</th>\n",
       "      <th>ma5_scaled</th>\n",
       "      <th>ma20_scaled</th>\n",
       "      <th>ma50_scaled</th>\n",
       "      <th>volatility_scaled</th>\n",
       "      <th>...</th>\n",
       "      <th>ma50_min</th>\n",
       "      <th>ma50_max</th>\n",
       "      <th>volatility_min</th>\n",
       "      <th>volatility_max</th>\n",
       "      <th>volume_ma20_min</th>\n",
       "      <th>volume_ma20_max</th>\n",
       "      <th>day_of_week_min</th>\n",
       "      <th>day_of_week_max</th>\n",
       "      <th>month_min</th>\n",
       "      <th>month_max</th>\n",
       "    </tr>\n",
       "  </thead>\n",
       "  <tbody>\n",
       "    <tr>\n",
       "      <th>0</th>\n",
       "      <td>0.032421</td>\n",
       "      <td>0.031590</td>\n",
       "      <td>0.032728</td>\n",
       "      <td>0.031860</td>\n",
       "      <td>0.184693</td>\n",
       "      <td>0.539055</td>\n",
       "      <td>0.033372</td>\n",
       "      <td>0.033351</td>\n",
       "      <td>0.030997</td>\n",
       "      <td>0.089094</td>\n",
       "      <td>...</td>\n",
       "      <td>21.900755</td>\n",
       "      <td>240.48581</td>\n",
       "      <td>0.004815</td>\n",
       "      <td>0.068004</td>\n",
       "      <td>37800500.0</td>\n",
       "      <td>310295280.0</td>\n",
       "      <td>0.0</td>\n",
       "      <td>4.0</td>\n",
       "      <td>1.0</td>\n",
       "      <td>12.0</td>\n",
       "    </tr>\n",
       "    <tr>\n",
       "      <th>1</th>\n",
       "      <td>0.033611</td>\n",
       "      <td>0.033243</td>\n",
       "      <td>0.033949</td>\n",
       "      <td>0.034629</td>\n",
       "      <td>0.251889</td>\n",
       "      <td>0.539055</td>\n",
       "      <td>0.033372</td>\n",
       "      <td>0.033351</td>\n",
       "      <td>0.030997</td>\n",
       "      <td>0.089094</td>\n",
       "      <td>...</td>\n",
       "      <td>21.900755</td>\n",
       "      <td>240.48581</td>\n",
       "      <td>0.004815</td>\n",
       "      <td>0.068004</td>\n",
       "      <td>37800500.0</td>\n",
       "      <td>310295280.0</td>\n",
       "      <td>0.0</td>\n",
       "      <td>4.0</td>\n",
       "      <td>1.0</td>\n",
       "      <td>12.0</td>\n",
       "    </tr>\n",
       "    <tr>\n",
       "      <th>2</th>\n",
       "      <td>0.035180</td>\n",
       "      <td>0.033750</td>\n",
       "      <td>0.034943</td>\n",
       "      <td>0.034460</td>\n",
       "      <td>0.207160</td>\n",
       "      <td>0.451348</td>\n",
       "      <td>0.033372</td>\n",
       "      <td>0.033351</td>\n",
       "      <td>0.030997</td>\n",
       "      <td>0.089094</td>\n",
       "      <td>...</td>\n",
       "      <td>21.900755</td>\n",
       "      <td>240.48581</td>\n",
       "      <td>0.004815</td>\n",
       "      <td>0.068004</td>\n",
       "      <td>37800500.0</td>\n",
       "      <td>310295280.0</td>\n",
       "      <td>0.0</td>\n",
       "      <td>4.0</td>\n",
       "      <td>1.0</td>\n",
       "      <td>12.0</td>\n",
       "    </tr>\n",
       "    <tr>\n",
       "      <th>3</th>\n",
       "      <td>0.034528</td>\n",
       "      <td>0.034904</td>\n",
       "      <td>0.035085</td>\n",
       "      <td>0.035797</td>\n",
       "      <td>0.288203</td>\n",
       "      <td>0.495413</td>\n",
       "      <td>0.033372</td>\n",
       "      <td>0.033351</td>\n",
       "      <td>0.030997</td>\n",
       "      <td>0.089094</td>\n",
       "      <td>...</td>\n",
       "      <td>21.900755</td>\n",
       "      <td>240.48581</td>\n",
       "      <td>0.004815</td>\n",
       "      <td>0.068004</td>\n",
       "      <td>37800500.0</td>\n",
       "      <td>310295280.0</td>\n",
       "      <td>0.0</td>\n",
       "      <td>4.0</td>\n",
       "      <td>1.0</td>\n",
       "      <td>12.0</td>\n",
       "    </tr>\n",
       "    <tr>\n",
       "      <th>4</th>\n",
       "      <td>0.036711</td>\n",
       "      <td>0.035055</td>\n",
       "      <td>0.036297</td>\n",
       "      <td>0.035684</td>\n",
       "      <td>0.248242</td>\n",
       "      <td>0.453031</td>\n",
       "      <td>0.033372</td>\n",
       "      <td>0.033351</td>\n",
       "      <td>0.030997</td>\n",
       "      <td>0.089094</td>\n",
       "      <td>...</td>\n",
       "      <td>21.900755</td>\n",
       "      <td>240.48581</td>\n",
       "      <td>0.004815</td>\n",
       "      <td>0.068004</td>\n",
       "      <td>37800500.0</td>\n",
       "      <td>310295280.0</td>\n",
       "      <td>0.0</td>\n",
       "      <td>4.0</td>\n",
       "      <td>1.0</td>\n",
       "      <td>12.0</td>\n",
       "    </tr>\n",
       "  </tbody>\n",
       "</table>\n",
       "<p>5 rows × 43 columns</p>\n",
       "</div>"
      ],
      "text/plain": [
       "   open_scaled  high_scaled  low_scaled  close_scaled  volume_scaled  \\\n",
       "0     0.032421     0.031590    0.032728      0.031860       0.184693   \n",
       "1     0.033611     0.033243    0.033949      0.034629       0.251889   \n",
       "2     0.035180     0.033750    0.034943      0.034460       0.207160   \n",
       "3     0.034528     0.034904    0.035085      0.035797       0.288203   \n",
       "4     0.036711     0.035055    0.036297      0.035684       0.248242   \n",
       "\n",
       "   return_scaled  ma5_scaled  ma20_scaled  ma50_scaled  volatility_scaled  \\\n",
       "0       0.539055    0.033372     0.033351     0.030997           0.089094   \n",
       "1       0.539055    0.033372     0.033351     0.030997           0.089094   \n",
       "2       0.451348    0.033372     0.033351     0.030997           0.089094   \n",
       "3       0.495413    0.033372     0.033351     0.030997           0.089094   \n",
       "4       0.453031    0.033372     0.033351     0.030997           0.089094   \n",
       "\n",
       "   ...   ma50_min   ma50_max  volatility_min volatility_max  volume_ma20_min  \\\n",
       "0  ...  21.900755  240.48581        0.004815       0.068004       37800500.0   \n",
       "1  ...  21.900755  240.48581        0.004815       0.068004       37800500.0   \n",
       "2  ...  21.900755  240.48581        0.004815       0.068004       37800500.0   \n",
       "3  ...  21.900755  240.48581        0.004815       0.068004       37800500.0   \n",
       "4  ...  21.900755  240.48581        0.004815       0.068004       37800500.0   \n",
       "\n",
       "   volume_ma20_max  day_of_week_min  day_of_week_max  month_min  month_max  \n",
       "0      310295280.0              0.0              4.0        1.0       12.0  \n",
       "1      310295280.0              0.0              4.0        1.0       12.0  \n",
       "2      310295280.0              0.0              4.0        1.0       12.0  \n",
       "3      310295280.0              0.0              4.0        1.0       12.0  \n",
       "4      310295280.0              0.0              4.0        1.0       12.0  \n",
       "\n",
       "[5 rows x 43 columns]"
      ]
     },
     "metadata": {},
     "output_type": "display_data"
    },
    {
     "data": {
      "text/markdown": [
       "**Columns:**"
      ],
      "text/plain": [
       "<IPython.core.display.Markdown object>"
      ]
     },
     "metadata": {},
     "output_type": "display_data"
    },
    {
     "data": {
      "application/vnd.microsoft.datawrangler.viewer.v0+json": {
       "columns": [
        {
         "name": "index",
         "rawType": "object",
         "type": "string"
        },
        {
         "name": "Type",
         "rawType": "object",
         "type": "unknown"
        },
        {
         "name": "Non-Null Count",
         "rawType": "int64",
         "type": "integer"
        },
        {
         "name": "Null Count",
         "rawType": "int64",
         "type": "integer"
        }
       ],
       "conversionMethod": "pd.DataFrame",
       "ref": "d9bd998b-f7d8-4a54-bfd6-acd301b0929e",
       "rows": [
        [
         "open_scaled",
         "float64",
         "2513",
         "0"
        ],
        [
         "high_scaled",
         "float64",
         "2513",
         "0"
        ],
        [
         "low_scaled",
         "float64",
         "2513",
         "0"
        ],
        [
         "close_scaled",
         "float64",
         "2513",
         "0"
        ],
        [
         "volume_scaled",
         "float64",
         "2513",
         "0"
        ],
        [
         "return_scaled",
         "float64",
         "2513",
         "0"
        ],
        [
         "ma5_scaled",
         "float64",
         "2513",
         "0"
        ],
        [
         "ma20_scaled",
         "float64",
         "2513",
         "0"
        ],
        [
         "ma50_scaled",
         "float64",
         "2513",
         "0"
        ],
        [
         "volatility_scaled",
         "float64",
         "2513",
         "0"
        ],
        [
         "volume_ma20_scaled",
         "float64",
         "2513",
         "0"
        ],
        [
         "day_of_week_scaled",
         "float64",
         "2513",
         "0"
        ],
        [
         "month_scaled",
         "float64",
         "2513",
         "0"
        ],
        [
         "date",
         "object",
         "2513",
         "0"
        ],
        [
         "next_day_close",
         "float64",
         "2513",
         "0"
        ],
        [
         "next_day_close_scaled",
         "float64",
         "2513",
         "0"
        ],
        [
         "price_up",
         "int64",
         "2513",
         "0"
        ],
        [
         "open_min",
         "float64",
         "2513",
         "0"
        ],
        [
         "open_max",
         "float64",
         "2513",
         "0"
        ],
        [
         "high_min",
         "float64",
         "2513",
         "0"
        ],
        [
         "high_max",
         "float64",
         "2513",
         "0"
        ],
        [
         "low_min",
         "float64",
         "2513",
         "0"
        ],
        [
         "low_max",
         "float64",
         "2513",
         "0"
        ],
        [
         "close_min",
         "float64",
         "2513",
         "0"
        ],
        [
         "close_max",
         "float64",
         "2513",
         "0"
        ],
        [
         "volume_min",
         "float64",
         "2513",
         "0"
        ],
        [
         "volume_max",
         "float64",
         "2513",
         "0"
        ],
        [
         "return_min",
         "float64",
         "2513",
         "0"
        ],
        [
         "return_max",
         "float64",
         "2513",
         "0"
        ],
        [
         "ma5_min",
         "float64",
         "2513",
         "0"
        ],
        [
         "ma5_max",
         "float64",
         "2513",
         "0"
        ],
        [
         "ma20_min",
         "float64",
         "2513",
         "0"
        ],
        [
         "ma20_max",
         "float64",
         "2513",
         "0"
        ],
        [
         "ma50_min",
         "float64",
         "2513",
         "0"
        ],
        [
         "ma50_max",
         "float64",
         "2513",
         "0"
        ],
        [
         "volatility_min",
         "float64",
         "2513",
         "0"
        ],
        [
         "volatility_max",
         "float64",
         "2513",
         "0"
        ],
        [
         "volume_ma20_min",
         "float64",
         "2513",
         "0"
        ],
        [
         "volume_ma20_max",
         "float64",
         "2513",
         "0"
        ],
        [
         "day_of_week_min",
         "float64",
         "2513",
         "0"
        ],
        [
         "day_of_week_max",
         "float64",
         "2513",
         "0"
        ],
        [
         "month_min",
         "float64",
         "2513",
         "0"
        ],
        [
         "month_max",
         "float64",
         "2513",
         "0"
        ]
       ],
       "shape": {
        "columns": 3,
        "rows": 43
       }
      },
      "text/html": [
       "<div>\n",
       "<style scoped>\n",
       "    .dataframe tbody tr th:only-of-type {\n",
       "        vertical-align: middle;\n",
       "    }\n",
       "\n",
       "    .dataframe tbody tr th {\n",
       "        vertical-align: top;\n",
       "    }\n",
       "\n",
       "    .dataframe thead th {\n",
       "        text-align: right;\n",
       "    }\n",
       "</style>\n",
       "<table border=\"1\" class=\"dataframe\">\n",
       "  <thead>\n",
       "    <tr style=\"text-align: right;\">\n",
       "      <th></th>\n",
       "      <th>Type</th>\n",
       "      <th>Non-Null Count</th>\n",
       "      <th>Null Count</th>\n",
       "    </tr>\n",
       "  </thead>\n",
       "  <tbody>\n",
       "    <tr>\n",
       "      <th>open_scaled</th>\n",
       "      <td>float64</td>\n",
       "      <td>2513</td>\n",
       "      <td>0</td>\n",
       "    </tr>\n",
       "    <tr>\n",
       "      <th>high_scaled</th>\n",
       "      <td>float64</td>\n",
       "      <td>2513</td>\n",
       "      <td>0</td>\n",
       "    </tr>\n",
       "    <tr>\n",
       "      <th>low_scaled</th>\n",
       "      <td>float64</td>\n",
       "      <td>2513</td>\n",
       "      <td>0</td>\n",
       "    </tr>\n",
       "    <tr>\n",
       "      <th>close_scaled</th>\n",
       "      <td>float64</td>\n",
       "      <td>2513</td>\n",
       "      <td>0</td>\n",
       "    </tr>\n",
       "    <tr>\n",
       "      <th>volume_scaled</th>\n",
       "      <td>float64</td>\n",
       "      <td>2513</td>\n",
       "      <td>0</td>\n",
       "    </tr>\n",
       "    <tr>\n",
       "      <th>return_scaled</th>\n",
       "      <td>float64</td>\n",
       "      <td>2513</td>\n",
       "      <td>0</td>\n",
       "    </tr>\n",
       "    <tr>\n",
       "      <th>ma5_scaled</th>\n",
       "      <td>float64</td>\n",
       "      <td>2513</td>\n",
       "      <td>0</td>\n",
       "    </tr>\n",
       "    <tr>\n",
       "      <th>ma20_scaled</th>\n",
       "      <td>float64</td>\n",
       "      <td>2513</td>\n",
       "      <td>0</td>\n",
       "    </tr>\n",
       "    <tr>\n",
       "      <th>ma50_scaled</th>\n",
       "      <td>float64</td>\n",
       "      <td>2513</td>\n",
       "      <td>0</td>\n",
       "    </tr>\n",
       "    <tr>\n",
       "      <th>volatility_scaled</th>\n",
       "      <td>float64</td>\n",
       "      <td>2513</td>\n",
       "      <td>0</td>\n",
       "    </tr>\n",
       "    <tr>\n",
       "      <th>volume_ma20_scaled</th>\n",
       "      <td>float64</td>\n",
       "      <td>2513</td>\n",
       "      <td>0</td>\n",
       "    </tr>\n",
       "    <tr>\n",
       "      <th>day_of_week_scaled</th>\n",
       "      <td>float64</td>\n",
       "      <td>2513</td>\n",
       "      <td>0</td>\n",
       "    </tr>\n",
       "    <tr>\n",
       "      <th>month_scaled</th>\n",
       "      <td>float64</td>\n",
       "      <td>2513</td>\n",
       "      <td>0</td>\n",
       "    </tr>\n",
       "    <tr>\n",
       "      <th>date</th>\n",
       "      <td>object</td>\n",
       "      <td>2513</td>\n",
       "      <td>0</td>\n",
       "    </tr>\n",
       "    <tr>\n",
       "      <th>next_day_close</th>\n",
       "      <td>float64</td>\n",
       "      <td>2513</td>\n",
       "      <td>0</td>\n",
       "    </tr>\n",
       "    <tr>\n",
       "      <th>next_day_close_scaled</th>\n",
       "      <td>float64</td>\n",
       "      <td>2513</td>\n",
       "      <td>0</td>\n",
       "    </tr>\n",
       "    <tr>\n",
       "      <th>price_up</th>\n",
       "      <td>int64</td>\n",
       "      <td>2513</td>\n",
       "      <td>0</td>\n",
       "    </tr>\n",
       "    <tr>\n",
       "      <th>open_min</th>\n",
       "      <td>float64</td>\n",
       "      <td>2513</td>\n",
       "      <td>0</td>\n",
       "    </tr>\n",
       "    <tr>\n",
       "      <th>open_max</th>\n",
       "      <td>float64</td>\n",
       "      <td>2513</td>\n",
       "      <td>0</td>\n",
       "    </tr>\n",
       "    <tr>\n",
       "      <th>high_min</th>\n",
       "      <td>float64</td>\n",
       "      <td>2513</td>\n",
       "      <td>0</td>\n",
       "    </tr>\n",
       "    <tr>\n",
       "      <th>high_max</th>\n",
       "      <td>float64</td>\n",
       "      <td>2513</td>\n",
       "      <td>0</td>\n",
       "    </tr>\n",
       "    <tr>\n",
       "      <th>low_min</th>\n",
       "      <td>float64</td>\n",
       "      <td>2513</td>\n",
       "      <td>0</td>\n",
       "    </tr>\n",
       "    <tr>\n",
       "      <th>low_max</th>\n",
       "      <td>float64</td>\n",
       "      <td>2513</td>\n",
       "      <td>0</td>\n",
       "    </tr>\n",
       "    <tr>\n",
       "      <th>close_min</th>\n",
       "      <td>float64</td>\n",
       "      <td>2513</td>\n",
       "      <td>0</td>\n",
       "    </tr>\n",
       "    <tr>\n",
       "      <th>close_max</th>\n",
       "      <td>float64</td>\n",
       "      <td>2513</td>\n",
       "      <td>0</td>\n",
       "    </tr>\n",
       "    <tr>\n",
       "      <th>volume_min</th>\n",
       "      <td>float64</td>\n",
       "      <td>2513</td>\n",
       "      <td>0</td>\n",
       "    </tr>\n",
       "    <tr>\n",
       "      <th>volume_max</th>\n",
       "      <td>float64</td>\n",
       "      <td>2513</td>\n",
       "      <td>0</td>\n",
       "    </tr>\n",
       "    <tr>\n",
       "      <th>return_min</th>\n",
       "      <td>float64</td>\n",
       "      <td>2513</td>\n",
       "      <td>0</td>\n",
       "    </tr>\n",
       "    <tr>\n",
       "      <th>return_max</th>\n",
       "      <td>float64</td>\n",
       "      <td>2513</td>\n",
       "      <td>0</td>\n",
       "    </tr>\n",
       "    <tr>\n",
       "      <th>ma5_min</th>\n",
       "      <td>float64</td>\n",
       "      <td>2513</td>\n",
       "      <td>0</td>\n",
       "    </tr>\n",
       "    <tr>\n",
       "      <th>ma5_max</th>\n",
       "      <td>float64</td>\n",
       "      <td>2513</td>\n",
       "      <td>0</td>\n",
       "    </tr>\n",
       "    <tr>\n",
       "      <th>ma20_min</th>\n",
       "      <td>float64</td>\n",
       "      <td>2513</td>\n",
       "      <td>0</td>\n",
       "    </tr>\n",
       "    <tr>\n",
       "      <th>ma20_max</th>\n",
       "      <td>float64</td>\n",
       "      <td>2513</td>\n",
       "      <td>0</td>\n",
       "    </tr>\n",
       "    <tr>\n",
       "      <th>ma50_min</th>\n",
       "      <td>float64</td>\n",
       "      <td>2513</td>\n",
       "      <td>0</td>\n",
       "    </tr>\n",
       "    <tr>\n",
       "      <th>ma50_max</th>\n",
       "      <td>float64</td>\n",
       "      <td>2513</td>\n",
       "      <td>0</td>\n",
       "    </tr>\n",
       "    <tr>\n",
       "      <th>volatility_min</th>\n",
       "      <td>float64</td>\n",
       "      <td>2513</td>\n",
       "      <td>0</td>\n",
       "    </tr>\n",
       "    <tr>\n",
       "      <th>volatility_max</th>\n",
       "      <td>float64</td>\n",
       "      <td>2513</td>\n",
       "      <td>0</td>\n",
       "    </tr>\n",
       "    <tr>\n",
       "      <th>volume_ma20_min</th>\n",
       "      <td>float64</td>\n",
       "      <td>2513</td>\n",
       "      <td>0</td>\n",
       "    </tr>\n",
       "    <tr>\n",
       "      <th>volume_ma20_max</th>\n",
       "      <td>float64</td>\n",
       "      <td>2513</td>\n",
       "      <td>0</td>\n",
       "    </tr>\n",
       "    <tr>\n",
       "      <th>day_of_week_min</th>\n",
       "      <td>float64</td>\n",
       "      <td>2513</td>\n",
       "      <td>0</td>\n",
       "    </tr>\n",
       "    <tr>\n",
       "      <th>day_of_week_max</th>\n",
       "      <td>float64</td>\n",
       "      <td>2513</td>\n",
       "      <td>0</td>\n",
       "    </tr>\n",
       "    <tr>\n",
       "      <th>month_min</th>\n",
       "      <td>float64</td>\n",
       "      <td>2513</td>\n",
       "      <td>0</td>\n",
       "    </tr>\n",
       "    <tr>\n",
       "      <th>month_max</th>\n",
       "      <td>float64</td>\n",
       "      <td>2513</td>\n",
       "      <td>0</td>\n",
       "    </tr>\n",
       "  </tbody>\n",
       "</table>\n",
       "</div>"
      ],
      "text/plain": [
       "                          Type  Non-Null Count  Null Count\n",
       "open_scaled            float64            2513           0\n",
       "high_scaled            float64            2513           0\n",
       "low_scaled             float64            2513           0\n",
       "close_scaled           float64            2513           0\n",
       "volume_scaled          float64            2513           0\n",
       "return_scaled          float64            2513           0\n",
       "ma5_scaled             float64            2513           0\n",
       "ma20_scaled            float64            2513           0\n",
       "ma50_scaled            float64            2513           0\n",
       "volatility_scaled      float64            2513           0\n",
       "volume_ma20_scaled     float64            2513           0\n",
       "day_of_week_scaled     float64            2513           0\n",
       "month_scaled           float64            2513           0\n",
       "date                    object            2513           0\n",
       "next_day_close         float64            2513           0\n",
       "next_day_close_scaled  float64            2513           0\n",
       "price_up                 int64            2513           0\n",
       "open_min               float64            2513           0\n",
       "open_max               float64            2513           0\n",
       "high_min               float64            2513           0\n",
       "high_max               float64            2513           0\n",
       "low_min                float64            2513           0\n",
       "low_max                float64            2513           0\n",
       "close_min              float64            2513           0\n",
       "close_max              float64            2513           0\n",
       "volume_min             float64            2513           0\n",
       "volume_max             float64            2513           0\n",
       "return_min             float64            2513           0\n",
       "return_max             float64            2513           0\n",
       "ma5_min                float64            2513           0\n",
       "ma5_max                float64            2513           0\n",
       "ma20_min               float64            2513           0\n",
       "ma20_max               float64            2513           0\n",
       "ma50_min               float64            2513           0\n",
       "ma50_max               float64            2513           0\n",
       "volatility_min         float64            2513           0\n",
       "volatility_max         float64            2513           0\n",
       "volume_ma20_min        float64            2513           0\n",
       "volume_ma20_max        float64            2513           0\n",
       "day_of_week_min        float64            2513           0\n",
       "day_of_week_max        float64            2513           0\n",
       "month_min              float64            2513           0\n",
       "month_max              float64            2513           0"
      ]
     },
     "metadata": {},
     "output_type": "display_data"
    },
    {
     "name": "stdout",
     "output_type": "stream",
     "text": [
      "\n",
      "--------------------------------------------------------------------------------\n",
      "\n"
     ]
    },
    {
     "data": {
      "text/markdown": [
       "## 📊 lstm/day/AAPL_lstm_day.csv"
      ],
      "text/plain": [
       "<IPython.core.display.Markdown object>"
      ]
     },
     "metadata": {},
     "output_type": "display_data"
    },
    {
     "data": {
      "text/markdown": [
       "**Shape:** 2513 rows × 44 columns"
      ],
      "text/plain": [
       "<IPython.core.display.Markdown object>"
      ]
     },
     "metadata": {},
     "output_type": "display_data"
    },
    {
     "data": {
      "application/vnd.microsoft.datawrangler.viewer.v0+json": {
       "columns": [
        {
         "name": "index",
         "rawType": "int64",
         "type": "integer"
        },
        {
         "name": "open_scaled",
         "rawType": "float64",
         "type": "float"
        },
        {
         "name": "high_scaled",
         "rawType": "float64",
         "type": "float"
        },
        {
         "name": "low_scaled",
         "rawType": "float64",
         "type": "float"
        },
        {
         "name": "close_scaled",
         "rawType": "float64",
         "type": "float"
        },
        {
         "name": "volume_scaled",
         "rawType": "float64",
         "type": "float"
        },
        {
         "name": "return_scaled",
         "rawType": "float64",
         "type": "float"
        },
        {
         "name": "ma5_scaled",
         "rawType": "float64",
         "type": "float"
        },
        {
         "name": "ma20_scaled",
         "rawType": "float64",
         "type": "float"
        },
        {
         "name": "ma50_scaled",
         "rawType": "float64",
         "type": "float"
        },
        {
         "name": "volatility_scaled",
         "rawType": "float64",
         "type": "float"
        },
        {
         "name": "volume_ma20_scaled",
         "rawType": "float64",
         "type": "float"
        },
        {
         "name": "day_of_week_scaled",
         "rawType": "float64",
         "type": "float"
        },
        {
         "name": "month_scaled",
         "rawType": "float64",
         "type": "float"
        },
        {
         "name": "date",
         "rawType": "object",
         "type": "string"
        },
        {
         "name": "next_day_close",
         "rawType": "float64",
         "type": "float"
        },
        {
         "name": "next_day_close_scaled",
         "rawType": "float64",
         "type": "float"
        },
        {
         "name": "price_up",
         "rawType": "int64",
         "type": "integer"
        },
        {
         "name": "open_min",
         "rawType": "float64",
         "type": "float"
        },
        {
         "name": "open_max",
         "rawType": "float64",
         "type": "float"
        },
        {
         "name": "high_min",
         "rawType": "float64",
         "type": "float"
        },
        {
         "name": "high_max",
         "rawType": "float64",
         "type": "float"
        },
        {
         "name": "low_min",
         "rawType": "float64",
         "type": "float"
        },
        {
         "name": "low_max",
         "rawType": "float64",
         "type": "float"
        },
        {
         "name": "close_min",
         "rawType": "float64",
         "type": "float"
        },
        {
         "name": "close_max",
         "rawType": "float64",
         "type": "float"
        },
        {
         "name": "volume_min",
         "rawType": "float64",
         "type": "float"
        },
        {
         "name": "volume_max",
         "rawType": "float64",
         "type": "float"
        },
        {
         "name": "return_min",
         "rawType": "float64",
         "type": "float"
        },
        {
         "name": "return_max",
         "rawType": "float64",
         "type": "float"
        },
        {
         "name": "ma5_min",
         "rawType": "float64",
         "type": "float"
        },
        {
         "name": "ma5_max",
         "rawType": "float64",
         "type": "float"
        },
        {
         "name": "ma20_min",
         "rawType": "float64",
         "type": "float"
        },
        {
         "name": "ma20_max",
         "rawType": "float64",
         "type": "float"
        },
        {
         "name": "ma50_min",
         "rawType": "float64",
         "type": "float"
        },
        {
         "name": "ma50_max",
         "rawType": "float64",
         "type": "float"
        },
        {
         "name": "volatility_min",
         "rawType": "float64",
         "type": "float"
        },
        {
         "name": "volatility_max",
         "rawType": "float64",
         "type": "float"
        },
        {
         "name": "volume_ma20_min",
         "rawType": "float64",
         "type": "float"
        },
        {
         "name": "volume_ma20_max",
         "rawType": "float64",
         "type": "float"
        },
        {
         "name": "day_of_week_min",
         "rawType": "float64",
         "type": "float"
        },
        {
         "name": "day_of_week_max",
         "rawType": "float64",
         "type": "float"
        },
        {
         "name": "month_min",
         "rawType": "float64",
         "type": "float"
        },
        {
         "name": "month_max",
         "rawType": "float64",
         "type": "float"
        },
        {
         "name": "close_original",
         "rawType": "float64",
         "type": "float"
        }
       ],
       "conversionMethod": "pd.DataFrame",
       "ref": "622e7433-12ba-4994-869a-42324523f98c",
       "rows": [
        [
         "0",
         "0.0324206696511711",
         "0.0315899007076642",
         "0.0327275705218503",
         "0.0318596036212941",
         "0.1846928621838087",
         "0.5390547441350431",
         "0.0333724411707648",
         "0.0333505295496325",
         "0.0309972212770311",
         "0.0890936764311381",
         "0.4867818018385527",
         "0.5",
         "0.3636363636363636",
         "2015-05-13 00:00:00-04:00",
         "28.918397903442383",
         "0.0346291898455336",
         "1",
         "20.596724324562143",
         "257.90642916266114",
         "20.97890756798759",
         "259.81433504408284",
         "20.475438954996395",
         "257.3470466563245",
         "20.67453956604004",
         "258.7355041503906",
         "23234700.0",
         "648825200.0",
         "-0.1286470984548489",
         "0.1532885292613965",
         "21.03520812988281",
         "256.23228149414064",
         "21.47980070114136",
         "249.71044921875",
         "21.90075462341309",
         "240.48580993652345",
         "0.0048154573540499",
         "0.0680042232593866",
         "37800500.0",
         "310295280.0",
         "0.0",
         "4.0",
         "1.0",
         "12.0",
         "28.259067535400384"
        ],
        [
         "1",
         "0.0336114101824522",
         "0.0332425152304904",
         "0.0339489149349864",
         "0.0346291898455336",
         "0.2518888953716528",
         "0.5390547441350431",
         "0.0333724411707648",
         "0.0333505295496325",
         "0.0309972212770311",
         "0.0890936764311381",
         "0.4867818018385527",
         "0.75",
         "0.3636363636363636",
         "2015-05-14 00:00:00-04:00",
         "28.87802505493164",
         "0.0344595994694666",
         "0",
         "20.596724324562143",
         "257.90642916266114",
         "20.97890756798759",
         "259.81433504408284",
         "20.475438954996395",
         "257.3470466563245",
         "20.67453956604004",
         "258.7355041503906",
         "23234700.0",
         "648825200.0",
         "-0.1286470984548489",
         "0.1532885292613965",
         "21.03520812988281",
         "256.23228149414064",
         "21.47980070114136",
         "249.71044921875",
         "21.90075462341309",
         "240.48580993652345",
         "0.0048154573540499",
         "0.0680042232593866",
         "37800500.0",
         "310295280.0",
         "0.0",
         "4.0",
         "1.0",
         "12.0",
         "28.91839790344237"
        ],
        [
         "2",
         "0.0351801017548629",
         "0.0337495379272262",
         "0.0349429838801358",
         "0.0344595994694666",
         "0.2071599552742568",
         "0.4513477202950413",
         "0.0333724411707648",
         "0.0333505295496325",
         "0.0309972212770311",
         "0.0890936764311381",
         "0.4867818018385527",
         "1.0",
         "0.3636363636363636",
         "2015-05-15 00:00:00-04:00",
         "29.19647979736328",
         "0.0357973019482735",
         "1",
         "20.596724324562143",
         "257.90642916266114",
         "20.97890756798759",
         "259.81433504408284",
         "20.475438954996395",
         "257.3470466563245",
         "20.67453956604004",
         "258.7355041503906",
         "23234700.0",
         "648825200.0",
         "-0.1286470984548489",
         "0.1532885292613965",
         "21.03520812988281",
         "256.23228149414064",
         "21.47980070114136",
         "249.71044921875",
         "21.90075462341309",
         "240.48580993652345",
         "0.0048154573540499",
         "0.0680042232593866",
         "37800500.0",
         "310295280.0",
         "0.0",
         "4.0",
         "1.0",
         "12.0",
         "28.878025054931637"
        ],
        [
         "3",
         "0.0345280630423302",
         "0.0349044952336956",
         "0.0350850139049863",
         "0.0357973019482735",
         "0.2882027460455361",
         "0.4954133678087281",
         "0.0333724411707648",
         "0.0333505295496325",
         "0.0309972212770311",
         "0.0890936764311381",
         "0.4867818018385527",
         "0.0",
         "0.3636363636363636",
         "2015-05-18 00:00:00-04:00",
         "29.169572830200195",
         "0.0356842764163049",
         "0",
         "20.596724324562143",
         "257.90642916266114",
         "20.97890756798759",
         "259.81433504408284",
         "20.475438954996395",
         "257.3470466563245",
         "20.67453956604004",
         "258.7355041503906",
         "23234700.0",
         "648825200.0",
         "-0.1286470984548489",
         "0.1532885292613965",
         "21.03520812988281",
         "256.23228149414064",
         "21.47980070114136",
         "249.71044921875",
         "21.90075462341309",
         "240.48580993652345",
         "0.0048154573540499",
         "0.0680042232593866",
         "37800500.0",
         "310295280.0",
         "0.0",
         "4.0",
         "1.0",
         "12.0",
         "29.19647979736328"
        ],
        [
         "4",
         "0.0367110521858641",
         "0.0350547481908395",
         "0.0362968788785469",
         "0.0356842764163049",
         "0.2482424205610539",
         "0.4530307748261205",
         "0.0333724411707648",
         "0.0333505295496325",
         "0.0309972212770311",
         "0.0890936764311381",
         "0.4867818018385527",
         "0.25",
         "0.3636363636363636",
         "2015-05-19 00:00:00-04:00",
         "29.16732788085937",
         "0.035674846271616",
         "0",
         "20.596724324562143",
         "257.90642916266114",
         "20.97890756798759",
         "259.81433504408284",
         "20.475438954996395",
         "257.3470466563245",
         "20.67453956604004",
         "258.7355041503906",
         "23234700.0",
         "648825200.0",
         "-0.1286470984548489",
         "0.1532885292613965",
         "21.03520812988281",
         "256.23228149414064",
         "21.47980070114136",
         "249.71044921875",
         "21.90075462341309",
         "240.48580993652345",
         "0.0048154573540499",
         "0.0680042232593866",
         "37800500.0",
         "310295280.0",
         "0.0",
         "4.0",
         "1.0",
         "12.0",
         "29.169572830200178"
        ]
       ],
       "shape": {
        "columns": 44,
        "rows": 5
       }
      },
      "text/html": [
       "<div>\n",
       "<style scoped>\n",
       "    .dataframe tbody tr th:only-of-type {\n",
       "        vertical-align: middle;\n",
       "    }\n",
       "\n",
       "    .dataframe tbody tr th {\n",
       "        vertical-align: top;\n",
       "    }\n",
       "\n",
       "    .dataframe thead th {\n",
       "        text-align: right;\n",
       "    }\n",
       "</style>\n",
       "<table border=\"1\" class=\"dataframe\">\n",
       "  <thead>\n",
       "    <tr style=\"text-align: right;\">\n",
       "      <th></th>\n",
       "      <th>open_scaled</th>\n",
       "      <th>high_scaled</th>\n",
       "      <th>low_scaled</th>\n",
       "      <th>close_scaled</th>\n",
       "      <th>volume_scaled</th>\n",
       "      <th>return_scaled</th>\n",
       "      <th>ma5_scaled</th>\n",
       "      <th>ma20_scaled</th>\n",
       "      <th>ma50_scaled</th>\n",
       "      <th>volatility_scaled</th>\n",
       "      <th>...</th>\n",
       "      <th>ma50_max</th>\n",
       "      <th>volatility_min</th>\n",
       "      <th>volatility_max</th>\n",
       "      <th>volume_ma20_min</th>\n",
       "      <th>volume_ma20_max</th>\n",
       "      <th>day_of_week_min</th>\n",
       "      <th>day_of_week_max</th>\n",
       "      <th>month_min</th>\n",
       "      <th>month_max</th>\n",
       "      <th>close_original</th>\n",
       "    </tr>\n",
       "  </thead>\n",
       "  <tbody>\n",
       "    <tr>\n",
       "      <th>0</th>\n",
       "      <td>0.032421</td>\n",
       "      <td>0.031590</td>\n",
       "      <td>0.032728</td>\n",
       "      <td>0.031860</td>\n",
       "      <td>0.184693</td>\n",
       "      <td>0.539055</td>\n",
       "      <td>0.033372</td>\n",
       "      <td>0.033351</td>\n",
       "      <td>0.030997</td>\n",
       "      <td>0.089094</td>\n",
       "      <td>...</td>\n",
       "      <td>240.48581</td>\n",
       "      <td>0.004815</td>\n",
       "      <td>0.068004</td>\n",
       "      <td>37800500.0</td>\n",
       "      <td>310295280.0</td>\n",
       "      <td>0.0</td>\n",
       "      <td>4.0</td>\n",
       "      <td>1.0</td>\n",
       "      <td>12.0</td>\n",
       "      <td>28.259068</td>\n",
       "    </tr>\n",
       "    <tr>\n",
       "      <th>1</th>\n",
       "      <td>0.033611</td>\n",
       "      <td>0.033243</td>\n",
       "      <td>0.033949</td>\n",
       "      <td>0.034629</td>\n",
       "      <td>0.251889</td>\n",
       "      <td>0.539055</td>\n",
       "      <td>0.033372</td>\n",
       "      <td>0.033351</td>\n",
       "      <td>0.030997</td>\n",
       "      <td>0.089094</td>\n",
       "      <td>...</td>\n",
       "      <td>240.48581</td>\n",
       "      <td>0.004815</td>\n",
       "      <td>0.068004</td>\n",
       "      <td>37800500.0</td>\n",
       "      <td>310295280.0</td>\n",
       "      <td>0.0</td>\n",
       "      <td>4.0</td>\n",
       "      <td>1.0</td>\n",
       "      <td>12.0</td>\n",
       "      <td>28.918398</td>\n",
       "    </tr>\n",
       "    <tr>\n",
       "      <th>2</th>\n",
       "      <td>0.035180</td>\n",
       "      <td>0.033750</td>\n",
       "      <td>0.034943</td>\n",
       "      <td>0.034460</td>\n",
       "      <td>0.207160</td>\n",
       "      <td>0.451348</td>\n",
       "      <td>0.033372</td>\n",
       "      <td>0.033351</td>\n",
       "      <td>0.030997</td>\n",
       "      <td>0.089094</td>\n",
       "      <td>...</td>\n",
       "      <td>240.48581</td>\n",
       "      <td>0.004815</td>\n",
       "      <td>0.068004</td>\n",
       "      <td>37800500.0</td>\n",
       "      <td>310295280.0</td>\n",
       "      <td>0.0</td>\n",
       "      <td>4.0</td>\n",
       "      <td>1.0</td>\n",
       "      <td>12.0</td>\n",
       "      <td>28.878025</td>\n",
       "    </tr>\n",
       "    <tr>\n",
       "      <th>3</th>\n",
       "      <td>0.034528</td>\n",
       "      <td>0.034904</td>\n",
       "      <td>0.035085</td>\n",
       "      <td>0.035797</td>\n",
       "      <td>0.288203</td>\n",
       "      <td>0.495413</td>\n",
       "      <td>0.033372</td>\n",
       "      <td>0.033351</td>\n",
       "      <td>0.030997</td>\n",
       "      <td>0.089094</td>\n",
       "      <td>...</td>\n",
       "      <td>240.48581</td>\n",
       "      <td>0.004815</td>\n",
       "      <td>0.068004</td>\n",
       "      <td>37800500.0</td>\n",
       "      <td>310295280.0</td>\n",
       "      <td>0.0</td>\n",
       "      <td>4.0</td>\n",
       "      <td>1.0</td>\n",
       "      <td>12.0</td>\n",
       "      <td>29.196480</td>\n",
       "    </tr>\n",
       "    <tr>\n",
       "      <th>4</th>\n",
       "      <td>0.036711</td>\n",
       "      <td>0.035055</td>\n",
       "      <td>0.036297</td>\n",
       "      <td>0.035684</td>\n",
       "      <td>0.248242</td>\n",
       "      <td>0.453031</td>\n",
       "      <td>0.033372</td>\n",
       "      <td>0.033351</td>\n",
       "      <td>0.030997</td>\n",
       "      <td>0.089094</td>\n",
       "      <td>...</td>\n",
       "      <td>240.48581</td>\n",
       "      <td>0.004815</td>\n",
       "      <td>0.068004</td>\n",
       "      <td>37800500.0</td>\n",
       "      <td>310295280.0</td>\n",
       "      <td>0.0</td>\n",
       "      <td>4.0</td>\n",
       "      <td>1.0</td>\n",
       "      <td>12.0</td>\n",
       "      <td>29.169573</td>\n",
       "    </tr>\n",
       "  </tbody>\n",
       "</table>\n",
       "<p>5 rows × 44 columns</p>\n",
       "</div>"
      ],
      "text/plain": [
       "   open_scaled  high_scaled  low_scaled  close_scaled  volume_scaled  \\\n",
       "0     0.032421     0.031590    0.032728      0.031860       0.184693   \n",
       "1     0.033611     0.033243    0.033949      0.034629       0.251889   \n",
       "2     0.035180     0.033750    0.034943      0.034460       0.207160   \n",
       "3     0.034528     0.034904    0.035085      0.035797       0.288203   \n",
       "4     0.036711     0.035055    0.036297      0.035684       0.248242   \n",
       "\n",
       "   return_scaled  ma5_scaled  ma20_scaled  ma50_scaled  volatility_scaled  \\\n",
       "0       0.539055    0.033372     0.033351     0.030997           0.089094   \n",
       "1       0.539055    0.033372     0.033351     0.030997           0.089094   \n",
       "2       0.451348    0.033372     0.033351     0.030997           0.089094   \n",
       "3       0.495413    0.033372     0.033351     0.030997           0.089094   \n",
       "4       0.453031    0.033372     0.033351     0.030997           0.089094   \n",
       "\n",
       "   ...   ma50_max  volatility_min  volatility_max volume_ma20_min  \\\n",
       "0  ...  240.48581        0.004815        0.068004      37800500.0   \n",
       "1  ...  240.48581        0.004815        0.068004      37800500.0   \n",
       "2  ...  240.48581        0.004815        0.068004      37800500.0   \n",
       "3  ...  240.48581        0.004815        0.068004      37800500.0   \n",
       "4  ...  240.48581        0.004815        0.068004      37800500.0   \n",
       "\n",
       "   volume_ma20_max  day_of_week_min  day_of_week_max  month_min  month_max  \\\n",
       "0      310295280.0              0.0              4.0        1.0       12.0   \n",
       "1      310295280.0              0.0              4.0        1.0       12.0   \n",
       "2      310295280.0              0.0              4.0        1.0       12.0   \n",
       "3      310295280.0              0.0              4.0        1.0       12.0   \n",
       "4      310295280.0              0.0              4.0        1.0       12.0   \n",
       "\n",
       "   close_original  \n",
       "0       28.259068  \n",
       "1       28.918398  \n",
       "2       28.878025  \n",
       "3       29.196480  \n",
       "4       29.169573  \n",
       "\n",
       "[5 rows x 44 columns]"
      ]
     },
     "metadata": {},
     "output_type": "display_data"
    },
    {
     "data": {
      "text/markdown": [
       "**Columns:**"
      ],
      "text/plain": [
       "<IPython.core.display.Markdown object>"
      ]
     },
     "metadata": {},
     "output_type": "display_data"
    },
    {
     "data": {
      "application/vnd.microsoft.datawrangler.viewer.v0+json": {
       "columns": [
        {
         "name": "index",
         "rawType": "object",
         "type": "string"
        },
        {
         "name": "Type",
         "rawType": "object",
         "type": "unknown"
        },
        {
         "name": "Non-Null Count",
         "rawType": "int64",
         "type": "integer"
        },
        {
         "name": "Null Count",
         "rawType": "int64",
         "type": "integer"
        }
       ],
       "conversionMethod": "pd.DataFrame",
       "ref": "46d8abcd-03a7-45d3-bc2d-78f23a272709",
       "rows": [
        [
         "open_scaled",
         "float64",
         "2513",
         "0"
        ],
        [
         "high_scaled",
         "float64",
         "2513",
         "0"
        ],
        [
         "low_scaled",
         "float64",
         "2513",
         "0"
        ],
        [
         "close_scaled",
         "float64",
         "2513",
         "0"
        ],
        [
         "volume_scaled",
         "float64",
         "2513",
         "0"
        ],
        [
         "return_scaled",
         "float64",
         "2513",
         "0"
        ],
        [
         "ma5_scaled",
         "float64",
         "2513",
         "0"
        ],
        [
         "ma20_scaled",
         "float64",
         "2513",
         "0"
        ],
        [
         "ma50_scaled",
         "float64",
         "2513",
         "0"
        ],
        [
         "volatility_scaled",
         "float64",
         "2513",
         "0"
        ],
        [
         "volume_ma20_scaled",
         "float64",
         "2513",
         "0"
        ],
        [
         "day_of_week_scaled",
         "float64",
         "2513",
         "0"
        ],
        [
         "month_scaled",
         "float64",
         "2513",
         "0"
        ],
        [
         "date",
         "object",
         "2513",
         "0"
        ],
        [
         "next_day_close",
         "float64",
         "2513",
         "0"
        ],
        [
         "next_day_close_scaled",
         "float64",
         "2513",
         "0"
        ],
        [
         "price_up",
         "int64",
         "2513",
         "0"
        ],
        [
         "open_min",
         "float64",
         "2513",
         "0"
        ],
        [
         "open_max",
         "float64",
         "2513",
         "0"
        ],
        [
         "high_min",
         "float64",
         "2513",
         "0"
        ],
        [
         "high_max",
         "float64",
         "2513",
         "0"
        ],
        [
         "low_min",
         "float64",
         "2513",
         "0"
        ],
        [
         "low_max",
         "float64",
         "2513",
         "0"
        ],
        [
         "close_min",
         "float64",
         "2513",
         "0"
        ],
        [
         "close_max",
         "float64",
         "2513",
         "0"
        ],
        [
         "volume_min",
         "float64",
         "2513",
         "0"
        ],
        [
         "volume_max",
         "float64",
         "2513",
         "0"
        ],
        [
         "return_min",
         "float64",
         "2513",
         "0"
        ],
        [
         "return_max",
         "float64",
         "2513",
         "0"
        ],
        [
         "ma5_min",
         "float64",
         "2513",
         "0"
        ],
        [
         "ma5_max",
         "float64",
         "2513",
         "0"
        ],
        [
         "ma20_min",
         "float64",
         "2513",
         "0"
        ],
        [
         "ma20_max",
         "float64",
         "2513",
         "0"
        ],
        [
         "ma50_min",
         "float64",
         "2513",
         "0"
        ],
        [
         "ma50_max",
         "float64",
         "2513",
         "0"
        ],
        [
         "volatility_min",
         "float64",
         "2513",
         "0"
        ],
        [
         "volatility_max",
         "float64",
         "2513",
         "0"
        ],
        [
         "volume_ma20_min",
         "float64",
         "2513",
         "0"
        ],
        [
         "volume_ma20_max",
         "float64",
         "2513",
         "0"
        ],
        [
         "day_of_week_min",
         "float64",
         "2513",
         "0"
        ],
        [
         "day_of_week_max",
         "float64",
         "2513",
         "0"
        ],
        [
         "month_min",
         "float64",
         "2513",
         "0"
        ],
        [
         "month_max",
         "float64",
         "2513",
         "0"
        ],
        [
         "close_original",
         "float64",
         "2513",
         "0"
        ]
       ],
       "shape": {
        "columns": 3,
        "rows": 44
       }
      },
      "text/html": [
       "<div>\n",
       "<style scoped>\n",
       "    .dataframe tbody tr th:only-of-type {\n",
       "        vertical-align: middle;\n",
       "    }\n",
       "\n",
       "    .dataframe tbody tr th {\n",
       "        vertical-align: top;\n",
       "    }\n",
       "\n",
       "    .dataframe thead th {\n",
       "        text-align: right;\n",
       "    }\n",
       "</style>\n",
       "<table border=\"1\" class=\"dataframe\">\n",
       "  <thead>\n",
       "    <tr style=\"text-align: right;\">\n",
       "      <th></th>\n",
       "      <th>Type</th>\n",
       "      <th>Non-Null Count</th>\n",
       "      <th>Null Count</th>\n",
       "    </tr>\n",
       "  </thead>\n",
       "  <tbody>\n",
       "    <tr>\n",
       "      <th>open_scaled</th>\n",
       "      <td>float64</td>\n",
       "      <td>2513</td>\n",
       "      <td>0</td>\n",
       "    </tr>\n",
       "    <tr>\n",
       "      <th>high_scaled</th>\n",
       "      <td>float64</td>\n",
       "      <td>2513</td>\n",
       "      <td>0</td>\n",
       "    </tr>\n",
       "    <tr>\n",
       "      <th>low_scaled</th>\n",
       "      <td>float64</td>\n",
       "      <td>2513</td>\n",
       "      <td>0</td>\n",
       "    </tr>\n",
       "    <tr>\n",
       "      <th>close_scaled</th>\n",
       "      <td>float64</td>\n",
       "      <td>2513</td>\n",
       "      <td>0</td>\n",
       "    </tr>\n",
       "    <tr>\n",
       "      <th>volume_scaled</th>\n",
       "      <td>float64</td>\n",
       "      <td>2513</td>\n",
       "      <td>0</td>\n",
       "    </tr>\n",
       "    <tr>\n",
       "      <th>return_scaled</th>\n",
       "      <td>float64</td>\n",
       "      <td>2513</td>\n",
       "      <td>0</td>\n",
       "    </tr>\n",
       "    <tr>\n",
       "      <th>ma5_scaled</th>\n",
       "      <td>float64</td>\n",
       "      <td>2513</td>\n",
       "      <td>0</td>\n",
       "    </tr>\n",
       "    <tr>\n",
       "      <th>ma20_scaled</th>\n",
       "      <td>float64</td>\n",
       "      <td>2513</td>\n",
       "      <td>0</td>\n",
       "    </tr>\n",
       "    <tr>\n",
       "      <th>ma50_scaled</th>\n",
       "      <td>float64</td>\n",
       "      <td>2513</td>\n",
       "      <td>0</td>\n",
       "    </tr>\n",
       "    <tr>\n",
       "      <th>volatility_scaled</th>\n",
       "      <td>float64</td>\n",
       "      <td>2513</td>\n",
       "      <td>0</td>\n",
       "    </tr>\n",
       "    <tr>\n",
       "      <th>volume_ma20_scaled</th>\n",
       "      <td>float64</td>\n",
       "      <td>2513</td>\n",
       "      <td>0</td>\n",
       "    </tr>\n",
       "    <tr>\n",
       "      <th>day_of_week_scaled</th>\n",
       "      <td>float64</td>\n",
       "      <td>2513</td>\n",
       "      <td>0</td>\n",
       "    </tr>\n",
       "    <tr>\n",
       "      <th>month_scaled</th>\n",
       "      <td>float64</td>\n",
       "      <td>2513</td>\n",
       "      <td>0</td>\n",
       "    </tr>\n",
       "    <tr>\n",
       "      <th>date</th>\n",
       "      <td>object</td>\n",
       "      <td>2513</td>\n",
       "      <td>0</td>\n",
       "    </tr>\n",
       "    <tr>\n",
       "      <th>next_day_close</th>\n",
       "      <td>float64</td>\n",
       "      <td>2513</td>\n",
       "      <td>0</td>\n",
       "    </tr>\n",
       "    <tr>\n",
       "      <th>next_day_close_scaled</th>\n",
       "      <td>float64</td>\n",
       "      <td>2513</td>\n",
       "      <td>0</td>\n",
       "    </tr>\n",
       "    <tr>\n",
       "      <th>price_up</th>\n",
       "      <td>int64</td>\n",
       "      <td>2513</td>\n",
       "      <td>0</td>\n",
       "    </tr>\n",
       "    <tr>\n",
       "      <th>open_min</th>\n",
       "      <td>float64</td>\n",
       "      <td>2513</td>\n",
       "      <td>0</td>\n",
       "    </tr>\n",
       "    <tr>\n",
       "      <th>open_max</th>\n",
       "      <td>float64</td>\n",
       "      <td>2513</td>\n",
       "      <td>0</td>\n",
       "    </tr>\n",
       "    <tr>\n",
       "      <th>high_min</th>\n",
       "      <td>float64</td>\n",
       "      <td>2513</td>\n",
       "      <td>0</td>\n",
       "    </tr>\n",
       "    <tr>\n",
       "      <th>high_max</th>\n",
       "      <td>float64</td>\n",
       "      <td>2513</td>\n",
       "      <td>0</td>\n",
       "    </tr>\n",
       "    <tr>\n",
       "      <th>low_min</th>\n",
       "      <td>float64</td>\n",
       "      <td>2513</td>\n",
       "      <td>0</td>\n",
       "    </tr>\n",
       "    <tr>\n",
       "      <th>low_max</th>\n",
       "      <td>float64</td>\n",
       "      <td>2513</td>\n",
       "      <td>0</td>\n",
       "    </tr>\n",
       "    <tr>\n",
       "      <th>close_min</th>\n",
       "      <td>float64</td>\n",
       "      <td>2513</td>\n",
       "      <td>0</td>\n",
       "    </tr>\n",
       "    <tr>\n",
       "      <th>close_max</th>\n",
       "      <td>float64</td>\n",
       "      <td>2513</td>\n",
       "      <td>0</td>\n",
       "    </tr>\n",
       "    <tr>\n",
       "      <th>volume_min</th>\n",
       "      <td>float64</td>\n",
       "      <td>2513</td>\n",
       "      <td>0</td>\n",
       "    </tr>\n",
       "    <tr>\n",
       "      <th>volume_max</th>\n",
       "      <td>float64</td>\n",
       "      <td>2513</td>\n",
       "      <td>0</td>\n",
       "    </tr>\n",
       "    <tr>\n",
       "      <th>return_min</th>\n",
       "      <td>float64</td>\n",
       "      <td>2513</td>\n",
       "      <td>0</td>\n",
       "    </tr>\n",
       "    <tr>\n",
       "      <th>return_max</th>\n",
       "      <td>float64</td>\n",
       "      <td>2513</td>\n",
       "      <td>0</td>\n",
       "    </tr>\n",
       "    <tr>\n",
       "      <th>ma5_min</th>\n",
       "      <td>float64</td>\n",
       "      <td>2513</td>\n",
       "      <td>0</td>\n",
       "    </tr>\n",
       "    <tr>\n",
       "      <th>ma5_max</th>\n",
       "      <td>float64</td>\n",
       "      <td>2513</td>\n",
       "      <td>0</td>\n",
       "    </tr>\n",
       "    <tr>\n",
       "      <th>ma20_min</th>\n",
       "      <td>float64</td>\n",
       "      <td>2513</td>\n",
       "      <td>0</td>\n",
       "    </tr>\n",
       "    <tr>\n",
       "      <th>ma20_max</th>\n",
       "      <td>float64</td>\n",
       "      <td>2513</td>\n",
       "      <td>0</td>\n",
       "    </tr>\n",
       "    <tr>\n",
       "      <th>ma50_min</th>\n",
       "      <td>float64</td>\n",
       "      <td>2513</td>\n",
       "      <td>0</td>\n",
       "    </tr>\n",
       "    <tr>\n",
       "      <th>ma50_max</th>\n",
       "      <td>float64</td>\n",
       "      <td>2513</td>\n",
       "      <td>0</td>\n",
       "    </tr>\n",
       "    <tr>\n",
       "      <th>volatility_min</th>\n",
       "      <td>float64</td>\n",
       "      <td>2513</td>\n",
       "      <td>0</td>\n",
       "    </tr>\n",
       "    <tr>\n",
       "      <th>volatility_max</th>\n",
       "      <td>float64</td>\n",
       "      <td>2513</td>\n",
       "      <td>0</td>\n",
       "    </tr>\n",
       "    <tr>\n",
       "      <th>volume_ma20_min</th>\n",
       "      <td>float64</td>\n",
       "      <td>2513</td>\n",
       "      <td>0</td>\n",
       "    </tr>\n",
       "    <tr>\n",
       "      <th>volume_ma20_max</th>\n",
       "      <td>float64</td>\n",
       "      <td>2513</td>\n",
       "      <td>0</td>\n",
       "    </tr>\n",
       "    <tr>\n",
       "      <th>day_of_week_min</th>\n",
       "      <td>float64</td>\n",
       "      <td>2513</td>\n",
       "      <td>0</td>\n",
       "    </tr>\n",
       "    <tr>\n",
       "      <th>day_of_week_max</th>\n",
       "      <td>float64</td>\n",
       "      <td>2513</td>\n",
       "      <td>0</td>\n",
       "    </tr>\n",
       "    <tr>\n",
       "      <th>month_min</th>\n",
       "      <td>float64</td>\n",
       "      <td>2513</td>\n",
       "      <td>0</td>\n",
       "    </tr>\n",
       "    <tr>\n",
       "      <th>month_max</th>\n",
       "      <td>float64</td>\n",
       "      <td>2513</td>\n",
       "      <td>0</td>\n",
       "    </tr>\n",
       "    <tr>\n",
       "      <th>close_original</th>\n",
       "      <td>float64</td>\n",
       "      <td>2513</td>\n",
       "      <td>0</td>\n",
       "    </tr>\n",
       "  </tbody>\n",
       "</table>\n",
       "</div>"
      ],
      "text/plain": [
       "                          Type  Non-Null Count  Null Count\n",
       "open_scaled            float64            2513           0\n",
       "high_scaled            float64            2513           0\n",
       "low_scaled             float64            2513           0\n",
       "close_scaled           float64            2513           0\n",
       "volume_scaled          float64            2513           0\n",
       "return_scaled          float64            2513           0\n",
       "ma5_scaled             float64            2513           0\n",
       "ma20_scaled            float64            2513           0\n",
       "ma50_scaled            float64            2513           0\n",
       "volatility_scaled      float64            2513           0\n",
       "volume_ma20_scaled     float64            2513           0\n",
       "day_of_week_scaled     float64            2513           0\n",
       "month_scaled           float64            2513           0\n",
       "date                    object            2513           0\n",
       "next_day_close         float64            2513           0\n",
       "next_day_close_scaled  float64            2513           0\n",
       "price_up                 int64            2513           0\n",
       "open_min               float64            2513           0\n",
       "open_max               float64            2513           0\n",
       "high_min               float64            2513           0\n",
       "high_max               float64            2513           0\n",
       "low_min                float64            2513           0\n",
       "low_max                float64            2513           0\n",
       "close_min              float64            2513           0\n",
       "close_max              float64            2513           0\n",
       "volume_min             float64            2513           0\n",
       "volume_max             float64            2513           0\n",
       "return_min             float64            2513           0\n",
       "return_max             float64            2513           0\n",
       "ma5_min                float64            2513           0\n",
       "ma5_max                float64            2513           0\n",
       "ma20_min               float64            2513           0\n",
       "ma20_max               float64            2513           0\n",
       "ma50_min               float64            2513           0\n",
       "ma50_max               float64            2513           0\n",
       "volatility_min         float64            2513           0\n",
       "volatility_max         float64            2513           0\n",
       "volume_ma20_min        float64            2513           0\n",
       "volume_ma20_max        float64            2513           0\n",
       "day_of_week_min        float64            2513           0\n",
       "day_of_week_max        float64            2513           0\n",
       "month_min              float64            2513           0\n",
       "month_max              float64            2513           0\n",
       "close_original         float64            2513           0"
      ]
     },
     "metadata": {},
     "output_type": "display_data"
    },
    {
     "name": "stdout",
     "output_type": "stream",
     "text": [
      "\n",
      "--------------------------------------------------------------------------------\n",
      "\n"
     ]
    },
    {
     "data": {
      "text/markdown": [
       "## 📊 lstm/week/AAPL_lstm_week.csv"
      ],
      "text/plain": [
       "<IPython.core.display.Markdown object>"
      ]
     },
     "metadata": {},
     "output_type": "display_data"
    },
    {
     "data": {
      "text/markdown": [
       "**Shape:** 2508 rows × 47 columns"
      ],
      "text/plain": [
       "<IPython.core.display.Markdown object>"
      ]
     },
     "metadata": {},
     "output_type": "display_data"
    },
    {
     "data": {
      "application/vnd.microsoft.datawrangler.viewer.v0+json": {
       "columns": [
        {
         "name": "index",
         "rawType": "int64",
         "type": "integer"
        },
        {
         "name": "open_scaled",
         "rawType": "float64",
         "type": "float"
        },
        {
         "name": "high_scaled",
         "rawType": "float64",
         "type": "float"
        },
        {
         "name": "low_scaled",
         "rawType": "float64",
         "type": "float"
        },
        {
         "name": "close_scaled",
         "rawType": "float64",
         "type": "float"
        },
        {
         "name": "volume_scaled",
         "rawType": "float64",
         "type": "float"
        },
        {
         "name": "return_scaled",
         "rawType": "float64",
         "type": "float"
        },
        {
         "name": "ma5_scaled",
         "rawType": "float64",
         "type": "float"
        },
        {
         "name": "ma20_scaled",
         "rawType": "float64",
         "type": "float"
        },
        {
         "name": "ma50_scaled",
         "rawType": "float64",
         "type": "float"
        },
        {
         "name": "volatility_scaled",
         "rawType": "float64",
         "type": "float"
        },
        {
         "name": "volume_ma20_scaled",
         "rawType": "float64",
         "type": "float"
        },
        {
         "name": "day_of_week_scaled",
         "rawType": "float64",
         "type": "float"
        },
        {
         "name": "month_scaled",
         "rawType": "float64",
         "type": "float"
        },
        {
         "name": "date",
         "rawType": "object",
         "type": "string"
        },
        {
         "name": "next_day_close",
         "rawType": "float64",
         "type": "float"
        },
        {
         "name": "next_day_close_scaled",
         "rawType": "float64",
         "type": "float"
        },
        {
         "name": "price_up",
         "rawType": "int64",
         "type": "integer"
        },
        {
         "name": "open_min",
         "rawType": "float64",
         "type": "float"
        },
        {
         "name": "open_max",
         "rawType": "float64",
         "type": "float"
        },
        {
         "name": "high_min",
         "rawType": "float64",
         "type": "float"
        },
        {
         "name": "high_max",
         "rawType": "float64",
         "type": "float"
        },
        {
         "name": "low_min",
         "rawType": "float64",
         "type": "float"
        },
        {
         "name": "low_max",
         "rawType": "float64",
         "type": "float"
        },
        {
         "name": "close_min",
         "rawType": "float64",
         "type": "float"
        },
        {
         "name": "close_max",
         "rawType": "float64",
         "type": "float"
        },
        {
         "name": "volume_min",
         "rawType": "float64",
         "type": "float"
        },
        {
         "name": "volume_max",
         "rawType": "float64",
         "type": "float"
        },
        {
         "name": "return_min",
         "rawType": "float64",
         "type": "float"
        },
        {
         "name": "return_max",
         "rawType": "float64",
         "type": "float"
        },
        {
         "name": "ma5_min",
         "rawType": "float64",
         "type": "float"
        },
        {
         "name": "ma5_max",
         "rawType": "float64",
         "type": "float"
        },
        {
         "name": "ma20_min",
         "rawType": "float64",
         "type": "float"
        },
        {
         "name": "ma20_max",
         "rawType": "float64",
         "type": "float"
        },
        {
         "name": "ma50_min",
         "rawType": "float64",
         "type": "float"
        },
        {
         "name": "ma50_max",
         "rawType": "float64",
         "type": "float"
        },
        {
         "name": "volatility_min",
         "rawType": "float64",
         "type": "float"
        },
        {
         "name": "volatility_max",
         "rawType": "float64",
         "type": "float"
        },
        {
         "name": "volume_ma20_min",
         "rawType": "float64",
         "type": "float"
        },
        {
         "name": "volume_ma20_max",
         "rawType": "float64",
         "type": "float"
        },
        {
         "name": "day_of_week_min",
         "rawType": "float64",
         "type": "float"
        },
        {
         "name": "day_of_week_max",
         "rawType": "float64",
         "type": "float"
        },
        {
         "name": "month_min",
         "rawType": "float64",
         "type": "float"
        },
        {
         "name": "month_max",
         "rawType": "float64",
         "type": "float"
        },
        {
         "name": "close_original",
         "rawType": "float64",
         "type": "float"
        },
        {
         "name": "next_week_close_scaled",
         "rawType": "float64",
         "type": "float"
        },
        {
         "name": "next_week_close_original",
         "rawType": "float64",
         "type": "float"
        },
        {
         "name": "price_up_week",
         "rawType": "int64",
         "type": "integer"
        }
       ],
       "conversionMethod": "pd.DataFrame",
       "ref": "68af9efd-4580-415e-8a70-eae9feff222d",
       "rows": [
        [
         "0",
         "0.0324206696511711",
         "0.0315899007076642",
         "0.0327275705218503",
         "0.0318596036212941",
         "0.1846928621838087",
         "0.5390547441350431",
         "0.0333724411707648",
         "0.0333505295496325",
         "0.0309972212770311",
         "0.0890936764311381",
         "0.4867818018385527",
         "0.5",
         "0.3636363636363636",
         "2015-05-13 00:00:00-04:00",
         "28.918397903442383",
         "0.0346291898455336",
         "1",
         "20.596724324562143",
         "257.90642916266114",
         "20.97890756798759",
         "259.81433504408284",
         "20.475438954996395",
         "257.3470466563245",
         "20.67453956604004",
         "258.7355041503906",
         "23234700.0",
         "648825200.0",
         "-0.1286470984548489",
         "0.1532885292613965",
         "21.03520812988281",
         "256.23228149414064",
         "21.47980070114136",
         "249.71044921875",
         "21.90075462341309",
         "240.48580993652345",
         "0.0048154573540499",
         "0.0680042232593866",
         "37800500.0",
         "310295280.0",
         "0.0",
         "4.0",
         "1.0",
         "12.0",
         "28.259067535400384",
         "0.0352490427902389",
         "29.065960693359365",
         "1"
        ],
        [
         "1",
         "0.0336114101824522",
         "0.0332425152304904",
         "0.0339489149349864",
         "0.0346291898455336",
         "0.2518888953716528",
         "0.5390547441350431",
         "0.0333724411707648",
         "0.0333505295496325",
         "0.0309972212770311",
         "0.0890936764311381",
         "0.4867818018385527",
         "0.75",
         "0.3636363636363636",
         "2015-05-14 00:00:00-04:00",
         "28.87802505493164",
         "0.0344595994694666",
         "0",
         "20.596724324562143",
         "257.90642916266114",
         "20.97890756798759",
         "259.81433504408284",
         "20.475438954996395",
         "257.3470466563245",
         "20.67453956604004",
         "258.7355041503906",
         "23234700.0",
         "648825200.0",
         "-0.1286470984548489",
         "0.1532885292613965",
         "21.03520812988281",
         "256.23228149414064",
         "21.47980070114136",
         "249.71044921875",
         "21.90075462341309",
         "240.48580993652345",
         "0.0048154573540499",
         "0.0680042232593866",
         "37800500.0",
         "310295280.0",
         "0.0",
         "4.0",
         "1.0",
         "12.0",
         "28.91839790344237",
         "0.0357087515276012",
         "29.175399398803705",
         "1"
        ],
        [
         "2",
         "0.0351801017548629",
         "0.0337495379272262",
         "0.0349429838801358",
         "0.0344595994694666",
         "0.2071599552742568",
         "0.4513477202950413",
         "0.0333724411707648",
         "0.0333505295496325",
         "0.0309972212770311",
         "0.0890936764311381",
         "0.4867818018385527",
         "1.0",
         "0.3636363636363636",
         "2015-05-15 00:00:00-04:00",
         "29.19647979736328",
         "0.0357973019482735",
         "1",
         "20.596724324562143",
         "257.90642916266114",
         "20.97890756798759",
         "259.81433504408284",
         "20.475438954996395",
         "257.3470466563245",
         "20.67453956604004",
         "258.7355041503906",
         "23234700.0",
         "648825200.0",
         "-0.1286470984548489",
         "0.1532885292613965",
         "21.03520812988281",
         "256.23228149414064",
         "21.47980070114136",
         "249.71044921875",
         "21.90075462341309",
         "240.48580993652345",
         "0.0048154573540499",
         "0.0680042232593866",
         "37800500.0",
         "310295280.0",
         "0.0",
         "4.0",
         "1.0",
         "12.0",
         "28.878025054931637",
         "0.0364190441267235",
         "29.34449234008789",
         "1"
        ],
        [
         "3",
         "0.0345280630423302",
         "0.0349044952336956",
         "0.0350850139049863",
         "0.0357973019482735",
         "0.2882027460455361",
         "0.4954133678087281",
         "0.0333724411707648",
         "0.0333505295496325",
         "0.0309972212770311",
         "0.0890936764311381",
         "0.4867818018385527",
         "0.0",
         "0.3636363636363636",
         "2015-05-18 00:00:00-04:00",
         "29.169572830200195",
         "0.0356842764163049",
         "0",
         "20.596724324562143",
         "257.90642916266114",
         "20.97890756798759",
         "259.81433504408284",
         "20.475438954996395",
         "257.3470466563245",
         "20.67453956604004",
         "258.7355041503906",
         "23234700.0",
         "648825200.0",
         "-0.1286470984548489",
         "0.1532885292613965",
         "21.03520812988281",
         "256.23228149414064",
         "21.47980070114136",
         "249.71044921875",
         "21.90075462341309",
         "240.48580993652345",
         "0.0048154573540499",
         "0.0680042232593866",
         "37800500.0",
         "310295280.0",
         "0.0",
         "4.0",
         "1.0",
         "12.0",
         "29.19647979736328",
         "0.0363116542479192",
         "29.31892700195312",
         "1"
        ],
        [
         "4",
         "0.0367110521858641",
         "0.0350547481908395",
         "0.0362968788785469",
         "0.0356842764163049",
         "0.2482424205610539",
         "0.4530307748261205",
         "0.0333724411707648",
         "0.0333505295496325",
         "0.0309972212770311",
         "0.0890936764311381",
         "0.4867818018385527",
         "0.25",
         "0.3636363636363636",
         "2015-05-19 00:00:00-04:00",
         "29.16732788085937",
         "0.035674846271616",
         "0",
         "20.596724324562143",
         "257.90642916266114",
         "20.97890756798759",
         "259.81433504408284",
         "20.475438954996395",
         "257.3470466563245",
         "20.67453956604004",
         "258.7355041503906",
         "23234700.0",
         "648825200.0",
         "-0.1286470984548489",
         "0.1532885292613965",
         "21.03520812988281",
         "256.23228149414064",
         "21.47980070114136",
         "249.71044921875",
         "21.90075462341309",
         "240.48580993652345",
         "0.0048154573540499",
         "0.0680042232593866",
         "37800500.0",
         "310295280.0",
         "0.0",
         "4.0",
         "1.0",
         "12.0",
         "29.169572830200178",
         "0.0366828061549953",
         "29.407283782958974",
         "1"
        ]
       ],
       "shape": {
        "columns": 47,
        "rows": 5
       }
      },
      "text/html": [
       "<div>\n",
       "<style scoped>\n",
       "    .dataframe tbody tr th:only-of-type {\n",
       "        vertical-align: middle;\n",
       "    }\n",
       "\n",
       "    .dataframe tbody tr th {\n",
       "        vertical-align: top;\n",
       "    }\n",
       "\n",
       "    .dataframe thead th {\n",
       "        text-align: right;\n",
       "    }\n",
       "</style>\n",
       "<table border=\"1\" class=\"dataframe\">\n",
       "  <thead>\n",
       "    <tr style=\"text-align: right;\">\n",
       "      <th></th>\n",
       "      <th>open_scaled</th>\n",
       "      <th>high_scaled</th>\n",
       "      <th>low_scaled</th>\n",
       "      <th>close_scaled</th>\n",
       "      <th>volume_scaled</th>\n",
       "      <th>return_scaled</th>\n",
       "      <th>ma5_scaled</th>\n",
       "      <th>ma20_scaled</th>\n",
       "      <th>ma50_scaled</th>\n",
       "      <th>volatility_scaled</th>\n",
       "      <th>...</th>\n",
       "      <th>volume_ma20_min</th>\n",
       "      <th>volume_ma20_max</th>\n",
       "      <th>day_of_week_min</th>\n",
       "      <th>day_of_week_max</th>\n",
       "      <th>month_min</th>\n",
       "      <th>month_max</th>\n",
       "      <th>close_original</th>\n",
       "      <th>next_week_close_scaled</th>\n",
       "      <th>next_week_close_original</th>\n",
       "      <th>price_up_week</th>\n",
       "    </tr>\n",
       "  </thead>\n",
       "  <tbody>\n",
       "    <tr>\n",
       "      <th>0</th>\n",
       "      <td>0.032421</td>\n",
       "      <td>0.031590</td>\n",
       "      <td>0.032728</td>\n",
       "      <td>0.031860</td>\n",
       "      <td>0.184693</td>\n",
       "      <td>0.539055</td>\n",
       "      <td>0.033372</td>\n",
       "      <td>0.033351</td>\n",
       "      <td>0.030997</td>\n",
       "      <td>0.089094</td>\n",
       "      <td>...</td>\n",
       "      <td>37800500.0</td>\n",
       "      <td>310295280.0</td>\n",
       "      <td>0.0</td>\n",
       "      <td>4.0</td>\n",
       "      <td>1.0</td>\n",
       "      <td>12.0</td>\n",
       "      <td>28.259068</td>\n",
       "      <td>0.035249</td>\n",
       "      <td>29.065961</td>\n",
       "      <td>1</td>\n",
       "    </tr>\n",
       "    <tr>\n",
       "      <th>1</th>\n",
       "      <td>0.033611</td>\n",
       "      <td>0.033243</td>\n",
       "      <td>0.033949</td>\n",
       "      <td>0.034629</td>\n",
       "      <td>0.251889</td>\n",
       "      <td>0.539055</td>\n",
       "      <td>0.033372</td>\n",
       "      <td>0.033351</td>\n",
       "      <td>0.030997</td>\n",
       "      <td>0.089094</td>\n",
       "      <td>...</td>\n",
       "      <td>37800500.0</td>\n",
       "      <td>310295280.0</td>\n",
       "      <td>0.0</td>\n",
       "      <td>4.0</td>\n",
       "      <td>1.0</td>\n",
       "      <td>12.0</td>\n",
       "      <td>28.918398</td>\n",
       "      <td>0.035709</td>\n",
       "      <td>29.175399</td>\n",
       "      <td>1</td>\n",
       "    </tr>\n",
       "    <tr>\n",
       "      <th>2</th>\n",
       "      <td>0.035180</td>\n",
       "      <td>0.033750</td>\n",
       "      <td>0.034943</td>\n",
       "      <td>0.034460</td>\n",
       "      <td>0.207160</td>\n",
       "      <td>0.451348</td>\n",
       "      <td>0.033372</td>\n",
       "      <td>0.033351</td>\n",
       "      <td>0.030997</td>\n",
       "      <td>0.089094</td>\n",
       "      <td>...</td>\n",
       "      <td>37800500.0</td>\n",
       "      <td>310295280.0</td>\n",
       "      <td>0.0</td>\n",
       "      <td>4.0</td>\n",
       "      <td>1.0</td>\n",
       "      <td>12.0</td>\n",
       "      <td>28.878025</td>\n",
       "      <td>0.036419</td>\n",
       "      <td>29.344492</td>\n",
       "      <td>1</td>\n",
       "    </tr>\n",
       "    <tr>\n",
       "      <th>3</th>\n",
       "      <td>0.034528</td>\n",
       "      <td>0.034904</td>\n",
       "      <td>0.035085</td>\n",
       "      <td>0.035797</td>\n",
       "      <td>0.288203</td>\n",
       "      <td>0.495413</td>\n",
       "      <td>0.033372</td>\n",
       "      <td>0.033351</td>\n",
       "      <td>0.030997</td>\n",
       "      <td>0.089094</td>\n",
       "      <td>...</td>\n",
       "      <td>37800500.0</td>\n",
       "      <td>310295280.0</td>\n",
       "      <td>0.0</td>\n",
       "      <td>4.0</td>\n",
       "      <td>1.0</td>\n",
       "      <td>12.0</td>\n",
       "      <td>29.196480</td>\n",
       "      <td>0.036312</td>\n",
       "      <td>29.318927</td>\n",
       "      <td>1</td>\n",
       "    </tr>\n",
       "    <tr>\n",
       "      <th>4</th>\n",
       "      <td>0.036711</td>\n",
       "      <td>0.035055</td>\n",
       "      <td>0.036297</td>\n",
       "      <td>0.035684</td>\n",
       "      <td>0.248242</td>\n",
       "      <td>0.453031</td>\n",
       "      <td>0.033372</td>\n",
       "      <td>0.033351</td>\n",
       "      <td>0.030997</td>\n",
       "      <td>0.089094</td>\n",
       "      <td>...</td>\n",
       "      <td>37800500.0</td>\n",
       "      <td>310295280.0</td>\n",
       "      <td>0.0</td>\n",
       "      <td>4.0</td>\n",
       "      <td>1.0</td>\n",
       "      <td>12.0</td>\n",
       "      <td>29.169573</td>\n",
       "      <td>0.036683</td>\n",
       "      <td>29.407284</td>\n",
       "      <td>1</td>\n",
       "    </tr>\n",
       "  </tbody>\n",
       "</table>\n",
       "<p>5 rows × 47 columns</p>\n",
       "</div>"
      ],
      "text/plain": [
       "   open_scaled  high_scaled  low_scaled  close_scaled  volume_scaled  \\\n",
       "0     0.032421     0.031590    0.032728      0.031860       0.184693   \n",
       "1     0.033611     0.033243    0.033949      0.034629       0.251889   \n",
       "2     0.035180     0.033750    0.034943      0.034460       0.207160   \n",
       "3     0.034528     0.034904    0.035085      0.035797       0.288203   \n",
       "4     0.036711     0.035055    0.036297      0.035684       0.248242   \n",
       "\n",
       "   return_scaled  ma5_scaled  ma20_scaled  ma50_scaled  volatility_scaled  \\\n",
       "0       0.539055    0.033372     0.033351     0.030997           0.089094   \n",
       "1       0.539055    0.033372     0.033351     0.030997           0.089094   \n",
       "2       0.451348    0.033372     0.033351     0.030997           0.089094   \n",
       "3       0.495413    0.033372     0.033351     0.030997           0.089094   \n",
       "4       0.453031    0.033372     0.033351     0.030997           0.089094   \n",
       "\n",
       "   ...  volume_ma20_min  volume_ma20_max  day_of_week_min day_of_week_max  \\\n",
       "0  ...       37800500.0      310295280.0              0.0             4.0   \n",
       "1  ...       37800500.0      310295280.0              0.0             4.0   \n",
       "2  ...       37800500.0      310295280.0              0.0             4.0   \n",
       "3  ...       37800500.0      310295280.0              0.0             4.0   \n",
       "4  ...       37800500.0      310295280.0              0.0             4.0   \n",
       "\n",
       "   month_min  month_max  close_original  next_week_close_scaled  \\\n",
       "0        1.0       12.0       28.259068                0.035249   \n",
       "1        1.0       12.0       28.918398                0.035709   \n",
       "2        1.0       12.0       28.878025                0.036419   \n",
       "3        1.0       12.0       29.196480                0.036312   \n",
       "4        1.0       12.0       29.169573                0.036683   \n",
       "\n",
       "   next_week_close_original  price_up_week  \n",
       "0                 29.065961              1  \n",
       "1                 29.175399              1  \n",
       "2                 29.344492              1  \n",
       "3                 29.318927              1  \n",
       "4                 29.407284              1  \n",
       "\n",
       "[5 rows x 47 columns]"
      ]
     },
     "metadata": {},
     "output_type": "display_data"
    },
    {
     "data": {
      "text/markdown": [
       "**Columns:**"
      ],
      "text/plain": [
       "<IPython.core.display.Markdown object>"
      ]
     },
     "metadata": {},
     "output_type": "display_data"
    },
    {
     "data": {
      "application/vnd.microsoft.datawrangler.viewer.v0+json": {
       "columns": [
        {
         "name": "index",
         "rawType": "object",
         "type": "string"
        },
        {
         "name": "Type",
         "rawType": "object",
         "type": "unknown"
        },
        {
         "name": "Non-Null Count",
         "rawType": "int64",
         "type": "integer"
        },
        {
         "name": "Null Count",
         "rawType": "int64",
         "type": "integer"
        }
       ],
       "conversionMethod": "pd.DataFrame",
       "ref": "abafd978-5147-455e-a065-3eaba17b101c",
       "rows": [
        [
         "open_scaled",
         "float64",
         "2508",
         "0"
        ],
        [
         "high_scaled",
         "float64",
         "2508",
         "0"
        ],
        [
         "low_scaled",
         "float64",
         "2508",
         "0"
        ],
        [
         "close_scaled",
         "float64",
         "2508",
         "0"
        ],
        [
         "volume_scaled",
         "float64",
         "2508",
         "0"
        ],
        [
         "return_scaled",
         "float64",
         "2508",
         "0"
        ],
        [
         "ma5_scaled",
         "float64",
         "2508",
         "0"
        ],
        [
         "ma20_scaled",
         "float64",
         "2508",
         "0"
        ],
        [
         "ma50_scaled",
         "float64",
         "2508",
         "0"
        ],
        [
         "volatility_scaled",
         "float64",
         "2508",
         "0"
        ],
        [
         "volume_ma20_scaled",
         "float64",
         "2508",
         "0"
        ],
        [
         "day_of_week_scaled",
         "float64",
         "2508",
         "0"
        ],
        [
         "month_scaled",
         "float64",
         "2508",
         "0"
        ],
        [
         "date",
         "object",
         "2508",
         "0"
        ],
        [
         "next_day_close",
         "float64",
         "2508",
         "0"
        ],
        [
         "next_day_close_scaled",
         "float64",
         "2508",
         "0"
        ],
        [
         "price_up",
         "int64",
         "2508",
         "0"
        ],
        [
         "open_min",
         "float64",
         "2508",
         "0"
        ],
        [
         "open_max",
         "float64",
         "2508",
         "0"
        ],
        [
         "high_min",
         "float64",
         "2508",
         "0"
        ],
        [
         "high_max",
         "float64",
         "2508",
         "0"
        ],
        [
         "low_min",
         "float64",
         "2508",
         "0"
        ],
        [
         "low_max",
         "float64",
         "2508",
         "0"
        ],
        [
         "close_min",
         "float64",
         "2508",
         "0"
        ],
        [
         "close_max",
         "float64",
         "2508",
         "0"
        ],
        [
         "volume_min",
         "float64",
         "2508",
         "0"
        ],
        [
         "volume_max",
         "float64",
         "2508",
         "0"
        ],
        [
         "return_min",
         "float64",
         "2508",
         "0"
        ],
        [
         "return_max",
         "float64",
         "2508",
         "0"
        ],
        [
         "ma5_min",
         "float64",
         "2508",
         "0"
        ],
        [
         "ma5_max",
         "float64",
         "2508",
         "0"
        ],
        [
         "ma20_min",
         "float64",
         "2508",
         "0"
        ],
        [
         "ma20_max",
         "float64",
         "2508",
         "0"
        ],
        [
         "ma50_min",
         "float64",
         "2508",
         "0"
        ],
        [
         "ma50_max",
         "float64",
         "2508",
         "0"
        ],
        [
         "volatility_min",
         "float64",
         "2508",
         "0"
        ],
        [
         "volatility_max",
         "float64",
         "2508",
         "0"
        ],
        [
         "volume_ma20_min",
         "float64",
         "2508",
         "0"
        ],
        [
         "volume_ma20_max",
         "float64",
         "2508",
         "0"
        ],
        [
         "day_of_week_min",
         "float64",
         "2508",
         "0"
        ],
        [
         "day_of_week_max",
         "float64",
         "2508",
         "0"
        ],
        [
         "month_min",
         "float64",
         "2508",
         "0"
        ],
        [
         "month_max",
         "float64",
         "2508",
         "0"
        ],
        [
         "close_original",
         "float64",
         "2508",
         "0"
        ],
        [
         "next_week_close_scaled",
         "float64",
         "2508",
         "0"
        ],
        [
         "next_week_close_original",
         "float64",
         "2508",
         "0"
        ],
        [
         "price_up_week",
         "int64",
         "2508",
         "0"
        ]
       ],
       "shape": {
        "columns": 3,
        "rows": 47
       }
      },
      "text/html": [
       "<div>\n",
       "<style scoped>\n",
       "    .dataframe tbody tr th:only-of-type {\n",
       "        vertical-align: middle;\n",
       "    }\n",
       "\n",
       "    .dataframe tbody tr th {\n",
       "        vertical-align: top;\n",
       "    }\n",
       "\n",
       "    .dataframe thead th {\n",
       "        text-align: right;\n",
       "    }\n",
       "</style>\n",
       "<table border=\"1\" class=\"dataframe\">\n",
       "  <thead>\n",
       "    <tr style=\"text-align: right;\">\n",
       "      <th></th>\n",
       "      <th>Type</th>\n",
       "      <th>Non-Null Count</th>\n",
       "      <th>Null Count</th>\n",
       "    </tr>\n",
       "  </thead>\n",
       "  <tbody>\n",
       "    <tr>\n",
       "      <th>open_scaled</th>\n",
       "      <td>float64</td>\n",
       "      <td>2508</td>\n",
       "      <td>0</td>\n",
       "    </tr>\n",
       "    <tr>\n",
       "      <th>high_scaled</th>\n",
       "      <td>float64</td>\n",
       "      <td>2508</td>\n",
       "      <td>0</td>\n",
       "    </tr>\n",
       "    <tr>\n",
       "      <th>low_scaled</th>\n",
       "      <td>float64</td>\n",
       "      <td>2508</td>\n",
       "      <td>0</td>\n",
       "    </tr>\n",
       "    <tr>\n",
       "      <th>close_scaled</th>\n",
       "      <td>float64</td>\n",
       "      <td>2508</td>\n",
       "      <td>0</td>\n",
       "    </tr>\n",
       "    <tr>\n",
       "      <th>volume_scaled</th>\n",
       "      <td>float64</td>\n",
       "      <td>2508</td>\n",
       "      <td>0</td>\n",
       "    </tr>\n",
       "    <tr>\n",
       "      <th>return_scaled</th>\n",
       "      <td>float64</td>\n",
       "      <td>2508</td>\n",
       "      <td>0</td>\n",
       "    </tr>\n",
       "    <tr>\n",
       "      <th>ma5_scaled</th>\n",
       "      <td>float64</td>\n",
       "      <td>2508</td>\n",
       "      <td>0</td>\n",
       "    </tr>\n",
       "    <tr>\n",
       "      <th>ma20_scaled</th>\n",
       "      <td>float64</td>\n",
       "      <td>2508</td>\n",
       "      <td>0</td>\n",
       "    </tr>\n",
       "    <tr>\n",
       "      <th>ma50_scaled</th>\n",
       "      <td>float64</td>\n",
       "      <td>2508</td>\n",
       "      <td>0</td>\n",
       "    </tr>\n",
       "    <tr>\n",
       "      <th>volatility_scaled</th>\n",
       "      <td>float64</td>\n",
       "      <td>2508</td>\n",
       "      <td>0</td>\n",
       "    </tr>\n",
       "    <tr>\n",
       "      <th>volume_ma20_scaled</th>\n",
       "      <td>float64</td>\n",
       "      <td>2508</td>\n",
       "      <td>0</td>\n",
       "    </tr>\n",
       "    <tr>\n",
       "      <th>day_of_week_scaled</th>\n",
       "      <td>float64</td>\n",
       "      <td>2508</td>\n",
       "      <td>0</td>\n",
       "    </tr>\n",
       "    <tr>\n",
       "      <th>month_scaled</th>\n",
       "      <td>float64</td>\n",
       "      <td>2508</td>\n",
       "      <td>0</td>\n",
       "    </tr>\n",
       "    <tr>\n",
       "      <th>date</th>\n",
       "      <td>object</td>\n",
       "      <td>2508</td>\n",
       "      <td>0</td>\n",
       "    </tr>\n",
       "    <tr>\n",
       "      <th>next_day_close</th>\n",
       "      <td>float64</td>\n",
       "      <td>2508</td>\n",
       "      <td>0</td>\n",
       "    </tr>\n",
       "    <tr>\n",
       "      <th>next_day_close_scaled</th>\n",
       "      <td>float64</td>\n",
       "      <td>2508</td>\n",
       "      <td>0</td>\n",
       "    </tr>\n",
       "    <tr>\n",
       "      <th>price_up</th>\n",
       "      <td>int64</td>\n",
       "      <td>2508</td>\n",
       "      <td>0</td>\n",
       "    </tr>\n",
       "    <tr>\n",
       "      <th>open_min</th>\n",
       "      <td>float64</td>\n",
       "      <td>2508</td>\n",
       "      <td>0</td>\n",
       "    </tr>\n",
       "    <tr>\n",
       "      <th>open_max</th>\n",
       "      <td>float64</td>\n",
       "      <td>2508</td>\n",
       "      <td>0</td>\n",
       "    </tr>\n",
       "    <tr>\n",
       "      <th>high_min</th>\n",
       "      <td>float64</td>\n",
       "      <td>2508</td>\n",
       "      <td>0</td>\n",
       "    </tr>\n",
       "    <tr>\n",
       "      <th>high_max</th>\n",
       "      <td>float64</td>\n",
       "      <td>2508</td>\n",
       "      <td>0</td>\n",
       "    </tr>\n",
       "    <tr>\n",
       "      <th>low_min</th>\n",
       "      <td>float64</td>\n",
       "      <td>2508</td>\n",
       "      <td>0</td>\n",
       "    </tr>\n",
       "    <tr>\n",
       "      <th>low_max</th>\n",
       "      <td>float64</td>\n",
       "      <td>2508</td>\n",
       "      <td>0</td>\n",
       "    </tr>\n",
       "    <tr>\n",
       "      <th>close_min</th>\n",
       "      <td>float64</td>\n",
       "      <td>2508</td>\n",
       "      <td>0</td>\n",
       "    </tr>\n",
       "    <tr>\n",
       "      <th>close_max</th>\n",
       "      <td>float64</td>\n",
       "      <td>2508</td>\n",
       "      <td>0</td>\n",
       "    </tr>\n",
       "    <tr>\n",
       "      <th>volume_min</th>\n",
       "      <td>float64</td>\n",
       "      <td>2508</td>\n",
       "      <td>0</td>\n",
       "    </tr>\n",
       "    <tr>\n",
       "      <th>volume_max</th>\n",
       "      <td>float64</td>\n",
       "      <td>2508</td>\n",
       "      <td>0</td>\n",
       "    </tr>\n",
       "    <tr>\n",
       "      <th>return_min</th>\n",
       "      <td>float64</td>\n",
       "      <td>2508</td>\n",
       "      <td>0</td>\n",
       "    </tr>\n",
       "    <tr>\n",
       "      <th>return_max</th>\n",
       "      <td>float64</td>\n",
       "      <td>2508</td>\n",
       "      <td>0</td>\n",
       "    </tr>\n",
       "    <tr>\n",
       "      <th>ma5_min</th>\n",
       "      <td>float64</td>\n",
       "      <td>2508</td>\n",
       "      <td>0</td>\n",
       "    </tr>\n",
       "    <tr>\n",
       "      <th>ma5_max</th>\n",
       "      <td>float64</td>\n",
       "      <td>2508</td>\n",
       "      <td>0</td>\n",
       "    </tr>\n",
       "    <tr>\n",
       "      <th>ma20_min</th>\n",
       "      <td>float64</td>\n",
       "      <td>2508</td>\n",
       "      <td>0</td>\n",
       "    </tr>\n",
       "    <tr>\n",
       "      <th>ma20_max</th>\n",
       "      <td>float64</td>\n",
       "      <td>2508</td>\n",
       "      <td>0</td>\n",
       "    </tr>\n",
       "    <tr>\n",
       "      <th>ma50_min</th>\n",
       "      <td>float64</td>\n",
       "      <td>2508</td>\n",
       "      <td>0</td>\n",
       "    </tr>\n",
       "    <tr>\n",
       "      <th>ma50_max</th>\n",
       "      <td>float64</td>\n",
       "      <td>2508</td>\n",
       "      <td>0</td>\n",
       "    </tr>\n",
       "    <tr>\n",
       "      <th>volatility_min</th>\n",
       "      <td>float64</td>\n",
       "      <td>2508</td>\n",
       "      <td>0</td>\n",
       "    </tr>\n",
       "    <tr>\n",
       "      <th>volatility_max</th>\n",
       "      <td>float64</td>\n",
       "      <td>2508</td>\n",
       "      <td>0</td>\n",
       "    </tr>\n",
       "    <tr>\n",
       "      <th>volume_ma20_min</th>\n",
       "      <td>float64</td>\n",
       "      <td>2508</td>\n",
       "      <td>0</td>\n",
       "    </tr>\n",
       "    <tr>\n",
       "      <th>volume_ma20_max</th>\n",
       "      <td>float64</td>\n",
       "      <td>2508</td>\n",
       "      <td>0</td>\n",
       "    </tr>\n",
       "    <tr>\n",
       "      <th>day_of_week_min</th>\n",
       "      <td>float64</td>\n",
       "      <td>2508</td>\n",
       "      <td>0</td>\n",
       "    </tr>\n",
       "    <tr>\n",
       "      <th>day_of_week_max</th>\n",
       "      <td>float64</td>\n",
       "      <td>2508</td>\n",
       "      <td>0</td>\n",
       "    </tr>\n",
       "    <tr>\n",
       "      <th>month_min</th>\n",
       "      <td>float64</td>\n",
       "      <td>2508</td>\n",
       "      <td>0</td>\n",
       "    </tr>\n",
       "    <tr>\n",
       "      <th>month_max</th>\n",
       "      <td>float64</td>\n",
       "      <td>2508</td>\n",
       "      <td>0</td>\n",
       "    </tr>\n",
       "    <tr>\n",
       "      <th>close_original</th>\n",
       "      <td>float64</td>\n",
       "      <td>2508</td>\n",
       "      <td>0</td>\n",
       "    </tr>\n",
       "    <tr>\n",
       "      <th>next_week_close_scaled</th>\n",
       "      <td>float64</td>\n",
       "      <td>2508</td>\n",
       "      <td>0</td>\n",
       "    </tr>\n",
       "    <tr>\n",
       "      <th>next_week_close_original</th>\n",
       "      <td>float64</td>\n",
       "      <td>2508</td>\n",
       "      <td>0</td>\n",
       "    </tr>\n",
       "    <tr>\n",
       "      <th>price_up_week</th>\n",
       "      <td>int64</td>\n",
       "      <td>2508</td>\n",
       "      <td>0</td>\n",
       "    </tr>\n",
       "  </tbody>\n",
       "</table>\n",
       "</div>"
      ],
      "text/plain": [
       "                             Type  Non-Null Count  Null Count\n",
       "open_scaled               float64            2508           0\n",
       "high_scaled               float64            2508           0\n",
       "low_scaled                float64            2508           0\n",
       "close_scaled              float64            2508           0\n",
       "volume_scaled             float64            2508           0\n",
       "return_scaled             float64            2508           0\n",
       "ma5_scaled                float64            2508           0\n",
       "ma20_scaled               float64            2508           0\n",
       "ma50_scaled               float64            2508           0\n",
       "volatility_scaled         float64            2508           0\n",
       "volume_ma20_scaled        float64            2508           0\n",
       "day_of_week_scaled        float64            2508           0\n",
       "month_scaled              float64            2508           0\n",
       "date                       object            2508           0\n",
       "next_day_close            float64            2508           0\n",
       "next_day_close_scaled     float64            2508           0\n",
       "price_up                    int64            2508           0\n",
       "open_min                  float64            2508           0\n",
       "open_max                  float64            2508           0\n",
       "high_min                  float64            2508           0\n",
       "high_max                  float64            2508           0\n",
       "low_min                   float64            2508           0\n",
       "low_max                   float64            2508           0\n",
       "close_min                 float64            2508           0\n",
       "close_max                 float64            2508           0\n",
       "volume_min                float64            2508           0\n",
       "volume_max                float64            2508           0\n",
       "return_min                float64            2508           0\n",
       "return_max                float64            2508           0\n",
       "ma5_min                   float64            2508           0\n",
       "ma5_max                   float64            2508           0\n",
       "ma20_min                  float64            2508           0\n",
       "ma20_max                  float64            2508           0\n",
       "ma50_min                  float64            2508           0\n",
       "ma50_max                  float64            2508           0\n",
       "volatility_min            float64            2508           0\n",
       "volatility_max            float64            2508           0\n",
       "volume_ma20_min           float64            2508           0\n",
       "volume_ma20_max           float64            2508           0\n",
       "day_of_week_min           float64            2508           0\n",
       "day_of_week_max           float64            2508           0\n",
       "month_min                 float64            2508           0\n",
       "month_max                 float64            2508           0\n",
       "close_original            float64            2508           0\n",
       "next_week_close_scaled    float64            2508           0\n",
       "next_week_close_original  float64            2508           0\n",
       "price_up_week               int64            2508           0"
      ]
     },
     "metadata": {},
     "output_type": "display_data"
    },
    {
     "name": "stdout",
     "output_type": "stream",
     "text": [
      "\n",
      "--------------------------------------------------------------------------------\n",
      "\n"
     ]
    },
    {
     "data": {
      "text/markdown": [
       "## 📊 lstm/month/AAPL_lstm_month.csv"
      ],
      "text/plain": [
       "<IPython.core.display.Markdown object>"
      ]
     },
     "metadata": {},
     "output_type": "display_data"
    },
    {
     "data": {
      "text/markdown": [
       "**Shape:** 2492 rows × 47 columns"
      ],
      "text/plain": [
       "<IPython.core.display.Markdown object>"
      ]
     },
     "metadata": {},
     "output_type": "display_data"
    },
    {
     "data": {
      "application/vnd.microsoft.datawrangler.viewer.v0+json": {
       "columns": [
        {
         "name": "index",
         "rawType": "int64",
         "type": "integer"
        },
        {
         "name": "open_scaled",
         "rawType": "float64",
         "type": "float"
        },
        {
         "name": "high_scaled",
         "rawType": "float64",
         "type": "float"
        },
        {
         "name": "low_scaled",
         "rawType": "float64",
         "type": "float"
        },
        {
         "name": "close_scaled",
         "rawType": "float64",
         "type": "float"
        },
        {
         "name": "volume_scaled",
         "rawType": "float64",
         "type": "float"
        },
        {
         "name": "return_scaled",
         "rawType": "float64",
         "type": "float"
        },
        {
         "name": "ma5_scaled",
         "rawType": "float64",
         "type": "float"
        },
        {
         "name": "ma20_scaled",
         "rawType": "float64",
         "type": "float"
        },
        {
         "name": "ma50_scaled",
         "rawType": "float64",
         "type": "float"
        },
        {
         "name": "volatility_scaled",
         "rawType": "float64",
         "type": "float"
        },
        {
         "name": "volume_ma20_scaled",
         "rawType": "float64",
         "type": "float"
        },
        {
         "name": "day_of_week_scaled",
         "rawType": "float64",
         "type": "float"
        },
        {
         "name": "month_scaled",
         "rawType": "float64",
         "type": "float"
        },
        {
         "name": "date",
         "rawType": "object",
         "type": "string"
        },
        {
         "name": "next_day_close",
         "rawType": "float64",
         "type": "float"
        },
        {
         "name": "next_day_close_scaled",
         "rawType": "float64",
         "type": "float"
        },
        {
         "name": "price_up",
         "rawType": "int64",
         "type": "integer"
        },
        {
         "name": "open_min",
         "rawType": "float64",
         "type": "float"
        },
        {
         "name": "open_max",
         "rawType": "float64",
         "type": "float"
        },
        {
         "name": "high_min",
         "rawType": "float64",
         "type": "float"
        },
        {
         "name": "high_max",
         "rawType": "float64",
         "type": "float"
        },
        {
         "name": "low_min",
         "rawType": "float64",
         "type": "float"
        },
        {
         "name": "low_max",
         "rawType": "float64",
         "type": "float"
        },
        {
         "name": "close_min",
         "rawType": "float64",
         "type": "float"
        },
        {
         "name": "close_max",
         "rawType": "float64",
         "type": "float"
        },
        {
         "name": "volume_min",
         "rawType": "float64",
         "type": "float"
        },
        {
         "name": "volume_max",
         "rawType": "float64",
         "type": "float"
        },
        {
         "name": "return_min",
         "rawType": "float64",
         "type": "float"
        },
        {
         "name": "return_max",
         "rawType": "float64",
         "type": "float"
        },
        {
         "name": "ma5_min",
         "rawType": "float64",
         "type": "float"
        },
        {
         "name": "ma5_max",
         "rawType": "float64",
         "type": "float"
        },
        {
         "name": "ma20_min",
         "rawType": "float64",
         "type": "float"
        },
        {
         "name": "ma20_max",
         "rawType": "float64",
         "type": "float"
        },
        {
         "name": "ma50_min",
         "rawType": "float64",
         "type": "float"
        },
        {
         "name": "ma50_max",
         "rawType": "float64",
         "type": "float"
        },
        {
         "name": "volatility_min",
         "rawType": "float64",
         "type": "float"
        },
        {
         "name": "volatility_max",
         "rawType": "float64",
         "type": "float"
        },
        {
         "name": "volume_ma20_min",
         "rawType": "float64",
         "type": "float"
        },
        {
         "name": "volume_ma20_max",
         "rawType": "float64",
         "type": "float"
        },
        {
         "name": "day_of_week_min",
         "rawType": "float64",
         "type": "float"
        },
        {
         "name": "day_of_week_max",
         "rawType": "float64",
         "type": "float"
        },
        {
         "name": "month_min",
         "rawType": "float64",
         "type": "float"
        },
        {
         "name": "month_max",
         "rawType": "float64",
         "type": "float"
        },
        {
         "name": "close_original",
         "rawType": "float64",
         "type": "float"
        },
        {
         "name": "next_month_close_scaled",
         "rawType": "float64",
         "type": "float"
        },
        {
         "name": "next_month_close_original",
         "rawType": "float64",
         "type": "float"
        },
        {
         "name": "price_up_month",
         "rawType": "int64",
         "type": "integer"
        }
       ],
       "conversionMethod": "pd.DataFrame",
       "ref": "ceffd1f2-c4fb-4d20-b122-fe88af7e7ae9",
       "rows": [
        [
         "0",
         "0.0324206696511711",
         "0.0315899007076642",
         "0.0327275705218503",
         "0.0318596036212941",
         "0.1846928621838087",
         "0.5390547441350431",
         "0.0333724411707648",
         "0.0333505295496325",
         "0.0309972212770311",
         "0.0890936764311381",
         "0.4867818018385527",
         "0.5",
         "0.3636363636363636",
         "2015-05-13 00:00:00-04:00",
         "28.918397903442383",
         "0.0346291898455336",
         "1",
         "20.596724324562143",
         "257.90642916266114",
         "20.97890756798759",
         "259.81433504408284",
         "20.475438954996395",
         "257.3470466563245",
         "20.67453956604004",
         "258.7355041503906",
         "23234700.0",
         "648825200.0",
         "-0.1286470984548489",
         "0.1532885292613965",
         "21.03520812988281",
         "256.23228149414064",
         "21.47980070114136",
         "249.71044921875",
         "21.90075462341309",
         "240.48580993652345",
         "0.0048154573540499",
         "0.0680042232593866",
         "37800500.0",
         "310295280.0",
         "0.0",
         "4.0",
         "1.0",
         "12.0",
         "28.259067535400384",
         "0.0353572392121461",
         "29.091718037923165",
         "1"
        ],
        [
         "1",
         "0.0336114101824522",
         "0.0332425152304904",
         "0.0339489149349864",
         "0.0346291898455336",
         "0.2518888953716528",
         "0.5390547441350431",
         "0.0333724411707648",
         "0.0333505295496325",
         "0.0309972212770311",
         "0.0890936764311381",
         "0.4867818018385527",
         "0.75",
         "0.3636363636363636",
         "2015-05-14 00:00:00-04:00",
         "28.87802505493164",
         "0.0344595994694666",
         "0",
         "20.596724324562143",
         "257.90642916266114",
         "20.97890756798759",
         "259.81433504408284",
         "20.475438954996395",
         "257.3470466563245",
         "20.67453956604004",
         "258.7355041503906",
         "23234700.0",
         "648825200.0",
         "-0.1286470984548489",
         "0.1532885292613965",
         "21.03520812988281",
         "256.23228149414064",
         "21.47980070114136",
         "249.71044921875",
         "21.90075462341309",
         "240.48580993652345",
         "0.0048154573540499",
         "0.0680042232593866",
         "37800500.0",
         "310295280.0",
         "0.0",
         "4.0",
         "1.0",
         "12.0",
         "28.91839790344237",
         "0.0352661750018826",
         "29.070039204188745",
         "1"
        ],
        [
         "2",
         "0.0351801017548629",
         "0.0337495379272262",
         "0.0349429838801358",
         "0.0344595994694666",
         "0.2071599552742568",
         "0.4513477202950413",
         "0.0333724411707648",
         "0.0333505295496325",
         "0.0309972212770311",
         "0.0890936764311381",
         "0.4867818018385527",
         "1.0",
         "0.3636363636363636",
         "2015-05-15 00:00:00-04:00",
         "29.19647979736328",
         "0.0357973019482735",
         "1",
         "20.596724324562143",
         "257.90642916266114",
         "20.97890756798759",
         "259.81433504408284",
         "20.475438954996395",
         "257.3470466563245",
         "20.67453956604004",
         "258.7355041503906",
         "23234700.0",
         "648825200.0",
         "-0.1286470984548489",
         "0.1532885292613965",
         "21.03520812988281",
         "256.23228149414064",
         "21.47980070114136",
         "249.71044921875",
         "21.90075462341309",
         "240.48580993652345",
         "0.0048154573540499",
         "0.0680042232593866",
         "37800500.0",
         "310295280.0",
         "0.0",
         "4.0",
         "1.0",
         "12.0",
         "28.878025054931637",
         "0.035213691708453",
         "29.05754498073032",
         "1"
        ],
        [
         "3",
         "0.0345280630423302",
         "0.0349044952336956",
         "0.0350850139049863",
         "0.0357973019482735",
         "0.2882027460455361",
         "0.4954133678087281",
         "0.0333724411707648",
         "0.0333505295496325",
         "0.0309972212770311",
         "0.0890936764311381",
         "0.4867818018385527",
         "0.0",
         "0.3636363636363636",
         "2015-05-18 00:00:00-04:00",
         "29.169572830200195",
         "0.0356842764163049",
         "0",
         "20.596724324562143",
         "257.90642916266114",
         "20.97890756798759",
         "259.81433504408284",
         "20.475438954996395",
         "257.3470466563245",
         "20.67453956604004",
         "258.7355041503906",
         "23234700.0",
         "648825200.0",
         "-0.1286470984548489",
         "0.1532885292613965",
         "21.03520812988281",
         "256.23228149414064",
         "21.47980070114136",
         "249.71044921875",
         "21.90075462341309",
         "240.48580993652345",
         "0.0048154573540499",
         "0.0680042232593866",
         "37800500.0",
         "310295280.0",
         "0.0",
         "4.0",
         "1.0",
         "12.0",
         "29.19647979736328",
         "0.0350840500150776",
         "29.02668235415503",
         "0"
        ],
        [
         "4",
         "0.0367110521858641",
         "0.0350547481908395",
         "0.0362968788785469",
         "0.0356842764163049",
         "0.2482424205610539",
         "0.4530307748261205",
         "0.0333724411707648",
         "0.0333505295496325",
         "0.0309972212770311",
         "0.0890936764311381",
         "0.4867818018385527",
         "0.25",
         "0.3636363636363636",
         "2015-05-19 00:00:00-04:00",
         "29.16732788085937",
         "0.035674846271616",
         "0",
         "20.596724324562143",
         "257.90642916266114",
         "20.97890756798759",
         "259.81433504408284",
         "20.475438954996395",
         "257.3470466563245",
         "20.67453956604004",
         "258.7355041503906",
         "23234700.0",
         "648825200.0",
         "-0.1286470984548489",
         "0.1532885292613965",
         "21.03520812988281",
         "256.23228149414064",
         "21.47980070114136",
         "249.71044921875",
         "21.90075462341309",
         "240.48580993652345",
         "0.0048154573540499",
         "0.0680042232593866",
         "37800500.0",
         "310295280.0",
         "0.0",
         "4.0",
         "1.0",
         "12.0",
         "29.169572830200178",
         "0.0349858081816385",
         "29.003294808523982",
         "0"
        ]
       ],
       "shape": {
        "columns": 47,
        "rows": 5
       }
      },
      "text/html": [
       "<div>\n",
       "<style scoped>\n",
       "    .dataframe tbody tr th:only-of-type {\n",
       "        vertical-align: middle;\n",
       "    }\n",
       "\n",
       "    .dataframe tbody tr th {\n",
       "        vertical-align: top;\n",
       "    }\n",
       "\n",
       "    .dataframe thead th {\n",
       "        text-align: right;\n",
       "    }\n",
       "</style>\n",
       "<table border=\"1\" class=\"dataframe\">\n",
       "  <thead>\n",
       "    <tr style=\"text-align: right;\">\n",
       "      <th></th>\n",
       "      <th>open_scaled</th>\n",
       "      <th>high_scaled</th>\n",
       "      <th>low_scaled</th>\n",
       "      <th>close_scaled</th>\n",
       "      <th>volume_scaled</th>\n",
       "      <th>return_scaled</th>\n",
       "      <th>ma5_scaled</th>\n",
       "      <th>ma20_scaled</th>\n",
       "      <th>ma50_scaled</th>\n",
       "      <th>volatility_scaled</th>\n",
       "      <th>...</th>\n",
       "      <th>volume_ma20_min</th>\n",
       "      <th>volume_ma20_max</th>\n",
       "      <th>day_of_week_min</th>\n",
       "      <th>day_of_week_max</th>\n",
       "      <th>month_min</th>\n",
       "      <th>month_max</th>\n",
       "      <th>close_original</th>\n",
       "      <th>next_month_close_scaled</th>\n",
       "      <th>next_month_close_original</th>\n",
       "      <th>price_up_month</th>\n",
       "    </tr>\n",
       "  </thead>\n",
       "  <tbody>\n",
       "    <tr>\n",
       "      <th>0</th>\n",
       "      <td>0.032421</td>\n",
       "      <td>0.031590</td>\n",
       "      <td>0.032728</td>\n",
       "      <td>0.031860</td>\n",
       "      <td>0.184693</td>\n",
       "      <td>0.539055</td>\n",
       "      <td>0.033372</td>\n",
       "      <td>0.033351</td>\n",
       "      <td>0.030997</td>\n",
       "      <td>0.089094</td>\n",
       "      <td>...</td>\n",
       "      <td>37800500.0</td>\n",
       "      <td>310295280.0</td>\n",
       "      <td>0.0</td>\n",
       "      <td>4.0</td>\n",
       "      <td>1.0</td>\n",
       "      <td>12.0</td>\n",
       "      <td>28.259068</td>\n",
       "      <td>0.035357</td>\n",
       "      <td>29.091718</td>\n",
       "      <td>1</td>\n",
       "    </tr>\n",
       "    <tr>\n",
       "      <th>1</th>\n",
       "      <td>0.033611</td>\n",
       "      <td>0.033243</td>\n",
       "      <td>0.033949</td>\n",
       "      <td>0.034629</td>\n",
       "      <td>0.251889</td>\n",
       "      <td>0.539055</td>\n",
       "      <td>0.033372</td>\n",
       "      <td>0.033351</td>\n",
       "      <td>0.030997</td>\n",
       "      <td>0.089094</td>\n",
       "      <td>...</td>\n",
       "      <td>37800500.0</td>\n",
       "      <td>310295280.0</td>\n",
       "      <td>0.0</td>\n",
       "      <td>4.0</td>\n",
       "      <td>1.0</td>\n",
       "      <td>12.0</td>\n",
       "      <td>28.918398</td>\n",
       "      <td>0.035266</td>\n",
       "      <td>29.070039</td>\n",
       "      <td>1</td>\n",
       "    </tr>\n",
       "    <tr>\n",
       "      <th>2</th>\n",
       "      <td>0.035180</td>\n",
       "      <td>0.033750</td>\n",
       "      <td>0.034943</td>\n",
       "      <td>0.034460</td>\n",
       "      <td>0.207160</td>\n",
       "      <td>0.451348</td>\n",
       "      <td>0.033372</td>\n",
       "      <td>0.033351</td>\n",
       "      <td>0.030997</td>\n",
       "      <td>0.089094</td>\n",
       "      <td>...</td>\n",
       "      <td>37800500.0</td>\n",
       "      <td>310295280.0</td>\n",
       "      <td>0.0</td>\n",
       "      <td>4.0</td>\n",
       "      <td>1.0</td>\n",
       "      <td>12.0</td>\n",
       "      <td>28.878025</td>\n",
       "      <td>0.035214</td>\n",
       "      <td>29.057545</td>\n",
       "      <td>1</td>\n",
       "    </tr>\n",
       "    <tr>\n",
       "      <th>3</th>\n",
       "      <td>0.034528</td>\n",
       "      <td>0.034904</td>\n",
       "      <td>0.035085</td>\n",
       "      <td>0.035797</td>\n",
       "      <td>0.288203</td>\n",
       "      <td>0.495413</td>\n",
       "      <td>0.033372</td>\n",
       "      <td>0.033351</td>\n",
       "      <td>0.030997</td>\n",
       "      <td>0.089094</td>\n",
       "      <td>...</td>\n",
       "      <td>37800500.0</td>\n",
       "      <td>310295280.0</td>\n",
       "      <td>0.0</td>\n",
       "      <td>4.0</td>\n",
       "      <td>1.0</td>\n",
       "      <td>12.0</td>\n",
       "      <td>29.196480</td>\n",
       "      <td>0.035084</td>\n",
       "      <td>29.026682</td>\n",
       "      <td>0</td>\n",
       "    </tr>\n",
       "    <tr>\n",
       "      <th>4</th>\n",
       "      <td>0.036711</td>\n",
       "      <td>0.035055</td>\n",
       "      <td>0.036297</td>\n",
       "      <td>0.035684</td>\n",
       "      <td>0.248242</td>\n",
       "      <td>0.453031</td>\n",
       "      <td>0.033372</td>\n",
       "      <td>0.033351</td>\n",
       "      <td>0.030997</td>\n",
       "      <td>0.089094</td>\n",
       "      <td>...</td>\n",
       "      <td>37800500.0</td>\n",
       "      <td>310295280.0</td>\n",
       "      <td>0.0</td>\n",
       "      <td>4.0</td>\n",
       "      <td>1.0</td>\n",
       "      <td>12.0</td>\n",
       "      <td>29.169573</td>\n",
       "      <td>0.034986</td>\n",
       "      <td>29.003295</td>\n",
       "      <td>0</td>\n",
       "    </tr>\n",
       "  </tbody>\n",
       "</table>\n",
       "<p>5 rows × 47 columns</p>\n",
       "</div>"
      ],
      "text/plain": [
       "   open_scaled  high_scaled  low_scaled  close_scaled  volume_scaled  \\\n",
       "0     0.032421     0.031590    0.032728      0.031860       0.184693   \n",
       "1     0.033611     0.033243    0.033949      0.034629       0.251889   \n",
       "2     0.035180     0.033750    0.034943      0.034460       0.207160   \n",
       "3     0.034528     0.034904    0.035085      0.035797       0.288203   \n",
       "4     0.036711     0.035055    0.036297      0.035684       0.248242   \n",
       "\n",
       "   return_scaled  ma5_scaled  ma20_scaled  ma50_scaled  volatility_scaled  \\\n",
       "0       0.539055    0.033372     0.033351     0.030997           0.089094   \n",
       "1       0.539055    0.033372     0.033351     0.030997           0.089094   \n",
       "2       0.451348    0.033372     0.033351     0.030997           0.089094   \n",
       "3       0.495413    0.033372     0.033351     0.030997           0.089094   \n",
       "4       0.453031    0.033372     0.033351     0.030997           0.089094   \n",
       "\n",
       "   ...  volume_ma20_min  volume_ma20_max  day_of_week_min day_of_week_max  \\\n",
       "0  ...       37800500.0      310295280.0              0.0             4.0   \n",
       "1  ...       37800500.0      310295280.0              0.0             4.0   \n",
       "2  ...       37800500.0      310295280.0              0.0             4.0   \n",
       "3  ...       37800500.0      310295280.0              0.0             4.0   \n",
       "4  ...       37800500.0      310295280.0              0.0             4.0   \n",
       "\n",
       "   month_min  month_max  close_original  next_month_close_scaled  \\\n",
       "0        1.0       12.0       28.259068                 0.035357   \n",
       "1        1.0       12.0       28.918398                 0.035266   \n",
       "2        1.0       12.0       28.878025                 0.035214   \n",
       "3        1.0       12.0       29.196480                 0.035084   \n",
       "4        1.0       12.0       29.169573                 0.034986   \n",
       "\n",
       "   next_month_close_original  price_up_month  \n",
       "0                  29.091718               1  \n",
       "1                  29.070039               1  \n",
       "2                  29.057545               1  \n",
       "3                  29.026682               0  \n",
       "4                  29.003295               0  \n",
       "\n",
       "[5 rows x 47 columns]"
      ]
     },
     "metadata": {},
     "output_type": "display_data"
    },
    {
     "data": {
      "text/markdown": [
       "**Columns:**"
      ],
      "text/plain": [
       "<IPython.core.display.Markdown object>"
      ]
     },
     "metadata": {},
     "output_type": "display_data"
    },
    {
     "data": {
      "application/vnd.microsoft.datawrangler.viewer.v0+json": {
       "columns": [
        {
         "name": "index",
         "rawType": "object",
         "type": "string"
        },
        {
         "name": "Type",
         "rawType": "object",
         "type": "unknown"
        },
        {
         "name": "Non-Null Count",
         "rawType": "int64",
         "type": "integer"
        },
        {
         "name": "Null Count",
         "rawType": "int64",
         "type": "integer"
        }
       ],
       "conversionMethod": "pd.DataFrame",
       "ref": "f6c7008a-5736-4c9c-956b-1db3cc882685",
       "rows": [
        [
         "open_scaled",
         "float64",
         "2492",
         "0"
        ],
        [
         "high_scaled",
         "float64",
         "2492",
         "0"
        ],
        [
         "low_scaled",
         "float64",
         "2492",
         "0"
        ],
        [
         "close_scaled",
         "float64",
         "2492",
         "0"
        ],
        [
         "volume_scaled",
         "float64",
         "2492",
         "0"
        ],
        [
         "return_scaled",
         "float64",
         "2492",
         "0"
        ],
        [
         "ma5_scaled",
         "float64",
         "2492",
         "0"
        ],
        [
         "ma20_scaled",
         "float64",
         "2492",
         "0"
        ],
        [
         "ma50_scaled",
         "float64",
         "2492",
         "0"
        ],
        [
         "volatility_scaled",
         "float64",
         "2492",
         "0"
        ],
        [
         "volume_ma20_scaled",
         "float64",
         "2492",
         "0"
        ],
        [
         "day_of_week_scaled",
         "float64",
         "2492",
         "0"
        ],
        [
         "month_scaled",
         "float64",
         "2492",
         "0"
        ],
        [
         "date",
         "object",
         "2492",
         "0"
        ],
        [
         "next_day_close",
         "float64",
         "2492",
         "0"
        ],
        [
         "next_day_close_scaled",
         "float64",
         "2492",
         "0"
        ],
        [
         "price_up",
         "int64",
         "2492",
         "0"
        ],
        [
         "open_min",
         "float64",
         "2492",
         "0"
        ],
        [
         "open_max",
         "float64",
         "2492",
         "0"
        ],
        [
         "high_min",
         "float64",
         "2492",
         "0"
        ],
        [
         "high_max",
         "float64",
         "2492",
         "0"
        ],
        [
         "low_min",
         "float64",
         "2492",
         "0"
        ],
        [
         "low_max",
         "float64",
         "2492",
         "0"
        ],
        [
         "close_min",
         "float64",
         "2492",
         "0"
        ],
        [
         "close_max",
         "float64",
         "2492",
         "0"
        ],
        [
         "volume_min",
         "float64",
         "2492",
         "0"
        ],
        [
         "volume_max",
         "float64",
         "2492",
         "0"
        ],
        [
         "return_min",
         "float64",
         "2492",
         "0"
        ],
        [
         "return_max",
         "float64",
         "2492",
         "0"
        ],
        [
         "ma5_min",
         "float64",
         "2492",
         "0"
        ],
        [
         "ma5_max",
         "float64",
         "2492",
         "0"
        ],
        [
         "ma20_min",
         "float64",
         "2492",
         "0"
        ],
        [
         "ma20_max",
         "float64",
         "2492",
         "0"
        ],
        [
         "ma50_min",
         "float64",
         "2492",
         "0"
        ],
        [
         "ma50_max",
         "float64",
         "2492",
         "0"
        ],
        [
         "volatility_min",
         "float64",
         "2492",
         "0"
        ],
        [
         "volatility_max",
         "float64",
         "2492",
         "0"
        ],
        [
         "volume_ma20_min",
         "float64",
         "2492",
         "0"
        ],
        [
         "volume_ma20_max",
         "float64",
         "2492",
         "0"
        ],
        [
         "day_of_week_min",
         "float64",
         "2492",
         "0"
        ],
        [
         "day_of_week_max",
         "float64",
         "2492",
         "0"
        ],
        [
         "month_min",
         "float64",
         "2492",
         "0"
        ],
        [
         "month_max",
         "float64",
         "2492",
         "0"
        ],
        [
         "close_original",
         "float64",
         "2492",
         "0"
        ],
        [
         "next_month_close_scaled",
         "float64",
         "2492",
         "0"
        ],
        [
         "next_month_close_original",
         "float64",
         "2492",
         "0"
        ],
        [
         "price_up_month",
         "int64",
         "2492",
         "0"
        ]
       ],
       "shape": {
        "columns": 3,
        "rows": 47
       }
      },
      "text/html": [
       "<div>\n",
       "<style scoped>\n",
       "    .dataframe tbody tr th:only-of-type {\n",
       "        vertical-align: middle;\n",
       "    }\n",
       "\n",
       "    .dataframe tbody tr th {\n",
       "        vertical-align: top;\n",
       "    }\n",
       "\n",
       "    .dataframe thead th {\n",
       "        text-align: right;\n",
       "    }\n",
       "</style>\n",
       "<table border=\"1\" class=\"dataframe\">\n",
       "  <thead>\n",
       "    <tr style=\"text-align: right;\">\n",
       "      <th></th>\n",
       "      <th>Type</th>\n",
       "      <th>Non-Null Count</th>\n",
       "      <th>Null Count</th>\n",
       "    </tr>\n",
       "  </thead>\n",
       "  <tbody>\n",
       "    <tr>\n",
       "      <th>open_scaled</th>\n",
       "      <td>float64</td>\n",
       "      <td>2492</td>\n",
       "      <td>0</td>\n",
       "    </tr>\n",
       "    <tr>\n",
       "      <th>high_scaled</th>\n",
       "      <td>float64</td>\n",
       "      <td>2492</td>\n",
       "      <td>0</td>\n",
       "    </tr>\n",
       "    <tr>\n",
       "      <th>low_scaled</th>\n",
       "      <td>float64</td>\n",
       "      <td>2492</td>\n",
       "      <td>0</td>\n",
       "    </tr>\n",
       "    <tr>\n",
       "      <th>close_scaled</th>\n",
       "      <td>float64</td>\n",
       "      <td>2492</td>\n",
       "      <td>0</td>\n",
       "    </tr>\n",
       "    <tr>\n",
       "      <th>volume_scaled</th>\n",
       "      <td>float64</td>\n",
       "      <td>2492</td>\n",
       "      <td>0</td>\n",
       "    </tr>\n",
       "    <tr>\n",
       "      <th>return_scaled</th>\n",
       "      <td>float64</td>\n",
       "      <td>2492</td>\n",
       "      <td>0</td>\n",
       "    </tr>\n",
       "    <tr>\n",
       "      <th>ma5_scaled</th>\n",
       "      <td>float64</td>\n",
       "      <td>2492</td>\n",
       "      <td>0</td>\n",
       "    </tr>\n",
       "    <tr>\n",
       "      <th>ma20_scaled</th>\n",
       "      <td>float64</td>\n",
       "      <td>2492</td>\n",
       "      <td>0</td>\n",
       "    </tr>\n",
       "    <tr>\n",
       "      <th>ma50_scaled</th>\n",
       "      <td>float64</td>\n",
       "      <td>2492</td>\n",
       "      <td>0</td>\n",
       "    </tr>\n",
       "    <tr>\n",
       "      <th>volatility_scaled</th>\n",
       "      <td>float64</td>\n",
       "      <td>2492</td>\n",
       "      <td>0</td>\n",
       "    </tr>\n",
       "    <tr>\n",
       "      <th>volume_ma20_scaled</th>\n",
       "      <td>float64</td>\n",
       "      <td>2492</td>\n",
       "      <td>0</td>\n",
       "    </tr>\n",
       "    <tr>\n",
       "      <th>day_of_week_scaled</th>\n",
       "      <td>float64</td>\n",
       "      <td>2492</td>\n",
       "      <td>0</td>\n",
       "    </tr>\n",
       "    <tr>\n",
       "      <th>month_scaled</th>\n",
       "      <td>float64</td>\n",
       "      <td>2492</td>\n",
       "      <td>0</td>\n",
       "    </tr>\n",
       "    <tr>\n",
       "      <th>date</th>\n",
       "      <td>object</td>\n",
       "      <td>2492</td>\n",
       "      <td>0</td>\n",
       "    </tr>\n",
       "    <tr>\n",
       "      <th>next_day_close</th>\n",
       "      <td>float64</td>\n",
       "      <td>2492</td>\n",
       "      <td>0</td>\n",
       "    </tr>\n",
       "    <tr>\n",
       "      <th>next_day_close_scaled</th>\n",
       "      <td>float64</td>\n",
       "      <td>2492</td>\n",
       "      <td>0</td>\n",
       "    </tr>\n",
       "    <tr>\n",
       "      <th>price_up</th>\n",
       "      <td>int64</td>\n",
       "      <td>2492</td>\n",
       "      <td>0</td>\n",
       "    </tr>\n",
       "    <tr>\n",
       "      <th>open_min</th>\n",
       "      <td>float64</td>\n",
       "      <td>2492</td>\n",
       "      <td>0</td>\n",
       "    </tr>\n",
       "    <tr>\n",
       "      <th>open_max</th>\n",
       "      <td>float64</td>\n",
       "      <td>2492</td>\n",
       "      <td>0</td>\n",
       "    </tr>\n",
       "    <tr>\n",
       "      <th>high_min</th>\n",
       "      <td>float64</td>\n",
       "      <td>2492</td>\n",
       "      <td>0</td>\n",
       "    </tr>\n",
       "    <tr>\n",
       "      <th>high_max</th>\n",
       "      <td>float64</td>\n",
       "      <td>2492</td>\n",
       "      <td>0</td>\n",
       "    </tr>\n",
       "    <tr>\n",
       "      <th>low_min</th>\n",
       "      <td>float64</td>\n",
       "      <td>2492</td>\n",
       "      <td>0</td>\n",
       "    </tr>\n",
       "    <tr>\n",
       "      <th>low_max</th>\n",
       "      <td>float64</td>\n",
       "      <td>2492</td>\n",
       "      <td>0</td>\n",
       "    </tr>\n",
       "    <tr>\n",
       "      <th>close_min</th>\n",
       "      <td>float64</td>\n",
       "      <td>2492</td>\n",
       "      <td>0</td>\n",
       "    </tr>\n",
       "    <tr>\n",
       "      <th>close_max</th>\n",
       "      <td>float64</td>\n",
       "      <td>2492</td>\n",
       "      <td>0</td>\n",
       "    </tr>\n",
       "    <tr>\n",
       "      <th>volume_min</th>\n",
       "      <td>float64</td>\n",
       "      <td>2492</td>\n",
       "      <td>0</td>\n",
       "    </tr>\n",
       "    <tr>\n",
       "      <th>volume_max</th>\n",
       "      <td>float64</td>\n",
       "      <td>2492</td>\n",
       "      <td>0</td>\n",
       "    </tr>\n",
       "    <tr>\n",
       "      <th>return_min</th>\n",
       "      <td>float64</td>\n",
       "      <td>2492</td>\n",
       "      <td>0</td>\n",
       "    </tr>\n",
       "    <tr>\n",
       "      <th>return_max</th>\n",
       "      <td>float64</td>\n",
       "      <td>2492</td>\n",
       "      <td>0</td>\n",
       "    </tr>\n",
       "    <tr>\n",
       "      <th>ma5_min</th>\n",
       "      <td>float64</td>\n",
       "      <td>2492</td>\n",
       "      <td>0</td>\n",
       "    </tr>\n",
       "    <tr>\n",
       "      <th>ma5_max</th>\n",
       "      <td>float64</td>\n",
       "      <td>2492</td>\n",
       "      <td>0</td>\n",
       "    </tr>\n",
       "    <tr>\n",
       "      <th>ma20_min</th>\n",
       "      <td>float64</td>\n",
       "      <td>2492</td>\n",
       "      <td>0</td>\n",
       "    </tr>\n",
       "    <tr>\n",
       "      <th>ma20_max</th>\n",
       "      <td>float64</td>\n",
       "      <td>2492</td>\n",
       "      <td>0</td>\n",
       "    </tr>\n",
       "    <tr>\n",
       "      <th>ma50_min</th>\n",
       "      <td>float64</td>\n",
       "      <td>2492</td>\n",
       "      <td>0</td>\n",
       "    </tr>\n",
       "    <tr>\n",
       "      <th>ma50_max</th>\n",
       "      <td>float64</td>\n",
       "      <td>2492</td>\n",
       "      <td>0</td>\n",
       "    </tr>\n",
       "    <tr>\n",
       "      <th>volatility_min</th>\n",
       "      <td>float64</td>\n",
       "      <td>2492</td>\n",
       "      <td>0</td>\n",
       "    </tr>\n",
       "    <tr>\n",
       "      <th>volatility_max</th>\n",
       "      <td>float64</td>\n",
       "      <td>2492</td>\n",
       "      <td>0</td>\n",
       "    </tr>\n",
       "    <tr>\n",
       "      <th>volume_ma20_min</th>\n",
       "      <td>float64</td>\n",
       "      <td>2492</td>\n",
       "      <td>0</td>\n",
       "    </tr>\n",
       "    <tr>\n",
       "      <th>volume_ma20_max</th>\n",
       "      <td>float64</td>\n",
       "      <td>2492</td>\n",
       "      <td>0</td>\n",
       "    </tr>\n",
       "    <tr>\n",
       "      <th>day_of_week_min</th>\n",
       "      <td>float64</td>\n",
       "      <td>2492</td>\n",
       "      <td>0</td>\n",
       "    </tr>\n",
       "    <tr>\n",
       "      <th>day_of_week_max</th>\n",
       "      <td>float64</td>\n",
       "      <td>2492</td>\n",
       "      <td>0</td>\n",
       "    </tr>\n",
       "    <tr>\n",
       "      <th>month_min</th>\n",
       "      <td>float64</td>\n",
       "      <td>2492</td>\n",
       "      <td>0</td>\n",
       "    </tr>\n",
       "    <tr>\n",
       "      <th>month_max</th>\n",
       "      <td>float64</td>\n",
       "      <td>2492</td>\n",
       "      <td>0</td>\n",
       "    </tr>\n",
       "    <tr>\n",
       "      <th>close_original</th>\n",
       "      <td>float64</td>\n",
       "      <td>2492</td>\n",
       "      <td>0</td>\n",
       "    </tr>\n",
       "    <tr>\n",
       "      <th>next_month_close_scaled</th>\n",
       "      <td>float64</td>\n",
       "      <td>2492</td>\n",
       "      <td>0</td>\n",
       "    </tr>\n",
       "    <tr>\n",
       "      <th>next_month_close_original</th>\n",
       "      <td>float64</td>\n",
       "      <td>2492</td>\n",
       "      <td>0</td>\n",
       "    </tr>\n",
       "    <tr>\n",
       "      <th>price_up_month</th>\n",
       "      <td>int64</td>\n",
       "      <td>2492</td>\n",
       "      <td>0</td>\n",
       "    </tr>\n",
       "  </tbody>\n",
       "</table>\n",
       "</div>"
      ],
      "text/plain": [
       "                              Type  Non-Null Count  Null Count\n",
       "open_scaled                float64            2492           0\n",
       "high_scaled                float64            2492           0\n",
       "low_scaled                 float64            2492           0\n",
       "close_scaled               float64            2492           0\n",
       "volume_scaled              float64            2492           0\n",
       "return_scaled              float64            2492           0\n",
       "ma5_scaled                 float64            2492           0\n",
       "ma20_scaled                float64            2492           0\n",
       "ma50_scaled                float64            2492           0\n",
       "volatility_scaled          float64            2492           0\n",
       "volume_ma20_scaled         float64            2492           0\n",
       "day_of_week_scaled         float64            2492           0\n",
       "month_scaled               float64            2492           0\n",
       "date                        object            2492           0\n",
       "next_day_close             float64            2492           0\n",
       "next_day_close_scaled      float64            2492           0\n",
       "price_up                     int64            2492           0\n",
       "open_min                   float64            2492           0\n",
       "open_max                   float64            2492           0\n",
       "high_min                   float64            2492           0\n",
       "high_max                   float64            2492           0\n",
       "low_min                    float64            2492           0\n",
       "low_max                    float64            2492           0\n",
       "close_min                  float64            2492           0\n",
       "close_max                  float64            2492           0\n",
       "volume_min                 float64            2492           0\n",
       "volume_max                 float64            2492           0\n",
       "return_min                 float64            2492           0\n",
       "return_max                 float64            2492           0\n",
       "ma5_min                    float64            2492           0\n",
       "ma5_max                    float64            2492           0\n",
       "ma20_min                   float64            2492           0\n",
       "ma20_max                   float64            2492           0\n",
       "ma50_min                   float64            2492           0\n",
       "ma50_max                   float64            2492           0\n",
       "volatility_min             float64            2492           0\n",
       "volatility_max             float64            2492           0\n",
       "volume_ma20_min            float64            2492           0\n",
       "volume_ma20_max            float64            2492           0\n",
       "day_of_week_min            float64            2492           0\n",
       "day_of_week_max            float64            2492           0\n",
       "month_min                  float64            2492           0\n",
       "month_max                  float64            2492           0\n",
       "close_original             float64            2492           0\n",
       "next_month_close_scaled    float64            2492           0\n",
       "next_month_close_original  float64            2492           0\n",
       "price_up_month               int64            2492           0"
      ]
     },
     "metadata": {},
     "output_type": "display_data"
    },
    {
     "name": "stdout",
     "output_type": "stream",
     "text": [
      "\n",
      "--------------------------------------------------------------------------------\n",
      "\n"
     ]
    }
   ],
   "source": [
    "# Display LSTM initial data\n",
    "display_csv_head('lstm/initial/AAPL_lstm.csv')\n",
    "\n",
    "# Display LSTM period data\n",
    "for period in ['day', 'week', 'month']:\n",
    "    display_csv_head(f'lstm/{period}/AAPL_lstm_{period}.csv')"
   ]
  },
  {
   "cell_type": "markdown",
   "metadata": {},
   "source": [
    "## Prophet Model Data"
   ]
  },
  {
   "cell_type": "code",
   "execution_count": 9,
   "metadata": {},
   "outputs": [
    {
     "data": {
      "text/markdown": [
       "## 📊 prophet/initial/AAPL_prophet.csv"
      ],
      "text/plain": [
       "<IPython.core.display.Markdown object>"
      ]
     },
     "metadata": {},
     "output_type": "display_data"
    },
    {
     "data": {
      "text/markdown": [
       "**Shape:** 2513 rows × 14 columns"
      ],
      "text/plain": [
       "<IPython.core.display.Markdown object>"
      ]
     },
     "metadata": {},
     "output_type": "display_data"
    },
    {
     "data": {
      "application/vnd.microsoft.datawrangler.viewer.v0+json": {
       "columns": [
        {
         "name": "index",
         "rawType": "int64",
         "type": "integer"
        },
        {
         "name": "ds",
         "rawType": "object",
         "type": "string"
        },
        {
         "name": "y",
         "rawType": "float64",
         "type": "float"
        },
        {
         "name": "open",
         "rawType": "float64",
         "type": "float"
        },
        {
         "name": "high",
         "rawType": "float64",
         "type": "float"
        },
        {
         "name": "low",
         "rawType": "float64",
         "type": "float"
        },
        {
         "name": "volume",
         "rawType": "int64",
         "type": "integer"
        },
        {
         "name": "ma5",
         "rawType": "float64",
         "type": "float"
        },
        {
         "name": "ma20",
         "rawType": "float64",
         "type": "float"
        },
        {
         "name": "ma50",
         "rawType": "float64",
         "type": "float"
        },
        {
         "name": "volatility",
         "rawType": "float64",
         "type": "float"
        },
        {
         "name": "volume_ma20",
         "rawType": "float64",
         "type": "float"
        },
        {
         "name": "return",
         "rawType": "float64",
         "type": "float"
        },
        {
         "name": "next_day_y",
         "rawType": "float64",
         "type": "float"
        },
        {
         "name": "price_up",
         "rawType": "int64",
         "type": "integer"
        }
       ],
       "conversionMethod": "pd.DataFrame",
       "ref": "37e1cdf5-2481-4c9c-b828-7025dbe23f88",
       "rows": [
        [
         "0",
         "2015-05-13 00:00:00-04:00",
         "28.25906753540039",
         "28.29046387013509",
         "28.52369500743",
         "28.22767120066569",
         "138776800",
         "28.88430862426758",
         "29.091413688659667",
         "28.676283950805665",
         "0.0104451768177029",
         "170446000.0",
         "0.0233316392062845",
         "28.918397903442383",
         "1"
        ],
        [
         "1",
         "2015-05-14 00:00:00-04:00",
         "28.918397903442383",
         "28.57303815415217",
         "28.918397903442383",
         "28.516973015362268",
         "180814000",
         "28.88430862426758",
         "29.091413688659667",
         "28.676283950805665",
         "0.0104451768177029",
         "170446000.0",
         "0.0233316392062845",
         "28.87802505493164",
         "0"
        ],
        [
         "2",
         "2015-05-15 00:00:00-04:00",
         "28.87802505493164",
         "28.94530388818296",
         "29.039492885957355",
         "28.75243972456577",
         "152832000",
         "28.88430862426758",
         "29.091413688659667",
         "28.676283950805665",
         "0.0104451768177029",
         "170446000.0",
         "-0.0013960956151701",
         "29.19647979736328",
         "1"
        ],
        [
         "3",
         "2015-05-18 00:00:00-04:00",
         "29.19647979736328",
         "28.7905687737688",
         "29.31533760796462",
         "28.78608260489397",
         "203531600",
         "28.88430862426758",
         "29.091413688659667",
         "28.676283950805665",
         "0.0104451768177029",
         "170446000.0",
         "0.011027580377324",
         "29.169572830200195",
         "0"
        ],
        [
         "4",
         "2015-05-19 00:00:00-04:00",
         "29.169572830200195",
         "29.308613283085617",
         "29.351223337213625",
         "29.07313900949819",
         "178532800",
         "28.88430862426758",
         "29.091413688659667",
         "28.676283950805665",
         "0.0104451768177029",
         "170446000.0",
         "-0.0009215825794696",
         "29.16732788085937",
         "0"
        ]
       ],
       "shape": {
        "columns": 14,
        "rows": 5
       }
      },
      "text/html": [
       "<div>\n",
       "<style scoped>\n",
       "    .dataframe tbody tr th:only-of-type {\n",
       "        vertical-align: middle;\n",
       "    }\n",
       "\n",
       "    .dataframe tbody tr th {\n",
       "        vertical-align: top;\n",
       "    }\n",
       "\n",
       "    .dataframe thead th {\n",
       "        text-align: right;\n",
       "    }\n",
       "</style>\n",
       "<table border=\"1\" class=\"dataframe\">\n",
       "  <thead>\n",
       "    <tr style=\"text-align: right;\">\n",
       "      <th></th>\n",
       "      <th>ds</th>\n",
       "      <th>y</th>\n",
       "      <th>open</th>\n",
       "      <th>high</th>\n",
       "      <th>low</th>\n",
       "      <th>volume</th>\n",
       "      <th>ma5</th>\n",
       "      <th>ma20</th>\n",
       "      <th>ma50</th>\n",
       "      <th>volatility</th>\n",
       "      <th>volume_ma20</th>\n",
       "      <th>return</th>\n",
       "      <th>next_day_y</th>\n",
       "      <th>price_up</th>\n",
       "    </tr>\n",
       "  </thead>\n",
       "  <tbody>\n",
       "    <tr>\n",
       "      <th>0</th>\n",
       "      <td>2015-05-13 00:00:00-04:00</td>\n",
       "      <td>28.259068</td>\n",
       "      <td>28.290464</td>\n",
       "      <td>28.523695</td>\n",
       "      <td>28.227671</td>\n",
       "      <td>138776800</td>\n",
       "      <td>28.884309</td>\n",
       "      <td>29.091414</td>\n",
       "      <td>28.676284</td>\n",
       "      <td>0.010445</td>\n",
       "      <td>170446000.0</td>\n",
       "      <td>0.023332</td>\n",
       "      <td>28.918398</td>\n",
       "      <td>1</td>\n",
       "    </tr>\n",
       "    <tr>\n",
       "      <th>1</th>\n",
       "      <td>2015-05-14 00:00:00-04:00</td>\n",
       "      <td>28.918398</td>\n",
       "      <td>28.573038</td>\n",
       "      <td>28.918398</td>\n",
       "      <td>28.516973</td>\n",
       "      <td>180814000</td>\n",
       "      <td>28.884309</td>\n",
       "      <td>29.091414</td>\n",
       "      <td>28.676284</td>\n",
       "      <td>0.010445</td>\n",
       "      <td>170446000.0</td>\n",
       "      <td>0.023332</td>\n",
       "      <td>28.878025</td>\n",
       "      <td>0</td>\n",
       "    </tr>\n",
       "    <tr>\n",
       "      <th>2</th>\n",
       "      <td>2015-05-15 00:00:00-04:00</td>\n",
       "      <td>28.878025</td>\n",
       "      <td>28.945304</td>\n",
       "      <td>29.039493</td>\n",
       "      <td>28.752440</td>\n",
       "      <td>152832000</td>\n",
       "      <td>28.884309</td>\n",
       "      <td>29.091414</td>\n",
       "      <td>28.676284</td>\n",
       "      <td>0.010445</td>\n",
       "      <td>170446000.0</td>\n",
       "      <td>-0.001396</td>\n",
       "      <td>29.196480</td>\n",
       "      <td>1</td>\n",
       "    </tr>\n",
       "    <tr>\n",
       "      <th>3</th>\n",
       "      <td>2015-05-18 00:00:00-04:00</td>\n",
       "      <td>29.196480</td>\n",
       "      <td>28.790569</td>\n",
       "      <td>29.315338</td>\n",
       "      <td>28.786083</td>\n",
       "      <td>203531600</td>\n",
       "      <td>28.884309</td>\n",
       "      <td>29.091414</td>\n",
       "      <td>28.676284</td>\n",
       "      <td>0.010445</td>\n",
       "      <td>170446000.0</td>\n",
       "      <td>0.011028</td>\n",
       "      <td>29.169573</td>\n",
       "      <td>0</td>\n",
       "    </tr>\n",
       "    <tr>\n",
       "      <th>4</th>\n",
       "      <td>2015-05-19 00:00:00-04:00</td>\n",
       "      <td>29.169573</td>\n",
       "      <td>29.308613</td>\n",
       "      <td>29.351223</td>\n",
       "      <td>29.073139</td>\n",
       "      <td>178532800</td>\n",
       "      <td>28.884309</td>\n",
       "      <td>29.091414</td>\n",
       "      <td>28.676284</td>\n",
       "      <td>0.010445</td>\n",
       "      <td>170446000.0</td>\n",
       "      <td>-0.000922</td>\n",
       "      <td>29.167328</td>\n",
       "      <td>0</td>\n",
       "    </tr>\n",
       "  </tbody>\n",
       "</table>\n",
       "</div>"
      ],
      "text/plain": [
       "                          ds          y       open       high        low  \\\n",
       "0  2015-05-13 00:00:00-04:00  28.259068  28.290464  28.523695  28.227671   \n",
       "1  2015-05-14 00:00:00-04:00  28.918398  28.573038  28.918398  28.516973   \n",
       "2  2015-05-15 00:00:00-04:00  28.878025  28.945304  29.039493  28.752440   \n",
       "3  2015-05-18 00:00:00-04:00  29.196480  28.790569  29.315338  28.786083   \n",
       "4  2015-05-19 00:00:00-04:00  29.169573  29.308613  29.351223  29.073139   \n",
       "\n",
       "      volume        ma5       ma20       ma50  volatility  volume_ma20  \\\n",
       "0  138776800  28.884309  29.091414  28.676284    0.010445  170446000.0   \n",
       "1  180814000  28.884309  29.091414  28.676284    0.010445  170446000.0   \n",
       "2  152832000  28.884309  29.091414  28.676284    0.010445  170446000.0   \n",
       "3  203531600  28.884309  29.091414  28.676284    0.010445  170446000.0   \n",
       "4  178532800  28.884309  29.091414  28.676284    0.010445  170446000.0   \n",
       "\n",
       "     return  next_day_y  price_up  \n",
       "0  0.023332   28.918398         1  \n",
       "1  0.023332   28.878025         0  \n",
       "2 -0.001396   29.196480         1  \n",
       "3  0.011028   29.169573         0  \n",
       "4 -0.000922   29.167328         0  "
      ]
     },
     "metadata": {},
     "output_type": "display_data"
    },
    {
     "data": {
      "text/markdown": [
       "**Columns:**"
      ],
      "text/plain": [
       "<IPython.core.display.Markdown object>"
      ]
     },
     "metadata": {},
     "output_type": "display_data"
    },
    {
     "data": {
      "application/vnd.microsoft.datawrangler.viewer.v0+json": {
       "columns": [
        {
         "name": "index",
         "rawType": "object",
         "type": "string"
        },
        {
         "name": "Type",
         "rawType": "object",
         "type": "unknown"
        },
        {
         "name": "Non-Null Count",
         "rawType": "int64",
         "type": "integer"
        },
        {
         "name": "Null Count",
         "rawType": "int64",
         "type": "integer"
        }
       ],
       "conversionMethod": "pd.DataFrame",
       "ref": "50ca272e-5510-43b7-8156-a3cfcd82a2b6",
       "rows": [
        [
         "ds",
         "object",
         "2513",
         "0"
        ],
        [
         "y",
         "float64",
         "2513",
         "0"
        ],
        [
         "open",
         "float64",
         "2513",
         "0"
        ],
        [
         "high",
         "float64",
         "2513",
         "0"
        ],
        [
         "low",
         "float64",
         "2513",
         "0"
        ],
        [
         "volume",
         "int64",
         "2513",
         "0"
        ],
        [
         "ma5",
         "float64",
         "2513",
         "0"
        ],
        [
         "ma20",
         "float64",
         "2513",
         "0"
        ],
        [
         "ma50",
         "float64",
         "2513",
         "0"
        ],
        [
         "volatility",
         "float64",
         "2513",
         "0"
        ],
        [
         "volume_ma20",
         "float64",
         "2513",
         "0"
        ],
        [
         "return",
         "float64",
         "2513",
         "0"
        ],
        [
         "next_day_y",
         "float64",
         "2513",
         "0"
        ],
        [
         "price_up",
         "int64",
         "2513",
         "0"
        ]
       ],
       "shape": {
        "columns": 3,
        "rows": 14
       }
      },
      "text/html": [
       "<div>\n",
       "<style scoped>\n",
       "    .dataframe tbody tr th:only-of-type {\n",
       "        vertical-align: middle;\n",
       "    }\n",
       "\n",
       "    .dataframe tbody tr th {\n",
       "        vertical-align: top;\n",
       "    }\n",
       "\n",
       "    .dataframe thead th {\n",
       "        text-align: right;\n",
       "    }\n",
       "</style>\n",
       "<table border=\"1\" class=\"dataframe\">\n",
       "  <thead>\n",
       "    <tr style=\"text-align: right;\">\n",
       "      <th></th>\n",
       "      <th>Type</th>\n",
       "      <th>Non-Null Count</th>\n",
       "      <th>Null Count</th>\n",
       "    </tr>\n",
       "  </thead>\n",
       "  <tbody>\n",
       "    <tr>\n",
       "      <th>ds</th>\n",
       "      <td>object</td>\n",
       "      <td>2513</td>\n",
       "      <td>0</td>\n",
       "    </tr>\n",
       "    <tr>\n",
       "      <th>y</th>\n",
       "      <td>float64</td>\n",
       "      <td>2513</td>\n",
       "      <td>0</td>\n",
       "    </tr>\n",
       "    <tr>\n",
       "      <th>open</th>\n",
       "      <td>float64</td>\n",
       "      <td>2513</td>\n",
       "      <td>0</td>\n",
       "    </tr>\n",
       "    <tr>\n",
       "      <th>high</th>\n",
       "      <td>float64</td>\n",
       "      <td>2513</td>\n",
       "      <td>0</td>\n",
       "    </tr>\n",
       "    <tr>\n",
       "      <th>low</th>\n",
       "      <td>float64</td>\n",
       "      <td>2513</td>\n",
       "      <td>0</td>\n",
       "    </tr>\n",
       "    <tr>\n",
       "      <th>volume</th>\n",
       "      <td>int64</td>\n",
       "      <td>2513</td>\n",
       "      <td>0</td>\n",
       "    </tr>\n",
       "    <tr>\n",
       "      <th>ma5</th>\n",
       "      <td>float64</td>\n",
       "      <td>2513</td>\n",
       "      <td>0</td>\n",
       "    </tr>\n",
       "    <tr>\n",
       "      <th>ma20</th>\n",
       "      <td>float64</td>\n",
       "      <td>2513</td>\n",
       "      <td>0</td>\n",
       "    </tr>\n",
       "    <tr>\n",
       "      <th>ma50</th>\n",
       "      <td>float64</td>\n",
       "      <td>2513</td>\n",
       "      <td>0</td>\n",
       "    </tr>\n",
       "    <tr>\n",
       "      <th>volatility</th>\n",
       "      <td>float64</td>\n",
       "      <td>2513</td>\n",
       "      <td>0</td>\n",
       "    </tr>\n",
       "    <tr>\n",
       "      <th>volume_ma20</th>\n",
       "      <td>float64</td>\n",
       "      <td>2513</td>\n",
       "      <td>0</td>\n",
       "    </tr>\n",
       "    <tr>\n",
       "      <th>return</th>\n",
       "      <td>float64</td>\n",
       "      <td>2513</td>\n",
       "      <td>0</td>\n",
       "    </tr>\n",
       "    <tr>\n",
       "      <th>next_day_y</th>\n",
       "      <td>float64</td>\n",
       "      <td>2513</td>\n",
       "      <td>0</td>\n",
       "    </tr>\n",
       "    <tr>\n",
       "      <th>price_up</th>\n",
       "      <td>int64</td>\n",
       "      <td>2513</td>\n",
       "      <td>0</td>\n",
       "    </tr>\n",
       "  </tbody>\n",
       "</table>\n",
       "</div>"
      ],
      "text/plain": [
       "                Type  Non-Null Count  Null Count\n",
       "ds            object            2513           0\n",
       "y            float64            2513           0\n",
       "open         float64            2513           0\n",
       "high         float64            2513           0\n",
       "low          float64            2513           0\n",
       "volume         int64            2513           0\n",
       "ma5          float64            2513           0\n",
       "ma20         float64            2513           0\n",
       "ma50         float64            2513           0\n",
       "volatility   float64            2513           0\n",
       "volume_ma20  float64            2513           0\n",
       "return       float64            2513           0\n",
       "next_day_y   float64            2513           0\n",
       "price_up       int64            2513           0"
      ]
     },
     "metadata": {},
     "output_type": "display_data"
    },
    {
     "name": "stdout",
     "output_type": "stream",
     "text": [
      "\n",
      "--------------------------------------------------------------------------------\n",
      "\n"
     ]
    },
    {
     "data": {
      "text/markdown": [
       "## 📊 prophet/day/AAPL_prophet_day.csv"
      ],
      "text/plain": [
       "<IPython.core.display.Markdown object>"
      ]
     },
     "metadata": {},
     "output_type": "display_data"
    },
    {
     "data": {
      "text/markdown": [
       "**Shape:** 2513 rows × 2 columns"
      ],
      "text/plain": [
       "<IPython.core.display.Markdown object>"
      ]
     },
     "metadata": {},
     "output_type": "display_data"
    },
    {
     "data": {
      "application/vnd.microsoft.datawrangler.viewer.v0+json": {
       "columns": [
        {
         "name": "index",
         "rawType": "int64",
         "type": "integer"
        },
        {
         "name": "ds",
         "rawType": "object",
         "type": "string"
        },
        {
         "name": "y",
         "rawType": "float64",
         "type": "float"
        }
       ],
       "conversionMethod": "pd.DataFrame",
       "ref": "b6bb5edf-08a4-4c59-8ab9-ded8ee02ed6c",
       "rows": [
        [
         "0",
         "2015-05-13 00:00:00-04:00",
         "28.25906753540039"
        ],
        [
         "1",
         "2015-05-14 00:00:00-04:00",
         "28.918397903442383"
        ],
        [
         "2",
         "2015-05-15 00:00:00-04:00",
         "28.87802505493164"
        ],
        [
         "3",
         "2015-05-18 00:00:00-04:00",
         "29.19647979736328"
        ],
        [
         "4",
         "2015-05-19 00:00:00-04:00",
         "29.169572830200195"
        ]
       ],
       "shape": {
        "columns": 2,
        "rows": 5
       }
      },
      "text/html": [
       "<div>\n",
       "<style scoped>\n",
       "    .dataframe tbody tr th:only-of-type {\n",
       "        vertical-align: middle;\n",
       "    }\n",
       "\n",
       "    .dataframe tbody tr th {\n",
       "        vertical-align: top;\n",
       "    }\n",
       "\n",
       "    .dataframe thead th {\n",
       "        text-align: right;\n",
       "    }\n",
       "</style>\n",
       "<table border=\"1\" class=\"dataframe\">\n",
       "  <thead>\n",
       "    <tr style=\"text-align: right;\">\n",
       "      <th></th>\n",
       "      <th>ds</th>\n",
       "      <th>y</th>\n",
       "    </tr>\n",
       "  </thead>\n",
       "  <tbody>\n",
       "    <tr>\n",
       "      <th>0</th>\n",
       "      <td>2015-05-13 00:00:00-04:00</td>\n",
       "      <td>28.259068</td>\n",
       "    </tr>\n",
       "    <tr>\n",
       "      <th>1</th>\n",
       "      <td>2015-05-14 00:00:00-04:00</td>\n",
       "      <td>28.918398</td>\n",
       "    </tr>\n",
       "    <tr>\n",
       "      <th>2</th>\n",
       "      <td>2015-05-15 00:00:00-04:00</td>\n",
       "      <td>28.878025</td>\n",
       "    </tr>\n",
       "    <tr>\n",
       "      <th>3</th>\n",
       "      <td>2015-05-18 00:00:00-04:00</td>\n",
       "      <td>29.196480</td>\n",
       "    </tr>\n",
       "    <tr>\n",
       "      <th>4</th>\n",
       "      <td>2015-05-19 00:00:00-04:00</td>\n",
       "      <td>29.169573</td>\n",
       "    </tr>\n",
       "  </tbody>\n",
       "</table>\n",
       "</div>"
      ],
      "text/plain": [
       "                          ds          y\n",
       "0  2015-05-13 00:00:00-04:00  28.259068\n",
       "1  2015-05-14 00:00:00-04:00  28.918398\n",
       "2  2015-05-15 00:00:00-04:00  28.878025\n",
       "3  2015-05-18 00:00:00-04:00  29.196480\n",
       "4  2015-05-19 00:00:00-04:00  29.169573"
      ]
     },
     "metadata": {},
     "output_type": "display_data"
    },
    {
     "data": {
      "text/markdown": [
       "**Columns:**"
      ],
      "text/plain": [
       "<IPython.core.display.Markdown object>"
      ]
     },
     "metadata": {},
     "output_type": "display_data"
    },
    {
     "data": {
      "application/vnd.microsoft.datawrangler.viewer.v0+json": {
       "columns": [
        {
         "name": "index",
         "rawType": "object",
         "type": "string"
        },
        {
         "name": "Type",
         "rawType": "object",
         "type": "unknown"
        },
        {
         "name": "Non-Null Count",
         "rawType": "int64",
         "type": "integer"
        },
        {
         "name": "Null Count",
         "rawType": "int64",
         "type": "integer"
        }
       ],
       "conversionMethod": "pd.DataFrame",
       "ref": "bf5020f3-34e2-4ffa-b94c-785fc4c92e99",
       "rows": [
        [
         "ds",
         "object",
         "2513",
         "0"
        ],
        [
         "y",
         "float64",
         "2513",
         "0"
        ]
       ],
       "shape": {
        "columns": 3,
        "rows": 2
       }
      },
      "text/html": [
       "<div>\n",
       "<style scoped>\n",
       "    .dataframe tbody tr th:only-of-type {\n",
       "        vertical-align: middle;\n",
       "    }\n",
       "\n",
       "    .dataframe tbody tr th {\n",
       "        vertical-align: top;\n",
       "    }\n",
       "\n",
       "    .dataframe thead th {\n",
       "        text-align: right;\n",
       "    }\n",
       "</style>\n",
       "<table border=\"1\" class=\"dataframe\">\n",
       "  <thead>\n",
       "    <tr style=\"text-align: right;\">\n",
       "      <th></th>\n",
       "      <th>Type</th>\n",
       "      <th>Non-Null Count</th>\n",
       "      <th>Null Count</th>\n",
       "    </tr>\n",
       "  </thead>\n",
       "  <tbody>\n",
       "    <tr>\n",
       "      <th>ds</th>\n",
       "      <td>object</td>\n",
       "      <td>2513</td>\n",
       "      <td>0</td>\n",
       "    </tr>\n",
       "    <tr>\n",
       "      <th>y</th>\n",
       "      <td>float64</td>\n",
       "      <td>2513</td>\n",
       "      <td>0</td>\n",
       "    </tr>\n",
       "  </tbody>\n",
       "</table>\n",
       "</div>"
      ],
      "text/plain": [
       "       Type  Non-Null Count  Null Count\n",
       "ds   object            2513           0\n",
       "y   float64            2513           0"
      ]
     },
     "metadata": {},
     "output_type": "display_data"
    },
    {
     "name": "stdout",
     "output_type": "stream",
     "text": [
      "\n",
      "--------------------------------------------------------------------------------\n",
      "\n"
     ]
    },
    {
     "data": {
      "text/markdown": [
       "## 📊 prophet/week/AAPL_prophet_week.csv"
      ],
      "text/plain": [
       "<IPython.core.display.Markdown object>"
      ]
     },
     "metadata": {},
     "output_type": "display_data"
    },
    {
     "data": {
      "text/markdown": [
       "**Shape:** 2504 rows × 2 columns"
      ],
      "text/plain": [
       "<IPython.core.display.Markdown object>"
      ]
     },
     "metadata": {},
     "output_type": "display_data"
    },
    {
     "data": {
      "application/vnd.microsoft.datawrangler.viewer.v0+json": {
       "columns": [
        {
         "name": "index",
         "rawType": "int64",
         "type": "integer"
        },
        {
         "name": "ds",
         "rawType": "object",
         "type": "string"
        },
        {
         "name": "y",
         "rawType": "float64",
         "type": "float"
        }
       ],
       "conversionMethod": "pd.DataFrame",
       "ref": "fda9aafb-b683-4253-ba45-e524c3a26b70",
       "rows": [
        [
         "0",
         "2015-05-19 00:00:00-04:00",
         "29.407283782958984"
        ],
        [
         "1",
         "2015-05-20 00:00:00-04:00",
         "29.484429168701173"
        ],
        [
         "2",
         "2015-05-21 00:00:00-04:00",
         "29.4346435546875"
        ],
        [
         "3",
         "2015-05-22 00:00:00-04:00",
         "29.34493980407715"
        ],
        [
         "4",
         "2015-05-26 00:00:00-04:00",
         "29.360189819335936"
        ]
       ],
       "shape": {
        "columns": 2,
        "rows": 5
       }
      },
      "text/html": [
       "<div>\n",
       "<style scoped>\n",
       "    .dataframe tbody tr th:only-of-type {\n",
       "        vertical-align: middle;\n",
       "    }\n",
       "\n",
       "    .dataframe tbody tr th {\n",
       "        vertical-align: top;\n",
       "    }\n",
       "\n",
       "    .dataframe thead th {\n",
       "        text-align: right;\n",
       "    }\n",
       "</style>\n",
       "<table border=\"1\" class=\"dataframe\">\n",
       "  <thead>\n",
       "    <tr style=\"text-align: right;\">\n",
       "      <th></th>\n",
       "      <th>ds</th>\n",
       "      <th>y</th>\n",
       "    </tr>\n",
       "  </thead>\n",
       "  <tbody>\n",
       "    <tr>\n",
       "      <th>0</th>\n",
       "      <td>2015-05-19 00:00:00-04:00</td>\n",
       "      <td>29.407284</td>\n",
       "    </tr>\n",
       "    <tr>\n",
       "      <th>1</th>\n",
       "      <td>2015-05-20 00:00:00-04:00</td>\n",
       "      <td>29.484429</td>\n",
       "    </tr>\n",
       "    <tr>\n",
       "      <th>2</th>\n",
       "      <td>2015-05-21 00:00:00-04:00</td>\n",
       "      <td>29.434644</td>\n",
       "    </tr>\n",
       "    <tr>\n",
       "      <th>3</th>\n",
       "      <td>2015-05-22 00:00:00-04:00</td>\n",
       "      <td>29.344940</td>\n",
       "    </tr>\n",
       "    <tr>\n",
       "      <th>4</th>\n",
       "      <td>2015-05-26 00:00:00-04:00</td>\n",
       "      <td>29.360190</td>\n",
       "    </tr>\n",
       "  </tbody>\n",
       "</table>\n",
       "</div>"
      ],
      "text/plain": [
       "                          ds          y\n",
       "0  2015-05-19 00:00:00-04:00  29.407284\n",
       "1  2015-05-20 00:00:00-04:00  29.484429\n",
       "2  2015-05-21 00:00:00-04:00  29.434644\n",
       "3  2015-05-22 00:00:00-04:00  29.344940\n",
       "4  2015-05-26 00:00:00-04:00  29.360190"
      ]
     },
     "metadata": {},
     "output_type": "display_data"
    },
    {
     "data": {
      "text/markdown": [
       "**Columns:**"
      ],
      "text/plain": [
       "<IPython.core.display.Markdown object>"
      ]
     },
     "metadata": {},
     "output_type": "display_data"
    },
    {
     "data": {
      "application/vnd.microsoft.datawrangler.viewer.v0+json": {
       "columns": [
        {
         "name": "index",
         "rawType": "object",
         "type": "string"
        },
        {
         "name": "Type",
         "rawType": "object",
         "type": "unknown"
        },
        {
         "name": "Non-Null Count",
         "rawType": "int64",
         "type": "integer"
        },
        {
         "name": "Null Count",
         "rawType": "int64",
         "type": "integer"
        }
       ],
       "conversionMethod": "pd.DataFrame",
       "ref": "69a8ba76-2259-48d8-abf3-f91e0a3ffebc",
       "rows": [
        [
         "ds",
         "object",
         "2504",
         "0"
        ],
        [
         "y",
         "float64",
         "2504",
         "0"
        ]
       ],
       "shape": {
        "columns": 3,
        "rows": 2
       }
      },
      "text/html": [
       "<div>\n",
       "<style scoped>\n",
       "    .dataframe tbody tr th:only-of-type {\n",
       "        vertical-align: middle;\n",
       "    }\n",
       "\n",
       "    .dataframe tbody tr th {\n",
       "        vertical-align: top;\n",
       "    }\n",
       "\n",
       "    .dataframe thead th {\n",
       "        text-align: right;\n",
       "    }\n",
       "</style>\n",
       "<table border=\"1\" class=\"dataframe\">\n",
       "  <thead>\n",
       "    <tr style=\"text-align: right;\">\n",
       "      <th></th>\n",
       "      <th>Type</th>\n",
       "      <th>Non-Null Count</th>\n",
       "      <th>Null Count</th>\n",
       "    </tr>\n",
       "  </thead>\n",
       "  <tbody>\n",
       "    <tr>\n",
       "      <th>ds</th>\n",
       "      <td>object</td>\n",
       "      <td>2504</td>\n",
       "      <td>0</td>\n",
       "    </tr>\n",
       "    <tr>\n",
       "      <th>y</th>\n",
       "      <td>float64</td>\n",
       "      <td>2504</td>\n",
       "      <td>0</td>\n",
       "    </tr>\n",
       "  </tbody>\n",
       "</table>\n",
       "</div>"
      ],
      "text/plain": [
       "       Type  Non-Null Count  Null Count\n",
       "ds   object            2504           0\n",
       "y   float64            2504           0"
      ]
     },
     "metadata": {},
     "output_type": "display_data"
    },
    {
     "name": "stdout",
     "output_type": "stream",
     "text": [
      "\n",
      "--------------------------------------------------------------------------------\n",
      "\n"
     ]
    },
    {
     "data": {
      "text/markdown": [
       "## 📊 prophet/month/AAPL_prophet_month.csv"
      ],
      "text/plain": [
       "<IPython.core.display.Markdown object>"
      ]
     },
     "metadata": {},
     "output_type": "display_data"
    },
    {
     "data": {
      "text/markdown": [
       "**Shape:** 2472 rows × 2 columns"
      ],
      "text/plain": [
       "<IPython.core.display.Markdown object>"
      ]
     },
     "metadata": {},
     "output_type": "display_data"
    },
    {
     "data": {
      "application/vnd.microsoft.datawrangler.viewer.v0+json": {
       "columns": [
        {
         "name": "index",
         "rawType": "int64",
         "type": "integer"
        },
        {
         "name": "ds",
         "rawType": "object",
         "type": "string"
        },
        {
         "name": "y",
         "rawType": "float64",
         "type": "float"
        }
       ],
       "conversionMethod": "pd.DataFrame",
       "ref": "c1b529df-e106-43b2-b73d-c1f6379d53ce",
       "rows": [
        [
         "0",
         "2015-06-11 00:00:00-04:00",
         "28.26472845531645"
        ],
        [
         "1",
         "2015-06-12 00:00:00-04:00",
         "28.248069399879093"
        ],
        [
         "2",
         "2015-06-15 00:00:00-04:00",
         "28.24700137547084"
        ],
        [
         "3",
         "2015-06-16 00:00:00-04:00",
         "28.25671913510277"
        ],
        [
         "4",
         "2015-06-17 00:00:00-04:00",
         "28.28149477640788"
        ]
       ],
       "shape": {
        "columns": 2,
        "rows": 5
       }
      },
      "text/html": [
       "<div>\n",
       "<style scoped>\n",
       "    .dataframe tbody tr th:only-of-type {\n",
       "        vertical-align: middle;\n",
       "    }\n",
       "\n",
       "    .dataframe tbody tr th {\n",
       "        vertical-align: top;\n",
       "    }\n",
       "\n",
       "    .dataframe thead th {\n",
       "        text-align: right;\n",
       "    }\n",
       "</style>\n",
       "<table border=\"1\" class=\"dataframe\">\n",
       "  <thead>\n",
       "    <tr style=\"text-align: right;\">\n",
       "      <th></th>\n",
       "      <th>ds</th>\n",
       "      <th>y</th>\n",
       "    </tr>\n",
       "  </thead>\n",
       "  <tbody>\n",
       "    <tr>\n",
       "      <th>0</th>\n",
       "      <td>2015-06-11 00:00:00-04:00</td>\n",
       "      <td>28.264728</td>\n",
       "    </tr>\n",
       "    <tr>\n",
       "      <th>1</th>\n",
       "      <td>2015-06-12 00:00:00-04:00</td>\n",
       "      <td>28.248069</td>\n",
       "    </tr>\n",
       "    <tr>\n",
       "      <th>2</th>\n",
       "      <td>2015-06-15 00:00:00-04:00</td>\n",
       "      <td>28.247001</td>\n",
       "    </tr>\n",
       "    <tr>\n",
       "      <th>3</th>\n",
       "      <td>2015-06-16 00:00:00-04:00</td>\n",
       "      <td>28.256719</td>\n",
       "    </tr>\n",
       "    <tr>\n",
       "      <th>4</th>\n",
       "      <td>2015-06-17 00:00:00-04:00</td>\n",
       "      <td>28.281495</td>\n",
       "    </tr>\n",
       "  </tbody>\n",
       "</table>\n",
       "</div>"
      ],
      "text/plain": [
       "                          ds          y\n",
       "0  2015-06-11 00:00:00-04:00  28.264728\n",
       "1  2015-06-12 00:00:00-04:00  28.248069\n",
       "2  2015-06-15 00:00:00-04:00  28.247001\n",
       "3  2015-06-16 00:00:00-04:00  28.256719\n",
       "4  2015-06-17 00:00:00-04:00  28.281495"
      ]
     },
     "metadata": {},
     "output_type": "display_data"
    },
    {
     "data": {
      "text/markdown": [
       "**Columns:**"
      ],
      "text/plain": [
       "<IPython.core.display.Markdown object>"
      ]
     },
     "metadata": {},
     "output_type": "display_data"
    },
    {
     "data": {
      "application/vnd.microsoft.datawrangler.viewer.v0+json": {
       "columns": [
        {
         "name": "index",
         "rawType": "object",
         "type": "string"
        },
        {
         "name": "Type",
         "rawType": "object",
         "type": "unknown"
        },
        {
         "name": "Non-Null Count",
         "rawType": "int64",
         "type": "integer"
        },
        {
         "name": "Null Count",
         "rawType": "int64",
         "type": "integer"
        }
       ],
       "conversionMethod": "pd.DataFrame",
       "ref": "2954dcc2-86b6-4627-b2ec-9dadf19fe7c6",
       "rows": [
        [
         "ds",
         "object",
         "2472",
         "0"
        ],
        [
         "y",
         "float64",
         "2472",
         "0"
        ]
       ],
       "shape": {
        "columns": 3,
        "rows": 2
       }
      },
      "text/html": [
       "<div>\n",
       "<style scoped>\n",
       "    .dataframe tbody tr th:only-of-type {\n",
       "        vertical-align: middle;\n",
       "    }\n",
       "\n",
       "    .dataframe tbody tr th {\n",
       "        vertical-align: top;\n",
       "    }\n",
       "\n",
       "    .dataframe thead th {\n",
       "        text-align: right;\n",
       "    }\n",
       "</style>\n",
       "<table border=\"1\" class=\"dataframe\">\n",
       "  <thead>\n",
       "    <tr style=\"text-align: right;\">\n",
       "      <th></th>\n",
       "      <th>Type</th>\n",
       "      <th>Non-Null Count</th>\n",
       "      <th>Null Count</th>\n",
       "    </tr>\n",
       "  </thead>\n",
       "  <tbody>\n",
       "    <tr>\n",
       "      <th>ds</th>\n",
       "      <td>object</td>\n",
       "      <td>2472</td>\n",
       "      <td>0</td>\n",
       "    </tr>\n",
       "    <tr>\n",
       "      <th>y</th>\n",
       "      <td>float64</td>\n",
       "      <td>2472</td>\n",
       "      <td>0</td>\n",
       "    </tr>\n",
       "  </tbody>\n",
       "</table>\n",
       "</div>"
      ],
      "text/plain": [
       "       Type  Non-Null Count  Null Count\n",
       "ds   object            2472           0\n",
       "y   float64            2472           0"
      ]
     },
     "metadata": {},
     "output_type": "display_data"
    },
    {
     "name": "stdout",
     "output_type": "stream",
     "text": [
      "\n",
      "--------------------------------------------------------------------------------\n",
      "\n"
     ]
    }
   ],
   "source": [
    "# Display Prophet initial data\n",
    "display_csv_head('prophet/initial/AAPL_prophet.csv')\n",
    "\n",
    "# Display Prophet period data\n",
    "for period in ['day', 'week', 'month']:\n",
    "    display_csv_head(f'prophet/{period}/AAPL_prophet_{period}.csv')"
   ]
  },
  {
   "cell_type": "markdown",
   "metadata": {},
   "source": [
    "## XGBoost Model Data"
   ]
  },
  {
   "cell_type": "code",
   "execution_count": 10,
   "metadata": {},
   "outputs": [
    {
     "data": {
      "text/markdown": [
       "## 📊 xgboost/initial/AAPL_xgboost.csv"
      ],
      "text/plain": [
       "<IPython.core.display.Markdown object>"
      ]
     },
     "metadata": {},
     "output_type": "display_data"
    },
    {
     "data": {
      "text/markdown": [
       "**Shape:** 2513 rows × 38 columns"
      ],
      "text/plain": [
       "<IPython.core.display.Markdown object>"
      ]
     },
     "metadata": {},
     "output_type": "display_data"
    },
    {
     "data": {
      "application/vnd.microsoft.datawrangler.viewer.v0+json": {
       "columns": [
        {
         "name": "index",
         "rawType": "int64",
         "type": "integer"
        },
        {
         "name": "date",
         "rawType": "object",
         "type": "string"
        },
        {
         "name": "open",
         "rawType": "float64",
         "type": "float"
        },
        {
         "name": "high",
         "rawType": "float64",
         "type": "float"
        },
        {
         "name": "low",
         "rawType": "float64",
         "type": "float"
        },
        {
         "name": "close",
         "rawType": "float64",
         "type": "float"
        },
        {
         "name": "volume",
         "rawType": "float64",
         "type": "float"
        },
        {
         "name": "ma5",
         "rawType": "float64",
         "type": "float"
        },
        {
         "name": "ma20",
         "rawType": "float64",
         "type": "float"
        },
        {
         "name": "ma50",
         "rawType": "float64",
         "type": "float"
        },
        {
         "name": "volatility",
         "rawType": "float64",
         "type": "float"
        },
        {
         "name": "volume_ma20",
         "rawType": "float64",
         "type": "float"
        },
        {
         "name": "return",
         "rawType": "float64",
         "type": "float"
        },
        {
         "name": "day_of_week",
         "rawType": "float64",
         "type": "float"
        },
        {
         "name": "month",
         "rawType": "float64",
         "type": "float"
        },
        {
         "name": "day_of_month",
         "rawType": "float64",
         "type": "float"
        },
        {
         "name": "quarter",
         "rawType": "float64",
         "type": "float"
        },
        {
         "name": "is_month_start",
         "rawType": "float64",
         "type": "float"
        },
        {
         "name": "is_month_end",
         "rawType": "float64",
         "type": "float"
        },
        {
         "name": "rsi_14",
         "rawType": "float64",
         "type": "float"
        },
        {
         "name": "macd",
         "rawType": "float64",
         "type": "float"
        },
        {
         "name": "macd_signal",
         "rawType": "float64",
         "type": "float"
        },
        {
         "name": "macd_hist",
         "rawType": "float64",
         "type": "float"
        },
        {
         "name": "bb_middle",
         "rawType": "float64",
         "type": "float"
        },
        {
         "name": "bb_std",
         "rawType": "float64",
         "type": "float"
        },
        {
         "name": "bb_upper",
         "rawType": "float64",
         "type": "float"
        },
        {
         "name": "bb_lower",
         "rawType": "float64",
         "type": "float"
        },
        {
         "name": "bb_width",
         "rawType": "float64",
         "type": "float"
        },
        {
         "name": "bb_pct",
         "rawType": "float64",
         "type": "float"
        },
        {
         "name": "price_diff",
         "rawType": "float64",
         "type": "float"
        },
        {
         "name": "high_low_diff",
         "rawType": "float64",
         "type": "float"
        },
        {
         "name": "close_shift_1",
         "rawType": "float64",
         "type": "float"
        },
        {
         "name": "close_shift_2",
         "rawType": "float64",
         "type": "float"
        },
        {
         "name": "close_shift_3",
         "rawType": "float64",
         "type": "float"
        },
        {
         "name": "next_day_close",
         "rawType": "float64",
         "type": "float"
        },
        {
         "name": "price_up",
         "rawType": "int64",
         "type": "integer"
        },
        {
         "name": "pct_change_next_day",
         "rawType": "float64",
         "type": "float"
        },
        {
         "name": "close_original",
         "rawType": "float64",
         "type": "float"
        },
        {
         "name": "next_day_close_original",
         "rawType": "float64",
         "type": "float"
        }
       ],
       "conversionMethod": "pd.DataFrame",
       "ref": "be03de1f-f7fb-45d6-a324-b29d07bc37d7",
       "rows": [
        [
         "0",
         "2015-05-13 04:00:00+00:00",
         "-1.0619342438082486",
         "-1.063039561397367",
         "-1.058485944053317",
         "-1.0625648293912582",
         "0.4251223392022404",
         "-1.0522868437160255",
         "-1.044765362314209",
         "-1.0417716942249644",
         "-0.7508059330516941",
         "1.190667001529332",
         "1.2113369226457984",
         "-0.0182153781300644",
         "-0.451512699341476",
         "-0.3127404723133751",
         "-0.4618532881459772",
         "-0.1813317859753617",
         "-0.1882410503494676",
         "-3.9454601610670445e-16",
         "-0.2202117415211648",
         "-0.2376101169353792",
         "0.0054604790217281",
         "0.0",
         "0.0",
         "0.0",
         "0.0",
         "2.462368167411408e-16",
         "0.0",
         "-0.072415648634011",
         "-0.8838675222960607",
         "2.0766158653407398e-16",
         "0.0",
         "0.0",
         "28.918397903442383",
         "1",
         "-0.0013960956151701",
         "28.25906753540039",
         "28.918397903442383"
        ],
        [
         "1",
         "2015-05-14 04:00:00+00:00",
         "-1.0578015701487566",
         "-1.0573302457402094",
         "-1.0542119381520534",
         "-1.0529339207240915",
         "1.076340503871862",
         "-1.0522868437160255",
         "-1.044765362314209",
         "-1.0417716942249644",
         "-0.7508059330516941",
         "1.190667001529332",
         "1.2113369226457984",
         "0.6970228287582477",
         "-0.451512699341476",
         "-0.1986410520283124",
         "-0.4618532881459772",
         "-0.1813317859753617",
         "-0.1882410503494676",
         "-3.9454601610670445e-16",
         "-0.1969371093222014",
         "-0.2326264831536019",
         "0.0643587720252948",
         "0.0",
         "0.0",
         "0.0",
         "0.0",
         "2.462368167411408e-16",
         "0.0",
         "0.1334104095617059",
         "-0.8333395520209266",
         "-1.062423912695981",
         "0.0",
         "0.0",
         "28.87802505493164",
         "0",
         "0.011027580377324",
         "28.918397903442383",
         "28.87802505493164"
        ],
        [
         "2",
         "2015-05-15 04:00:00+00:00",
         "-1.0523571511751335",
         "-1.0555786257580386",
         "-1.050733266213053",
         "-1.053523651207453",
         "0.6428580958193431",
         "-1.0522868437160255",
         "-1.044765362314209",
         "-1.0417716942249644",
         "-0.7508059330516941",
         "1.190667001529332",
         "-0.1271944766104865",
         "1.41226103564656",
         "-0.451512699341476",
         "-0.0845416317432497",
         "-0.4618532881459772",
         "-0.1813317859753617",
         "-0.1882410503494676",
         "-3.9454601610670445e-16",
         "-0.1803924146968346",
         "-0.2250969766860354",
         "0.0944467684478387",
         "0.0",
         "0.0",
         "0.0",
         "0.0",
         "2.462368167411408e-16",
         "0.0",
         "-0.0920186584885263",
         "-0.8881679383552058",
         "-1.0527891938123073",
         "-1.0622794103981168",
         "0.0",
         "29.19647979736328",
         "1",
         "-0.0009215825794696",
         "28.87802505493164",
         "29.19647979736328"
        ],
        [
         "3",
         "2015-05-18 04:00:00+00:00",
         "-1.0546201657794605",
         "-1.0515885749978056",
         "-1.0502362424760638",
         "-1.0488719489840392",
         "1.4282695994752463",
         "-1.0522868437160255",
         "-1.044765362314209",
         "-1.0417716942249644",
         "-0.7508059330516941",
         "1.190667001529332",
         "0.5453087077779014",
         "-1.4486917919066888",
         "-0.451512699341476",
         "0.2577566291119383",
         "-0.4618532881459772",
         "-0.1813317859753617",
         "-0.1882410503494676",
         "-3.9454601610670445e-16",
         "-0.1566422456980211",
         "-0.2139879143699063",
         "0.1367511869551074",
         "0.0",
         "0.0",
         "0.0",
         "0.0",
         "2.462368167411408e-16",
         "0.0",
         "0.1664902472530612",
         "-0.7720593813635127",
         "-1.0533791576070728",
         "-1.0526409712469982",
         "-1.0621413846759282",
         "29.169572830200195",
         "0",
         "-7.696202319762424e-05",
         "29.19647979736328",
         "29.169572830200195"
        ],
        [
         "4",
         "2015-05-19 04:00:00+00:00",
         "-1.0470437194459057",
         "-1.0510694935369402",
         "-1.0459954091838128",
         "-1.04926498190929",
         "1.0410013548028387",
         "-1.0522868437160255",
         "-1.044765362314209",
         "-1.0417716942249644",
         "-0.7508059330516941",
         "1.190667001529332",
         "-0.1015087192118565",
         "-0.7334535850183767",
         "-0.451512699341476",
         "0.371856049397001",
         "-0.4618532881459772",
         "-0.1813317859753617",
         "-0.1882410503494676",
         "-3.9454601610670445e-16",
         "-0.1397088291007149",
         "-0.2014748307648802",
         "0.1533443920094332",
         "0.0",
         "0.0",
         "0.0",
         "0.0",
         "2.462368167411408e-16",
         "0.0",
         "-0.1312228330866754",
         "-0.8924674859094961",
         "-1.048725615059635",
         "-1.0532311628453068",
         "-1.0524990390218802",
         "29.16732788085937",
         "0",
         "0.0102259470261731",
         "29.169572830200195",
         "29.16732788085937"
        ]
       ],
       "shape": {
        "columns": 38,
        "rows": 5
       }
      },
      "text/html": [
       "<div>\n",
       "<style scoped>\n",
       "    .dataframe tbody tr th:only-of-type {\n",
       "        vertical-align: middle;\n",
       "    }\n",
       "\n",
       "    .dataframe tbody tr th {\n",
       "        vertical-align: top;\n",
       "    }\n",
       "\n",
       "    .dataframe thead th {\n",
       "        text-align: right;\n",
       "    }\n",
       "</style>\n",
       "<table border=\"1\" class=\"dataframe\">\n",
       "  <thead>\n",
       "    <tr style=\"text-align: right;\">\n",
       "      <th></th>\n",
       "      <th>date</th>\n",
       "      <th>open</th>\n",
       "      <th>high</th>\n",
       "      <th>low</th>\n",
       "      <th>close</th>\n",
       "      <th>volume</th>\n",
       "      <th>ma5</th>\n",
       "      <th>ma20</th>\n",
       "      <th>ma50</th>\n",
       "      <th>volatility</th>\n",
       "      <th>...</th>\n",
       "      <th>price_diff</th>\n",
       "      <th>high_low_diff</th>\n",
       "      <th>close_shift_1</th>\n",
       "      <th>close_shift_2</th>\n",
       "      <th>close_shift_3</th>\n",
       "      <th>next_day_close</th>\n",
       "      <th>price_up</th>\n",
       "      <th>pct_change_next_day</th>\n",
       "      <th>close_original</th>\n",
       "      <th>next_day_close_original</th>\n",
       "    </tr>\n",
       "  </thead>\n",
       "  <tbody>\n",
       "    <tr>\n",
       "      <th>0</th>\n",
       "      <td>2015-05-13 04:00:00+00:00</td>\n",
       "      <td>-1.061934</td>\n",
       "      <td>-1.063040</td>\n",
       "      <td>-1.058486</td>\n",
       "      <td>-1.062565</td>\n",
       "      <td>0.425122</td>\n",
       "      <td>-1.052287</td>\n",
       "      <td>-1.044765</td>\n",
       "      <td>-1.041772</td>\n",
       "      <td>-0.750806</td>\n",
       "      <td>...</td>\n",
       "      <td>-0.072416</td>\n",
       "      <td>-0.883868</td>\n",
       "      <td>2.076616e-16</td>\n",
       "      <td>0.000000</td>\n",
       "      <td>0.000000</td>\n",
       "      <td>28.918398</td>\n",
       "      <td>1</td>\n",
       "      <td>-0.001396</td>\n",
       "      <td>28.259068</td>\n",
       "      <td>28.918398</td>\n",
       "    </tr>\n",
       "    <tr>\n",
       "      <th>1</th>\n",
       "      <td>2015-05-14 04:00:00+00:00</td>\n",
       "      <td>-1.057802</td>\n",
       "      <td>-1.057330</td>\n",
       "      <td>-1.054212</td>\n",
       "      <td>-1.052934</td>\n",
       "      <td>1.076341</td>\n",
       "      <td>-1.052287</td>\n",
       "      <td>-1.044765</td>\n",
       "      <td>-1.041772</td>\n",
       "      <td>-0.750806</td>\n",
       "      <td>...</td>\n",
       "      <td>0.133410</td>\n",
       "      <td>-0.833340</td>\n",
       "      <td>-1.062424e+00</td>\n",
       "      <td>0.000000</td>\n",
       "      <td>0.000000</td>\n",
       "      <td>28.878025</td>\n",
       "      <td>0</td>\n",
       "      <td>0.011028</td>\n",
       "      <td>28.918398</td>\n",
       "      <td>28.878025</td>\n",
       "    </tr>\n",
       "    <tr>\n",
       "      <th>2</th>\n",
       "      <td>2015-05-15 04:00:00+00:00</td>\n",
       "      <td>-1.052357</td>\n",
       "      <td>-1.055579</td>\n",
       "      <td>-1.050733</td>\n",
       "      <td>-1.053524</td>\n",
       "      <td>0.642858</td>\n",
       "      <td>-1.052287</td>\n",
       "      <td>-1.044765</td>\n",
       "      <td>-1.041772</td>\n",
       "      <td>-0.750806</td>\n",
       "      <td>...</td>\n",
       "      <td>-0.092019</td>\n",
       "      <td>-0.888168</td>\n",
       "      <td>-1.052789e+00</td>\n",
       "      <td>-1.062279</td>\n",
       "      <td>0.000000</td>\n",
       "      <td>29.196480</td>\n",
       "      <td>1</td>\n",
       "      <td>-0.000922</td>\n",
       "      <td>28.878025</td>\n",
       "      <td>29.196480</td>\n",
       "    </tr>\n",
       "    <tr>\n",
       "      <th>3</th>\n",
       "      <td>2015-05-18 04:00:00+00:00</td>\n",
       "      <td>-1.054620</td>\n",
       "      <td>-1.051589</td>\n",
       "      <td>-1.050236</td>\n",
       "      <td>-1.048872</td>\n",
       "      <td>1.428270</td>\n",
       "      <td>-1.052287</td>\n",
       "      <td>-1.044765</td>\n",
       "      <td>-1.041772</td>\n",
       "      <td>-0.750806</td>\n",
       "      <td>...</td>\n",
       "      <td>0.166490</td>\n",
       "      <td>-0.772059</td>\n",
       "      <td>-1.053379e+00</td>\n",
       "      <td>-1.052641</td>\n",
       "      <td>-1.062141</td>\n",
       "      <td>29.169573</td>\n",
       "      <td>0</td>\n",
       "      <td>-0.000077</td>\n",
       "      <td>29.196480</td>\n",
       "      <td>29.169573</td>\n",
       "    </tr>\n",
       "    <tr>\n",
       "      <th>4</th>\n",
       "      <td>2015-05-19 04:00:00+00:00</td>\n",
       "      <td>-1.047044</td>\n",
       "      <td>-1.051069</td>\n",
       "      <td>-1.045995</td>\n",
       "      <td>-1.049265</td>\n",
       "      <td>1.041001</td>\n",
       "      <td>-1.052287</td>\n",
       "      <td>-1.044765</td>\n",
       "      <td>-1.041772</td>\n",
       "      <td>-0.750806</td>\n",
       "      <td>...</td>\n",
       "      <td>-0.131223</td>\n",
       "      <td>-0.892467</td>\n",
       "      <td>-1.048726e+00</td>\n",
       "      <td>-1.053231</td>\n",
       "      <td>-1.052499</td>\n",
       "      <td>29.167328</td>\n",
       "      <td>0</td>\n",
       "      <td>0.010226</td>\n",
       "      <td>29.169573</td>\n",
       "      <td>29.167328</td>\n",
       "    </tr>\n",
       "  </tbody>\n",
       "</table>\n",
       "<p>5 rows × 38 columns</p>\n",
       "</div>"
      ],
      "text/plain": [
       "                        date      open      high       low     close  \\\n",
       "0  2015-05-13 04:00:00+00:00 -1.061934 -1.063040 -1.058486 -1.062565   \n",
       "1  2015-05-14 04:00:00+00:00 -1.057802 -1.057330 -1.054212 -1.052934   \n",
       "2  2015-05-15 04:00:00+00:00 -1.052357 -1.055579 -1.050733 -1.053524   \n",
       "3  2015-05-18 04:00:00+00:00 -1.054620 -1.051589 -1.050236 -1.048872   \n",
       "4  2015-05-19 04:00:00+00:00 -1.047044 -1.051069 -1.045995 -1.049265   \n",
       "\n",
       "     volume       ma5      ma20      ma50  volatility  ...  price_diff  \\\n",
       "0  0.425122 -1.052287 -1.044765 -1.041772   -0.750806  ...   -0.072416   \n",
       "1  1.076341 -1.052287 -1.044765 -1.041772   -0.750806  ...    0.133410   \n",
       "2  0.642858 -1.052287 -1.044765 -1.041772   -0.750806  ...   -0.092019   \n",
       "3  1.428270 -1.052287 -1.044765 -1.041772   -0.750806  ...    0.166490   \n",
       "4  1.041001 -1.052287 -1.044765 -1.041772   -0.750806  ...   -0.131223   \n",
       "\n",
       "   high_low_diff  close_shift_1  close_shift_2  close_shift_3  next_day_close  \\\n",
       "0      -0.883868   2.076616e-16       0.000000       0.000000       28.918398   \n",
       "1      -0.833340  -1.062424e+00       0.000000       0.000000       28.878025   \n",
       "2      -0.888168  -1.052789e+00      -1.062279       0.000000       29.196480   \n",
       "3      -0.772059  -1.053379e+00      -1.052641      -1.062141       29.169573   \n",
       "4      -0.892467  -1.048726e+00      -1.053231      -1.052499       29.167328   \n",
       "\n",
       "   price_up  pct_change_next_day  close_original  next_day_close_original  \n",
       "0         1            -0.001396       28.259068                28.918398  \n",
       "1         0             0.011028       28.918398                28.878025  \n",
       "2         1            -0.000922       28.878025                29.196480  \n",
       "3         0            -0.000077       29.196480                29.169573  \n",
       "4         0             0.010226       29.169573                29.167328  \n",
       "\n",
       "[5 rows x 38 columns]"
      ]
     },
     "metadata": {},
     "output_type": "display_data"
    },
    {
     "data": {
      "text/markdown": [
       "**Columns:**"
      ],
      "text/plain": [
       "<IPython.core.display.Markdown object>"
      ]
     },
     "metadata": {},
     "output_type": "display_data"
    },
    {
     "data": {
      "application/vnd.microsoft.datawrangler.viewer.v0+json": {
       "columns": [
        {
         "name": "index",
         "rawType": "object",
         "type": "string"
        },
        {
         "name": "Type",
         "rawType": "object",
         "type": "unknown"
        },
        {
         "name": "Non-Null Count",
         "rawType": "int64",
         "type": "integer"
        },
        {
         "name": "Null Count",
         "rawType": "int64",
         "type": "integer"
        }
       ],
       "conversionMethod": "pd.DataFrame",
       "ref": "3d135c23-497c-444f-b6d4-28314b1cb2d6",
       "rows": [
        [
         "date",
         "object",
         "2513",
         "0"
        ],
        [
         "open",
         "float64",
         "2513",
         "0"
        ],
        [
         "high",
         "float64",
         "2513",
         "0"
        ],
        [
         "low",
         "float64",
         "2513",
         "0"
        ],
        [
         "close",
         "float64",
         "2513",
         "0"
        ],
        [
         "volume",
         "float64",
         "2513",
         "0"
        ],
        [
         "ma5",
         "float64",
         "2513",
         "0"
        ],
        [
         "ma20",
         "float64",
         "2513",
         "0"
        ],
        [
         "ma50",
         "float64",
         "2513",
         "0"
        ],
        [
         "volatility",
         "float64",
         "2513",
         "0"
        ],
        [
         "volume_ma20",
         "float64",
         "2513",
         "0"
        ],
        [
         "return",
         "float64",
         "2513",
         "0"
        ],
        [
         "day_of_week",
         "float64",
         "2513",
         "0"
        ],
        [
         "month",
         "float64",
         "2513",
         "0"
        ],
        [
         "day_of_month",
         "float64",
         "2513",
         "0"
        ],
        [
         "quarter",
         "float64",
         "2513",
         "0"
        ],
        [
         "is_month_start",
         "float64",
         "2513",
         "0"
        ],
        [
         "is_month_end",
         "float64",
         "2513",
         "0"
        ],
        [
         "rsi_14",
         "float64",
         "2513",
         "0"
        ],
        [
         "macd",
         "float64",
         "2513",
         "0"
        ],
        [
         "macd_signal",
         "float64",
         "2513",
         "0"
        ],
        [
         "macd_hist",
         "float64",
         "2513",
         "0"
        ],
        [
         "bb_middle",
         "float64",
         "2513",
         "0"
        ],
        [
         "bb_std",
         "float64",
         "2513",
         "0"
        ],
        [
         "bb_upper",
         "float64",
         "2513",
         "0"
        ],
        [
         "bb_lower",
         "float64",
         "2513",
         "0"
        ],
        [
         "bb_width",
         "float64",
         "2513",
         "0"
        ],
        [
         "bb_pct",
         "float64",
         "2513",
         "0"
        ],
        [
         "price_diff",
         "float64",
         "2513",
         "0"
        ],
        [
         "high_low_diff",
         "float64",
         "2513",
         "0"
        ],
        [
         "close_shift_1",
         "float64",
         "2513",
         "0"
        ],
        [
         "close_shift_2",
         "float64",
         "2513",
         "0"
        ],
        [
         "close_shift_3",
         "float64",
         "2513",
         "0"
        ],
        [
         "next_day_close",
         "float64",
         "2513",
         "0"
        ],
        [
         "price_up",
         "int64",
         "2513",
         "0"
        ],
        [
         "pct_change_next_day",
         "float64",
         "2513",
         "0"
        ],
        [
         "close_original",
         "float64",
         "2513",
         "0"
        ],
        [
         "next_day_close_original",
         "float64",
         "2513",
         "0"
        ]
       ],
       "shape": {
        "columns": 3,
        "rows": 38
       }
      },
      "text/html": [
       "<div>\n",
       "<style scoped>\n",
       "    .dataframe tbody tr th:only-of-type {\n",
       "        vertical-align: middle;\n",
       "    }\n",
       "\n",
       "    .dataframe tbody tr th {\n",
       "        vertical-align: top;\n",
       "    }\n",
       "\n",
       "    .dataframe thead th {\n",
       "        text-align: right;\n",
       "    }\n",
       "</style>\n",
       "<table border=\"1\" class=\"dataframe\">\n",
       "  <thead>\n",
       "    <tr style=\"text-align: right;\">\n",
       "      <th></th>\n",
       "      <th>Type</th>\n",
       "      <th>Non-Null Count</th>\n",
       "      <th>Null Count</th>\n",
       "    </tr>\n",
       "  </thead>\n",
       "  <tbody>\n",
       "    <tr>\n",
       "      <th>date</th>\n",
       "      <td>object</td>\n",
       "      <td>2513</td>\n",
       "      <td>0</td>\n",
       "    </tr>\n",
       "    <tr>\n",
       "      <th>open</th>\n",
       "      <td>float64</td>\n",
       "      <td>2513</td>\n",
       "      <td>0</td>\n",
       "    </tr>\n",
       "    <tr>\n",
       "      <th>high</th>\n",
       "      <td>float64</td>\n",
       "      <td>2513</td>\n",
       "      <td>0</td>\n",
       "    </tr>\n",
       "    <tr>\n",
       "      <th>low</th>\n",
       "      <td>float64</td>\n",
       "      <td>2513</td>\n",
       "      <td>0</td>\n",
       "    </tr>\n",
       "    <tr>\n",
       "      <th>close</th>\n",
       "      <td>float64</td>\n",
       "      <td>2513</td>\n",
       "      <td>0</td>\n",
       "    </tr>\n",
       "    <tr>\n",
       "      <th>volume</th>\n",
       "      <td>float64</td>\n",
       "      <td>2513</td>\n",
       "      <td>0</td>\n",
       "    </tr>\n",
       "    <tr>\n",
       "      <th>ma5</th>\n",
       "      <td>float64</td>\n",
       "      <td>2513</td>\n",
       "      <td>0</td>\n",
       "    </tr>\n",
       "    <tr>\n",
       "      <th>ma20</th>\n",
       "      <td>float64</td>\n",
       "      <td>2513</td>\n",
       "      <td>0</td>\n",
       "    </tr>\n",
       "    <tr>\n",
       "      <th>ma50</th>\n",
       "      <td>float64</td>\n",
       "      <td>2513</td>\n",
       "      <td>0</td>\n",
       "    </tr>\n",
       "    <tr>\n",
       "      <th>volatility</th>\n",
       "      <td>float64</td>\n",
       "      <td>2513</td>\n",
       "      <td>0</td>\n",
       "    </tr>\n",
       "    <tr>\n",
       "      <th>volume_ma20</th>\n",
       "      <td>float64</td>\n",
       "      <td>2513</td>\n",
       "      <td>0</td>\n",
       "    </tr>\n",
       "    <tr>\n",
       "      <th>return</th>\n",
       "      <td>float64</td>\n",
       "      <td>2513</td>\n",
       "      <td>0</td>\n",
       "    </tr>\n",
       "    <tr>\n",
       "      <th>day_of_week</th>\n",
       "      <td>float64</td>\n",
       "      <td>2513</td>\n",
       "      <td>0</td>\n",
       "    </tr>\n",
       "    <tr>\n",
       "      <th>month</th>\n",
       "      <td>float64</td>\n",
       "      <td>2513</td>\n",
       "      <td>0</td>\n",
       "    </tr>\n",
       "    <tr>\n",
       "      <th>day_of_month</th>\n",
       "      <td>float64</td>\n",
       "      <td>2513</td>\n",
       "      <td>0</td>\n",
       "    </tr>\n",
       "    <tr>\n",
       "      <th>quarter</th>\n",
       "      <td>float64</td>\n",
       "      <td>2513</td>\n",
       "      <td>0</td>\n",
       "    </tr>\n",
       "    <tr>\n",
       "      <th>is_month_start</th>\n",
       "      <td>float64</td>\n",
       "      <td>2513</td>\n",
       "      <td>0</td>\n",
       "    </tr>\n",
       "    <tr>\n",
       "      <th>is_month_end</th>\n",
       "      <td>float64</td>\n",
       "      <td>2513</td>\n",
       "      <td>0</td>\n",
       "    </tr>\n",
       "    <tr>\n",
       "      <th>rsi_14</th>\n",
       "      <td>float64</td>\n",
       "      <td>2513</td>\n",
       "      <td>0</td>\n",
       "    </tr>\n",
       "    <tr>\n",
       "      <th>macd</th>\n",
       "      <td>float64</td>\n",
       "      <td>2513</td>\n",
       "      <td>0</td>\n",
       "    </tr>\n",
       "    <tr>\n",
       "      <th>macd_signal</th>\n",
       "      <td>float64</td>\n",
       "      <td>2513</td>\n",
       "      <td>0</td>\n",
       "    </tr>\n",
       "    <tr>\n",
       "      <th>macd_hist</th>\n",
       "      <td>float64</td>\n",
       "      <td>2513</td>\n",
       "      <td>0</td>\n",
       "    </tr>\n",
       "    <tr>\n",
       "      <th>bb_middle</th>\n",
       "      <td>float64</td>\n",
       "      <td>2513</td>\n",
       "      <td>0</td>\n",
       "    </tr>\n",
       "    <tr>\n",
       "      <th>bb_std</th>\n",
       "      <td>float64</td>\n",
       "      <td>2513</td>\n",
       "      <td>0</td>\n",
       "    </tr>\n",
       "    <tr>\n",
       "      <th>bb_upper</th>\n",
       "      <td>float64</td>\n",
       "      <td>2513</td>\n",
       "      <td>0</td>\n",
       "    </tr>\n",
       "    <tr>\n",
       "      <th>bb_lower</th>\n",
       "      <td>float64</td>\n",
       "      <td>2513</td>\n",
       "      <td>0</td>\n",
       "    </tr>\n",
       "    <tr>\n",
       "      <th>bb_width</th>\n",
       "      <td>float64</td>\n",
       "      <td>2513</td>\n",
       "      <td>0</td>\n",
       "    </tr>\n",
       "    <tr>\n",
       "      <th>bb_pct</th>\n",
       "      <td>float64</td>\n",
       "      <td>2513</td>\n",
       "      <td>0</td>\n",
       "    </tr>\n",
       "    <tr>\n",
       "      <th>price_diff</th>\n",
       "      <td>float64</td>\n",
       "      <td>2513</td>\n",
       "      <td>0</td>\n",
       "    </tr>\n",
       "    <tr>\n",
       "      <th>high_low_diff</th>\n",
       "      <td>float64</td>\n",
       "      <td>2513</td>\n",
       "      <td>0</td>\n",
       "    </tr>\n",
       "    <tr>\n",
       "      <th>close_shift_1</th>\n",
       "      <td>float64</td>\n",
       "      <td>2513</td>\n",
       "      <td>0</td>\n",
       "    </tr>\n",
       "    <tr>\n",
       "      <th>close_shift_2</th>\n",
       "      <td>float64</td>\n",
       "      <td>2513</td>\n",
       "      <td>0</td>\n",
       "    </tr>\n",
       "    <tr>\n",
       "      <th>close_shift_3</th>\n",
       "      <td>float64</td>\n",
       "      <td>2513</td>\n",
       "      <td>0</td>\n",
       "    </tr>\n",
       "    <tr>\n",
       "      <th>next_day_close</th>\n",
       "      <td>float64</td>\n",
       "      <td>2513</td>\n",
       "      <td>0</td>\n",
       "    </tr>\n",
       "    <tr>\n",
       "      <th>price_up</th>\n",
       "      <td>int64</td>\n",
       "      <td>2513</td>\n",
       "      <td>0</td>\n",
       "    </tr>\n",
       "    <tr>\n",
       "      <th>pct_change_next_day</th>\n",
       "      <td>float64</td>\n",
       "      <td>2513</td>\n",
       "      <td>0</td>\n",
       "    </tr>\n",
       "    <tr>\n",
       "      <th>close_original</th>\n",
       "      <td>float64</td>\n",
       "      <td>2513</td>\n",
       "      <td>0</td>\n",
       "    </tr>\n",
       "    <tr>\n",
       "      <th>next_day_close_original</th>\n",
       "      <td>float64</td>\n",
       "      <td>2513</td>\n",
       "      <td>0</td>\n",
       "    </tr>\n",
       "  </tbody>\n",
       "</table>\n",
       "</div>"
      ],
      "text/plain": [
       "                            Type  Non-Null Count  Null Count\n",
       "date                      object            2513           0\n",
       "open                     float64            2513           0\n",
       "high                     float64            2513           0\n",
       "low                      float64            2513           0\n",
       "close                    float64            2513           0\n",
       "volume                   float64            2513           0\n",
       "ma5                      float64            2513           0\n",
       "ma20                     float64            2513           0\n",
       "ma50                     float64            2513           0\n",
       "volatility               float64            2513           0\n",
       "volume_ma20              float64            2513           0\n",
       "return                   float64            2513           0\n",
       "day_of_week              float64            2513           0\n",
       "month                    float64            2513           0\n",
       "day_of_month             float64            2513           0\n",
       "quarter                  float64            2513           0\n",
       "is_month_start           float64            2513           0\n",
       "is_month_end             float64            2513           0\n",
       "rsi_14                   float64            2513           0\n",
       "macd                     float64            2513           0\n",
       "macd_signal              float64            2513           0\n",
       "macd_hist                float64            2513           0\n",
       "bb_middle                float64            2513           0\n",
       "bb_std                   float64            2513           0\n",
       "bb_upper                 float64            2513           0\n",
       "bb_lower                 float64            2513           0\n",
       "bb_width                 float64            2513           0\n",
       "bb_pct                   float64            2513           0\n",
       "price_diff               float64            2513           0\n",
       "high_low_diff            float64            2513           0\n",
       "close_shift_1            float64            2513           0\n",
       "close_shift_2            float64            2513           0\n",
       "close_shift_3            float64            2513           0\n",
       "next_day_close           float64            2513           0\n",
       "price_up                   int64            2513           0\n",
       "pct_change_next_day      float64            2513           0\n",
       "close_original           float64            2513           0\n",
       "next_day_close_original  float64            2513           0"
      ]
     },
     "metadata": {},
     "output_type": "display_data"
    },
    {
     "name": "stdout",
     "output_type": "stream",
     "text": [
      "\n",
      "--------------------------------------------------------------------------------\n",
      "\n"
     ]
    },
    {
     "data": {
      "text/markdown": [
       "## 📊 xgboost/day/AAPL_xgboost_day.csv"
      ],
      "text/plain": [
       "<IPython.core.display.Markdown object>"
      ]
     },
     "metadata": {},
     "output_type": "display_data"
    },
    {
     "data": {
      "text/markdown": [
       "**Shape:** 2513 rows × 38 columns"
      ],
      "text/plain": [
       "<IPython.core.display.Markdown object>"
      ]
     },
     "metadata": {},
     "output_type": "display_data"
    },
    {
     "data": {
      "application/vnd.microsoft.datawrangler.viewer.v0+json": {
       "columns": [
        {
         "name": "index",
         "rawType": "int64",
         "type": "integer"
        },
        {
         "name": "date",
         "rawType": "object",
         "type": "string"
        },
        {
         "name": "open",
         "rawType": "float64",
         "type": "float"
        },
        {
         "name": "high",
         "rawType": "float64",
         "type": "float"
        },
        {
         "name": "low",
         "rawType": "float64",
         "type": "float"
        },
        {
         "name": "close",
         "rawType": "float64",
         "type": "float"
        },
        {
         "name": "volume",
         "rawType": "float64",
         "type": "float"
        },
        {
         "name": "ma5",
         "rawType": "float64",
         "type": "float"
        },
        {
         "name": "ma20",
         "rawType": "float64",
         "type": "float"
        },
        {
         "name": "ma50",
         "rawType": "float64",
         "type": "float"
        },
        {
         "name": "volatility",
         "rawType": "float64",
         "type": "float"
        },
        {
         "name": "volume_ma20",
         "rawType": "float64",
         "type": "float"
        },
        {
         "name": "return",
         "rawType": "float64",
         "type": "float"
        },
        {
         "name": "day_of_week",
         "rawType": "float64",
         "type": "float"
        },
        {
         "name": "month",
         "rawType": "float64",
         "type": "float"
        },
        {
         "name": "day_of_month",
         "rawType": "float64",
         "type": "float"
        },
        {
         "name": "quarter",
         "rawType": "float64",
         "type": "float"
        },
        {
         "name": "is_month_start",
         "rawType": "float64",
         "type": "float"
        },
        {
         "name": "is_month_end",
         "rawType": "float64",
         "type": "float"
        },
        {
         "name": "rsi_14",
         "rawType": "float64",
         "type": "float"
        },
        {
         "name": "macd",
         "rawType": "float64",
         "type": "float"
        },
        {
         "name": "macd_signal",
         "rawType": "float64",
         "type": "float"
        },
        {
         "name": "macd_hist",
         "rawType": "float64",
         "type": "float"
        },
        {
         "name": "bb_middle",
         "rawType": "float64",
         "type": "float"
        },
        {
         "name": "bb_std",
         "rawType": "float64",
         "type": "float"
        },
        {
         "name": "bb_upper",
         "rawType": "float64",
         "type": "float"
        },
        {
         "name": "bb_lower",
         "rawType": "float64",
         "type": "float"
        },
        {
         "name": "bb_width",
         "rawType": "float64",
         "type": "float"
        },
        {
         "name": "bb_pct",
         "rawType": "float64",
         "type": "float"
        },
        {
         "name": "price_diff",
         "rawType": "float64",
         "type": "float"
        },
        {
         "name": "high_low_diff",
         "rawType": "float64",
         "type": "float"
        },
        {
         "name": "close_shift_1",
         "rawType": "float64",
         "type": "float"
        },
        {
         "name": "close_shift_2",
         "rawType": "float64",
         "type": "float"
        },
        {
         "name": "close_shift_3",
         "rawType": "float64",
         "type": "float"
        },
        {
         "name": "target",
         "rawType": "float64",
         "type": "float"
        },
        {
         "name": "price_up",
         "rawType": "int64",
         "type": "integer"
        },
        {
         "name": "pct_change_target",
         "rawType": "float64",
         "type": "float"
        },
        {
         "name": "close_original",
         "rawType": "float64",
         "type": "float"
        },
        {
         "name": "target_original",
         "rawType": "float64",
         "type": "float"
        }
       ],
       "conversionMethod": "pd.DataFrame",
       "ref": "42c7e5dd-98cc-4cd0-975e-68adcc4d7757",
       "rows": [
        [
         "0",
         "2015-05-13 04:00:00+00:00",
         "-1.0619342438082486",
         "-1.063039561397367",
         "-1.058485944053317",
         "-1.0625648293912582",
         "0.4251223392022404",
         "-1.0522868437160255",
         "-1.044765362314209",
         "-1.0417716942249644",
         "-0.7508059330516941",
         "1.190667001529332",
         "1.2113369226457984",
         "-0.0182153781300644",
         "-0.451512699341476",
         "-0.3127404723133751",
         "-0.4618532881459772",
         "-0.1813317859753617",
         "-0.1882410503494676",
         "-3.9454601610670445e-16",
         "-0.2202117415211648",
         "-0.2376101169353792",
         "0.0054604790217281",
         "0.0",
         "0.0",
         "0.0",
         "0.0",
         "2.462368167411408e-16",
         "0.0",
         "-0.072415648634011",
         "-0.8838675222960607",
         "2.0766158653407398e-16",
         "0.0",
         "0.0",
         "28.918397903442383",
         "1",
         "-0.0013960956151701",
         "28.25906753540039",
         "28.918397903442383"
        ],
        [
         "1",
         "2015-05-14 04:00:00+00:00",
         "-1.0578015701487566",
         "-1.0573302457402094",
         "-1.0542119381520534",
         "-1.0529339207240915",
         "1.076340503871862",
         "-1.0522868437160255",
         "-1.044765362314209",
         "-1.0417716942249644",
         "-0.7508059330516941",
         "1.190667001529332",
         "1.2113369226457984",
         "0.6970228287582477",
         "-0.451512699341476",
         "-0.1986410520283124",
         "-0.4618532881459772",
         "-0.1813317859753617",
         "-0.1882410503494676",
         "-3.9454601610670445e-16",
         "-0.1969371093222014",
         "-0.2326264831536019",
         "0.0643587720252948",
         "0.0",
         "0.0",
         "0.0",
         "0.0",
         "2.462368167411408e-16",
         "0.0",
         "0.1334104095617059",
         "-0.8333395520209266",
         "-1.062423912695981",
         "0.0",
         "0.0",
         "28.87802505493164",
         "0",
         "0.011027580377324",
         "28.918397903442383",
         "28.87802505493164"
        ],
        [
         "2",
         "2015-05-15 04:00:00+00:00",
         "-1.0523571511751335",
         "-1.0555786257580386",
         "-1.050733266213053",
         "-1.053523651207453",
         "0.6428580958193431",
         "-1.0522868437160255",
         "-1.044765362314209",
         "-1.0417716942249644",
         "-0.7508059330516941",
         "1.190667001529332",
         "-0.1271944766104865",
         "1.41226103564656",
         "-0.451512699341476",
         "-0.0845416317432497",
         "-0.4618532881459772",
         "-0.1813317859753617",
         "-0.1882410503494676",
         "-3.9454601610670445e-16",
         "-0.1803924146968346",
         "-0.2250969766860354",
         "0.0944467684478387",
         "0.0",
         "0.0",
         "0.0",
         "0.0",
         "2.462368167411408e-16",
         "0.0",
         "-0.0920186584885263",
         "-0.8881679383552058",
         "-1.0527891938123073",
         "-1.0622794103981168",
         "0.0",
         "29.19647979736328",
         "1",
         "-0.0009215825794696",
         "28.87802505493164",
         "29.19647979736328"
        ],
        [
         "3",
         "2015-05-18 04:00:00+00:00",
         "-1.0546201657794605",
         "-1.0515885749978056",
         "-1.0502362424760638",
         "-1.0488719489840392",
         "1.4282695994752463",
         "-1.0522868437160255",
         "-1.044765362314209",
         "-1.0417716942249644",
         "-0.7508059330516941",
         "1.190667001529332",
         "0.5453087077779014",
         "-1.4486917919066888",
         "-0.451512699341476",
         "0.2577566291119383",
         "-0.4618532881459772",
         "-0.1813317859753617",
         "-0.1882410503494676",
         "-3.9454601610670445e-16",
         "-0.1566422456980211",
         "-0.2139879143699063",
         "0.1367511869551074",
         "0.0",
         "0.0",
         "0.0",
         "0.0",
         "2.462368167411408e-16",
         "0.0",
         "0.1664902472530612",
         "-0.7720593813635127",
         "-1.0533791576070728",
         "-1.0526409712469982",
         "-1.0621413846759282",
         "29.169572830200195",
         "0",
         "-7.696202319762424e-05",
         "29.19647979736328",
         "29.169572830200195"
        ],
        [
         "4",
         "2015-05-19 04:00:00+00:00",
         "-1.0470437194459057",
         "-1.0510694935369402",
         "-1.0459954091838128",
         "-1.04926498190929",
         "1.0410013548028387",
         "-1.0522868437160255",
         "-1.044765362314209",
         "-1.0417716942249644",
         "-0.7508059330516941",
         "1.190667001529332",
         "-0.1015087192118565",
         "-0.7334535850183767",
         "-0.451512699341476",
         "0.371856049397001",
         "-0.4618532881459772",
         "-0.1813317859753617",
         "-0.1882410503494676",
         "-3.9454601610670445e-16",
         "-0.1397088291007149",
         "-0.2014748307648802",
         "0.1533443920094332",
         "0.0",
         "0.0",
         "0.0",
         "0.0",
         "2.462368167411408e-16",
         "0.0",
         "-0.1312228330866754",
         "-0.8924674859094961",
         "-1.048725615059635",
         "-1.0532311628453068",
         "-1.0524990390218802",
         "29.16732788085937",
         "0",
         "0.0102259470261731",
         "29.169572830200195",
         "29.16732788085937"
        ]
       ],
       "shape": {
        "columns": 38,
        "rows": 5
       }
      },
      "text/html": [
       "<div>\n",
       "<style scoped>\n",
       "    .dataframe tbody tr th:only-of-type {\n",
       "        vertical-align: middle;\n",
       "    }\n",
       "\n",
       "    .dataframe tbody tr th {\n",
       "        vertical-align: top;\n",
       "    }\n",
       "\n",
       "    .dataframe thead th {\n",
       "        text-align: right;\n",
       "    }\n",
       "</style>\n",
       "<table border=\"1\" class=\"dataframe\">\n",
       "  <thead>\n",
       "    <tr style=\"text-align: right;\">\n",
       "      <th></th>\n",
       "      <th>date</th>\n",
       "      <th>open</th>\n",
       "      <th>high</th>\n",
       "      <th>low</th>\n",
       "      <th>close</th>\n",
       "      <th>volume</th>\n",
       "      <th>ma5</th>\n",
       "      <th>ma20</th>\n",
       "      <th>ma50</th>\n",
       "      <th>volatility</th>\n",
       "      <th>...</th>\n",
       "      <th>price_diff</th>\n",
       "      <th>high_low_diff</th>\n",
       "      <th>close_shift_1</th>\n",
       "      <th>close_shift_2</th>\n",
       "      <th>close_shift_3</th>\n",
       "      <th>target</th>\n",
       "      <th>price_up</th>\n",
       "      <th>pct_change_target</th>\n",
       "      <th>close_original</th>\n",
       "      <th>target_original</th>\n",
       "    </tr>\n",
       "  </thead>\n",
       "  <tbody>\n",
       "    <tr>\n",
       "      <th>0</th>\n",
       "      <td>2015-05-13 04:00:00+00:00</td>\n",
       "      <td>-1.061934</td>\n",
       "      <td>-1.063040</td>\n",
       "      <td>-1.058486</td>\n",
       "      <td>-1.062565</td>\n",
       "      <td>0.425122</td>\n",
       "      <td>-1.052287</td>\n",
       "      <td>-1.044765</td>\n",
       "      <td>-1.041772</td>\n",
       "      <td>-0.750806</td>\n",
       "      <td>...</td>\n",
       "      <td>-0.072416</td>\n",
       "      <td>-0.883868</td>\n",
       "      <td>2.076616e-16</td>\n",
       "      <td>0.000000</td>\n",
       "      <td>0.000000</td>\n",
       "      <td>28.918398</td>\n",
       "      <td>1</td>\n",
       "      <td>-0.001396</td>\n",
       "      <td>28.259068</td>\n",
       "      <td>28.918398</td>\n",
       "    </tr>\n",
       "    <tr>\n",
       "      <th>1</th>\n",
       "      <td>2015-05-14 04:00:00+00:00</td>\n",
       "      <td>-1.057802</td>\n",
       "      <td>-1.057330</td>\n",
       "      <td>-1.054212</td>\n",
       "      <td>-1.052934</td>\n",
       "      <td>1.076341</td>\n",
       "      <td>-1.052287</td>\n",
       "      <td>-1.044765</td>\n",
       "      <td>-1.041772</td>\n",
       "      <td>-0.750806</td>\n",
       "      <td>...</td>\n",
       "      <td>0.133410</td>\n",
       "      <td>-0.833340</td>\n",
       "      <td>-1.062424e+00</td>\n",
       "      <td>0.000000</td>\n",
       "      <td>0.000000</td>\n",
       "      <td>28.878025</td>\n",
       "      <td>0</td>\n",
       "      <td>0.011028</td>\n",
       "      <td>28.918398</td>\n",
       "      <td>28.878025</td>\n",
       "    </tr>\n",
       "    <tr>\n",
       "      <th>2</th>\n",
       "      <td>2015-05-15 04:00:00+00:00</td>\n",
       "      <td>-1.052357</td>\n",
       "      <td>-1.055579</td>\n",
       "      <td>-1.050733</td>\n",
       "      <td>-1.053524</td>\n",
       "      <td>0.642858</td>\n",
       "      <td>-1.052287</td>\n",
       "      <td>-1.044765</td>\n",
       "      <td>-1.041772</td>\n",
       "      <td>-0.750806</td>\n",
       "      <td>...</td>\n",
       "      <td>-0.092019</td>\n",
       "      <td>-0.888168</td>\n",
       "      <td>-1.052789e+00</td>\n",
       "      <td>-1.062279</td>\n",
       "      <td>0.000000</td>\n",
       "      <td>29.196480</td>\n",
       "      <td>1</td>\n",
       "      <td>-0.000922</td>\n",
       "      <td>28.878025</td>\n",
       "      <td>29.196480</td>\n",
       "    </tr>\n",
       "    <tr>\n",
       "      <th>3</th>\n",
       "      <td>2015-05-18 04:00:00+00:00</td>\n",
       "      <td>-1.054620</td>\n",
       "      <td>-1.051589</td>\n",
       "      <td>-1.050236</td>\n",
       "      <td>-1.048872</td>\n",
       "      <td>1.428270</td>\n",
       "      <td>-1.052287</td>\n",
       "      <td>-1.044765</td>\n",
       "      <td>-1.041772</td>\n",
       "      <td>-0.750806</td>\n",
       "      <td>...</td>\n",
       "      <td>0.166490</td>\n",
       "      <td>-0.772059</td>\n",
       "      <td>-1.053379e+00</td>\n",
       "      <td>-1.052641</td>\n",
       "      <td>-1.062141</td>\n",
       "      <td>29.169573</td>\n",
       "      <td>0</td>\n",
       "      <td>-0.000077</td>\n",
       "      <td>29.196480</td>\n",
       "      <td>29.169573</td>\n",
       "    </tr>\n",
       "    <tr>\n",
       "      <th>4</th>\n",
       "      <td>2015-05-19 04:00:00+00:00</td>\n",
       "      <td>-1.047044</td>\n",
       "      <td>-1.051069</td>\n",
       "      <td>-1.045995</td>\n",
       "      <td>-1.049265</td>\n",
       "      <td>1.041001</td>\n",
       "      <td>-1.052287</td>\n",
       "      <td>-1.044765</td>\n",
       "      <td>-1.041772</td>\n",
       "      <td>-0.750806</td>\n",
       "      <td>...</td>\n",
       "      <td>-0.131223</td>\n",
       "      <td>-0.892467</td>\n",
       "      <td>-1.048726e+00</td>\n",
       "      <td>-1.053231</td>\n",
       "      <td>-1.052499</td>\n",
       "      <td>29.167328</td>\n",
       "      <td>0</td>\n",
       "      <td>0.010226</td>\n",
       "      <td>29.169573</td>\n",
       "      <td>29.167328</td>\n",
       "    </tr>\n",
       "  </tbody>\n",
       "</table>\n",
       "<p>5 rows × 38 columns</p>\n",
       "</div>"
      ],
      "text/plain": [
       "                        date      open      high       low     close  \\\n",
       "0  2015-05-13 04:00:00+00:00 -1.061934 -1.063040 -1.058486 -1.062565   \n",
       "1  2015-05-14 04:00:00+00:00 -1.057802 -1.057330 -1.054212 -1.052934   \n",
       "2  2015-05-15 04:00:00+00:00 -1.052357 -1.055579 -1.050733 -1.053524   \n",
       "3  2015-05-18 04:00:00+00:00 -1.054620 -1.051589 -1.050236 -1.048872   \n",
       "4  2015-05-19 04:00:00+00:00 -1.047044 -1.051069 -1.045995 -1.049265   \n",
       "\n",
       "     volume       ma5      ma20      ma50  volatility  ...  price_diff  \\\n",
       "0  0.425122 -1.052287 -1.044765 -1.041772   -0.750806  ...   -0.072416   \n",
       "1  1.076341 -1.052287 -1.044765 -1.041772   -0.750806  ...    0.133410   \n",
       "2  0.642858 -1.052287 -1.044765 -1.041772   -0.750806  ...   -0.092019   \n",
       "3  1.428270 -1.052287 -1.044765 -1.041772   -0.750806  ...    0.166490   \n",
       "4  1.041001 -1.052287 -1.044765 -1.041772   -0.750806  ...   -0.131223   \n",
       "\n",
       "   high_low_diff  close_shift_1  close_shift_2  close_shift_3     target  \\\n",
       "0      -0.883868   2.076616e-16       0.000000       0.000000  28.918398   \n",
       "1      -0.833340  -1.062424e+00       0.000000       0.000000  28.878025   \n",
       "2      -0.888168  -1.052789e+00      -1.062279       0.000000  29.196480   \n",
       "3      -0.772059  -1.053379e+00      -1.052641      -1.062141  29.169573   \n",
       "4      -0.892467  -1.048726e+00      -1.053231      -1.052499  29.167328   \n",
       "\n",
       "   price_up  pct_change_target  close_original  target_original  \n",
       "0         1          -0.001396       28.259068        28.918398  \n",
       "1         0           0.011028       28.918398        28.878025  \n",
       "2         1          -0.000922       28.878025        29.196480  \n",
       "3         0          -0.000077       29.196480        29.169573  \n",
       "4         0           0.010226       29.169573        29.167328  \n",
       "\n",
       "[5 rows x 38 columns]"
      ]
     },
     "metadata": {},
     "output_type": "display_data"
    },
    {
     "data": {
      "text/markdown": [
       "**Columns:**"
      ],
      "text/plain": [
       "<IPython.core.display.Markdown object>"
      ]
     },
     "metadata": {},
     "output_type": "display_data"
    },
    {
     "data": {
      "application/vnd.microsoft.datawrangler.viewer.v0+json": {
       "columns": [
        {
         "name": "index",
         "rawType": "object",
         "type": "string"
        },
        {
         "name": "Type",
         "rawType": "object",
         "type": "unknown"
        },
        {
         "name": "Non-Null Count",
         "rawType": "int64",
         "type": "integer"
        },
        {
         "name": "Null Count",
         "rawType": "int64",
         "type": "integer"
        }
       ],
       "conversionMethod": "pd.DataFrame",
       "ref": "ee65a833-4af6-464a-a279-efc03f1da6fc",
       "rows": [
        [
         "date",
         "object",
         "2513",
         "0"
        ],
        [
         "open",
         "float64",
         "2513",
         "0"
        ],
        [
         "high",
         "float64",
         "2513",
         "0"
        ],
        [
         "low",
         "float64",
         "2513",
         "0"
        ],
        [
         "close",
         "float64",
         "2513",
         "0"
        ],
        [
         "volume",
         "float64",
         "2513",
         "0"
        ],
        [
         "ma5",
         "float64",
         "2513",
         "0"
        ],
        [
         "ma20",
         "float64",
         "2513",
         "0"
        ],
        [
         "ma50",
         "float64",
         "2513",
         "0"
        ],
        [
         "volatility",
         "float64",
         "2513",
         "0"
        ],
        [
         "volume_ma20",
         "float64",
         "2513",
         "0"
        ],
        [
         "return",
         "float64",
         "2513",
         "0"
        ],
        [
         "day_of_week",
         "float64",
         "2513",
         "0"
        ],
        [
         "month",
         "float64",
         "2513",
         "0"
        ],
        [
         "day_of_month",
         "float64",
         "2513",
         "0"
        ],
        [
         "quarter",
         "float64",
         "2513",
         "0"
        ],
        [
         "is_month_start",
         "float64",
         "2513",
         "0"
        ],
        [
         "is_month_end",
         "float64",
         "2513",
         "0"
        ],
        [
         "rsi_14",
         "float64",
         "2513",
         "0"
        ],
        [
         "macd",
         "float64",
         "2513",
         "0"
        ],
        [
         "macd_signal",
         "float64",
         "2513",
         "0"
        ],
        [
         "macd_hist",
         "float64",
         "2513",
         "0"
        ],
        [
         "bb_middle",
         "float64",
         "2513",
         "0"
        ],
        [
         "bb_std",
         "float64",
         "2513",
         "0"
        ],
        [
         "bb_upper",
         "float64",
         "2513",
         "0"
        ],
        [
         "bb_lower",
         "float64",
         "2513",
         "0"
        ],
        [
         "bb_width",
         "float64",
         "2513",
         "0"
        ],
        [
         "bb_pct",
         "float64",
         "2513",
         "0"
        ],
        [
         "price_diff",
         "float64",
         "2513",
         "0"
        ],
        [
         "high_low_diff",
         "float64",
         "2513",
         "0"
        ],
        [
         "close_shift_1",
         "float64",
         "2513",
         "0"
        ],
        [
         "close_shift_2",
         "float64",
         "2513",
         "0"
        ],
        [
         "close_shift_3",
         "float64",
         "2513",
         "0"
        ],
        [
         "target",
         "float64",
         "2513",
         "0"
        ],
        [
         "price_up",
         "int64",
         "2513",
         "0"
        ],
        [
         "pct_change_target",
         "float64",
         "2513",
         "0"
        ],
        [
         "close_original",
         "float64",
         "2513",
         "0"
        ],
        [
         "target_original",
         "float64",
         "2513",
         "0"
        ]
       ],
       "shape": {
        "columns": 3,
        "rows": 38
       }
      },
      "text/html": [
       "<div>\n",
       "<style scoped>\n",
       "    .dataframe tbody tr th:only-of-type {\n",
       "        vertical-align: middle;\n",
       "    }\n",
       "\n",
       "    .dataframe tbody tr th {\n",
       "        vertical-align: top;\n",
       "    }\n",
       "\n",
       "    .dataframe thead th {\n",
       "        text-align: right;\n",
       "    }\n",
       "</style>\n",
       "<table border=\"1\" class=\"dataframe\">\n",
       "  <thead>\n",
       "    <tr style=\"text-align: right;\">\n",
       "      <th></th>\n",
       "      <th>Type</th>\n",
       "      <th>Non-Null Count</th>\n",
       "      <th>Null Count</th>\n",
       "    </tr>\n",
       "  </thead>\n",
       "  <tbody>\n",
       "    <tr>\n",
       "      <th>date</th>\n",
       "      <td>object</td>\n",
       "      <td>2513</td>\n",
       "      <td>0</td>\n",
       "    </tr>\n",
       "    <tr>\n",
       "      <th>open</th>\n",
       "      <td>float64</td>\n",
       "      <td>2513</td>\n",
       "      <td>0</td>\n",
       "    </tr>\n",
       "    <tr>\n",
       "      <th>high</th>\n",
       "      <td>float64</td>\n",
       "      <td>2513</td>\n",
       "      <td>0</td>\n",
       "    </tr>\n",
       "    <tr>\n",
       "      <th>low</th>\n",
       "      <td>float64</td>\n",
       "      <td>2513</td>\n",
       "      <td>0</td>\n",
       "    </tr>\n",
       "    <tr>\n",
       "      <th>close</th>\n",
       "      <td>float64</td>\n",
       "      <td>2513</td>\n",
       "      <td>0</td>\n",
       "    </tr>\n",
       "    <tr>\n",
       "      <th>volume</th>\n",
       "      <td>float64</td>\n",
       "      <td>2513</td>\n",
       "      <td>0</td>\n",
       "    </tr>\n",
       "    <tr>\n",
       "      <th>ma5</th>\n",
       "      <td>float64</td>\n",
       "      <td>2513</td>\n",
       "      <td>0</td>\n",
       "    </tr>\n",
       "    <tr>\n",
       "      <th>ma20</th>\n",
       "      <td>float64</td>\n",
       "      <td>2513</td>\n",
       "      <td>0</td>\n",
       "    </tr>\n",
       "    <tr>\n",
       "      <th>ma50</th>\n",
       "      <td>float64</td>\n",
       "      <td>2513</td>\n",
       "      <td>0</td>\n",
       "    </tr>\n",
       "    <tr>\n",
       "      <th>volatility</th>\n",
       "      <td>float64</td>\n",
       "      <td>2513</td>\n",
       "      <td>0</td>\n",
       "    </tr>\n",
       "    <tr>\n",
       "      <th>volume_ma20</th>\n",
       "      <td>float64</td>\n",
       "      <td>2513</td>\n",
       "      <td>0</td>\n",
       "    </tr>\n",
       "    <tr>\n",
       "      <th>return</th>\n",
       "      <td>float64</td>\n",
       "      <td>2513</td>\n",
       "      <td>0</td>\n",
       "    </tr>\n",
       "    <tr>\n",
       "      <th>day_of_week</th>\n",
       "      <td>float64</td>\n",
       "      <td>2513</td>\n",
       "      <td>0</td>\n",
       "    </tr>\n",
       "    <tr>\n",
       "      <th>month</th>\n",
       "      <td>float64</td>\n",
       "      <td>2513</td>\n",
       "      <td>0</td>\n",
       "    </tr>\n",
       "    <tr>\n",
       "      <th>day_of_month</th>\n",
       "      <td>float64</td>\n",
       "      <td>2513</td>\n",
       "      <td>0</td>\n",
       "    </tr>\n",
       "    <tr>\n",
       "      <th>quarter</th>\n",
       "      <td>float64</td>\n",
       "      <td>2513</td>\n",
       "      <td>0</td>\n",
       "    </tr>\n",
       "    <tr>\n",
       "      <th>is_month_start</th>\n",
       "      <td>float64</td>\n",
       "      <td>2513</td>\n",
       "      <td>0</td>\n",
       "    </tr>\n",
       "    <tr>\n",
       "      <th>is_month_end</th>\n",
       "      <td>float64</td>\n",
       "      <td>2513</td>\n",
       "      <td>0</td>\n",
       "    </tr>\n",
       "    <tr>\n",
       "      <th>rsi_14</th>\n",
       "      <td>float64</td>\n",
       "      <td>2513</td>\n",
       "      <td>0</td>\n",
       "    </tr>\n",
       "    <tr>\n",
       "      <th>macd</th>\n",
       "      <td>float64</td>\n",
       "      <td>2513</td>\n",
       "      <td>0</td>\n",
       "    </tr>\n",
       "    <tr>\n",
       "      <th>macd_signal</th>\n",
       "      <td>float64</td>\n",
       "      <td>2513</td>\n",
       "      <td>0</td>\n",
       "    </tr>\n",
       "    <tr>\n",
       "      <th>macd_hist</th>\n",
       "      <td>float64</td>\n",
       "      <td>2513</td>\n",
       "      <td>0</td>\n",
       "    </tr>\n",
       "    <tr>\n",
       "      <th>bb_middle</th>\n",
       "      <td>float64</td>\n",
       "      <td>2513</td>\n",
       "      <td>0</td>\n",
       "    </tr>\n",
       "    <tr>\n",
       "      <th>bb_std</th>\n",
       "      <td>float64</td>\n",
       "      <td>2513</td>\n",
       "      <td>0</td>\n",
       "    </tr>\n",
       "    <tr>\n",
       "      <th>bb_upper</th>\n",
       "      <td>float64</td>\n",
       "      <td>2513</td>\n",
       "      <td>0</td>\n",
       "    </tr>\n",
       "    <tr>\n",
       "      <th>bb_lower</th>\n",
       "      <td>float64</td>\n",
       "      <td>2513</td>\n",
       "      <td>0</td>\n",
       "    </tr>\n",
       "    <tr>\n",
       "      <th>bb_width</th>\n",
       "      <td>float64</td>\n",
       "      <td>2513</td>\n",
       "      <td>0</td>\n",
       "    </tr>\n",
       "    <tr>\n",
       "      <th>bb_pct</th>\n",
       "      <td>float64</td>\n",
       "      <td>2513</td>\n",
       "      <td>0</td>\n",
       "    </tr>\n",
       "    <tr>\n",
       "      <th>price_diff</th>\n",
       "      <td>float64</td>\n",
       "      <td>2513</td>\n",
       "      <td>0</td>\n",
       "    </tr>\n",
       "    <tr>\n",
       "      <th>high_low_diff</th>\n",
       "      <td>float64</td>\n",
       "      <td>2513</td>\n",
       "      <td>0</td>\n",
       "    </tr>\n",
       "    <tr>\n",
       "      <th>close_shift_1</th>\n",
       "      <td>float64</td>\n",
       "      <td>2513</td>\n",
       "      <td>0</td>\n",
       "    </tr>\n",
       "    <tr>\n",
       "      <th>close_shift_2</th>\n",
       "      <td>float64</td>\n",
       "      <td>2513</td>\n",
       "      <td>0</td>\n",
       "    </tr>\n",
       "    <tr>\n",
       "      <th>close_shift_3</th>\n",
       "      <td>float64</td>\n",
       "      <td>2513</td>\n",
       "      <td>0</td>\n",
       "    </tr>\n",
       "    <tr>\n",
       "      <th>target</th>\n",
       "      <td>float64</td>\n",
       "      <td>2513</td>\n",
       "      <td>0</td>\n",
       "    </tr>\n",
       "    <tr>\n",
       "      <th>price_up</th>\n",
       "      <td>int64</td>\n",
       "      <td>2513</td>\n",
       "      <td>0</td>\n",
       "    </tr>\n",
       "    <tr>\n",
       "      <th>pct_change_target</th>\n",
       "      <td>float64</td>\n",
       "      <td>2513</td>\n",
       "      <td>0</td>\n",
       "    </tr>\n",
       "    <tr>\n",
       "      <th>close_original</th>\n",
       "      <td>float64</td>\n",
       "      <td>2513</td>\n",
       "      <td>0</td>\n",
       "    </tr>\n",
       "    <tr>\n",
       "      <th>target_original</th>\n",
       "      <td>float64</td>\n",
       "      <td>2513</td>\n",
       "      <td>0</td>\n",
       "    </tr>\n",
       "  </tbody>\n",
       "</table>\n",
       "</div>"
      ],
      "text/plain": [
       "                      Type  Non-Null Count  Null Count\n",
       "date                object            2513           0\n",
       "open               float64            2513           0\n",
       "high               float64            2513           0\n",
       "low                float64            2513           0\n",
       "close              float64            2513           0\n",
       "volume             float64            2513           0\n",
       "ma5                float64            2513           0\n",
       "ma20               float64            2513           0\n",
       "ma50               float64            2513           0\n",
       "volatility         float64            2513           0\n",
       "volume_ma20        float64            2513           0\n",
       "return             float64            2513           0\n",
       "day_of_week        float64            2513           0\n",
       "month              float64            2513           0\n",
       "day_of_month       float64            2513           0\n",
       "quarter            float64            2513           0\n",
       "is_month_start     float64            2513           0\n",
       "is_month_end       float64            2513           0\n",
       "rsi_14             float64            2513           0\n",
       "macd               float64            2513           0\n",
       "macd_signal        float64            2513           0\n",
       "macd_hist          float64            2513           0\n",
       "bb_middle          float64            2513           0\n",
       "bb_std             float64            2513           0\n",
       "bb_upper           float64            2513           0\n",
       "bb_lower           float64            2513           0\n",
       "bb_width           float64            2513           0\n",
       "bb_pct             float64            2513           0\n",
       "price_diff         float64            2513           0\n",
       "high_low_diff      float64            2513           0\n",
       "close_shift_1      float64            2513           0\n",
       "close_shift_2      float64            2513           0\n",
       "close_shift_3      float64            2513           0\n",
       "target             float64            2513           0\n",
       "price_up             int64            2513           0\n",
       "pct_change_target  float64            2513           0\n",
       "close_original     float64            2513           0\n",
       "target_original    float64            2513           0"
      ]
     },
     "metadata": {},
     "output_type": "display_data"
    },
    {
     "name": "stdout",
     "output_type": "stream",
     "text": [
      "\n",
      "--------------------------------------------------------------------------------\n",
      "\n"
     ]
    },
    {
     "data": {
      "text/markdown": [
       "## 📊 xgboost/week/AAPL_xgboost_week.csv"
      ],
      "text/plain": [
       "<IPython.core.display.Markdown object>"
      ]
     },
     "metadata": {},
     "output_type": "display_data"
    },
    {
     "data": {
      "text/markdown": [
       "**Shape:** 2508 rows × 41 columns"
      ],
      "text/plain": [
       "<IPython.core.display.Markdown object>"
      ]
     },
     "metadata": {},
     "output_type": "display_data"
    },
    {
     "data": {
      "application/vnd.microsoft.datawrangler.viewer.v0+json": {
       "columns": [
        {
         "name": "index",
         "rawType": "int64",
         "type": "integer"
        },
        {
         "name": "date",
         "rawType": "object",
         "type": "string"
        },
        {
         "name": "open",
         "rawType": "float64",
         "type": "float"
        },
        {
         "name": "high",
         "rawType": "float64",
         "type": "float"
        },
        {
         "name": "low",
         "rawType": "float64",
         "type": "float"
        },
        {
         "name": "close",
         "rawType": "float64",
         "type": "float"
        },
        {
         "name": "volume",
         "rawType": "float64",
         "type": "float"
        },
        {
         "name": "ma5",
         "rawType": "float64",
         "type": "float"
        },
        {
         "name": "ma20",
         "rawType": "float64",
         "type": "float"
        },
        {
         "name": "ma50",
         "rawType": "float64",
         "type": "float"
        },
        {
         "name": "volatility",
         "rawType": "float64",
         "type": "float"
        },
        {
         "name": "volume_ma20",
         "rawType": "float64",
         "type": "float"
        },
        {
         "name": "return",
         "rawType": "float64",
         "type": "float"
        },
        {
         "name": "day_of_week",
         "rawType": "float64",
         "type": "float"
        },
        {
         "name": "month",
         "rawType": "float64",
         "type": "float"
        },
        {
         "name": "day_of_month",
         "rawType": "float64",
         "type": "float"
        },
        {
         "name": "quarter",
         "rawType": "float64",
         "type": "float"
        },
        {
         "name": "is_month_start",
         "rawType": "float64",
         "type": "float"
        },
        {
         "name": "is_month_end",
         "rawType": "float64",
         "type": "float"
        },
        {
         "name": "rsi_14",
         "rawType": "float64",
         "type": "float"
        },
        {
         "name": "macd",
         "rawType": "float64",
         "type": "float"
        },
        {
         "name": "macd_signal",
         "rawType": "float64",
         "type": "float"
        },
        {
         "name": "macd_hist",
         "rawType": "float64",
         "type": "float"
        },
        {
         "name": "bb_middle",
         "rawType": "float64",
         "type": "float"
        },
        {
         "name": "bb_std",
         "rawType": "float64",
         "type": "float"
        },
        {
         "name": "bb_upper",
         "rawType": "float64",
         "type": "float"
        },
        {
         "name": "bb_lower",
         "rawType": "float64",
         "type": "float"
        },
        {
         "name": "bb_width",
         "rawType": "float64",
         "type": "float"
        },
        {
         "name": "bb_pct",
         "rawType": "float64",
         "type": "float"
        },
        {
         "name": "price_diff",
         "rawType": "float64",
         "type": "float"
        },
        {
         "name": "high_low_diff",
         "rawType": "float64",
         "type": "float"
        },
        {
         "name": "close_shift_1",
         "rawType": "float64",
         "type": "float"
        },
        {
         "name": "close_shift_2",
         "rawType": "float64",
         "type": "float"
        },
        {
         "name": "close_shift_3",
         "rawType": "float64",
         "type": "float"
        },
        {
         "name": "next_day_close",
         "rawType": "float64",
         "type": "float"
        },
        {
         "name": "price_up",
         "rawType": "int64",
         "type": "integer"
        },
        {
         "name": "pct_change_next_day",
         "rawType": "float64",
         "type": "float"
        },
        {
         "name": "close_original",
         "rawType": "float64",
         "type": "float"
        },
        {
         "name": "next_day_close_original",
         "rawType": "float64",
         "type": "float"
        },
        {
         "name": "target",
         "rawType": "float64",
         "type": "float"
        },
        {
         "name": "target_original",
         "rawType": "float64",
         "type": "float"
        },
        {
         "name": "pct_change_target",
         "rawType": "float64",
         "type": "float"
        }
       ],
       "conversionMethod": "pd.DataFrame",
       "ref": "62e1a2f4-36a1-4f18-a7ad-eafe7081fa1e",
       "rows": [
        [
         "0",
         "2015-05-13 04:00:00+00:00",
         "-1.0619342438082486",
         "-1.063039561397367",
         "-1.058485944053317",
         "-1.0625648293912582",
         "0.4251223392022404",
         "-1.0522868437160255",
         "-1.044765362314209",
         "-1.0417716942249644",
         "-0.7508059330516941",
         "1.190667001529332",
         "1.2113369226457984",
         "-0.0182153781300644",
         "-0.451512699341476",
         "-0.3127404723133751",
         "-0.4618532881459772",
         "-0.1813317859753617",
         "-0.1882410503494676",
         "-3.9454601610670445e-16",
         "-0.2202117415211648",
         "-0.2376101169353792",
         "0.0054604790217281",
         "0.0",
         "0.0",
         "0.0",
         "0.0",
         "2.462368167411408e-16",
         "0.0",
         "-0.072415648634011",
         "-0.8838675222960607",
         "2.0766158653407398e-16",
         "0.0",
         "0.0",
         "28.918397903442383",
         "1",
         "-0.0013960956151701",
         "28.25906753540039",
         "28.918397903442383",
         "-1.0507784553894923",
         "29.065960693359376",
         "0.0285534247351999"
        ],
        [
         "1",
         "2015-05-14 04:00:00+00:00",
         "-1.0578015701487566",
         "-1.0573302457402094",
         "-1.0542119381520534",
         "-1.0529339207240915",
         "1.076340503871862",
         "-1.0522868437160255",
         "-1.044765362314209",
         "-1.0417716942249644",
         "-0.7508059330516941",
         "1.190667001529332",
         "1.2113369226457984",
         "0.6970228287582477",
         "-0.451512699341476",
         "-0.1986410520283124",
         "-0.4618532881459772",
         "-0.1813317859753617",
         "-0.1882410503494676",
         "-3.9454601610670445e-16",
         "-0.1969371093222014",
         "-0.2326264831536019",
         "0.0643587720252948",
         "0.0",
         "0.0",
         "0.0",
         "0.0",
         "2.462368167411408e-16",
         "0.0",
         "0.1334104095617059",
         "-0.8333395520209266",
         "-1.062423912695981",
         "0.0",
         "0.0",
         "28.87802505493164",
         "1",
         "0.011027580377324",
         "28.918397903442383",
         "28.87802505493164",
         "-1.0491798726032675",
         "29.175399398803712",
         "0.008887127710859"
        ],
        [
         "2",
         "2015-05-15 04:00:00+00:00",
         "-1.0523571511751335",
         "-1.0555786257580386",
         "-1.050733266213053",
         "-1.053523651207453",
         "0.6428580958193431",
         "-1.0522868437160255",
         "-1.044765362314209",
         "-1.0417716942249644",
         "-0.7508059330516941",
         "1.190667001529332",
         "-0.1271944766104865",
         "1.41226103564656",
         "-0.451512699341476",
         "-0.0845416317432497",
         "-0.4618532881459772",
         "-0.1813317859753617",
         "-0.1882410503494676",
         "-3.9454601610670445e-16",
         "-0.1803924146968346",
         "-0.2250969766860354",
         "0.0944467684478387",
         "0.0",
         "0.0",
         "0.0",
         "0.0",
         "2.462368167411408e-16",
         "0.0",
         "-0.0920186584885263",
         "-0.8881679383552058",
         "-1.0527891938123073",
         "-1.0622794103981168",
         "0.0",
         "29.19647979736328",
         "1",
         "-0.0009215825794696",
         "28.87802505493164",
         "29.19647979736328",
         "-1.046709914062443",
         "29.34449234008789",
         "0.0161530189224829"
        ],
        [
         "3",
         "2015-05-18 04:00:00+00:00",
         "-1.0546201657794605",
         "-1.0515885749978056",
         "-1.0502362424760638",
         "-1.0488719489840392",
         "1.4282695994752463",
         "-1.0522868437160255",
         "-1.044765362314209",
         "-1.0417716942249644",
         "-0.7508059330516941",
         "1.190667001529332",
         "0.5453087077779014",
         "-1.4486917919066888",
         "-0.451512699341476",
         "0.2577566291119383",
         "-0.4618532881459772",
         "-0.1813317859753617",
         "-0.1882410503494676",
         "-3.9454601610670445e-16",
         "-0.1566422456980211",
         "-0.2139879143699063",
         "0.1367511869551074",
         "0.0",
         "0.0",
         "0.0",
         "0.0",
         "2.462368167411408e-16",
         "0.0",
         "0.1664902472530612",
         "-0.7720593813635127",
         "-1.0533791576070728",
         "-1.0526409712469982",
         "-1.0621413846759282",
         "29.169572830200195",
         "1",
         "-7.696202319762424e-05",
         "29.19647979736328",
         "29.169572830200195",
         "-1.0470833496700764",
         "29.318927001953124",
         "0.0041939030129549"
        ],
        [
         "4",
         "2015-05-19 04:00:00+00:00",
         "-1.0470437194459057",
         "-1.0510694935369402",
         "-1.0459954091838128",
         "-1.04926498190929",
         "1.0410013548028387",
         "-1.0522868437160255",
         "-1.044765362314209",
         "-1.0417716942249644",
         "-0.7508059330516941",
         "1.190667001529332",
         "-0.1015087192118565",
         "-0.7334535850183767",
         "-0.451512699341476",
         "0.371856049397001",
         "-0.4618532881459772",
         "-0.1813317859753617",
         "-0.1882410503494676",
         "-3.9454601610670445e-16",
         "-0.1397088291007149",
         "-0.2014748307648802",
         "0.1533443920094332",
         "0.0",
         "0.0",
         "0.0",
         "0.0",
         "2.462368167411408e-16",
         "0.0",
         "-0.1312228330866754",
         "-0.8924674859094961",
         "-1.048725615059635",
         "-1.0532311628453068",
         "-1.0524990390218802",
         "29.16732788085937",
         "1",
         "0.0102259470261731",
         "29.169572830200195",
         "29.16732788085937",
         "-1.045792712791755",
         "29.407283782958984",
         "0.0081492778157066"
        ]
       ],
       "shape": {
        "columns": 41,
        "rows": 5
       }
      },
      "text/html": [
       "<div>\n",
       "<style scoped>\n",
       "    .dataframe tbody tr th:only-of-type {\n",
       "        vertical-align: middle;\n",
       "    }\n",
       "\n",
       "    .dataframe tbody tr th {\n",
       "        vertical-align: top;\n",
       "    }\n",
       "\n",
       "    .dataframe thead th {\n",
       "        text-align: right;\n",
       "    }\n",
       "</style>\n",
       "<table border=\"1\" class=\"dataframe\">\n",
       "  <thead>\n",
       "    <tr style=\"text-align: right;\">\n",
       "      <th></th>\n",
       "      <th>date</th>\n",
       "      <th>open</th>\n",
       "      <th>high</th>\n",
       "      <th>low</th>\n",
       "      <th>close</th>\n",
       "      <th>volume</th>\n",
       "      <th>ma5</th>\n",
       "      <th>ma20</th>\n",
       "      <th>ma50</th>\n",
       "      <th>volatility</th>\n",
       "      <th>...</th>\n",
       "      <th>close_shift_2</th>\n",
       "      <th>close_shift_3</th>\n",
       "      <th>next_day_close</th>\n",
       "      <th>price_up</th>\n",
       "      <th>pct_change_next_day</th>\n",
       "      <th>close_original</th>\n",
       "      <th>next_day_close_original</th>\n",
       "      <th>target</th>\n",
       "      <th>target_original</th>\n",
       "      <th>pct_change_target</th>\n",
       "    </tr>\n",
       "  </thead>\n",
       "  <tbody>\n",
       "    <tr>\n",
       "      <th>0</th>\n",
       "      <td>2015-05-13 04:00:00+00:00</td>\n",
       "      <td>-1.061934</td>\n",
       "      <td>-1.063040</td>\n",
       "      <td>-1.058486</td>\n",
       "      <td>-1.062565</td>\n",
       "      <td>0.425122</td>\n",
       "      <td>-1.052287</td>\n",
       "      <td>-1.044765</td>\n",
       "      <td>-1.041772</td>\n",
       "      <td>-0.750806</td>\n",
       "      <td>...</td>\n",
       "      <td>0.000000</td>\n",
       "      <td>0.000000</td>\n",
       "      <td>28.918398</td>\n",
       "      <td>1</td>\n",
       "      <td>-0.001396</td>\n",
       "      <td>28.259068</td>\n",
       "      <td>28.918398</td>\n",
       "      <td>-1.050778</td>\n",
       "      <td>29.065961</td>\n",
       "      <td>0.028553</td>\n",
       "    </tr>\n",
       "    <tr>\n",
       "      <th>1</th>\n",
       "      <td>2015-05-14 04:00:00+00:00</td>\n",
       "      <td>-1.057802</td>\n",
       "      <td>-1.057330</td>\n",
       "      <td>-1.054212</td>\n",
       "      <td>-1.052934</td>\n",
       "      <td>1.076341</td>\n",
       "      <td>-1.052287</td>\n",
       "      <td>-1.044765</td>\n",
       "      <td>-1.041772</td>\n",
       "      <td>-0.750806</td>\n",
       "      <td>...</td>\n",
       "      <td>0.000000</td>\n",
       "      <td>0.000000</td>\n",
       "      <td>28.878025</td>\n",
       "      <td>1</td>\n",
       "      <td>0.011028</td>\n",
       "      <td>28.918398</td>\n",
       "      <td>28.878025</td>\n",
       "      <td>-1.049180</td>\n",
       "      <td>29.175399</td>\n",
       "      <td>0.008887</td>\n",
       "    </tr>\n",
       "    <tr>\n",
       "      <th>2</th>\n",
       "      <td>2015-05-15 04:00:00+00:00</td>\n",
       "      <td>-1.052357</td>\n",
       "      <td>-1.055579</td>\n",
       "      <td>-1.050733</td>\n",
       "      <td>-1.053524</td>\n",
       "      <td>0.642858</td>\n",
       "      <td>-1.052287</td>\n",
       "      <td>-1.044765</td>\n",
       "      <td>-1.041772</td>\n",
       "      <td>-0.750806</td>\n",
       "      <td>...</td>\n",
       "      <td>-1.062279</td>\n",
       "      <td>0.000000</td>\n",
       "      <td>29.196480</td>\n",
       "      <td>1</td>\n",
       "      <td>-0.000922</td>\n",
       "      <td>28.878025</td>\n",
       "      <td>29.196480</td>\n",
       "      <td>-1.046710</td>\n",
       "      <td>29.344492</td>\n",
       "      <td>0.016153</td>\n",
       "    </tr>\n",
       "    <tr>\n",
       "      <th>3</th>\n",
       "      <td>2015-05-18 04:00:00+00:00</td>\n",
       "      <td>-1.054620</td>\n",
       "      <td>-1.051589</td>\n",
       "      <td>-1.050236</td>\n",
       "      <td>-1.048872</td>\n",
       "      <td>1.428270</td>\n",
       "      <td>-1.052287</td>\n",
       "      <td>-1.044765</td>\n",
       "      <td>-1.041772</td>\n",
       "      <td>-0.750806</td>\n",
       "      <td>...</td>\n",
       "      <td>-1.052641</td>\n",
       "      <td>-1.062141</td>\n",
       "      <td>29.169573</td>\n",
       "      <td>1</td>\n",
       "      <td>-0.000077</td>\n",
       "      <td>29.196480</td>\n",
       "      <td>29.169573</td>\n",
       "      <td>-1.047083</td>\n",
       "      <td>29.318927</td>\n",
       "      <td>0.004194</td>\n",
       "    </tr>\n",
       "    <tr>\n",
       "      <th>4</th>\n",
       "      <td>2015-05-19 04:00:00+00:00</td>\n",
       "      <td>-1.047044</td>\n",
       "      <td>-1.051069</td>\n",
       "      <td>-1.045995</td>\n",
       "      <td>-1.049265</td>\n",
       "      <td>1.041001</td>\n",
       "      <td>-1.052287</td>\n",
       "      <td>-1.044765</td>\n",
       "      <td>-1.041772</td>\n",
       "      <td>-0.750806</td>\n",
       "      <td>...</td>\n",
       "      <td>-1.053231</td>\n",
       "      <td>-1.052499</td>\n",
       "      <td>29.167328</td>\n",
       "      <td>1</td>\n",
       "      <td>0.010226</td>\n",
       "      <td>29.169573</td>\n",
       "      <td>29.167328</td>\n",
       "      <td>-1.045793</td>\n",
       "      <td>29.407284</td>\n",
       "      <td>0.008149</td>\n",
       "    </tr>\n",
       "  </tbody>\n",
       "</table>\n",
       "<p>5 rows × 41 columns</p>\n",
       "</div>"
      ],
      "text/plain": [
       "                        date      open      high       low     close  \\\n",
       "0  2015-05-13 04:00:00+00:00 -1.061934 -1.063040 -1.058486 -1.062565   \n",
       "1  2015-05-14 04:00:00+00:00 -1.057802 -1.057330 -1.054212 -1.052934   \n",
       "2  2015-05-15 04:00:00+00:00 -1.052357 -1.055579 -1.050733 -1.053524   \n",
       "3  2015-05-18 04:00:00+00:00 -1.054620 -1.051589 -1.050236 -1.048872   \n",
       "4  2015-05-19 04:00:00+00:00 -1.047044 -1.051069 -1.045995 -1.049265   \n",
       "\n",
       "     volume       ma5      ma20      ma50  volatility  ...  close_shift_2  \\\n",
       "0  0.425122 -1.052287 -1.044765 -1.041772   -0.750806  ...       0.000000   \n",
       "1  1.076341 -1.052287 -1.044765 -1.041772   -0.750806  ...       0.000000   \n",
       "2  0.642858 -1.052287 -1.044765 -1.041772   -0.750806  ...      -1.062279   \n",
       "3  1.428270 -1.052287 -1.044765 -1.041772   -0.750806  ...      -1.052641   \n",
       "4  1.041001 -1.052287 -1.044765 -1.041772   -0.750806  ...      -1.053231   \n",
       "\n",
       "   close_shift_3  next_day_close  price_up  pct_change_next_day  \\\n",
       "0       0.000000       28.918398         1            -0.001396   \n",
       "1       0.000000       28.878025         1             0.011028   \n",
       "2       0.000000       29.196480         1            -0.000922   \n",
       "3      -1.062141       29.169573         1            -0.000077   \n",
       "4      -1.052499       29.167328         1             0.010226   \n",
       "\n",
       "   close_original  next_day_close_original    target  target_original  \\\n",
       "0       28.259068                28.918398 -1.050778        29.065961   \n",
       "1       28.918398                28.878025 -1.049180        29.175399   \n",
       "2       28.878025                29.196480 -1.046710        29.344492   \n",
       "3       29.196480                29.169573 -1.047083        29.318927   \n",
       "4       29.169573                29.167328 -1.045793        29.407284   \n",
       "\n",
       "   pct_change_target  \n",
       "0           0.028553  \n",
       "1           0.008887  \n",
       "2           0.016153  \n",
       "3           0.004194  \n",
       "4           0.008149  \n",
       "\n",
       "[5 rows x 41 columns]"
      ]
     },
     "metadata": {},
     "output_type": "display_data"
    },
    {
     "data": {
      "text/markdown": [
       "**Columns:**"
      ],
      "text/plain": [
       "<IPython.core.display.Markdown object>"
      ]
     },
     "metadata": {},
     "output_type": "display_data"
    },
    {
     "data": {
      "application/vnd.microsoft.datawrangler.viewer.v0+json": {
       "columns": [
        {
         "name": "index",
         "rawType": "object",
         "type": "string"
        },
        {
         "name": "Type",
         "rawType": "object",
         "type": "unknown"
        },
        {
         "name": "Non-Null Count",
         "rawType": "int64",
         "type": "integer"
        },
        {
         "name": "Null Count",
         "rawType": "int64",
         "type": "integer"
        }
       ],
       "conversionMethod": "pd.DataFrame",
       "ref": "a5c060db-53f4-48d5-8d93-35230f743028",
       "rows": [
        [
         "date",
         "object",
         "2508",
         "0"
        ],
        [
         "open",
         "float64",
         "2508",
         "0"
        ],
        [
         "high",
         "float64",
         "2508",
         "0"
        ],
        [
         "low",
         "float64",
         "2508",
         "0"
        ],
        [
         "close",
         "float64",
         "2508",
         "0"
        ],
        [
         "volume",
         "float64",
         "2508",
         "0"
        ],
        [
         "ma5",
         "float64",
         "2508",
         "0"
        ],
        [
         "ma20",
         "float64",
         "2508",
         "0"
        ],
        [
         "ma50",
         "float64",
         "2508",
         "0"
        ],
        [
         "volatility",
         "float64",
         "2508",
         "0"
        ],
        [
         "volume_ma20",
         "float64",
         "2508",
         "0"
        ],
        [
         "return",
         "float64",
         "2508",
         "0"
        ],
        [
         "day_of_week",
         "float64",
         "2508",
         "0"
        ],
        [
         "month",
         "float64",
         "2508",
         "0"
        ],
        [
         "day_of_month",
         "float64",
         "2508",
         "0"
        ],
        [
         "quarter",
         "float64",
         "2508",
         "0"
        ],
        [
         "is_month_start",
         "float64",
         "2508",
         "0"
        ],
        [
         "is_month_end",
         "float64",
         "2508",
         "0"
        ],
        [
         "rsi_14",
         "float64",
         "2508",
         "0"
        ],
        [
         "macd",
         "float64",
         "2508",
         "0"
        ],
        [
         "macd_signal",
         "float64",
         "2508",
         "0"
        ],
        [
         "macd_hist",
         "float64",
         "2508",
         "0"
        ],
        [
         "bb_middle",
         "float64",
         "2508",
         "0"
        ],
        [
         "bb_std",
         "float64",
         "2508",
         "0"
        ],
        [
         "bb_upper",
         "float64",
         "2508",
         "0"
        ],
        [
         "bb_lower",
         "float64",
         "2508",
         "0"
        ],
        [
         "bb_width",
         "float64",
         "2508",
         "0"
        ],
        [
         "bb_pct",
         "float64",
         "2508",
         "0"
        ],
        [
         "price_diff",
         "float64",
         "2508",
         "0"
        ],
        [
         "high_low_diff",
         "float64",
         "2508",
         "0"
        ],
        [
         "close_shift_1",
         "float64",
         "2508",
         "0"
        ],
        [
         "close_shift_2",
         "float64",
         "2508",
         "0"
        ],
        [
         "close_shift_3",
         "float64",
         "2508",
         "0"
        ],
        [
         "next_day_close",
         "float64",
         "2508",
         "0"
        ],
        [
         "price_up",
         "int64",
         "2508",
         "0"
        ],
        [
         "pct_change_next_day",
         "float64",
         "2508",
         "0"
        ],
        [
         "close_original",
         "float64",
         "2508",
         "0"
        ],
        [
         "next_day_close_original",
         "float64",
         "2508",
         "0"
        ],
        [
         "target",
         "float64",
         "2508",
         "0"
        ],
        [
         "target_original",
         "float64",
         "2508",
         "0"
        ],
        [
         "pct_change_target",
         "float64",
         "2508",
         "0"
        ]
       ],
       "shape": {
        "columns": 3,
        "rows": 41
       }
      },
      "text/html": [
       "<div>\n",
       "<style scoped>\n",
       "    .dataframe tbody tr th:only-of-type {\n",
       "        vertical-align: middle;\n",
       "    }\n",
       "\n",
       "    .dataframe tbody tr th {\n",
       "        vertical-align: top;\n",
       "    }\n",
       "\n",
       "    .dataframe thead th {\n",
       "        text-align: right;\n",
       "    }\n",
       "</style>\n",
       "<table border=\"1\" class=\"dataframe\">\n",
       "  <thead>\n",
       "    <tr style=\"text-align: right;\">\n",
       "      <th></th>\n",
       "      <th>Type</th>\n",
       "      <th>Non-Null Count</th>\n",
       "      <th>Null Count</th>\n",
       "    </tr>\n",
       "  </thead>\n",
       "  <tbody>\n",
       "    <tr>\n",
       "      <th>date</th>\n",
       "      <td>object</td>\n",
       "      <td>2508</td>\n",
       "      <td>0</td>\n",
       "    </tr>\n",
       "    <tr>\n",
       "      <th>open</th>\n",
       "      <td>float64</td>\n",
       "      <td>2508</td>\n",
       "      <td>0</td>\n",
       "    </tr>\n",
       "    <tr>\n",
       "      <th>high</th>\n",
       "      <td>float64</td>\n",
       "      <td>2508</td>\n",
       "      <td>0</td>\n",
       "    </tr>\n",
       "    <tr>\n",
       "      <th>low</th>\n",
       "      <td>float64</td>\n",
       "      <td>2508</td>\n",
       "      <td>0</td>\n",
       "    </tr>\n",
       "    <tr>\n",
       "      <th>close</th>\n",
       "      <td>float64</td>\n",
       "      <td>2508</td>\n",
       "      <td>0</td>\n",
       "    </tr>\n",
       "    <tr>\n",
       "      <th>volume</th>\n",
       "      <td>float64</td>\n",
       "      <td>2508</td>\n",
       "      <td>0</td>\n",
       "    </tr>\n",
       "    <tr>\n",
       "      <th>ma5</th>\n",
       "      <td>float64</td>\n",
       "      <td>2508</td>\n",
       "      <td>0</td>\n",
       "    </tr>\n",
       "    <tr>\n",
       "      <th>ma20</th>\n",
       "      <td>float64</td>\n",
       "      <td>2508</td>\n",
       "      <td>0</td>\n",
       "    </tr>\n",
       "    <tr>\n",
       "      <th>ma50</th>\n",
       "      <td>float64</td>\n",
       "      <td>2508</td>\n",
       "      <td>0</td>\n",
       "    </tr>\n",
       "    <tr>\n",
       "      <th>volatility</th>\n",
       "      <td>float64</td>\n",
       "      <td>2508</td>\n",
       "      <td>0</td>\n",
       "    </tr>\n",
       "    <tr>\n",
       "      <th>volume_ma20</th>\n",
       "      <td>float64</td>\n",
       "      <td>2508</td>\n",
       "      <td>0</td>\n",
       "    </tr>\n",
       "    <tr>\n",
       "      <th>return</th>\n",
       "      <td>float64</td>\n",
       "      <td>2508</td>\n",
       "      <td>0</td>\n",
       "    </tr>\n",
       "    <tr>\n",
       "      <th>day_of_week</th>\n",
       "      <td>float64</td>\n",
       "      <td>2508</td>\n",
       "      <td>0</td>\n",
       "    </tr>\n",
       "    <tr>\n",
       "      <th>month</th>\n",
       "      <td>float64</td>\n",
       "      <td>2508</td>\n",
       "      <td>0</td>\n",
       "    </tr>\n",
       "    <tr>\n",
       "      <th>day_of_month</th>\n",
       "      <td>float64</td>\n",
       "      <td>2508</td>\n",
       "      <td>0</td>\n",
       "    </tr>\n",
       "    <tr>\n",
       "      <th>quarter</th>\n",
       "      <td>float64</td>\n",
       "      <td>2508</td>\n",
       "      <td>0</td>\n",
       "    </tr>\n",
       "    <tr>\n",
       "      <th>is_month_start</th>\n",
       "      <td>float64</td>\n",
       "      <td>2508</td>\n",
       "      <td>0</td>\n",
       "    </tr>\n",
       "    <tr>\n",
       "      <th>is_month_end</th>\n",
       "      <td>float64</td>\n",
       "      <td>2508</td>\n",
       "      <td>0</td>\n",
       "    </tr>\n",
       "    <tr>\n",
       "      <th>rsi_14</th>\n",
       "      <td>float64</td>\n",
       "      <td>2508</td>\n",
       "      <td>0</td>\n",
       "    </tr>\n",
       "    <tr>\n",
       "      <th>macd</th>\n",
       "      <td>float64</td>\n",
       "      <td>2508</td>\n",
       "      <td>0</td>\n",
       "    </tr>\n",
       "    <tr>\n",
       "      <th>macd_signal</th>\n",
       "      <td>float64</td>\n",
       "      <td>2508</td>\n",
       "      <td>0</td>\n",
       "    </tr>\n",
       "    <tr>\n",
       "      <th>macd_hist</th>\n",
       "      <td>float64</td>\n",
       "      <td>2508</td>\n",
       "      <td>0</td>\n",
       "    </tr>\n",
       "    <tr>\n",
       "      <th>bb_middle</th>\n",
       "      <td>float64</td>\n",
       "      <td>2508</td>\n",
       "      <td>0</td>\n",
       "    </tr>\n",
       "    <tr>\n",
       "      <th>bb_std</th>\n",
       "      <td>float64</td>\n",
       "      <td>2508</td>\n",
       "      <td>0</td>\n",
       "    </tr>\n",
       "    <tr>\n",
       "      <th>bb_upper</th>\n",
       "      <td>float64</td>\n",
       "      <td>2508</td>\n",
       "      <td>0</td>\n",
       "    </tr>\n",
       "    <tr>\n",
       "      <th>bb_lower</th>\n",
       "      <td>float64</td>\n",
       "      <td>2508</td>\n",
       "      <td>0</td>\n",
       "    </tr>\n",
       "    <tr>\n",
       "      <th>bb_width</th>\n",
       "      <td>float64</td>\n",
       "      <td>2508</td>\n",
       "      <td>0</td>\n",
       "    </tr>\n",
       "    <tr>\n",
       "      <th>bb_pct</th>\n",
       "      <td>float64</td>\n",
       "      <td>2508</td>\n",
       "      <td>0</td>\n",
       "    </tr>\n",
       "    <tr>\n",
       "      <th>price_diff</th>\n",
       "      <td>float64</td>\n",
       "      <td>2508</td>\n",
       "      <td>0</td>\n",
       "    </tr>\n",
       "    <tr>\n",
       "      <th>high_low_diff</th>\n",
       "      <td>float64</td>\n",
       "      <td>2508</td>\n",
       "      <td>0</td>\n",
       "    </tr>\n",
       "    <tr>\n",
       "      <th>close_shift_1</th>\n",
       "      <td>float64</td>\n",
       "      <td>2508</td>\n",
       "      <td>0</td>\n",
       "    </tr>\n",
       "    <tr>\n",
       "      <th>close_shift_2</th>\n",
       "      <td>float64</td>\n",
       "      <td>2508</td>\n",
       "      <td>0</td>\n",
       "    </tr>\n",
       "    <tr>\n",
       "      <th>close_shift_3</th>\n",
       "      <td>float64</td>\n",
       "      <td>2508</td>\n",
       "      <td>0</td>\n",
       "    </tr>\n",
       "    <tr>\n",
       "      <th>next_day_close</th>\n",
       "      <td>float64</td>\n",
       "      <td>2508</td>\n",
       "      <td>0</td>\n",
       "    </tr>\n",
       "    <tr>\n",
       "      <th>price_up</th>\n",
       "      <td>int64</td>\n",
       "      <td>2508</td>\n",
       "      <td>0</td>\n",
       "    </tr>\n",
       "    <tr>\n",
       "      <th>pct_change_next_day</th>\n",
       "      <td>float64</td>\n",
       "      <td>2508</td>\n",
       "      <td>0</td>\n",
       "    </tr>\n",
       "    <tr>\n",
       "      <th>close_original</th>\n",
       "      <td>float64</td>\n",
       "      <td>2508</td>\n",
       "      <td>0</td>\n",
       "    </tr>\n",
       "    <tr>\n",
       "      <th>next_day_close_original</th>\n",
       "      <td>float64</td>\n",
       "      <td>2508</td>\n",
       "      <td>0</td>\n",
       "    </tr>\n",
       "    <tr>\n",
       "      <th>target</th>\n",
       "      <td>float64</td>\n",
       "      <td>2508</td>\n",
       "      <td>0</td>\n",
       "    </tr>\n",
       "    <tr>\n",
       "      <th>target_original</th>\n",
       "      <td>float64</td>\n",
       "      <td>2508</td>\n",
       "      <td>0</td>\n",
       "    </tr>\n",
       "    <tr>\n",
       "      <th>pct_change_target</th>\n",
       "      <td>float64</td>\n",
       "      <td>2508</td>\n",
       "      <td>0</td>\n",
       "    </tr>\n",
       "  </tbody>\n",
       "</table>\n",
       "</div>"
      ],
      "text/plain": [
       "                            Type  Non-Null Count  Null Count\n",
       "date                      object            2508           0\n",
       "open                     float64            2508           0\n",
       "high                     float64            2508           0\n",
       "low                      float64            2508           0\n",
       "close                    float64            2508           0\n",
       "volume                   float64            2508           0\n",
       "ma5                      float64            2508           0\n",
       "ma20                     float64            2508           0\n",
       "ma50                     float64            2508           0\n",
       "volatility               float64            2508           0\n",
       "volume_ma20              float64            2508           0\n",
       "return                   float64            2508           0\n",
       "day_of_week              float64            2508           0\n",
       "month                    float64            2508           0\n",
       "day_of_month             float64            2508           0\n",
       "quarter                  float64            2508           0\n",
       "is_month_start           float64            2508           0\n",
       "is_month_end             float64            2508           0\n",
       "rsi_14                   float64            2508           0\n",
       "macd                     float64            2508           0\n",
       "macd_signal              float64            2508           0\n",
       "macd_hist                float64            2508           0\n",
       "bb_middle                float64            2508           0\n",
       "bb_std                   float64            2508           0\n",
       "bb_upper                 float64            2508           0\n",
       "bb_lower                 float64            2508           0\n",
       "bb_width                 float64            2508           0\n",
       "bb_pct                   float64            2508           0\n",
       "price_diff               float64            2508           0\n",
       "high_low_diff            float64            2508           0\n",
       "close_shift_1            float64            2508           0\n",
       "close_shift_2            float64            2508           0\n",
       "close_shift_3            float64            2508           0\n",
       "next_day_close           float64            2508           0\n",
       "price_up                   int64            2508           0\n",
       "pct_change_next_day      float64            2508           0\n",
       "close_original           float64            2508           0\n",
       "next_day_close_original  float64            2508           0\n",
       "target                   float64            2508           0\n",
       "target_original          float64            2508           0\n",
       "pct_change_target        float64            2508           0"
      ]
     },
     "metadata": {},
     "output_type": "display_data"
    },
    {
     "name": "stdout",
     "output_type": "stream",
     "text": [
      "\n",
      "--------------------------------------------------------------------------------\n",
      "\n"
     ]
    },
    {
     "data": {
      "text/markdown": [
       "## 📊 xgboost/month/AAPL_xgboost_month.csv"
      ],
      "text/plain": [
       "<IPython.core.display.Markdown object>"
      ]
     },
     "metadata": {},
     "output_type": "display_data"
    },
    {
     "data": {
      "text/markdown": [
       "**Shape:** 2492 rows × 41 columns"
      ],
      "text/plain": [
       "<IPython.core.display.Markdown object>"
      ]
     },
     "metadata": {},
     "output_type": "display_data"
    },
    {
     "data": {
      "application/vnd.microsoft.datawrangler.viewer.v0+json": {
       "columns": [
        {
         "name": "index",
         "rawType": "int64",
         "type": "integer"
        },
        {
         "name": "date",
         "rawType": "object",
         "type": "string"
        },
        {
         "name": "open",
         "rawType": "float64",
         "type": "float"
        },
        {
         "name": "high",
         "rawType": "float64",
         "type": "float"
        },
        {
         "name": "low",
         "rawType": "float64",
         "type": "float"
        },
        {
         "name": "close",
         "rawType": "float64",
         "type": "float"
        },
        {
         "name": "volume",
         "rawType": "float64",
         "type": "float"
        },
        {
         "name": "ma5",
         "rawType": "float64",
         "type": "float"
        },
        {
         "name": "ma20",
         "rawType": "float64",
         "type": "float"
        },
        {
         "name": "ma50",
         "rawType": "float64",
         "type": "float"
        },
        {
         "name": "volatility",
         "rawType": "float64",
         "type": "float"
        },
        {
         "name": "volume_ma20",
         "rawType": "float64",
         "type": "float"
        },
        {
         "name": "return",
         "rawType": "float64",
         "type": "float"
        },
        {
         "name": "day_of_week",
         "rawType": "float64",
         "type": "float"
        },
        {
         "name": "month",
         "rawType": "float64",
         "type": "float"
        },
        {
         "name": "day_of_month",
         "rawType": "float64",
         "type": "float"
        },
        {
         "name": "quarter",
         "rawType": "float64",
         "type": "float"
        },
        {
         "name": "is_month_start",
         "rawType": "float64",
         "type": "float"
        },
        {
         "name": "is_month_end",
         "rawType": "float64",
         "type": "float"
        },
        {
         "name": "rsi_14",
         "rawType": "float64",
         "type": "float"
        },
        {
         "name": "macd",
         "rawType": "float64",
         "type": "float"
        },
        {
         "name": "macd_signal",
         "rawType": "float64",
         "type": "float"
        },
        {
         "name": "macd_hist",
         "rawType": "float64",
         "type": "float"
        },
        {
         "name": "bb_middle",
         "rawType": "float64",
         "type": "float"
        },
        {
         "name": "bb_std",
         "rawType": "float64",
         "type": "float"
        },
        {
         "name": "bb_upper",
         "rawType": "float64",
         "type": "float"
        },
        {
         "name": "bb_lower",
         "rawType": "float64",
         "type": "float"
        },
        {
         "name": "bb_width",
         "rawType": "float64",
         "type": "float"
        },
        {
         "name": "bb_pct",
         "rawType": "float64",
         "type": "float"
        },
        {
         "name": "price_diff",
         "rawType": "float64",
         "type": "float"
        },
        {
         "name": "high_low_diff",
         "rawType": "float64",
         "type": "float"
        },
        {
         "name": "close_shift_1",
         "rawType": "float64",
         "type": "float"
        },
        {
         "name": "close_shift_2",
         "rawType": "float64",
         "type": "float"
        },
        {
         "name": "close_shift_3",
         "rawType": "float64",
         "type": "float"
        },
        {
         "name": "next_day_close",
         "rawType": "float64",
         "type": "float"
        },
        {
         "name": "price_up",
         "rawType": "int64",
         "type": "integer"
        },
        {
         "name": "pct_change_next_day",
         "rawType": "float64",
         "type": "float"
        },
        {
         "name": "close_original",
         "rawType": "float64",
         "type": "float"
        },
        {
         "name": "next_day_close_original",
         "rawType": "float64",
         "type": "float"
        },
        {
         "name": "target",
         "rawType": "float64",
         "type": "float"
        },
        {
         "name": "target_original",
         "rawType": "float64",
         "type": "float"
        },
        {
         "name": "pct_change_target",
         "rawType": "float64",
         "type": "float"
        }
       ],
       "conversionMethod": "pd.DataFrame",
       "ref": "ec3da44b-7840-4b93-bc0b-549bbfbdaf86",
       "rows": [
        [
         "0",
         "2015-05-13 04:00:00+00:00",
         "-1.0619342438082486",
         "-1.063039561397367",
         "-1.058485944053317",
         "-1.0625648293912582",
         "0.4251223392022404",
         "-1.0522868437160255",
         "-1.044765362314209",
         "-1.0417716942249644",
         "-0.7508059330516941",
         "1.190667001529332",
         "1.2113369226457984",
         "-0.0182153781300644",
         "-0.451512699341476",
         "-0.3127404723133751",
         "-0.4618532881459772",
         "-0.1813317859753617",
         "-0.1882410503494676",
         "-3.9454601610670445e-16",
         "-0.2202117415211648",
         "-0.2376101169353792",
         "0.0054604790217281",
         "0.0",
         "0.0",
         "0.0",
         "0.0",
         "2.462368167411408e-16",
         "0.0",
         "-0.072415648634011",
         "-0.8838675222960607",
         "2.0766158653407398e-16",
         "0.0",
         "0.0",
         "28.918397903442383",
         "1",
         "-0.0013960956151701",
         "28.25906753540039",
         "28.918397903442383",
         "-1.0504022151235706",
         "29.091718037923176",
         "0.0294648965851302"
        ],
        [
         "1",
         "2015-05-14 04:00:00+00:00",
         "-1.0578015701487566",
         "-1.0573302457402094",
         "-1.0542119381520534",
         "-1.0529339207240915",
         "1.076340503871862",
         "-1.0522868437160255",
         "-1.044765362314209",
         "-1.0417716942249644",
         "-0.7508059330516941",
         "1.190667001529332",
         "1.2113369226457984",
         "0.6970228287582477",
         "-0.451512699341476",
         "-0.1986410520283124",
         "-0.4618532881459772",
         "-0.1813317859753617",
         "-0.1882410503494676",
         "-3.9454601610670445e-16",
         "-0.1969371093222014",
         "-0.2326264831536019",
         "0.0643587720252948",
         "0.0",
         "0.0",
         "0.0",
         "0.0",
         "2.462368167411408e-16",
         "0.0",
         "0.1334104095617059",
         "-0.8333395520209266",
         "-1.062423912695981",
         "0.0",
         "0.0",
         "28.87802505493164",
         "1",
         "0.011027580377324",
         "28.918397903442383",
         "28.87802505493164",
         "-1.050718880148916",
         "29.07003920418876",
         "0.005243765621204"
        ],
        [
         "2",
         "2015-05-15 04:00:00+00:00",
         "-1.0523571511751335",
         "-1.0555786257580386",
         "-1.050733266213053",
         "-1.053523651207453",
         "0.6428580958193431",
         "-1.0522868437160255",
         "-1.044765362314209",
         "-1.0417716942249644",
         "-0.7508059330516941",
         "1.190667001529332",
         "-0.1271944766104865",
         "1.41226103564656",
         "-0.451512699341476",
         "-0.0845416317432497",
         "-0.4618532881459772",
         "-0.1813317859753617",
         "-0.1882410503494676",
         "-3.9454601610670445e-16",
         "-0.1803924146968346",
         "-0.2250969766860354",
         "0.0944467684478387",
         "0.0",
         "0.0",
         "0.0",
         "0.0",
         "2.462368167411408e-16",
         "0.0",
         "-0.0920186584885263",
         "-0.8881679383552058",
         "-1.0527891938123073",
         "-1.0622794103981168",
         "0.0",
         "29.19647979736328",
         "1",
         "-0.0009215825794696",
         "28.87802505493164",
         "29.19647979736328",
         "-1.0509013845971071",
         "29.05754498073033",
         "0.0062164890243432"
        ],
        [
         "3",
         "2015-05-18 04:00:00+00:00",
         "-1.0546201657794605",
         "-1.0515885749978056",
         "-1.0502362424760638",
         "-1.0488719489840392",
         "1.4282695994752463",
         "-1.0522868437160255",
         "-1.044765362314209",
         "-1.0417716942249644",
         "-0.7508059330516941",
         "1.190667001529332",
         "0.5453087077779014",
         "-1.4486917919066888",
         "-0.451512699341476",
         "0.2577566291119383",
         "-0.4618532881459772",
         "-0.1813317859753617",
         "-0.1882410503494676",
         "-3.9454601610670445e-16",
         "-0.1566422456980211",
         "-0.2139879143699063",
         "0.1367511869551074",
         "0.0",
         "0.0",
         "0.0",
         "0.0",
         "2.462368167411408e-16",
         "0.0",
         "0.1664902472530612",
         "-0.7720593813635127",
         "-1.0533791576070728",
         "-1.0526409712469982",
         "-1.0621413846759282",
         "29.169572830200195",
         "0",
         "-7.696202319762424e-05",
         "29.19647979736328",
         "29.169572830200195",
         "-1.0513521982592446",
         "29.02668235415504",
         "-0.0058156820406675"
        ],
        [
         "4",
         "2015-05-19 04:00:00+00:00",
         "-1.0470437194459057",
         "-1.0510694935369402",
         "-1.0459954091838128",
         "-1.04926498190929",
         "1.0410013548028387",
         "-1.0522868437160255",
         "-1.044765362314209",
         "-1.0417716942249644",
         "-0.7508059330516941",
         "1.190667001529332",
         "-0.1015087192118565",
         "-0.7334535850183767",
         "-0.451512699341476",
         "0.371856049397001",
         "-0.4618532881459772",
         "-0.1813317859753617",
         "-0.1882410503494676",
         "-3.9454601610670445e-16",
         "-0.1397088291007149",
         "-0.2014748307648802",
         "0.1533443920094332",
         "0.0",
         "0.0",
         "0.0",
         "0.0",
         "2.462368167411408e-16",
         "0.0",
         "-0.1312228330866754",
         "-0.8924674859094961",
         "-1.048725615059635",
         "-1.0532311628453068",
         "-1.0524990390218802",
         "29.16732788085937",
         "0",
         "0.0102259470261731",
         "29.169572830200195",
         "29.16732788085937",
         "-1.051693822620626",
         "29.003294808524",
         "-0.005700392756662"
        ]
       ],
       "shape": {
        "columns": 41,
        "rows": 5
       }
      },
      "text/html": [
       "<div>\n",
       "<style scoped>\n",
       "    .dataframe tbody tr th:only-of-type {\n",
       "        vertical-align: middle;\n",
       "    }\n",
       "\n",
       "    .dataframe tbody tr th {\n",
       "        vertical-align: top;\n",
       "    }\n",
       "\n",
       "    .dataframe thead th {\n",
       "        text-align: right;\n",
       "    }\n",
       "</style>\n",
       "<table border=\"1\" class=\"dataframe\">\n",
       "  <thead>\n",
       "    <tr style=\"text-align: right;\">\n",
       "      <th></th>\n",
       "      <th>date</th>\n",
       "      <th>open</th>\n",
       "      <th>high</th>\n",
       "      <th>low</th>\n",
       "      <th>close</th>\n",
       "      <th>volume</th>\n",
       "      <th>ma5</th>\n",
       "      <th>ma20</th>\n",
       "      <th>ma50</th>\n",
       "      <th>volatility</th>\n",
       "      <th>...</th>\n",
       "      <th>close_shift_2</th>\n",
       "      <th>close_shift_3</th>\n",
       "      <th>next_day_close</th>\n",
       "      <th>price_up</th>\n",
       "      <th>pct_change_next_day</th>\n",
       "      <th>close_original</th>\n",
       "      <th>next_day_close_original</th>\n",
       "      <th>target</th>\n",
       "      <th>target_original</th>\n",
       "      <th>pct_change_target</th>\n",
       "    </tr>\n",
       "  </thead>\n",
       "  <tbody>\n",
       "    <tr>\n",
       "      <th>0</th>\n",
       "      <td>2015-05-13 04:00:00+00:00</td>\n",
       "      <td>-1.061934</td>\n",
       "      <td>-1.063040</td>\n",
       "      <td>-1.058486</td>\n",
       "      <td>-1.062565</td>\n",
       "      <td>0.425122</td>\n",
       "      <td>-1.052287</td>\n",
       "      <td>-1.044765</td>\n",
       "      <td>-1.041772</td>\n",
       "      <td>-0.750806</td>\n",
       "      <td>...</td>\n",
       "      <td>0.000000</td>\n",
       "      <td>0.000000</td>\n",
       "      <td>28.918398</td>\n",
       "      <td>1</td>\n",
       "      <td>-0.001396</td>\n",
       "      <td>28.259068</td>\n",
       "      <td>28.918398</td>\n",
       "      <td>-1.050402</td>\n",
       "      <td>29.091718</td>\n",
       "      <td>0.029465</td>\n",
       "    </tr>\n",
       "    <tr>\n",
       "      <th>1</th>\n",
       "      <td>2015-05-14 04:00:00+00:00</td>\n",
       "      <td>-1.057802</td>\n",
       "      <td>-1.057330</td>\n",
       "      <td>-1.054212</td>\n",
       "      <td>-1.052934</td>\n",
       "      <td>1.076341</td>\n",
       "      <td>-1.052287</td>\n",
       "      <td>-1.044765</td>\n",
       "      <td>-1.041772</td>\n",
       "      <td>-0.750806</td>\n",
       "      <td>...</td>\n",
       "      <td>0.000000</td>\n",
       "      <td>0.000000</td>\n",
       "      <td>28.878025</td>\n",
       "      <td>1</td>\n",
       "      <td>0.011028</td>\n",
       "      <td>28.918398</td>\n",
       "      <td>28.878025</td>\n",
       "      <td>-1.050719</td>\n",
       "      <td>29.070039</td>\n",
       "      <td>0.005244</td>\n",
       "    </tr>\n",
       "    <tr>\n",
       "      <th>2</th>\n",
       "      <td>2015-05-15 04:00:00+00:00</td>\n",
       "      <td>-1.052357</td>\n",
       "      <td>-1.055579</td>\n",
       "      <td>-1.050733</td>\n",
       "      <td>-1.053524</td>\n",
       "      <td>0.642858</td>\n",
       "      <td>-1.052287</td>\n",
       "      <td>-1.044765</td>\n",
       "      <td>-1.041772</td>\n",
       "      <td>-0.750806</td>\n",
       "      <td>...</td>\n",
       "      <td>-1.062279</td>\n",
       "      <td>0.000000</td>\n",
       "      <td>29.196480</td>\n",
       "      <td>1</td>\n",
       "      <td>-0.000922</td>\n",
       "      <td>28.878025</td>\n",
       "      <td>29.196480</td>\n",
       "      <td>-1.050901</td>\n",
       "      <td>29.057545</td>\n",
       "      <td>0.006216</td>\n",
       "    </tr>\n",
       "    <tr>\n",
       "      <th>3</th>\n",
       "      <td>2015-05-18 04:00:00+00:00</td>\n",
       "      <td>-1.054620</td>\n",
       "      <td>-1.051589</td>\n",
       "      <td>-1.050236</td>\n",
       "      <td>-1.048872</td>\n",
       "      <td>1.428270</td>\n",
       "      <td>-1.052287</td>\n",
       "      <td>-1.044765</td>\n",
       "      <td>-1.041772</td>\n",
       "      <td>-0.750806</td>\n",
       "      <td>...</td>\n",
       "      <td>-1.052641</td>\n",
       "      <td>-1.062141</td>\n",
       "      <td>29.169573</td>\n",
       "      <td>0</td>\n",
       "      <td>-0.000077</td>\n",
       "      <td>29.196480</td>\n",
       "      <td>29.169573</td>\n",
       "      <td>-1.051352</td>\n",
       "      <td>29.026682</td>\n",
       "      <td>-0.005816</td>\n",
       "    </tr>\n",
       "    <tr>\n",
       "      <th>4</th>\n",
       "      <td>2015-05-19 04:00:00+00:00</td>\n",
       "      <td>-1.047044</td>\n",
       "      <td>-1.051069</td>\n",
       "      <td>-1.045995</td>\n",
       "      <td>-1.049265</td>\n",
       "      <td>1.041001</td>\n",
       "      <td>-1.052287</td>\n",
       "      <td>-1.044765</td>\n",
       "      <td>-1.041772</td>\n",
       "      <td>-0.750806</td>\n",
       "      <td>...</td>\n",
       "      <td>-1.053231</td>\n",
       "      <td>-1.052499</td>\n",
       "      <td>29.167328</td>\n",
       "      <td>0</td>\n",
       "      <td>0.010226</td>\n",
       "      <td>29.169573</td>\n",
       "      <td>29.167328</td>\n",
       "      <td>-1.051694</td>\n",
       "      <td>29.003295</td>\n",
       "      <td>-0.005700</td>\n",
       "    </tr>\n",
       "  </tbody>\n",
       "</table>\n",
       "<p>5 rows × 41 columns</p>\n",
       "</div>"
      ],
      "text/plain": [
       "                        date      open      high       low     close  \\\n",
       "0  2015-05-13 04:00:00+00:00 -1.061934 -1.063040 -1.058486 -1.062565   \n",
       "1  2015-05-14 04:00:00+00:00 -1.057802 -1.057330 -1.054212 -1.052934   \n",
       "2  2015-05-15 04:00:00+00:00 -1.052357 -1.055579 -1.050733 -1.053524   \n",
       "3  2015-05-18 04:00:00+00:00 -1.054620 -1.051589 -1.050236 -1.048872   \n",
       "4  2015-05-19 04:00:00+00:00 -1.047044 -1.051069 -1.045995 -1.049265   \n",
       "\n",
       "     volume       ma5      ma20      ma50  volatility  ...  close_shift_2  \\\n",
       "0  0.425122 -1.052287 -1.044765 -1.041772   -0.750806  ...       0.000000   \n",
       "1  1.076341 -1.052287 -1.044765 -1.041772   -0.750806  ...       0.000000   \n",
       "2  0.642858 -1.052287 -1.044765 -1.041772   -0.750806  ...      -1.062279   \n",
       "3  1.428270 -1.052287 -1.044765 -1.041772   -0.750806  ...      -1.052641   \n",
       "4  1.041001 -1.052287 -1.044765 -1.041772   -0.750806  ...      -1.053231   \n",
       "\n",
       "   close_shift_3  next_day_close  price_up  pct_change_next_day  \\\n",
       "0       0.000000       28.918398         1            -0.001396   \n",
       "1       0.000000       28.878025         1             0.011028   \n",
       "2       0.000000       29.196480         1            -0.000922   \n",
       "3      -1.062141       29.169573         0            -0.000077   \n",
       "4      -1.052499       29.167328         0             0.010226   \n",
       "\n",
       "   close_original  next_day_close_original    target  target_original  \\\n",
       "0       28.259068                28.918398 -1.050402        29.091718   \n",
       "1       28.918398                28.878025 -1.050719        29.070039   \n",
       "2       28.878025                29.196480 -1.050901        29.057545   \n",
       "3       29.196480                29.169573 -1.051352        29.026682   \n",
       "4       29.169573                29.167328 -1.051694        29.003295   \n",
       "\n",
       "   pct_change_target  \n",
       "0           0.029465  \n",
       "1           0.005244  \n",
       "2           0.006216  \n",
       "3          -0.005816  \n",
       "4          -0.005700  \n",
       "\n",
       "[5 rows x 41 columns]"
      ]
     },
     "metadata": {},
     "output_type": "display_data"
    },
    {
     "data": {
      "text/markdown": [
       "**Columns:**"
      ],
      "text/plain": [
       "<IPython.core.display.Markdown object>"
      ]
     },
     "metadata": {},
     "output_type": "display_data"
    },
    {
     "data": {
      "application/vnd.microsoft.datawrangler.viewer.v0+json": {
       "columns": [
        {
         "name": "index",
         "rawType": "object",
         "type": "string"
        },
        {
         "name": "Type",
         "rawType": "object",
         "type": "unknown"
        },
        {
         "name": "Non-Null Count",
         "rawType": "int64",
         "type": "integer"
        },
        {
         "name": "Null Count",
         "rawType": "int64",
         "type": "integer"
        }
       ],
       "conversionMethod": "pd.DataFrame",
       "ref": "74d782ec-e8ff-42d7-b7c7-b53dd0ad45cc",
       "rows": [
        [
         "date",
         "object",
         "2492",
         "0"
        ],
        [
         "open",
         "float64",
         "2492",
         "0"
        ],
        [
         "high",
         "float64",
         "2492",
         "0"
        ],
        [
         "low",
         "float64",
         "2492",
         "0"
        ],
        [
         "close",
         "float64",
         "2492",
         "0"
        ],
        [
         "volume",
         "float64",
         "2492",
         "0"
        ],
        [
         "ma5",
         "float64",
         "2492",
         "0"
        ],
        [
         "ma20",
         "float64",
         "2492",
         "0"
        ],
        [
         "ma50",
         "float64",
         "2492",
         "0"
        ],
        [
         "volatility",
         "float64",
         "2492",
         "0"
        ],
        [
         "volume_ma20",
         "float64",
         "2492",
         "0"
        ],
        [
         "return",
         "float64",
         "2492",
         "0"
        ],
        [
         "day_of_week",
         "float64",
         "2492",
         "0"
        ],
        [
         "month",
         "float64",
         "2492",
         "0"
        ],
        [
         "day_of_month",
         "float64",
         "2492",
         "0"
        ],
        [
         "quarter",
         "float64",
         "2492",
         "0"
        ],
        [
         "is_month_start",
         "float64",
         "2492",
         "0"
        ],
        [
         "is_month_end",
         "float64",
         "2492",
         "0"
        ],
        [
         "rsi_14",
         "float64",
         "2492",
         "0"
        ],
        [
         "macd",
         "float64",
         "2492",
         "0"
        ],
        [
         "macd_signal",
         "float64",
         "2492",
         "0"
        ],
        [
         "macd_hist",
         "float64",
         "2492",
         "0"
        ],
        [
         "bb_middle",
         "float64",
         "2492",
         "0"
        ],
        [
         "bb_std",
         "float64",
         "2492",
         "0"
        ],
        [
         "bb_upper",
         "float64",
         "2492",
         "0"
        ],
        [
         "bb_lower",
         "float64",
         "2492",
         "0"
        ],
        [
         "bb_width",
         "float64",
         "2492",
         "0"
        ],
        [
         "bb_pct",
         "float64",
         "2492",
         "0"
        ],
        [
         "price_diff",
         "float64",
         "2492",
         "0"
        ],
        [
         "high_low_diff",
         "float64",
         "2492",
         "0"
        ],
        [
         "close_shift_1",
         "float64",
         "2492",
         "0"
        ],
        [
         "close_shift_2",
         "float64",
         "2492",
         "0"
        ],
        [
         "close_shift_3",
         "float64",
         "2492",
         "0"
        ],
        [
         "next_day_close",
         "float64",
         "2492",
         "0"
        ],
        [
         "price_up",
         "int64",
         "2492",
         "0"
        ],
        [
         "pct_change_next_day",
         "float64",
         "2492",
         "0"
        ],
        [
         "close_original",
         "float64",
         "2492",
         "0"
        ],
        [
         "next_day_close_original",
         "float64",
         "2492",
         "0"
        ],
        [
         "target",
         "float64",
         "2492",
         "0"
        ],
        [
         "target_original",
         "float64",
         "2492",
         "0"
        ],
        [
         "pct_change_target",
         "float64",
         "2492",
         "0"
        ]
       ],
       "shape": {
        "columns": 3,
        "rows": 41
       }
      },
      "text/html": [
       "<div>\n",
       "<style scoped>\n",
       "    .dataframe tbody tr th:only-of-type {\n",
       "        vertical-align: middle;\n",
       "    }\n",
       "\n",
       "    .dataframe tbody tr th {\n",
       "        vertical-align: top;\n",
       "    }\n",
       "\n",
       "    .dataframe thead th {\n",
       "        text-align: right;\n",
       "    }\n",
       "</style>\n",
       "<table border=\"1\" class=\"dataframe\">\n",
       "  <thead>\n",
       "    <tr style=\"text-align: right;\">\n",
       "      <th></th>\n",
       "      <th>Type</th>\n",
       "      <th>Non-Null Count</th>\n",
       "      <th>Null Count</th>\n",
       "    </tr>\n",
       "  </thead>\n",
       "  <tbody>\n",
       "    <tr>\n",
       "      <th>date</th>\n",
       "      <td>object</td>\n",
       "      <td>2492</td>\n",
       "      <td>0</td>\n",
       "    </tr>\n",
       "    <tr>\n",
       "      <th>open</th>\n",
       "      <td>float64</td>\n",
       "      <td>2492</td>\n",
       "      <td>0</td>\n",
       "    </tr>\n",
       "    <tr>\n",
       "      <th>high</th>\n",
       "      <td>float64</td>\n",
       "      <td>2492</td>\n",
       "      <td>0</td>\n",
       "    </tr>\n",
       "    <tr>\n",
       "      <th>low</th>\n",
       "      <td>float64</td>\n",
       "      <td>2492</td>\n",
       "      <td>0</td>\n",
       "    </tr>\n",
       "    <tr>\n",
       "      <th>close</th>\n",
       "      <td>float64</td>\n",
       "      <td>2492</td>\n",
       "      <td>0</td>\n",
       "    </tr>\n",
       "    <tr>\n",
       "      <th>volume</th>\n",
       "      <td>float64</td>\n",
       "      <td>2492</td>\n",
       "      <td>0</td>\n",
       "    </tr>\n",
       "    <tr>\n",
       "      <th>ma5</th>\n",
       "      <td>float64</td>\n",
       "      <td>2492</td>\n",
       "      <td>0</td>\n",
       "    </tr>\n",
       "    <tr>\n",
       "      <th>ma20</th>\n",
       "      <td>float64</td>\n",
       "      <td>2492</td>\n",
       "      <td>0</td>\n",
       "    </tr>\n",
       "    <tr>\n",
       "      <th>ma50</th>\n",
       "      <td>float64</td>\n",
       "      <td>2492</td>\n",
       "      <td>0</td>\n",
       "    </tr>\n",
       "    <tr>\n",
       "      <th>volatility</th>\n",
       "      <td>float64</td>\n",
       "      <td>2492</td>\n",
       "      <td>0</td>\n",
       "    </tr>\n",
       "    <tr>\n",
       "      <th>volume_ma20</th>\n",
       "      <td>float64</td>\n",
       "      <td>2492</td>\n",
       "      <td>0</td>\n",
       "    </tr>\n",
       "    <tr>\n",
       "      <th>return</th>\n",
       "      <td>float64</td>\n",
       "      <td>2492</td>\n",
       "      <td>0</td>\n",
       "    </tr>\n",
       "    <tr>\n",
       "      <th>day_of_week</th>\n",
       "      <td>float64</td>\n",
       "      <td>2492</td>\n",
       "      <td>0</td>\n",
       "    </tr>\n",
       "    <tr>\n",
       "      <th>month</th>\n",
       "      <td>float64</td>\n",
       "      <td>2492</td>\n",
       "      <td>0</td>\n",
       "    </tr>\n",
       "    <tr>\n",
       "      <th>day_of_month</th>\n",
       "      <td>float64</td>\n",
       "      <td>2492</td>\n",
       "      <td>0</td>\n",
       "    </tr>\n",
       "    <tr>\n",
       "      <th>quarter</th>\n",
       "      <td>float64</td>\n",
       "      <td>2492</td>\n",
       "      <td>0</td>\n",
       "    </tr>\n",
       "    <tr>\n",
       "      <th>is_month_start</th>\n",
       "      <td>float64</td>\n",
       "      <td>2492</td>\n",
       "      <td>0</td>\n",
       "    </tr>\n",
       "    <tr>\n",
       "      <th>is_month_end</th>\n",
       "      <td>float64</td>\n",
       "      <td>2492</td>\n",
       "      <td>0</td>\n",
       "    </tr>\n",
       "    <tr>\n",
       "      <th>rsi_14</th>\n",
       "      <td>float64</td>\n",
       "      <td>2492</td>\n",
       "      <td>0</td>\n",
       "    </tr>\n",
       "    <tr>\n",
       "      <th>macd</th>\n",
       "      <td>float64</td>\n",
       "      <td>2492</td>\n",
       "      <td>0</td>\n",
       "    </tr>\n",
       "    <tr>\n",
       "      <th>macd_signal</th>\n",
       "      <td>float64</td>\n",
       "      <td>2492</td>\n",
       "      <td>0</td>\n",
       "    </tr>\n",
       "    <tr>\n",
       "      <th>macd_hist</th>\n",
       "      <td>float64</td>\n",
       "      <td>2492</td>\n",
       "      <td>0</td>\n",
       "    </tr>\n",
       "    <tr>\n",
       "      <th>bb_middle</th>\n",
       "      <td>float64</td>\n",
       "      <td>2492</td>\n",
       "      <td>0</td>\n",
       "    </tr>\n",
       "    <tr>\n",
       "      <th>bb_std</th>\n",
       "      <td>float64</td>\n",
       "      <td>2492</td>\n",
       "      <td>0</td>\n",
       "    </tr>\n",
       "    <tr>\n",
       "      <th>bb_upper</th>\n",
       "      <td>float64</td>\n",
       "      <td>2492</td>\n",
       "      <td>0</td>\n",
       "    </tr>\n",
       "    <tr>\n",
       "      <th>bb_lower</th>\n",
       "      <td>float64</td>\n",
       "      <td>2492</td>\n",
       "      <td>0</td>\n",
       "    </tr>\n",
       "    <tr>\n",
       "      <th>bb_width</th>\n",
       "      <td>float64</td>\n",
       "      <td>2492</td>\n",
       "      <td>0</td>\n",
       "    </tr>\n",
       "    <tr>\n",
       "      <th>bb_pct</th>\n",
       "      <td>float64</td>\n",
       "      <td>2492</td>\n",
       "      <td>0</td>\n",
       "    </tr>\n",
       "    <tr>\n",
       "      <th>price_diff</th>\n",
       "      <td>float64</td>\n",
       "      <td>2492</td>\n",
       "      <td>0</td>\n",
       "    </tr>\n",
       "    <tr>\n",
       "      <th>high_low_diff</th>\n",
       "      <td>float64</td>\n",
       "      <td>2492</td>\n",
       "      <td>0</td>\n",
       "    </tr>\n",
       "    <tr>\n",
       "      <th>close_shift_1</th>\n",
       "      <td>float64</td>\n",
       "      <td>2492</td>\n",
       "      <td>0</td>\n",
       "    </tr>\n",
       "    <tr>\n",
       "      <th>close_shift_2</th>\n",
       "      <td>float64</td>\n",
       "      <td>2492</td>\n",
       "      <td>0</td>\n",
       "    </tr>\n",
       "    <tr>\n",
       "      <th>close_shift_3</th>\n",
       "      <td>float64</td>\n",
       "      <td>2492</td>\n",
       "      <td>0</td>\n",
       "    </tr>\n",
       "    <tr>\n",
       "      <th>next_day_close</th>\n",
       "      <td>float64</td>\n",
       "      <td>2492</td>\n",
       "      <td>0</td>\n",
       "    </tr>\n",
       "    <tr>\n",
       "      <th>price_up</th>\n",
       "      <td>int64</td>\n",
       "      <td>2492</td>\n",
       "      <td>0</td>\n",
       "    </tr>\n",
       "    <tr>\n",
       "      <th>pct_change_next_day</th>\n",
       "      <td>float64</td>\n",
       "      <td>2492</td>\n",
       "      <td>0</td>\n",
       "    </tr>\n",
       "    <tr>\n",
       "      <th>close_original</th>\n",
       "      <td>float64</td>\n",
       "      <td>2492</td>\n",
       "      <td>0</td>\n",
       "    </tr>\n",
       "    <tr>\n",
       "      <th>next_day_close_original</th>\n",
       "      <td>float64</td>\n",
       "      <td>2492</td>\n",
       "      <td>0</td>\n",
       "    </tr>\n",
       "    <tr>\n",
       "      <th>target</th>\n",
       "      <td>float64</td>\n",
       "      <td>2492</td>\n",
       "      <td>0</td>\n",
       "    </tr>\n",
       "    <tr>\n",
       "      <th>target_original</th>\n",
       "      <td>float64</td>\n",
       "      <td>2492</td>\n",
       "      <td>0</td>\n",
       "    </tr>\n",
       "    <tr>\n",
       "      <th>pct_change_target</th>\n",
       "      <td>float64</td>\n",
       "      <td>2492</td>\n",
       "      <td>0</td>\n",
       "    </tr>\n",
       "  </tbody>\n",
       "</table>\n",
       "</div>"
      ],
      "text/plain": [
       "                            Type  Non-Null Count  Null Count\n",
       "date                      object            2492           0\n",
       "open                     float64            2492           0\n",
       "high                     float64            2492           0\n",
       "low                      float64            2492           0\n",
       "close                    float64            2492           0\n",
       "volume                   float64            2492           0\n",
       "ma5                      float64            2492           0\n",
       "ma20                     float64            2492           0\n",
       "ma50                     float64            2492           0\n",
       "volatility               float64            2492           0\n",
       "volume_ma20              float64            2492           0\n",
       "return                   float64            2492           0\n",
       "day_of_week              float64            2492           0\n",
       "month                    float64            2492           0\n",
       "day_of_month             float64            2492           0\n",
       "quarter                  float64            2492           0\n",
       "is_month_start           float64            2492           0\n",
       "is_month_end             float64            2492           0\n",
       "rsi_14                   float64            2492           0\n",
       "macd                     float64            2492           0\n",
       "macd_signal              float64            2492           0\n",
       "macd_hist                float64            2492           0\n",
       "bb_middle                float64            2492           0\n",
       "bb_std                   float64            2492           0\n",
       "bb_upper                 float64            2492           0\n",
       "bb_lower                 float64            2492           0\n",
       "bb_width                 float64            2492           0\n",
       "bb_pct                   float64            2492           0\n",
       "price_diff               float64            2492           0\n",
       "high_low_diff            float64            2492           0\n",
       "close_shift_1            float64            2492           0\n",
       "close_shift_2            float64            2492           0\n",
       "close_shift_3            float64            2492           0\n",
       "next_day_close           float64            2492           0\n",
       "price_up                   int64            2492           0\n",
       "pct_change_next_day      float64            2492           0\n",
       "close_original           float64            2492           0\n",
       "next_day_close_original  float64            2492           0\n",
       "target                   float64            2492           0\n",
       "target_original          float64            2492           0\n",
       "pct_change_target        float64            2492           0"
      ]
     },
     "metadata": {},
     "output_type": "display_data"
    },
    {
     "name": "stdout",
     "output_type": "stream",
     "text": [
      "\n",
      "--------------------------------------------------------------------------------\n",
      "\n"
     ]
    }
   ],
   "source": [
    "# Display XGBoost initial data\n",
    "display_csv_head('xgboost/initial/AAPL_xgboost.csv')\n",
    "\n",
    "# Display XGBoost period data\n",
    "for period in ['day', 'week', 'month']:\n",
    "    display_csv_head(f'xgboost/{period}/AAPL_xgboost_{period}.csv')"
   ]
  },
  {
   "cell_type": "markdown",
   "metadata": {},
   "source": [
    "## Summary of All Files"
   ]
  },
  {
   "cell_type": "code",
   "execution_count": null,
   "metadata": {},
   "outputs": [],
   "source": []
  }
 ],
 "metadata": {
  "kernelspec": {
   "display_name": "venv",
   "language": "python",
   "name": "python3"
  },
  "language_info": {
   "codemirror_mode": {
    "name": "ipython",
    "version": 3
   },
   "file_extension": ".py",
   "mimetype": "text/x-python",
   "name": "python",
   "nbconvert_exporter": "python",
   "pygments_lexer": "ipython3",
   "version": "3.11.12"
  }
 },
 "nbformat": 4,
 "nbformat_minor": 4
}
