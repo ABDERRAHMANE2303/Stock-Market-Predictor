{
 "cells": [
  {
   "cell_type": "markdown",
   "metadata": {},
   "source": [
    "# LSTM Model Training for Stock Prediction\n",
    "\n",
    "This notebook trains LSTM models for predicting stock price movements for:\n",
    "- 20 different stocks\n",
    "- 3 prediction periods (day, week, month)\n",
    "\n",
    "The trained models will be saved to `../model/lstm/period/lstm_stock_period.h5`"
   ]
  },
  {
   "cell_type": "markdown",
   "metadata": {},
   "source": [
    "## 1. Import Libraries and Setup"
   ]
  },
  {
   "cell_type": "markdown",
   "metadata": {},
   "source": [
    "### 1.1. Importing Libraries and Initial Configuration\n",
    "\n",
    "This cell handles the initial setup for the notebook. It performs the following actions:\n",
    "- **Imports necessary libraries:** \n",
    "  - `pandas` for data manipulation and analysis.\n",
    "  - `numpy` for numerical operations.\n",
    "  - `os` for interacting with the operating system (e.g., creating directories).\n",
    "  - `matplotlib.pyplot` for plotting graphs.\n",
    "  - `sklearn.preprocessing.MinMaxScaler` for feature scaling (though not used directly in this cell, it's a common preprocessing step, its absence in direct use here implies data is pre-scaled or scaling is handled elsewhere).\n",
    "  - `sklearn.model_selection.train_test_split` for splitting data into training, validation, and test sets.\n",
    "  - `tensorflow.keras` components (`Sequential`, `LSTM`, `Dense`, `Dropout`, `EarlyStopping`, `ModelCheckpoint`, `Adam`) for building and training the LSTM neural network.\n",
    "- **Suppresses warnings:** `warnings.filterwarnings('ignore')` is used to prevent display of warning messages, which can be helpful for cleaner output during development and execution.\n",
    "- **Sets random seeds:** `np.random.seed(42)`, `random.seed(42)`, and `tf.random.set_seed(42)` are set to ensure reproducibility of results. By fixing the seed, the random processes involved in model training (like weight initialization and data shuffling if any) will produce the same outcome each time the code is run.\n",
    "- **Defines the list of stocks:** A list named `stocks` contains the ticker symbols of 20 companies for which models will be trained.\n",
    "- **Defines prediction periods:** A list named `periods` specifies the timeframes for prediction ('day', 'week', 'month').\n",
    "- **Creates output directories:** It iterates through the defined `periods` and creates directories (`../model/lstm/{period}`) to store the trained LSTM models for each period. `exist_ok=True` ensures that the script doesn't raise an error if the directories already exist."
   ]
  },
  {
   "cell_type": "code",
   "execution_count": null,
   "metadata": {},
   "outputs": [],
   "source": [
    "import pandas as pd\n",
    "import numpy as np\n",
    "import os\n",
    "import matplotlib.pyplot as plt\n",
    "from sklearn.preprocessing import MinMaxScaler\n",
    "from sklearn.model_selection import train_test_split\n",
    "from tensorflow.keras.models import Sequential\n",
    "from tensorflow.keras.layers import LSTM, Dense, Dropout\n",
    "from tensorflow.keras.callbacks import EarlyStopping, ModelCheckpoint\n",
    "from tensorflow.keras.optimizers import Adam\n",
    "import warnings\n",
    "warnings.filterwarnings('ignore')\n",
    "\n",
    "# Set random seeds for reproducibility\n",
    "import random\n",
    "import tensorflow as tf\n",
    "np.random.seed(42)\n",
    "random.seed(42)\n",
    "tf.random.set_seed(42)\n",
    "\n",
    "# Define the list of stocks to process\n",
    "stocks = [\n",
    "    'AAPL', 'MSFT', 'GOOG', 'AMZN', 'TSLA', 'META', 'NVDA', 'SPY', 'V', 'DIS',\n",
    "    'NFLX', 'PYPL', 'BABA', 'IBM', 'AMD', 'BA', 'INTC', 'T', 'GS', 'NKE'\n",
    "]\n",
    "\n",
    "# Define periods\n",
    "periods = ['day', 'week', 'month']\n",
    "\n",
    "# Create output directories\n",
    "for period in periods:\n",
    "    os.makedirs(f'../model/lstm/{period}', exist_ok=True)\n",
    "print(\"Output directories created.\")"
   ]
  },
  {
   "cell_type": "markdown",
   "metadata": {},
   "source": [
    "## 2. Data Loading and Preparation Functions"
   ]
  },
  {
   "cell_type": "markdown",
   "metadata": {},
   "source": [
    "### 2.1. `load_data` Function\n",
    "\n",
    "This function is designed to load pre-processed data for a specific stock and prediction period.\n",
    "- **Parameters:**\n",
    "  - `stock` (str): The ticker symbol of the stock.\n",
    "  - `period` (str): The prediction period ('day', 'week', 'month').\n",
    "- **Functionality:**\n",
    "  - It constructs the file path for the CSV file, which is expected to be in `../data/lstm/{period}/{stock}_lstm_{period}.csv`.\n",
    "  - It checks if the file exists using `os.path.exists()`.\n",
    "  - If the file does not exist, it prints a warning message and returns `None`.\n",
    "  - If the file exists, it reads the CSV file into a pandas DataFrame using `pd.read_csv()` and returns the DataFrame.\n",
    "This function centralizes data loading and includes basic error handling for missing files."
   ]
  },
  {
   "cell_type": "code",
   "execution_count": null,
   "metadata": {},
   "outputs": [],
   "source": [
    "def load_data(stock, period):\n",
    "    \"\"\"Load prepared data from CSV\"\"\"\n",
    "    file_path = f'../data/lstm/{period}/{stock}_lstm_{period}.csv'\n",
    "    \n",
    "    if not os.path.exists(file_path):\n",
    "        print(f\"Warning: File {file_path} does not exist. Skipping.\")\n",
    "        return None\n",
    "    \n",
    "    df = pd.read_csv(file_path)\n",
    "    return df"
   ]
  },
  {
   "cell_type": "markdown",
   "metadata": {},
   "source": [
    "### 2.2. `prepare_lstm_data` Function\n",
    "\n",
    "This function prepares the input DataFrame for LSTM model training by transforming it into sequences and splitting it into training, validation, and test sets.\n",
    "- **Parameters:**\n",
    "  - `df` (pd.DataFrame): The input DataFrame containing features and the target variable.\n",
    "  - `target_col` (str): The name of the column to be used as the target variable.\n",
    "  - `time_steps` (int, default=10): The number of past time steps to use for creating sequences. Each sequence will have `time_steps` feature sets to predict the target at the next step.\n",
    "  - `test_size` (float, default=0.2): The proportion of the dataset to allocate to the test set.\n",
    "  - `validation_size` (float, default=0.2): The proportion of the *remaining* data (after test split) to allocate to the validation set. Note: The actual validation split size is adjusted relative to the size of the data *after* the initial test split.\n",
    "- **Functionality:**\n",
    "  1. **Date Handling:** If a 'date' column exists, it converts it to datetime objects, sorts the DataFrame by date, and then drops the 'date' column as it's typically not used as a direct feature in LSTMs after ensuring chronological order.\n",
    "  2. **Feature and Target Separation:** It separates the target variable (`y`) from the features (`X`).\n",
    "  3. **Sequence Creation:** It iterates through the data to create sequences. For each position `i`, it takes `X[i:i + time_steps]` as the input sequence and `y[i + time_steps]` as the corresponding target. This creates overlapping sequences suitable for LSTM input.\n",
    "  4. **Data Splitting:**\n",
    "     - The sequenced data (`X_seq`, `y_seq`) is first split into a temporary training set (`X_train_temp`, `y_train_temp`) and a test set (`X_test`, `y_test`) using `train_test_split`. `shuffle=False` is crucial here to maintain the chronological order of time-series data, ensuring that the model is tested on future data relative to its training and validation data.\n",
    "     - The temporary training set is then further split into the final training set (`X_train`, `y_train`) and a validation set (`X_val`, `y_val`), again with `shuffle=False`. The `validation_size` is adjusted (`val_size_adjusted`) to reflect the proportion of the original temporary training set.\n",
    "  5. **Return Values:** The function returns the split datasets: `X_train`, `X_val`, `X_test`, `y_train`, `y_val`, `y_test`."
   ]
  },
  {
   "cell_type": "code",
   "execution_count": null,
   "metadata": {},
   "outputs": [],
   "source": [
    "def prepare_lstm_data(df, target_col, time_steps=10, test_size=0.2, validation_size=0.2):\n",
    "    \"\"\"Prepare data for LSTM model training with sequences\"\"\"\n",
    "    # Convert date column to datetime and sort\n",
    "    if 'date' in df.columns:\n",
    "        df['date'] = pd.to_datetime(df['date'])\n",
    "        df.sort_values('date', inplace=True)\n",
    "        df = df.drop(columns=['date'])  # Remove date after sorting\n",
    "    \n",
    "    # Extract features and target\n",
    "    y = df[target_col].values\n",
    "    X = df.drop(columns=[target_col]).values\n",
    "    \n",
    "    # Create sequences for LSTM\n",
    "    X_seq, y_seq = [], []\n",
    "    for i in range(len(X) - time_steps):\n",
    "        X_seq.append(X[i:i + time_steps])\n",
    "        y_seq.append(y[i + time_steps])\n",
    "    \n",
    "    X_seq = np.array(X_seq)\n",
    "    y_seq = np.array(y_seq)\n",
    "    \n",
    "    # Split into training and temporary test sets\n",
    "    X_train_temp, X_test, y_train_temp, y_test = train_test_split(\n",
    "        X_seq, y_seq, test_size=test_size, shuffle=False\n",
    "    )\n",
    "    \n",
    "    # Split training set into actual training and validation sets\n",
    "    val_size_adjusted = validation_size / (1 - test_size)\n",
    "    X_train, X_val, y_train, y_val = train_test_split(\n",
    "        X_train_temp, y_train_temp, test_size=val_size_adjusted, shuffle=False\n",
    "    )\n",
    "    \n",
    "    return X_train, X_val, X_test, y_train, y_val, y_test"
   ]
  },
  {
   "cell_type": "markdown",
   "metadata": {},
   "source": [
    "## 3. Model Building Function"
   ]
  },
  {
   "cell_type": "markdown",
   "metadata": {},
   "source": [
    "### 3.1. `build_lstm_model` Function\n",
    "\n",
    "This function defines and compiles the LSTM neural network architecture for binary classification (predicting stock price movement direction).\n",
    "- **Parameters:**\n",
    "  - `input_shape` (tuple): The shape of the input data, typically `(time_steps, num_features)`.\n",
    "  - `lstm_units` (int, default=64): The number of units in the first LSTM layer.\n",
    "The second LSTM layer will have `lstm_units // 2` units.\n",
    "  - `dropout_rate` (float, default=0.2): The dropout rate to apply after each LSTM layer to prevent overfitting.\n",
    "  - `learning_rate` (float, default=0.001): The learning rate for the Adam optimizer.\n",
    "- **Functionality:**\n",
    "  1. **Model Architecture (Sequential API):**\n",
    "     - An `LSTM` layer with `lstm_units` and `return_sequences=True`. `return_sequences=True` is used because it's followed by another LSTM layer, so it needs to output the full sequence.\n",
    "     - A `Dropout` layer with the specified `dropout_rate`.\n",
    "     - A second `LSTM` layer with `lstm_units // 2` units. `return_sequences=False` (default) here as it's followed by Dense layers, so only the output of the last time step is needed.\n",
    "     - A `Dropout` layer with the specified `dropout_rate`.\n",
    "     - A `Dense` layer with 32 units and 'relu' activation function, acting as a hidden layer for further feature extraction.\n",
    "     - An output `Dense` layer with 1 unit and 'sigmoid' activation function. This is suitable for binary classification, producing a probability score between 0 and 1.\n",
    "  2. **Optimizer:**\n",
    "     - The `Adam` optimizer is used with the specified `learning_rate`.\n",
    "  3. **Model Compilation:**\n",
    "     - The model is compiled with:\n",
    "       - `optimizer`: The configured Adam optimizer.\n",
    "       - `loss`: 'binary_crossentropy', which is appropriate for binary classification tasks where the output is a probability.\n",
    "       - `metrics`: ['accuracy'] to monitor the classification accuracy during training and evaluation.\n",
    "  4. **Return Value:** The function returns the compiled Keras `Sequential` model."
   ]
  },
  {
   "cell_type": "code",
   "execution_count": null,
   "metadata": {},
   "outputs": [],
   "source": [
    "def build_lstm_model(input_shape, lstm_units=64, dropout_rate=0.2, learning_rate=0.001):\n",
    "    \"\"\"Build LSTM model for binary classification\"\"\"\n",
    "    model = Sequential([\n",
    "        LSTM(lstm_units, return_sequences=True, input_shape=input_shape),\n",
    "        Dropout(dropout_rate),\n",
    "        LSTM(lstm_units // 2),\n",
    "        Dropout(dropout_rate),\n",
    "        Dense(32, activation='relu'),\n",
    "        Dense(1, activation='sigmoid')\n",
    "    ])\n",
    "    \n",
    "    optimizer = Adam(learning_rate=learning_rate)\n",
    "    model.compile(\n",
    "        optimizer=optimizer,\n",
    "        loss='binary_crossentropy',\n",
    "        metrics=['accuracy']\n",
    "    )\n",
    "    \n",
    "    return model"
   ]
  },
  {
   "cell_type": "markdown",
   "metadata": {},
   "source": [
    "## 4. Quick Parameter Selection Function"
   ]
  },
  {
   "cell_type": "markdown",
   "metadata": {},
   "source": [
    "### 4.1. `select_parameters` Function\n",
    "\n",
    "This function implements a simple grid search to find a potentially good set of hyperparameters for the LSTM model. It's a 'quick' selection because it trains models for only a few epochs for each parameter combination.\n",
    "- **Parameters:**\n",
    "  - `X_train`, `y_train`: Training data and labels.\n",
    "  - `X_val`, `y_val`: Validation data and labels.\n",
    "  - `verbose` (int, default=0): Verbosity mode for model training. If > 0, it prints progress for each parameter combination.\n",
    "- **Functionality:**\n",
    "  1. **Parameter Grid Definition:** It defines a small grid of hyperparameters to test:\n",
    "     - `lstm_units_options`: [32, 64]\n",
    "     - `dropout_options`: [0.2, 0.3]\n",
    "     - `learning_rate_options`: [0.001, 0.0005]\n",
    "  2. **Iterative Search:** It iterates through all possible combinations of these hyperparameters.\n",
    "     - For each combination, it builds an LSTM model using `build_lstm_model`.\n",
    "     - It trains the model for a small number of epochs (5 epochs, batch size 32) using the training data and evaluates it on the validation data.\n",
    "     - The validation accuracy from the last epoch is recorded.\n",
    "  3. **Best Parameter Tracking:** It keeps track of the parameter combination that yields the highest validation accuracy.\n",
    "  4. **Output:** It prints the best parameters found and the corresponding best validation accuracy.\n",
    "  5. **Return Value:** The function returns a dictionary `best_params` containing the 'lstm_units', 'dropout_rate', and 'learning_rate' that achieved the highest validation accuracy during this quick search.\n",
    "\n",
    "**Note:** This is a simplified hyperparameter tuning approach. More rigorous methods like K-Fold Cross-Validation or more sophisticated search algorithms (e.g., Bayesian Optimization, Random Search over a larger space) could yield better results but are more computationally expensive."
   ]
  },
  {
   "cell_type": "code",
   "execution_count": null,
   "metadata": {},
   "outputs": [],
   "source": [
    "def select_parameters(X_train, X_val, y_train, y_val, verbose=0):\n",
    "    \"\"\"Simple parameter selection for LSTM model\"\"\"\n",
    "    # Define parameter options to try\n",
    "    lstm_units_options = [32, 64]\n",
    "    dropout_options = [0.2, 0.3]\n",
    "    learning_rate_options = [0.001, 0.0005]\n",
    "    \n",
    "    best_accuracy = 0\n",
    "    best_params = {}\n",
    "    \n",
    "    # Simple grid search\n",
    "    for lstm_units in lstm_units_options:\n",
    "        for dropout_rate in dropout_options:\n",
    "            for learning_rate in learning_rate_options:\n",
    "                # Build model with current parameters\n",
    "                model = build_lstm_model(\n",
    "                    input_shape=(X_train.shape[1], X_train.shape[2]),\n",
    "                    lstm_units=lstm_units,\n",
    "                    dropout_rate=dropout_rate,\n",
    "                    learning_rate=learning_rate\n",
    "                )\n",
    "                \n",
    "                # Train for a few epochs to get a quick estimate\n",
    "                history = model.fit(\n",
    "                    X_train, y_train,\n",
    "                    epochs=5,\n",
    "                    batch_size=32,\n",
    "                    validation_data=(X_val, y_val),\n",
    "                    verbose=verbose\n",
    "                )\n",
    "                \n",
    "                # Get validation accuracy\n",
    "                val_accuracy = history.history['val_accuracy'][-1]\n",
    "                \n",
    "                # Print current parameters and accuracy\n",
    "                if verbose > 0:\n",
    "                    print(f\"LSTM units: {lstm_units}, Dropout: {dropout_rate}, LR: {learning_rate}, Val Acc: {val_accuracy:.4f}\")\n",
    "                \n",
    "                # Update best parameters if current is better\n",
    "                if val_accuracy > best_accuracy:\n",
    "                    best_accuracy = val_accuracy\n",
    "                    best_params = {\n",
    "                        'lstm_units': lstm_units,\n",
    "                        'dropout_rate': dropout_rate,\n",
    "                        'learning_rate': learning_rate\n",
    "                    }\n",
    "    \n",
    "    print(f\"Best parameters: {best_params}, Best validation accuracy: {best_accuracy:.4f}\")\n",
    "    return best_params"
   ]
  },
  {
   "cell_type": "markdown",
   "metadata": {},
   "source": [
    "## 5. Model Training Function"
   ]
  },
  {
   "cell_type": "markdown",
   "metadata": {},
   "source": [
    "### 5.1. `train_lstm_model` Function\n",
    "\n",
    "This function trains the LSTM model using the provided training and validation data, and a given set of hyperparameters.\n",
    "- **Parameters:**\n",
    "  - `X_train`, `y_train`: Training data and labels.\n",
    "  - `X_val`, `y_val`: Validation data and labels.\n",
    "  - `params` (dict): A dictionary containing the hyperparameters for the model, specifically 'lstm_units', 'dropout_rate', and 'learning_rate'. This typically comes from the `select_parameters` function or can be manually defined.\n",
    "  - `epochs` (int, default=50): The maximum number of epochs to train the model.\n",
    "  - `batch_size` (int, default=32): The number of samples per gradient update.\n",
    "- **Functionality:**\n",
    "  1. **Model Building:** It first builds an LSTM model using the `build_lstm_model` function with the hyperparameters passed in the `params` dictionary and the input shape derived from `X_train`.\n",
    "  2. **Callbacks Setup:**\n",
    "     - `EarlyStopping`: This callback is configured to monitor the validation loss (`val_loss`). Training will stop if the validation loss does not improve for a specified number of epochs (`patience=10`). `restore_best_weights=True` ensures that the model weights are reset to those from the epoch with the best validation loss at the end of training.\n",
    "  3. **Model Training:**\n",
    "     - The model's `fit` method is called with the training data (`X_train`, `y_train`), number of epochs, batch size, and validation data (`X_val`, `y_val`).\n",
    "     - The `early_stopping` callback is passed to the `callbacks` list.\n",
    "     - `verbose=1` means that training progress (loss and metrics for each epoch) will be printed.\n",
    "  4. **Return Values:** The function returns the trained Keras `model` and the `history` object. The history object contains a record of training loss values and metrics values at successive epochs, as well as validation loss values and validation metrics values."
   ]
  },
  {
   "cell_type": "code",
   "execution_count": null,
   "metadata": {},
   "outputs": [],
   "source": [
    "def train_lstm_model(X_train, X_val, y_train, y_val, params, epochs=50, batch_size=32):\n",
    "    \"\"\"Train LSTM model with early stopping\"\"\"\n",
    "    # Build model with selected parameters\n",
    "    model = build_lstm_model(\n",
    "        input_shape=(X_train.shape[1], X_train.shape[2]),\n",
    "        lstm_units=params['lstm_units'],\n",
    "        dropout_rate=params['dropout_rate'],\n",
    "        learning_rate=params['learning_rate']\n",
    "    )\n",
    "    \n",
    "    # Set up callbacks\n",
    "    early_stopping = EarlyStopping(\n",
    "        monitor='val_loss',\n",
    "        patience=10,\n",
    "        restore_best_weights=True\n",
    "    )\n",
    "    \n",
    "    # Train model\n",
    "    history = model.fit(\n",
    "        X_train, y_train,\n",
    "        epochs=epochs,\n",
    "        batch_size=batch_size,\n",
    "        validation_data=(X_val, y_val),\n",
    "        callbacks=[early_stopping],\n",
    "        verbose=1\n",
    "    )\n",
    "    \n",
    "    return model, history"
   ]
  },
  {
   "cell_type": "markdown",
   "metadata": {},
   "source": [
    "## 6. Evaluate and Plot Results"
   ]
  },
  {
   "cell_type": "markdown",
   "metadata": {},
   "source": [
    "### 6.1. `evaluate_lstm_model` Function\n",
    "\n",
    "This function evaluates the performance of a trained LSTM model on the test set and visualizes the training history and classification results.\n",
    "- **Parameters:**\n",
    "  - `model` (tf.keras.Model): The trained LSTM model.\n",
    "  - `X_test`, `y_test`: Test data and true labels.\n",
    "  - `history` (tf.keras.callbacks.History): The history object returned by the `model.fit()` method, containing training/validation loss and accuracy.\n",
    "  - `stock` (str): The ticker symbol of the stock (for labeling plots).\n",
    "  - `period` (str): The prediction period (for labeling plots).\n",
    "- **Functionality:**\n",
    "  1. **Test Set Evaluation:**\n",
    "     - It evaluates the model on the `X_test` and `y_test` using `model.evaluate()`, obtaining the test loss and test accuracy. The test accuracy is printed.\n",
    "  2. **Plotting Training History:**\n",
    "     - It creates a figure with two subplots:\n",
    "       - **Accuracy Plot:** Plots the training accuracy (`history.history['accuracy']`) and validation accuracy (`history.history['val_accuracy']`) over epochs.\n",
    "       - **Loss Plot:** Plots the training loss (`history.history['loss']`) and validation loss (`history.history['val_loss']`) over epochs.\n",
    "     - Both plots are titled and labeled appropriately.\n",
    "  3. **Generating Predictions:**\n",
    "     - It generates probability predictions for the test set using `model.predict(X_test)`.\n",
    "     - These probabilities are converted to binary predictions (0 or 1) by thresholding at 0.5.\n",
    "  4. **Classification Report:**\n",
    "     - It imports `confusion_matrix` and `classification_report` from `sklearn.metrics`.\n",
    "     - It prints the classification report, which includes precision, recall, F1-score, and support for each class (0: Down, 1: Up).\n",
    "  5. **Plotting Confusion Matrix:**\n",
    "     - It calculates the confusion matrix using `confusion_matrix(y_test, y_pred)`.\n",
    "     - It visualizes the confusion matrix as an image plot (`plt.imshow`) with color-coded cells and numerical annotations for true negatives, false positives, false negatives, and true positives.\n",
    "  6. **Display Plots:** All generated plots are displayed using `plt.show()`.\n",
    "- **Return Value:** The function returns the `test_accuracy`."
   ]
  },
  {
   "cell_type": "code",
   "execution_count": 76,
   "metadata": {},
   "outputs": [],
   "source": [
    "def evaluate_lstm_model(model, X_test, y_test, history, stock, period):\n",
    "    \"\"\"Evaluate LSTM model and plot results\"\"\"\n",
    "    # Evaluate on test set\n",
    "    test_loss, test_accuracy = model.evaluate(X_test, y_test, verbose=0)\n",
    "    print(f\"Test accuracy: {test_accuracy:.4f}\")\n",
    "    \n",
    "    # Plot training history\n",
    "    plt.figure(figsize=(12, 5))\n",
    "    \n",
    "    # Plot accuracy\n",
    "    plt.subplot(1, 2, 1)\n",
    "    plt.plot(history.history['accuracy'])\n",
    "    plt.plot(history.history['val_accuracy'])\n",
    "    plt.title(f'{stock} {period} - Model Accuracy')\n",
    "    plt.ylabel('Accuracy')\n",
    "    plt.xlabel('Epoch')\n",
    "    plt.legend(['Train', 'Validation'], loc='lower right')\n",
    "    \n",
    "    # Plot loss\n",
    "    plt.subplot(1, 2, 2)\n",
    "    plt.plot(history.history['loss'])\n",
    "    plt.plot(history.history['val_loss'])\n",
    "    plt.title(f'{stock} {period} - Model Loss')\n",
    "    plt.ylabel('Loss')\n",
    "    plt.xlabel('Epoch')\n",
    "    plt.legend(['Train', 'Validation'], loc='upper right')\n",
    "    \n",
    "    plt.tight_layout()\n",
    "    plt.show()\n",
    "    \n",
    "    # Generate predictions for test set\n",
    "    y_pred_prob = model.predict(X_test, verbose=0)\n",
    "    y_pred = (y_pred_prob > 0.5).astype(int).flatten()\n",
    "    \n",
    "    # Calculate confusion matrix\n",
    "    from sklearn.metrics import confusion_matrix, classification_report\n",
    "    cm = confusion_matrix(y_test, y_pred)\n",
    "    \n",
    "    # Print classification report\n",
    "    print(\"\\nClassification Report:\")\n",
    "    print(classification_report(y_test, y_pred))\n",
    "    \n",
    "    # Plot confusion matrix\n",
    "    plt.figure(figsize=(6, 5))\n",
    "    plt.imshow(cm, interpolation='nearest', cmap=plt.cm.Blues)\n",
    "    plt.title(f'{stock} {period} - Confusion Matrix')\n",
    "    plt.colorbar()\n",
    "    classes = ['Down', 'Up']\n",
    "    tick_marks = np.arange(len(classes))\n",
    "    plt.xticks(tick_marks, classes)\n",
    "    plt.yticks(tick_marks, classes)\n",
    "    \n",
    "    # Add text annotations\n",
    "    thresh = cm.max() / 2\n",
    "    for i in range(cm.shape[0]):\n",
    "        for j in range(cm.shape[1]):\n",
    "            plt.text(j, i, format(cm[i, j], 'd'),\n",
    "                     horizontalalignment=\"center\",\n",
    "                     color=\"white\" if cm[i, j] > thresh else \"black\")\n",
    "    \n",
    "    plt.tight_layout()\n",
    "    plt.ylabel('True label')\n",
    "    plt.xlabel('Predicted label')\n",
    "    plt.show()\n",
    "    \n",
    "    return test_accuracy"
   ]
  },
  {
   "cell_type": "markdown",
   "metadata": {},
   "source": [
    "## 7. Main Processing Function for Single Stock"
   ]
  },
  {
   "cell_type": "markdown",
   "metadata": {},
   "source": [
    "### 7.1. `process_stock_lstm` Function\n",
    "\n",
    "This function encapsulates the entire workflow for processing a single stock for a specific prediction period. It handles data loading, preparation, optional parameter selection, model training, evaluation, and saving the model.\n",
    "- **Parameters:**\n",
    "  - `stock` (str): The ticker symbol of the stock.\n",
    "  - `period` (str): The prediction period ('day', 'week', 'month').\n",
    "  - `time_steps` (int, default=10): The number of time steps for LSTM sequences.\n",
    "  - `param_selection` (bool, default=True): If `True`, performs quick hyperparameter selection using `select_parameters`. Otherwise, uses default parameters.\n",
    "  - `plot` (bool, default=True): If `True`, calls `evaluate_lstm_model` to plot results. Otherwise, only prints test accuracy.\n",
    "- **Functionality:**\n",
    "  1. **Load Data:** Calls `load_data(stock, period)`. If data is not found, it returns `None`.\n",
    "  2. **Identify Target Column:** Determines the target column name based on the period (e.g., `Target_Next_Day`). If the target column is not in the DataFrame, it prints an error and returns `None`.\n",
    "  3. **Prepare Data:** Calls `prepare_lstm_data` to create sequences and split data into train, validation, and test sets.\n",
    "  4. **Parameter Selection (Optional):**\n",
    "     - If `param_selection` is `True`, calls `select_parameters` to find the best hyperparameters.\n",
    "     - Otherwise, it uses a predefined set of default parameters: `lstm_units=64`, `dropout_rate=0.2`, `learning_rate=0.001`.\n",
    "  5. **Train Model:** Calls `train_lstm_model` with the prepared data and selected (or default) parameters.\n",
    "  6. **Evaluate Model:**\n",
    "     - If `plot` is `True`, calls `evaluate_lstm_model` which prints detailed metrics and plots.\n",
    "     - Otherwise, it evaluates the model on the test set and prints only the test accuracy.\n",
    "  7. **Save Model:** Saves the trained model to a .h5 file in the path `../model/lstm/{period}/lstm_{stock}_{period}.h5`.\n",
    "- **Return Value:** Returns the trained Keras `model` object, or `None` if processing failed (e.g., data not found)."
   ]
  },
  {
   "cell_type": "code",
   "execution_count": null,
   "metadata": {},
   "outputs": [],
   "source": [
    "def process_stock_lstm(stock, period, time_steps=10, param_selection=True, plot=True):\n",
    "    \"\"\"Process a single stock for a specific prediction period\"\"\"\n",
    "    print(f\"\\nProcessing {stock} for {period} prediction...\")\n",
    "    \n",
    "    # Load data\n",
    "    df = load_data(stock, period)\n",
    "    if df is None:\n",
    "        return None\n",
    "    \n",
    "    # Get target column name\n",
    "    target_col = f'Target_Next_{period.capitalize()}'\n",
    "    if target_col not in df.columns:\n",
    "        print(f\"Error: Target column {target_col} not found in data.\")\n",
    "        return None\n",
    "    \n",
    "    # Prepare data\n",
    "    X_train, X_val, X_test, y_train, y_val, y_test = prepare_lstm_data(\n",
    "        df, target_col, time_steps=time_steps\n",
    "    )\n",
    "    \n",
    "    print(f\"Data shapes: X_train: {X_train.shape}, X_val: {X_val.shape}, X_test: {X_test.shape}\")\n",
    "    \n",
    "    # Quick parameter selection if enabled\n",
    "    if param_selection:\n",
    "        params = select_parameters(X_train, X_val, y_train, y_val)\n",
    "    else:\n",
    "        # Default parameters\n",
    "        params = {\n",
    "            'lstm_units': 64,\n",
    "            'dropout_rate': 0.2,\n",
    "            'learning_rate': 0.001\n",
    "        }\n",
    "    \n",
    "    # Train model\n",
    "    model, history = train_lstm_model(X_train, X_val, y_train, y_val, params)\n",
    "    \n",
    "    # Evaluate model\n",
    "    if plot:\n",
    "        test_accuracy = evaluate_lstm_model(model, X_test, y_test, history, stock, period)\n",
    "    else:\n",
    "        test_loss, test_accuracy = model.evaluate(X_test, y_test, verbose=0)\n",
    "        print(f\"Test accuracy: {test_accuracy:.4f}\")\n",
    "    \n",
    "    # Save model\n",
    "    model_path = f'../model/lstm/{period}/lstm_{stock}_{period}.h5'\n",
    "    model.save(model_path)\n",
    "    print(f\"Model saved to {model_path}\")\n",
    "    \n",
    "    return model"
   ]
  },
  {
   "cell_type": "markdown",
   "metadata": {},
   "source": [
    "## 8. Test with Sample Stock"
   ]
  },
  {
   "cell_type": "markdown",
   "metadata": {},
   "source": [
    "### 8.1. Single Stock Processing Example\n",
    "\n",
    "This cell demonstrates how to use the `process_stock_lstm` function for a single stock and period. \n",
    "- It sets `sample_stock` to 'AAPL' and `sample_period` to 'day'.\n",
    "- It then calls `process_stock_lstm` with these values, using `time_steps=10`.\n",
    "- `param_selection=True` enables the quick hyperparameter search for this sample run.\n",
    "- `plot=True` ensures that evaluation metrics and plots are displayed for this specific stock and period.\n",
    "\n",
    "This serves as a test case to verify that the entire pipeline (data loading, preparation, parameter selection, training, evaluation, and model saving) works correctly for one instance before potentially running it for all stocks and periods."
   ]
  },
  {
   "cell_type": "code",
   "execution_count": 77,
   "metadata": {},
   "outputs": [
    {
     "name": "stdout",
     "output_type": "stream",
     "text": [
      "\n",
      "Processing AAPL for day prediction...\n",
      "Data shapes: X_train: (2181, 10, 22), X_val: (727, 10, 22), X_test: (727, 10, 22)\n",
      "Best parameters: {'lstm_units': 64, 'dropout_rate': 0.2, 'learning_rate': 0.001}, Best validation accuracy: 0.6534\n",
      "Epoch 1/50\n",
      "\u001b[1m69/69\u001b[0m \u001b[32m━━━━━━━━━━━━━━━━━━━━\u001b[0m\u001b[37m\u001b[0m \u001b[1m4s\u001b[0m 26ms/step - accuracy: 0.5576 - loss: 0.6814 - val_accuracy: 0.5970 - val_loss: 0.6681\n",
      "Epoch 2/50\n",
      "\u001b[1m69/69\u001b[0m \u001b[32m━━━━━━━━━━━━━━━━━━━━\u001b[0m\u001b[37m\u001b[0m \u001b[1m1s\u001b[0m 20ms/step - accuracy: 0.6209 - loss: 0.6601 - val_accuracy: 0.6259 - val_loss: 0.6555\n",
      "Epoch 3/50\n",
      "\u001b[1m69/69\u001b[0m \u001b[32m━━━━━━━━━━━━━━━━━━━━\u001b[0m\u001b[37m\u001b[0m \u001b[1m1s\u001b[0m 19ms/step - accuracy: 0.6608 - loss: 0.6365 - val_accuracy: 0.6396 - val_loss: 0.6454\n",
      "Epoch 4/50\n",
      "\u001b[1m69/69\u001b[0m \u001b[32m━━━━━━━━━━━━━━━━━━━━\u001b[0m\u001b[37m\u001b[0m \u001b[1m1s\u001b[0m 16ms/step - accuracy: 0.6670 - loss: 0.6227 - val_accuracy: 0.6451 - val_loss: 0.6372\n",
      "Epoch 5/50\n",
      "\u001b[1m69/69\u001b[0m \u001b[32m━━━━━━━━━━━━━━━━━━━━\u001b[0m\u001b[37m\u001b[0m \u001b[1m1s\u001b[0m 17ms/step - accuracy: 0.6698 - loss: 0.6151 - val_accuracy: 0.6410 - val_loss: 0.6335\n",
      "Epoch 6/50\n",
      "\u001b[1m69/69\u001b[0m \u001b[32m━━━━━━━━━━━━━━━━━━━━\u001b[0m\u001b[37m\u001b[0m \u001b[1m1s\u001b[0m 17ms/step - accuracy: 0.6768 - loss: 0.6055 - val_accuracy: 0.6506 - val_loss: 0.6312\n",
      "Epoch 7/50\n",
      "\u001b[1m69/69\u001b[0m \u001b[32m━━━━━━━━━━━━━━━━━━━━\u001b[0m\u001b[37m\u001b[0m \u001b[1m1s\u001b[0m 16ms/step - accuracy: 0.6827 - loss: 0.5971 - val_accuracy: 0.6506 - val_loss: 0.6271\n",
      "Epoch 8/50\n",
      "\u001b[1m69/69\u001b[0m \u001b[32m━━━━━━━━━━━━━━━━━━━━\u001b[0m\u001b[37m\u001b[0m \u001b[1m2s\u001b[0m 31ms/step - accuracy: 0.6824 - loss: 0.5982 - val_accuracy: 0.6465 - val_loss: 0.6232\n",
      "Epoch 9/50\n",
      "\u001b[1m69/69\u001b[0m \u001b[32m━━━━━━━━━━━━━━━━━━━━\u001b[0m\u001b[37m\u001b[0m \u001b[1m2s\u001b[0m 21ms/step - accuracy: 0.6806 - loss: 0.5925 - val_accuracy: 0.6534 - val_loss: 0.6223\n",
      "Epoch 10/50\n",
      "\u001b[1m69/69\u001b[0m \u001b[32m━━━━━━━━━━━━━━━━━━━━\u001b[0m\u001b[37m\u001b[0m \u001b[1m2s\u001b[0m 27ms/step - accuracy: 0.6856 - loss: 0.5879 - val_accuracy: 0.6561 - val_loss: 0.6189\n",
      "Epoch 11/50\n",
      "\u001b[1m69/69\u001b[0m \u001b[32m━━━━━━━━━━━━━━━━━━━━\u001b[0m\u001b[37m\u001b[0m \u001b[1m1s\u001b[0m 20ms/step - accuracy: 0.6843 - loss: 0.5846 - val_accuracy: 0.6602 - val_loss: 0.6166\n",
      "Epoch 12/50\n",
      "\u001b[1m69/69\u001b[0m \u001b[32m━━━━━━━━━━━━━━━━━━━━\u001b[0m\u001b[37m\u001b[0m \u001b[1m1s\u001b[0m 18ms/step - accuracy: 0.6821 - loss: 0.5798 - val_accuracy: 0.6713 - val_loss: 0.6159\n",
      "Epoch 13/50\n",
      "\u001b[1m69/69\u001b[0m \u001b[32m━━━━━━━━━━━━━━━━━━━━\u001b[0m\u001b[37m\u001b[0m \u001b[1m2s\u001b[0m 30ms/step - accuracy: 0.6855 - loss: 0.5733 - val_accuracy: 0.6699 - val_loss: 0.6121\n",
      "Epoch 14/50\n",
      "\u001b[1m69/69\u001b[0m \u001b[32m━━━━━━━━━━━━━━━━━━━━\u001b[0m\u001b[37m\u001b[0m \u001b[1m2s\u001b[0m 22ms/step - accuracy: 0.7019 - loss: 0.5749 - val_accuracy: 0.6699 - val_loss: 0.6161\n",
      "Epoch 15/50\n",
      "\u001b[1m69/69\u001b[0m \u001b[32m━━━━━━━━━━━━━━━━━━━━\u001b[0m\u001b[37m\u001b[0m \u001b[1m1s\u001b[0m 8ms/step - accuracy: 0.7081 - loss: 0.5691 - val_accuracy: 0.6685 - val_loss: 0.6141\n",
      "Epoch 16/50\n",
      "\u001b[1m69/69\u001b[0m \u001b[32m━━━━━━━━━━━━━━━━━━━━\u001b[0m\u001b[37m\u001b[0m \u001b[1m1s\u001b[0m 18ms/step - accuracy: 0.7008 - loss: 0.5631 - val_accuracy: 0.6781 - val_loss: 0.6137\n",
      "Epoch 17/50\n",
      "\u001b[1m69/69\u001b[0m \u001b[32m━━━━━━━━━━━━━━━━━━━━\u001b[0m\u001b[37m\u001b[0m \u001b[1m1s\u001b[0m 14ms/step - accuracy: 0.7051 - loss: 0.5616 - val_accuracy: 0.6699 - val_loss: 0.6171\n",
      "Epoch 18/50\n",
      "\u001b[1m69/69\u001b[0m \u001b[32m━━━━━━━━━━━━━━━━━━━━\u001b[0m\u001b[37m\u001b[0m \u001b[1m2s\u001b[0m 28ms/step - accuracy: 0.7222 - loss: 0.5592 - val_accuracy: 0.6685 - val_loss: 0.6147\n",
      "Epoch 19/50\n",
      "\u001b[1m69/69\u001b[0m \u001b[32m━━━━━━━━━━━━━━━━━━━━\u001b[0m\u001b[37m\u001b[0m \u001b[1m3s\u001b[0m 39ms/step - accuracy: 0.7088 - loss: 0.5579 - val_accuracy: 0.6781 - val_loss: 0.6135\n",
      "Epoch 20/50\n",
      "\u001b[1m69/69\u001b[0m \u001b[32m━━━━━━━━━━━━━━━━━━━━\u001b[0m\u001b[37m\u001b[0m \u001b[1m2s\u001b[0m 27ms/step - accuracy: 0.7291 - loss: 0.5488 - val_accuracy: 0.6699 - val_loss: 0.6129\n",
      "Epoch 21/50\n",
      "\u001b[1m69/69\u001b[0m \u001b[32m━━━━━━━━━━━━━━━━━━━━\u001b[0m\u001b[37m\u001b[0m \u001b[1m2s\u001b[0m 24ms/step - accuracy: 0.7140 - loss: 0.5533 - val_accuracy: 0.6713 - val_loss: 0.6144\n",
      "Epoch 22/50\n",
      "\u001b[1m69/69\u001b[0m \u001b[32m━━━━━━━━━━━━━━━━━━━━\u001b[0m\u001b[37m\u001b[0m \u001b[1m1s\u001b[0m 18ms/step - accuracy: 0.7193 - loss: 0.5502 - val_accuracy: 0.6726 - val_loss: 0.6164\n",
      "Epoch 23/50\n",
      "\u001b[1m69/69\u001b[0m \u001b[32m━━━━━━━━━━━━━━━━━━━━\u001b[0m\u001b[37m\u001b[0m \u001b[1m1s\u001b[0m 20ms/step - accuracy: 0.7234 - loss: 0.5510 - val_accuracy: 0.6713 - val_loss: 0.6169\n",
      "Test accuracy: 0.7029\n"
     ]
    },
    {
     "data": {
      "image/png": "[encoded data removed]",
      "text/plain": [
       "<Figure size 1200x500 with 2 Axes>"
      ]
     },
     "metadata": {},
     "output_type": "display_data"
    },
    {
     "name": "stdout",
     "output_type": "stream",
     "text": [
      "\n",
      "Classification Report:\n",
      "              precision    recall  f1-score   support\n",
      "\n",
      "           0       0.70      0.62      0.66       336\n",
      "           1       0.70      0.77      0.74       391\n",
      "\n",
      "    accuracy                           0.70       727\n",
      "   macro avg       0.70      0.70      0.70       727\n",
      "weighted avg       0.70      0.70      0.70       727\n",
      "\n"
     ]
    },
    {
     "data": {
      "image/png": "[encoded data removed]",
      "text/plain": [
       "<Figure size 600x500 with 2 Axes>"
      ]
     },
     "metadata": {},
     "output_type": "display_data"
    },
    {
     "name": "stderr",
     "output_type": "stream",
     "text": [
      "WARNING:absl:You are saving your model as an HDF5 file via `model.save()` or `keras.saving.save_model(model)`. This file format is considered legacy. We recommend using instead the native Keras format, e.g. `model.save('my_model.keras')` or `keras.saving.save_model(model, 'my_model.keras')`. \n"
     ]
    },
    {
     "name": "stdout",
     "output_type": "stream",
     "text": [
      "Model saved to ../model/lstm/day/lstm_AAPL_day.h5\n"
     ]
    }
   ],
   "source": [
    "# Test with a sample stock\n",
    "sample_stock = 'AAPL'\n",
    "sample_period = 'day'\n",
    "\n",
    "test_model = process_stock_lstm(sample_stock, sample_period, time_steps=10, param_selection=True, plot=True)"
   ]
  },
  {
   "cell_type": "markdown",
   "metadata": {},
   "source": [
    "## 9. Process All Stocks"
   ]
  },
  {
   "cell_type": "markdown",
   "metadata": {},
   "source": [
    "### 9.1. `process_all_stocks` Function\n",
    "\n",
    "This function orchestrates the training of LSTM models for all stocks listed in the `stocks` global variable and for all periods specified in the `periods` global variable.\n",
    "- **Parameters:**\n",
    "  - `time_steps` (int, default=10): The number of time steps for LSTM sequences, passed to `process_stock_lstm`.\n",
    "  - `param_selection` (bool, default=False): Whether to perform hyperparameter selection for each model. For full runs, this is often set to `False` to save time, relying on default or pre-determined good parameters.\n",
    "  - `plot` (bool, default=False): Whether to generate and display plots for each model during processing. Typically set to `False` for bulk processing to avoid excessive output.\n",
    "- **Functionality:**\n",
    "  1. **Initialization:** Initializes an empty dictionary `results` to store the outcome (Success/Failed) of processing for each stock-period combination.\n",
    "  2. **Iterative Processing:**\n",
    "     - It iterates through each `stock` in the `stocks` list.\n",
    "     - For each stock, it iterates through each `period` in the `periods` list.\n",
    "     - It prints a separator and a message indicating which stock and period are currently being processed.\n",
    "     - It calls `process_stock_lstm` with the current stock, period, and the provided `time_steps`, `param_selection`, and `plot` arguments.\n",
    "     - Based on whether `process_stock_lstm` returns a model object (success) or `None` (failure), it records 'Success' or 'Failed' in the `results` dictionary.\n",
    "  3. **Summary Display:** After processing all combinations, it prints a summary of the results, listing each stock and the status ('Success', 'Failed', or 'Not processed') for each period.\n",
    "- **Return Value:** Returns the `results` dictionary containing the processing summary."
   ]
  },
  {
   "cell_type": "code",
   "execution_count": null,
   "metadata": {},
   "outputs": [],
   "source": [
    "def process_all_stocks(time_steps=10, param_selection=False, plot=False):\n",
    "    \"\"\"Process all stocks and periods\"\"\"\n",
    "    results = {}\n",
    "    \n",
    "    # Process each stock\n",
    "    for stock in stocks:\n",
    "        results[stock] = {}\n",
    "        \n",
    "        # Process each period\n",
    "        for period in periods:\n",
    "            print(f\"\\n{'='*50}\")\n",
    "            print(f\"Training {stock} {period} model\")\n",
    "            print(f\"{'='*50}\")\n",
    "            \n",
    "            # Process the current stock-period combination\n",
    "            model = process_stock_lstm(\n",
    "                stock=stock,\n",
    "                period=period,\n",
    "                time_steps=time_steps,\n",
    "                param_selection=param_selection,\n",
    "                plot=plot\n",
    "            )\n",
    "            \n",
    "            if model is not None:\n",
    "                results[stock][period] = 'Success'\n",
    "            else:\n",
    "                results[stock][period] = 'Failed'\n",
    "    \n",
    "    # Display summary\n",
    "    print(\"\\nProcessing Summary:\")\n",
    "    for stock in stocks:\n",
    "        print(f\"\\n{stock}:\")\n",
    "        for period in periods:\n",
    "            status = results.get(stock, {}).get(period, 'Not processed')\n",
    "            print(f\"  {period}: {status}\")\n",
    "    \n",
    "    return results"
   ]
  },
  {
   "cell_type": "markdown",
   "metadata": {},
   "source": [
    "## 10. Run Full Processing"
   ]
  },
  {
   "cell_type": "markdown",
   "metadata": {},
   "source": [
    "### 10.1. Executing the Full Model Training Pipeline\n",
    "\n",
    "This cell controls the execution of the `process_all_stocks` function, which trains models for all defined stocks and periods.\n",
    "- **`process_all` Flag:** A boolean variable `process_all` is used as a switch. \n",
    "  - If `process_all` is set to `True`, the `process_all_stocks` function is called.\n",
    "    - `time_steps=10`: Specifies the LSTM sequence length.\n",
    "    - `param_selection=False`: Disables hyperparameter search for each model during the bulk run to save computation time. It's assumed that either default parameters are sufficient or optimal parameters have been determined separately.\n",
    "    - `plot=False`: Disables plotting for each individual model training to keep the output clean and speed up the process.\n",
    "  - If `process_all` is set to `False`, a message is printed indicating that full processing is disabled, and the user is instructed to set the flag to `True` to run it.\n",
    "\n",
    "This allows for easily toggling the full training pipeline on or off, which is useful for development and testing versus full-scale model generation."
   ]
  },
  {
   "cell_type": "code",
   "execution_count": null,
   "metadata": {},
   "outputs": [],
   "source": [
    "# Set to True when ready to process all stocks\n",
    "process_all = True\n",
    "\n",
    "if process_all:\n",
    "    # Process all stocks\n",
    "    # Set param_selection=False to use default parameters for all models\n",
    "    # Set plot=False to disable plotting for each model\n",
    "    processing_results = process_all_stocks(time_steps=10, param_selection=False, plot=False)\n",
    "else:\n",
    "    print(\"Full processing is disabled. Set 'process_all = True' to train all models.\")"
   ]
  },
  {
   "cell_type": "markdown",
   "metadata": {},
   "source": [
    "## 11. Verify Saved Models"
   ]
  },
  {
   "cell_type": "markdown",
   "metadata": {},
   "source": [
    "### 11.1. `verify_saved_models` Function\n",
    "\n",
    "This function checks the file system to verify that all expected LSTM model files (one for each stock and period combination) have been saved correctly after the training process.\n",
    "- **Functionality:**\n",
    "  1. **Initialization:**\n",
    "     - Calculates `expected_count`: the total number of models that should have been saved (number of stocks * number of periods).\n",
    "     - Initializes `found_count` to 0.\n",
    "     - Initializes an empty list `missing_models` to store the names of models that are not found.\n",
    "  2. **Verification Loop:**\n",
    "     - It iterates through each `period` in the global `periods` list.\n",
    "     - For each period, it iterates through each `stock` in the global `stocks` list.\n",
    "     - It constructs the expected `model_path` for the current stock and period.\n",
    "     - It uses `os.path.exists(model_path)` to check if the model file exists at that path.\n",
    "     - If the file exists, `found_count` is incremented.\n",
    "     - If the file does not exist, the identifier `f\"{stock}_{period}\"` is added to the `missing_models` list.\n",
    "  3. **Reporting Results:**\n",
    "     - Prints the total number of models found versus the expected count.\n",
    "     - If there are any missing models:\n",
    "       - Prints the count of missing models.\n",
    "       - Lists up to the first 10 missing model identifiers. If more than 10 are missing, it indicates how many more are not listed.\n",
    "     - If all models are found, it prints a success message.\n",
    "\n",
    "This function provides a convenient way to audit the output of the model training pipeline."
   ]
  },
  {
   "cell_type": "code",
   "execution_count": null,
   "metadata": {},
   "outputs": [],
   "source": [
    "def verify_saved_models():\n",
    "    \"\"\"Verify that all expected models have been saved\"\"\"\n",
    "    print(\"Verifying saved models...\")\n",
    "    \n",
    "    expected_count = len(stocks) * len(periods)\n",
    "    found_count = 0\n",
    "    missing_models = []\n",
    "    \n",
    "    for period in periods:\n",
    "        for stock in stocks:\n",
    "            model_path = f'../model/lstm/{period}/lstm_{stock}_{period}.h5'\n",
    "            if os.path.exists(model_path):\n",
    "                found_count += 1\n",
    "            else:\n",
    "                missing_models.append(f\"{stock}_{period}\")\n",
    "    \n",
    "    print(f\"Found {found_count} out of {expected_count} expected models.\")\n",
    "    \n",
    "    if missing_models:\n",
    "        print(f\"Missing {len(missing_models)} models:\")\n",
    "        for model in missing_models[:10]:  # Show first 10 if many are missing\n",
    "            print(f\"  - {model}\")\n",
    "        if len(missing_models) > 10:\n",
    "            print(f\"  ...and {len(missing_models) - 10} more\")\n",
    "    else:\n",
    "        print(\"All expected models have been saved successfully!\")"
   ]
  },
  {
   "cell_type": "markdown",
   "metadata": {},
   "source": [
    "### 11.2. Conditional Execution of Model Verification\n",
    "\n",
    "This cell calls the `verify_saved_models()` function. \n",
    "- It is conditioned on the `process_all` flag. This means the verification step will only run if the full processing pipeline (controlled by `process_all` in Cell 10.1) was intended to be executed.\n",
    "- This ensures that model verification is performed after the main training loop has completed (or was supposed to complete), providing a check on the generated artifacts."
   ]
  },
  {
   "cell_type": "code",
   "execution_count": 78,
   "metadata": {},
   "outputs": [
    {
     "name": "stdout",
     "output_type": "stream",
     "text": [
      "Verifying saved models...\n",
      "Found 60 out of 60 expected models.\n",
      "All expected models have been saved successfully!\n"
     ]
    }
   ],
   "source": [
    "# Run this after processing all stocks to verify models were saved\n",
    "if process_all:\n",
    "    verify_saved_models()"
   ]
  },
  {
   "cell_type": "markdown",
   "metadata": {},
   "source": [
    "## 12. Model Benchmarking\n",
    "\n",
    "This section performs benchmarking on a subset of the trained models. It loads selected models and evaluates them on their respective test sets to gather key performance metrics. The results are then presented in a table and visualized."
   ]
  },
  {
   "cell_type": "code",
   "execution_count": 79,
   "metadata": {},
   "outputs": [
    {
     "name": "stderr",
     "output_type": "stream",
     "text": [
      "WARNING:absl:Compiled the loaded model, but the compiled metrics have yet to be built. `model.compile_metrics` will be empty until you train or evaluate the model.\n"
     ]
    },
    {
     "name": "stdout",
     "output_type": "stream",
     "text": [
      "Starting benchmarking for 5 stocks across 3 periods...\n",
      "\n",
      "--- Benchmarking for period: DAY ---\n",
      "Processing AAPL for day...\n"
     ]
    },
    {
     "name": "stderr",
     "output_type": "stream",
     "text": [
      "WARNING:absl:Compiled the loaded model, but the compiled metrics have yet to be built. `model.compile_metrics` will be empty until you train or evaluate the model.\n"
     ]
    },
    {
     "name": "stdout",
     "output_type": "stream",
     "text": [
      "Successfully benchmarked AAPL - day. F1: 0.7366, AUC: 0.7550\n",
      "Processing MSFT for day...\n"
     ]
    },
    {
     "name": "stderr",
     "output_type": "stream",
     "text": [
      "WARNING:absl:Compiled the loaded model, but the compiled metrics have yet to be built. `model.compile_metrics` will be empty until you train or evaluate the model.\n"
     ]
    },
    {
     "name": "stdout",
     "output_type": "stream",
     "text": [
      "Successfully benchmarked MSFT - day. F1: 0.7290, AUC: 0.7132\n",
      "Processing GOOG for day...\n"
     ]
    },
    {
     "name": "stderr",
     "output_type": "stream",
     "text": [
      "WARNING:absl:Compiled the loaded model, but the compiled metrics have yet to be built. `model.compile_metrics` will be empty until you train or evaluate the model.\n"
     ]
    },
    {
     "name": "stdout",
     "output_type": "stream",
     "text": [
      "Successfully benchmarked GOOG - day. F1: 0.7171, AUC: 0.7432\n",
      "Processing AMZN for day...\n",
      "Successfully benchmarked AMZN - day. F1: 0.6722, AUC: 0.7280\n",
      "Processing TSLA for day...\n"
     ]
    },
    {
     "name": "stderr",
     "output_type": "stream",
     "text": [
      "WARNING:absl:Compiled the loaded model, but the compiled metrics have yet to be built. `model.compile_metrics` will be empty until you train or evaluate the model.\n"
     ]
    },
    {
     "name": "stdout",
     "output_type": "stream",
     "text": [
      "Successfully benchmarked TSLA - day. F1: 0.6687, AUC: 0.7438\n",
      "\n",
      "--- Benchmarking for period: WEEK ---\n",
      "Processing AAPL for week...\n"
     ]
    },
    {
     "name": "stderr",
     "output_type": "stream",
     "text": [
      "WARNING:absl:Compiled the loaded model, but the compiled metrics have yet to be built. `model.compile_metrics` will be empty until you train or evaluate the model.\n",
      "WARNING:absl:Compiled the loaded model, but the compiled metrics have yet to be built. `model.compile_metrics` will be empty until you train or evaluate the model.\n"
     ]
    },
    {
     "name": "stdout",
     "output_type": "stream",
     "text": [
      "Successfully benchmarked AAPL - week. F1: 0.8676, AUC: 0.9132\n",
      "Processing MSFT for week...\n",
      "Successfully benchmarked MSFT - week. F1: 0.8404, AUC: 0.9011\n",
      "Processing GOOG for week...\n"
     ]
    },
    {
     "name": "stderr",
     "output_type": "stream",
     "text": [
      "WARNING:absl:Compiled the loaded model, but the compiled metrics have yet to be built. `model.compile_metrics` will be empty until you train or evaluate the model.\n",
      "WARNING:absl:Compiled the loaded model, but the compiled metrics have yet to be built. `model.compile_metrics` will be empty until you train or evaluate the model.\n"
     ]
    },
    {
     "name": "stdout",
     "output_type": "stream",
     "text": [
      "Successfully benchmarked GOOG - week. F1: 0.8450, AUC: 0.9083\n",
      "Processing AMZN for week...\n"
     ]
    },
    {
     "name": "stderr",
     "output_type": "stream",
     "text": [
      "WARNING:absl:Compiled the loaded model, but the compiled metrics have yet to be built. `model.compile_metrics` will be empty until you train or evaluate the model.\n"
     ]
    },
    {
     "name": "stdout",
     "output_type": "stream",
     "text": [
      "Successfully benchmarked AMZN - week. F1: 0.8465, AUC: 0.9126\n",
      "Processing TSLA for week...\n"
     ]
    },
    {
     "name": "stderr",
     "output_type": "stream",
     "text": [
      "WARNING:absl:Compiled the loaded model, but the compiled metrics have yet to be built. `model.compile_metrics` will be empty until you train or evaluate the model.\n"
     ]
    },
    {
     "name": "stdout",
     "output_type": "stream",
     "text": [
      "Successfully benchmarked TSLA - week. F1: 0.8102, AUC: 0.8972\n",
      "\n",
      "--- Benchmarking for period: MONTH ---\n",
      "Processing AAPL for month...\n",
      "Successfully benchmarked AAPL - month. F1: 0.9011, AUC: 0.9501\n",
      "Processing MSFT for month...\n"
     ]
    },
    {
     "name": "stderr",
     "output_type": "stream",
     "text": [
      "WARNING:absl:Compiled the loaded model, but the compiled metrics have yet to be built. `model.compile_metrics` will be empty until you train or evaluate the model.\n",
      "WARNING:absl:Compiled the loaded model, but the compiled metrics have yet to be built. `model.compile_metrics` will be empty until you train or evaluate the model.\n"
     ]
    },
    {
     "name": "stdout",
     "output_type": "stream",
     "text": [
      "Successfully benchmarked MSFT - month. F1: 0.9025, AUC: 0.9403\n",
      "Processing GOOG for month...\n",
      "Successfully benchmarked GOOG - month. F1: 0.9023, AUC: 0.9653\n",
      "Processing AMZN for month...\n"
     ]
    },
    {
     "name": "stderr",
     "output_type": "stream",
     "text": [
      "WARNING:absl:Compiled the loaded model, but the compiled metrics have yet to be built. `model.compile_metrics` will be empty until you train or evaluate the model.\n"
     ]
    },
    {
     "name": "stdout",
     "output_type": "stream",
     "text": [
      "Successfully benchmarked AMZN - month. F1: 0.9060, AUC: 0.9466\n",
      "Processing TSLA for month...\n"
     ]
    },
    {
     "name": "stderr",
     "output_type": "stream",
     "text": [
      "WARNING:absl:Compiled the loaded model, but the compiled metrics have yet to be built. `model.compile_metrics` will be empty until you train or evaluate the model.\n"
     ]
    },
    {
     "name": "stdout",
     "output_type": "stream",
     "text": [
      "Successfully benchmarked TSLA - month. F1: 0.8464, AUC: 0.9455\n",
      "\n",
      "--- Benchmarking Complete ---\n"
     ]
    }
   ],
   "source": [
    "from tensorflow.keras.models import load_model\n",
    "from sklearn.metrics import accuracy_score, precision_score, recall_score, f1_score, roc_auc_score\n",
    "import pandas as pd\n",
    "import matplotlib.pyplot as plt\n",
    "import seaborn as sns\n",
    "\n",
    "# Select a subset of stocks for benchmarking\n",
    "benchmark_stocks = ['AAPL', 'MSFT', 'GOOG', 'AMZN', 'TSLA'] # 5 stocks for demonstration\n",
    "time_steps_benchmark = 10 # Should match the time_steps used for training\n",
    "\n",
    "benchmark_results = []\n",
    "\n",
    "print(f\"Starting benchmarking for {len(benchmark_stocks)} stocks across {len(periods)} periods...\")\n",
    "\n",
    "for period in periods:\n",
    "    print(f\"\\n--- Benchmarking for period: {period.upper()} ---\")\n",
    "    for stock in benchmark_stocks:\n",
    "        print(f\"Processing {stock} for {period}...\")\n",
    "        model_path = f'../model/lstm/{period}/lstm_{stock}_{period}.h5'\n",
    "        \n",
    "        if not os.path.exists(model_path):\n",
    "            print(f\"Model not found for {stock} - {period}. Skipping.\")\n",
    "            benchmark_results.append({\n",
    "                'Stock': stock,\n",
    "                'Period': period,\n",
    "                'Accuracy': np.nan,\n",
    "                'Precision': np.nan,\n",
    "                'Recall': np.nan,\n",
    "                'F1-Score': np.nan,\n",
    "                'AUC': np.nan,\n",
    "                'Status': 'Model Missing'\n",
    "            })\n",
    "            continue\n",
    "        \n",
    "        try:\n",
    "            model = load_model(model_path)\n",
    "            df = load_data(stock, period)\n",
    "            \n",
    "            if df is None:\n",
    "                print(f\"Data not found for {stock} - {period}. Skipping.\")\n",
    "                benchmark_results.append({\n",
    "                    'Stock': stock,\n",
    "                    'Period': period,\n",
    "                    'Accuracy': np.nan,\n",
    "                    'Precision': np.nan,\n",
    "                    'Recall': np.nan,\n",
    "                    'F1-Score': np.nan,\n",
    "                    'AUC': np.nan,\n",
    "                    'Status': 'Data Missing'\n",
    "                })\n",
    "                continue\n",
    "            \n",
    "            target_col = f'Target_Next_{period.capitalize()}'\n",
    "            if target_col not in df.columns:\n",
    "                print(f\"Target column {target_col} not found for {stock} - {period}. Skipping.\")\n",
    "                benchmark_results.append({\n",
    "                    'Stock': stock,\n",
    "                    'Period': period,\n",
    "                    'Accuracy': np.nan,\n",
    "                    'Precision': np.nan,\n",
    "                    'Recall': np.nan,\n",
    "                    'F1-Score': np.nan,\n",
    "                    'AUC': np.nan,\n",
    "                    'Status': 'Target Col Missing'\n",
    "                })\n",
    "                continue\n",
    "\n",
    "            # Re-prepare data to get the exact X_test, y_test split\n",
    "            # Ensure parameters match those used in training (time_steps, test_size, validation_size)\n",
    "            _, _, X_test, _, _, y_test = prepare_lstm_data(\n",
    "                df, target_col, time_steps=time_steps_benchmark, test_size=0.2, validation_size=0.2\n",
    "            )\n",
    "            \n",
    "            if X_test.shape[0] == 0:\n",
    "                print(f\"Test set is empty for {stock} - {period} after preparation. Skipping.\")\n",
    "                benchmark_results.append({\n",
    "                    'Stock': stock,\n",
    "                    'Period': period,\n",
    "                    'Accuracy': np.nan,\n",
    "                    'Precision': np.nan,\n",
    "                    'Recall': np.nan,\n",
    "                    'F1-Score': np.nan,\n",
    "                    'AUC': np.nan,\n",
    "                    'Status': 'Empty Test Set'\n",
    "                })\n",
    "                continue\n",
    "\n",
    "            y_pred_prob = model.predict(X_test, verbose=0).flatten()\n",
    "            y_pred = (y_pred_prob > 0.5).astype(int)\n",
    "            \n",
    "            accuracy = accuracy_score(y_test, y_pred)\n",
    "            precision = precision_score(y_test, y_pred, zero_division=0)\n",
    "            recall = recall_score(y_test, y_pred, zero_division=0)\n",
    "            f1 = f1_score(y_test, y_pred, zero_division=0)\n",
    "            auc = roc_auc_score(y_test, y_pred_prob) if len(np.unique(y_test)) > 1 else np.nan # AUC requires at least two classes in y_true\n",
    "            \n",
    "            benchmark_results.append({\n",
    "                'Stock': stock,\n",
    "                'Period': period,\n",
    "                'Accuracy': accuracy,\n",
    "                'Precision': precision,\n",
    "                'Recall': recall,\n",
    "                'F1-Score': f1,\n",
    "                'AUC': auc,\n",
    "                'Status': 'Success'\n",
    "            })\n",
    "            print(f\"Successfully benchmarked {stock} - {period}. F1: {f1:.4f}, AUC: {auc if not np.isnan(auc) else 'N/A':.4f}\")\n",
    "        \n",
    "        except Exception as e:\n",
    "            print(f\"Error benchmarking {stock} - {period}: {e}\")\n",
    "            benchmark_results.append({\n",
    "                'Stock': stock,\n",
    "                'Period': period,\n",
    "                'Accuracy': np.nan,\n",
    "                'Precision': np.nan,\n",
    "                'Recall': np.nan,\n",
    "                'F1-Score': np.nan,\n",
    "                'AUC': np.nan,\n",
    "                'Status': f'Error: {str(e)[:50]}...'\n",
    "            })\n",
    "\n",
    "benchmark_df = pd.DataFrame(benchmark_results)\n",
    "print(\"\\n--- Benchmarking Complete ---\")"
   ]
  },
  {
   "cell_type": "markdown",
   "metadata": {},
   "source": [
    "### 12.1. Benchmarking Results Table\n",
    "\n",
    "The table below summarizes the performance metrics (Accuracy, Precision, Recall, F1-Score, AUC) for the selected stocks across different prediction periods."
   ]
  },
  {
   "cell_type": "code",
   "execution_count": 80,
   "metadata": {},
   "outputs": [
    {
     "data": {
      "text/html": [
       "<style type=\"text/css\">\n",
       "</style>\n",
       "<table id=\"T_b8d44\">\n",
       "  <thead>\n",
       "    <tr>\n",
       "      <th class=\"blank level0\" >&nbsp;</th>\n",
       "      <th id=\"T_b8d44_level0_col0\" class=\"col_heading level0 col0\" >Stock</th>\n",
       "      <th id=\"T_b8d44_level0_col1\" class=\"col_heading level0 col1\" >Period</th>\n",
       "      <th id=\"T_b8d44_level0_col2\" class=\"col_heading level0 col2\" >Accuracy</th>\n",
       "      <th id=\"T_b8d44_level0_col3\" class=\"col_heading level0 col3\" >Precision</th>\n",
       "      <th id=\"T_b8d44_level0_col4\" class=\"col_heading level0 col4\" >Recall</th>\n",
       "      <th id=\"T_b8d44_level0_col5\" class=\"col_heading level0 col5\" >F1-Score</th>\n",
       "      <th id=\"T_b8d44_level0_col6\" class=\"col_heading level0 col6\" >AUC</th>\n",
       "      <th id=\"T_b8d44_level0_col7\" class=\"col_heading level0 col7\" >Status</th>\n",
       "    </tr>\n",
       "  </thead>\n",
       "  <tbody>\n",
       "    <tr>\n",
       "      <th id=\"T_b8d44_level0_row0\" class=\"row_heading level0 row0\" >0</th>\n",
       "      <td id=\"T_b8d44_row0_col0\" class=\"data row0 col0\" >AAPL</td>\n",
       "      <td id=\"T_b8d44_row0_col1\" class=\"data row0 col1\" >day</td>\n",
       "      <td id=\"T_b8d44_row0_col2\" class=\"data row0 col2\" >0.7029</td>\n",
       "      <td id=\"T_b8d44_row0_col3\" class=\"data row0 col3\" >0.7040</td>\n",
       "      <td id=\"T_b8d44_row0_col4\" class=\"data row0 col4\" >0.7724</td>\n",
       "      <td id=\"T_b8d44_row0_col5\" class=\"data row0 col5\" >0.7366</td>\n",
       "      <td id=\"T_b8d44_row0_col6\" class=\"data row0 col6\" >0.7550</td>\n",
       "      <td id=\"T_b8d44_row0_col7\" class=\"data row0 col7\" >Success</td>\n",
       "    </tr>\n",
       "    <tr>\n",
       "      <th id=\"T_b8d44_level0_row1\" class=\"row_heading level0 row1\" >1</th>\n",
       "      <td id=\"T_b8d44_row1_col0\" class=\"data row1 col0\" >MSFT</td>\n",
       "      <td id=\"T_b8d44_row1_col1\" class=\"data row1 col1\" >day</td>\n",
       "      <td id=\"T_b8d44_row1_col2\" class=\"data row1 col2\" >0.6451</td>\n",
       "      <td id=\"T_b8d44_row1_col3\" class=\"data row1 col3\" >0.6056</td>\n",
       "      <td id=\"T_b8d44_row1_col4\" class=\"data row1 col4\" >0.9156</td>\n",
       "      <td id=\"T_b8d44_row1_col5\" class=\"data row1 col5\" >0.7290</td>\n",
       "      <td id=\"T_b8d44_row1_col6\" class=\"data row1 col6\" >0.7132</td>\n",
       "      <td id=\"T_b8d44_row1_col7\" class=\"data row1 col7\" >Success</td>\n",
       "    </tr>\n",
       "    <tr>\n",
       "      <th id=\"T_b8d44_level0_row2\" class=\"row_heading level0 row2\" >2</th>\n",
       "      <td id=\"T_b8d44_row2_col0\" class=\"data row2 col0\" >GOOG</td>\n",
       "      <td id=\"T_b8d44_row2_col1\" class=\"data row2 col1\" >day</td>\n",
       "      <td id=\"T_b8d44_row2_col2\" class=\"data row2 col2\" >0.6809</td>\n",
       "      <td id=\"T_b8d44_row2_col3\" class=\"data row2 col3\" >0.6774</td>\n",
       "      <td id=\"T_b8d44_row2_col4\" class=\"data row2 col4\" >0.7617</td>\n",
       "      <td id=\"T_b8d44_row2_col5\" class=\"data row2 col5\" >0.7171</td>\n",
       "      <td id=\"T_b8d44_row2_col6\" class=\"data row2 col6\" >0.7432</td>\n",
       "      <td id=\"T_b8d44_row2_col7\" class=\"data row2 col7\" >Success</td>\n",
       "    </tr>\n",
       "    <tr>\n",
       "      <th id=\"T_b8d44_level0_row3\" class=\"row_heading level0 row3\" >3</th>\n",
       "      <td id=\"T_b8d44_row3_col0\" class=\"data row3 col0\" >AMZN</td>\n",
       "      <td id=\"T_b8d44_row3_col1\" class=\"data row3 col1\" >day</td>\n",
       "      <td id=\"T_b8d44_row3_col2\" class=\"data row3 col2\" >0.6740</td>\n",
       "      <td id=\"T_b8d44_row3_col3\" class=\"data row3 col3\" >0.6963</td>\n",
       "      <td id=\"T_b8d44_row3_col4\" class=\"data row3 col4\" >0.6497</td>\n",
       "      <td id=\"T_b8d44_row3_col5\" class=\"data row3 col5\" >0.6722</td>\n",
       "      <td id=\"T_b8d44_row3_col6\" class=\"data row3 col6\" >0.7280</td>\n",
       "      <td id=\"T_b8d44_row3_col7\" class=\"data row3 col7\" >Success</td>\n",
       "    </tr>\n",
       "    <tr>\n",
       "      <th id=\"T_b8d44_level0_row4\" class=\"row_heading level0 row4\" >4</th>\n",
       "      <td id=\"T_b8d44_row4_col0\" class=\"data row4 col0\" >TSLA</td>\n",
       "      <td id=\"T_b8d44_row4_col1\" class=\"data row4 col1\" >day</td>\n",
       "      <td id=\"T_b8d44_row4_col2\" class=\"data row4 col2\" >0.6842</td>\n",
       "      <td id=\"T_b8d44_row4_col3\" class=\"data row4 col3\" >0.7134</td>\n",
       "      <td id=\"T_b8d44_row4_col4\" class=\"data row4 col4\" >0.6292</td>\n",
       "      <td id=\"T_b8d44_row4_col5\" class=\"data row4 col5\" >0.6687</td>\n",
       "      <td id=\"T_b8d44_row4_col6\" class=\"data row4 col6\" >0.7438</td>\n",
       "      <td id=\"T_b8d44_row4_col7\" class=\"data row4 col7\" >Success</td>\n",
       "    </tr>\n",
       "    <tr>\n",
       "      <th id=\"T_b8d44_level0_row5\" class=\"row_heading level0 row5\" >5</th>\n",
       "      <td id=\"T_b8d44_row5_col0\" class=\"data row5 col0\" >AAPL</td>\n",
       "      <td id=\"T_b8d44_row5_col1\" class=\"data row5 col1\" >week</td>\n",
       "      <td id=\"T_b8d44_row5_col2\" class=\"data row5 col2\" >0.8514</td>\n",
       "      <td id=\"T_b8d44_row5_col3\" class=\"data row5 col3\" >0.8741</td>\n",
       "      <td id=\"T_b8d44_row5_col4\" class=\"data row5 col4\" >0.8613</td>\n",
       "      <td id=\"T_b8d44_row5_col5\" class=\"data row5 col5\" >0.8676</td>\n",
       "      <td id=\"T_b8d44_row5_col6\" class=\"data row5 col6\" >0.9132</td>\n",
       "      <td id=\"T_b8d44_row5_col7\" class=\"data row5 col7\" >Success</td>\n",
       "    </tr>\n",
       "    <tr>\n",
       "      <th id=\"T_b8d44_level0_row6\" class=\"row_heading level0 row6\" >6</th>\n",
       "      <td id=\"T_b8d44_row6_col0\" class=\"data row6 col0\" >MSFT</td>\n",
       "      <td id=\"T_b8d44_row6_col1\" class=\"data row6 col1\" >week</td>\n",
       "      <td id=\"T_b8d44_row6_col2\" class=\"data row6 col2\" >0.8239</td>\n",
       "      <td id=\"T_b8d44_row6_col3\" class=\"data row6 col3\" >0.8362</td>\n",
       "      <td id=\"T_b8d44_row6_col4\" class=\"data row6 col4\" >0.8446</td>\n",
       "      <td id=\"T_b8d44_row6_col5\" class=\"data row6 col5\" >0.8404</td>\n",
       "      <td id=\"T_b8d44_row6_col6\" class=\"data row6 col6\" >0.9011</td>\n",
       "      <td id=\"T_b8d44_row6_col7\" class=\"data row6 col7\" >Success</td>\n",
       "    </tr>\n",
       "    <tr>\n",
       "      <th id=\"T_b8d44_level0_row7\" class=\"row_heading level0 row7\" >7</th>\n",
       "      <td id=\"T_b8d44_row7_col0\" class=\"data row7 col0\" >GOOG</td>\n",
       "      <td id=\"T_b8d44_row7_col1\" class=\"data row7 col1\" >week</td>\n",
       "      <td id=\"T_b8d44_row7_col2\" class=\"data row7 col2\" >0.8349</td>\n",
       "      <td id=\"T_b8d44_row7_col3\" class=\"data row7 col3\" >0.8583</td>\n",
       "      <td id=\"T_b8d44_row7_col4\" class=\"data row7 col4\" >0.8321</td>\n",
       "      <td id=\"T_b8d44_row7_col5\" class=\"data row7 col5\" >0.8450</td>\n",
       "      <td id=\"T_b8d44_row7_col6\" class=\"data row7 col6\" >0.9083</td>\n",
       "      <td id=\"T_b8d44_row7_col7\" class=\"data row7 col7\" >Success</td>\n",
       "    </tr>\n",
       "    <tr>\n",
       "      <th id=\"T_b8d44_level0_row8\" class=\"row_heading level0 row8\" >8</th>\n",
       "      <td id=\"T_b8d44_row8_col0\" class=\"data row8 col0\" >AMZN</td>\n",
       "      <td id=\"T_b8d44_row8_col1\" class=\"data row8 col1\" >week</td>\n",
       "      <td id=\"T_b8d44_row8_col2\" class=\"data row8 col2\" >0.8294</td>\n",
       "      <td id=\"T_b8d44_row8_col3\" class=\"data row8 col3\" >0.8261</td>\n",
       "      <td id=\"T_b8d44_row8_col4\" class=\"data row8 col4\" >0.8680</td>\n",
       "      <td id=\"T_b8d44_row8_col5\" class=\"data row8 col5\" >0.8465</td>\n",
       "      <td id=\"T_b8d44_row8_col6\" class=\"data row8 col6\" >0.9126</td>\n",
       "      <td id=\"T_b8d44_row8_col7\" class=\"data row8 col7\" >Success</td>\n",
       "    </tr>\n",
       "    <tr>\n",
       "      <th id=\"T_b8d44_level0_row9\" class=\"row_heading level0 row9\" >9</th>\n",
       "      <td id=\"T_b8d44_row9_col0\" class=\"data row9 col0\" >TSLA</td>\n",
       "      <td id=\"T_b8d44_row9_col1\" class=\"data row9 col1\" >week</td>\n",
       "      <td id=\"T_b8d44_row9_col2\" class=\"data row9 col2\" >0.8208</td>\n",
       "      <td id=\"T_b8d44_row9_col3\" class=\"data row9 col3\" >0.8406</td>\n",
       "      <td id=\"T_b8d44_row9_col4\" class=\"data row9 col4\" >0.7820</td>\n",
       "      <td id=\"T_b8d44_row9_col5\" class=\"data row9 col5\" >0.8102</td>\n",
       "      <td id=\"T_b8d44_row9_col6\" class=\"data row9 col6\" >0.8972</td>\n",
       "      <td id=\"T_b8d44_row9_col7\" class=\"data row9 col7\" >Success</td>\n",
       "    </tr>\n",
       "    <tr>\n",
       "      <th id=\"T_b8d44_level0_row10\" class=\"row_heading level0 row10\" >10</th>\n",
       "      <td id=\"T_b8d44_row10_col0\" class=\"data row10 col0\" >AAPL</td>\n",
       "      <td id=\"T_b8d44_row10_col1\" class=\"data row10 col1\" >month</td>\n",
       "      <td id=\"T_b8d44_row10_col2\" class=\"data row10 col2\" >0.8817</td>\n",
       "      <td id=\"T_b8d44_row10_col3\" class=\"data row10 col3\" >0.8578</td>\n",
       "      <td id=\"T_b8d44_row10_col4\" class=\"data row10 col4\" >0.9492</td>\n",
       "      <td id=\"T_b8d44_row10_col5\" class=\"data row10 col5\" >0.9011</td>\n",
       "      <td id=\"T_b8d44_row10_col6\" class=\"data row10 col6\" >0.9501</td>\n",
       "      <td id=\"T_b8d44_row10_col7\" class=\"data row10 col7\" >Success</td>\n",
       "    </tr>\n",
       "    <tr>\n",
       "      <th id=\"T_b8d44_level0_row11\" class=\"row_heading level0 row11\" >11</th>\n",
       "      <td id=\"T_b8d44_row11_col0\" class=\"data row11 col0\" >MSFT</td>\n",
       "      <td id=\"T_b8d44_row11_col1\" class=\"data row11 col1\" >month</td>\n",
       "      <td id=\"T_b8d44_row11_col2\" class=\"data row11 col2\" >0.8858</td>\n",
       "      <td id=\"T_b8d44_row11_col3\" class=\"data row11 col3\" >0.8848</td>\n",
       "      <td id=\"T_b8d44_row11_col4\" class=\"data row11 col4\" >0.9209</td>\n",
       "      <td id=\"T_b8d44_row11_col5\" class=\"data row11 col5\" >0.9025</td>\n",
       "      <td id=\"T_b8d44_row11_col6\" class=\"data row11 col6\" >0.9403</td>\n",
       "      <td id=\"T_b8d44_row11_col7\" class=\"data row11 col7\" >Success</td>\n",
       "    </tr>\n",
       "    <tr>\n",
       "      <th id=\"T_b8d44_level0_row12\" class=\"row_heading level0 row12\" >12</th>\n",
       "      <td id=\"T_b8d44_row12_col0\" class=\"data row12 col0\" >GOOG</td>\n",
       "      <td id=\"T_b8d44_row12_col1\" class=\"data row12 col1\" >month</td>\n",
       "      <td id=\"T_b8d44_row12_col2\" class=\"data row12 col2\" >0.8913</td>\n",
       "      <td id=\"T_b8d44_row12_col3\" class=\"data row12 col3\" >0.8629</td>\n",
       "      <td id=\"T_b8d44_row12_col4\" class=\"data row12 col4\" >0.9456</td>\n",
       "      <td id=\"T_b8d44_row12_col5\" class=\"data row12 col5\" >0.9023</td>\n",
       "      <td id=\"T_b8d44_row12_col6\" class=\"data row12 col6\" >0.9653</td>\n",
       "      <td id=\"T_b8d44_row12_col7\" class=\"data row12 col7\" >Success</td>\n",
       "    </tr>\n",
       "    <tr>\n",
       "      <th id=\"T_b8d44_level0_row13\" class=\"row_heading level0 row13\" >13</th>\n",
       "      <td id=\"T_b8d44_row13_col0\" class=\"data row13 col0\" >AMZN</td>\n",
       "      <td id=\"T_b8d44_row13_col1\" class=\"data row13 col1\" >month</td>\n",
       "      <td id=\"T_b8d44_row13_col2\" class=\"data row13 col2\" >0.8790</td>\n",
       "      <td id=\"T_b8d44_row13_col3\" class=\"data row13 col3\" >0.8600</td>\n",
       "      <td id=\"T_b8d44_row13_col4\" class=\"data row13 col4\" >0.9571</td>\n",
       "      <td id=\"T_b8d44_row13_col5\" class=\"data row13 col5\" >0.9060</td>\n",
       "      <td id=\"T_b8d44_row13_col6\" class=\"data row13 col6\" >0.9466</td>\n",
       "      <td id=\"T_b8d44_row13_col7\" class=\"data row13 col7\" >Success</td>\n",
       "    </tr>\n",
       "    <tr>\n",
       "      <th id=\"T_b8d44_level0_row14\" class=\"row_heading level0 row14\" >14</th>\n",
       "      <td id=\"T_b8d44_row14_col0\" class=\"data row14 col0\" >TSLA</td>\n",
       "      <td id=\"T_b8d44_row14_col1\" class=\"data row14 col1\" >month</td>\n",
       "      <td id=\"T_b8d44_row14_col2\" class=\"data row14 col2\" >0.8606</td>\n",
       "      <td id=\"T_b8d44_row14_col3\" class=\"data row14 col3\" >0.8491</td>\n",
       "      <td id=\"T_b8d44_row14_col4\" class=\"data row14 col4\" >0.8438</td>\n",
       "      <td id=\"T_b8d44_row14_col5\" class=\"data row14 col5\" >0.8464</td>\n",
       "      <td id=\"T_b8d44_row14_col6\" class=\"data row14 col6\" >0.9455</td>\n",
       "      <td id=\"T_b8d44_row14_col7\" class=\"data row14 col7\" >Success</td>\n",
       "    </tr>\n",
       "  </tbody>\n",
       "</table>\n"
      ],
      "text/plain": [
       "<pandas.io.formats.style.Styler at 0x7f3021d1bed0>"
      ]
     },
     "metadata": {},
     "output_type": "display_data"
    }
   ],
   "source": [
    "if not benchmark_df.empty:\n",
    "    display(benchmark_df.style.format({\n",
    "        'Accuracy': '{:.4f}',\n",
    "        'Precision': '{:.4f}',\n",
    "        'Recall': '{:.4f}',\n",
    "        'F1-Score': '{:.4f}',\n",
    "        'AUC': '{:.4f}'\n",
    "    }).hide_index() if 'Status' not in benchmark_df.columns else benchmark_df.style.format({\n",
    "        'Accuracy': '{:.4f}',\n",
    "        'Precision': '{:.4f}',\n",
    "        'Recall': '{:.4f}',\n",
    "        'F1-Score': '{:.4f}',\n",
    "        'AUC': '{:.4f}'\n",
    "    }))\n",
    "else:\n",
    "    print(\"Benchmarking DataFrame is empty. No results to display.\")"
   ]
  },
  {
   "cell_type": "markdown",
   "metadata": {},
   "source": [
    "### 12.2. Benchmarking Visualizations\n",
    "\n",
    "The following visualizations provide a comparative view of model performance."
   ]
  },
  {
   "cell_type": "code",
   "execution_count": 81,
   "metadata": {},
   "outputs": [
    {
     "data": {
      "image/png": "[encoded data removed]",
      "text/plain": [
       "<Figure size 1500x700 with 1 Axes>"
      ]
     },
     "metadata": {},
     "output_type": "display_data"
    }
   ],
   "source": [
    "if not benchmark_df.empty and 'F1-Score' in benchmark_df.columns:\n",
    "    # Filter out rows with NaN F1-scores for plotting\n",
    "    plot_df_f1 = benchmark_df.dropna(subset=['F1-Score'])\n",
    "    if not plot_df_f1.empty:\n",
    "        plt.figure(figsize=(15, 7))\n",
    "        sns.barplot(data=plot_df_f1, x='Stock', y='F1-Score', hue='Period', palette='viridis')\n",
    "        plt.title('Model F1-Scores by Stock and Period')\n",
    "        plt.ylabel('F1-Score')\n",
    "        plt.xlabel('Stock Symbol')\n",
    "        plt.xticks(rotation=45)\n",
    "        plt.legend(title='Period')\n",
    "        plt.tight_layout()\n",
    "        plt.show()\n",
    "    else:\n",
    "        print(\"No valid F1-Score data to plot after filtering NaNs.\")\n",
    "else:\n",
    "    print(\"Benchmarking DataFrame is empty or F1-Score column missing, skipping F1-Score plot.\")"
   ]
  },
  {
   "cell_type": "code",
   "execution_count": 82,
   "metadata": {},
   "outputs": [
    {
     "data": {
      "image/png": "[encoded data removed]",
      "text/plain": [
       "<Figure size 1500x700 with 1 Axes>"
      ]
     },
     "metadata": {},
     "output_type": "display_data"
    }
   ],
   "source": [
    "if not benchmark_df.empty and 'AUC' in benchmark_df.columns:\n",
    "    # Filter out rows with NaN AUC scores for plotting\n",
    "    plot_df_auc = benchmark_df.dropna(subset=['AUC'])\n",
    "    if not plot_df_auc.empty:\n",
    "        plt.figure(figsize=(15, 7))\n",
    "        sns.barplot(data=plot_df_auc, x='Stock', y='AUC', hue='Period', palette='mako')\n",
    "        plt.title('Model AUC Scores by Stock and Period')\n",
    "        plt.ylabel('AUC Score')\n",
    "        plt.xlabel('Stock Symbol')\n",
    "        plt.xticks(rotation=45)\n",
    "        plt.legend(title='Period')\n",
    "        plt.tight_layout()\n",
    "        plt.show()\n",
    "    else:\n",
    "        print(\"No valid AUC data to plot after filtering NaNs.\")\n",
    "else:\n",
    "    print(\"Benchmarking DataFrame is empty or AUC column missing, skipping AUC plot.\")"
   ]
  },
  {
   "cell_type": "markdown",
   "metadata": {},
   "source": [
    "## 13. Advanced Model Performance Analysis (Utility Function)\n",
    "\n",
    "The following function, `analyze_model_performance`, is a utility for conducting a more detailed performance analysis of a *single* trained model. It's not directly part of the main training loop but can be used for deeper dives into specific models."
   ]
  },
  {
   "cell_type": "code",
   "execution_count": 83,
   "metadata": {},
   "outputs": [],
   "source": [
    "def analyze_model_performance(model, X_test, y_test, stock, period):\n",
    "    \"\"\"Generate detailed performance metrics and ROC curve\"\"\"\n",
    "    from sklearn.metrics import roc_curve, auc, precision_recall_curve, average_precision_score\n",
    "    import matplotlib.pyplot as plt\n",
    "    import seaborn as sns # Seaborn was imported but not used here, can be removed if not intended\n",
    "    \n",
    "    # Get predictions\n",
    "    y_pred_prob = model.predict(X_test, verbose=0).flatten()\n",
    "    y_pred = (y_pred_prob > 0.5).astype(int)\n",
    "    \n",
    "    # ROC Curve\n",
    "    fpr, tpr, thresholds = roc_curve(y_test, y_pred_prob)\n",
    "    roc_auc = auc(fpr, tpr)\n",
    "    \n",
    "    # Precision-Recall Curve\n",
    "    precision, recall, _ = precision_recall_curve(y_test, y_pred_prob)\n",
    "    average_precision = average_precision_score(y_test, y_pred_prob)\n",
    "    \n",
    "    # Plot ROC and PR curves\n",
    "    plt.figure(figsize=(15, 6))\n",
    "    \n",
    "    # ROC Curve\n",
    "    plt.subplot(1, 2, 1)\n",
    "    plt.plot(fpr, tpr, color='darkorange', lw=2, label=f'ROC curve (AUC = {roc_auc:.3f})')\n",
    "    plt.plot([0, 1], [0, 1], color='navy', lw=2, linestyle='--')\n",
    "    plt.xlim([0.0, 1.0])\n",
    "    plt.ylim([0.0, 1.05])\n",
    "    plt.xlabel('False Positive Rate')\n",
    "    plt.ylabel('True Positive Rate')\n",
    "    plt.title(f'{stock} {period} - ROC Curve')\n",
    "    plt.legend(loc=\"lower right\")\n",
    "    \n",
    "    # Precision-Recall Curve\n",
    "    plt.subplot(1, 2, 2)\n",
    "    plt.plot(recall, precision, color='blue', lw=2, label=f'PR curve (AP = {average_precision:.3f})')\n",
    "    plt.xlim([0.0, 1.0])\n",
    "    plt.ylim([0.0, 1.05])\n",
    "    plt.xlabel('Recall')\n",
    "    plt.ylabel('Precision')\n",
    "    plt.title(f'{stock} {period} - Precision-Recall Curve')\n",
    "    plt.legend(loc=\"lower right\")\n",
    "    \n",
    "    plt.tight_layout()\n",
    "    plt.show()\n",
    "    \n",
    "    # Find optimal threshold\n",
    "    J = tpr - fpr  # Youden's J statistic\n",
    "    optimal_idx = np.argmax(J)\n",
    "    optimal_threshold = thresholds[optimal_idx]\n",
    "    \n",
    "    print(f\"Optimal threshold: {optimal_threshold:.4f}\")\n",
    "    print(f\"At optimal threshold - TPR: {tpr[optimal_idx]:.4f}, FPR: {fpr[optimal_idx]:.4f}\")\n",
    "    \n",
    "    # Apply optimal threshold\n",
    "    y_pred_optimal = (y_pred_prob >= optimal_threshold).astype(int)\n",
    "    \n",
    "    # Metrics with optimal threshold\n",
    "    from sklearn.metrics import accuracy_score, precision_score, recall_score, f1_score\n",
    "    \n",
    "    accuracy_optimal = accuracy_score(y_test, y_pred_optimal)\n",
    "    precision_optimal = precision_score(y_test, y_pred_optimal)\n",
    "    recall_optimal = recall_score(y_test, y_pred_optimal)\n",
    "    f1_optimal = f1_score(y_test, y_pred_optimal)\n",
    "    \n",
    "    print(\"\\nPerformance with optimal threshold:\")\n",
    "    print(f\"Accuracy: {accuracy_optimal:.4f}\")\n",
    "    print(f\"Precision: {precision_optimal:.4f}\")\n",
    "    print(f\"Recall: {recall_optimal:.4f}\")\n",
    "    print(f\"F1 Score: {f1_optimal:.4f}\")\n",
    "    \n",
    "    return y_pred_prob, optimal_threshold"
   ]
  },
  {
   "cell_type": "code",
   "execution_count": null,
   "metadata": {},
   "outputs": [],
   "source": []
  }
 ],
 "metadata": {
  "kernelspec": {
   "display_name": "Python 3",
   "language": "python",
   "name": "python3"
  },
  "language_info": {
   "codemirror_mode": {
    "name": "ipython",
    "version": 3
   },
   "file_extension": ".py",
   "mimetype": "text/x-python",
   "name": "python",
   "nbconvert_exporter": "python",
   "pygments_lexer": "ipython3",
   "version": "3.8.10"
  }
 },
 "nbformat": 4,
 "nbformat_minor": 4
}
