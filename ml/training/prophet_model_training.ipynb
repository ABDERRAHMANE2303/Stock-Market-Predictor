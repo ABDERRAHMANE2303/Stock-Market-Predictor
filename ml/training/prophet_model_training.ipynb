{
 "cells": [
  {
   "cell_type": "markdown",
   "metadata": {},
   "source": [
    "# Stock Price Prediction Data Preparation for Prophet\n",
    "\n",
    "This notebook prepares stock data for prediction using Prophet for three different time periods:\n",
    "1. Next day close price\n",
    "2. Next week average close price\n",
    "3. Next month average close price\n",
    "\n",
    "For each stock, we'll create three separate datasets specifically formatted for each prediction period."
   ]
  },
  {
   "cell_type": "code",
   "execution_count": 1,
   "metadata": {},
   "outputs": [],
   "source": [
    "import os\n",
    "import pandas as pd\n",
    "import numpy as np\n",
    "from datetime import datetime, timedelta\n",
    "import warnings\n",
    "warnings.filterwarnings('ignore')"
   ]
  },
  {
   "cell_type": "code",
   "execution_count": 2,
   "metadata": {},
   "outputs": [],
   "source": [
    "# List of stock symbols\n",
    "stocks = [\"AAPL\", \"MSFT\", \"GOOG\", \"AMZN\", \"TSLA\", \n",
    "          \"META\", \"NVDA\", \"SPY\", \"V\", \"DIS\",\n",
    "          \"NFLX\", \"PYPL\", \"BABA\", \"IBM\", \"AMD\",\n",
    "          \"BA\", \"INTC\", \"T\", \"GS\", \"NKE\"]\n",
    "\n",
    "# Path to the project root\n",
    "project_root = os.path.abspath(os.path.join(os.getcwd(), \"../..\"))\n",
    "\n",
    "# Paths for input and output data\n",
    "input_folder = os.path.join(project_root, \"data\", \"prophet\",\"initial\")\n",
    "output_base_folder = os.path.join(project_root, \"data\", \"prophet\")\n",
    "\n",
    "# Create output folders for each prediction period\n",
    "output_folders = {\n",
    "    'day': os.path.join(output_base_folder, \"day\"),\n",
    "    'week': os.path.join(output_base_folder, \"week\"),\n",
    "    'month': os.path.join(output_base_folder, \"month\")\n",
    "}\n",
    "\n",
    "# Ensure output directories exist\n",
    "for folder in output_folders.values():\n",
    "    os.makedirs(folder, exist_ok=True)"
   ]
  },
  {
   "cell_type": "markdown",
   "metadata": {},
   "source": [
    "## Helper Functions for Data Preparation"
   ]
  },
  {
   "cell_type": "code",
   "execution_count": 3,
   "metadata": {},
   "outputs": [],
   "source": [
    "def prepare_next_day_data(df):\n",
    "    \"\"\"\n",
    "    Prepare data for next day prediction using Prophet.\n",
    "    Prophet requires 'ds' and 'y' columns for date and target variable.\n",
    "    \n",
    "    The format is already correct, but we'll ensure only necessary columns are kept\n",
    "    and data is properly sorted.\n",
    "    \"\"\"\n",
    "    # Make a copy to avoid modifying the original dataframe\n",
    "    prophet_df = df.copy()\n",
    "    \n",
    "    # Ensure datetime format for ds column\n",
    "    prophet_df['ds'] = pd.to_datetime(prophet_df['ds'])\n",
    "    \n",
    "    # Sort by date\n",
    "    prophet_df = prophet_df.sort_values('ds')\n",
    "    \n",
    "    # Keep only required columns for Prophet: 'ds' and 'y'\n",
    "    prophet_df = prophet_df[['ds', 'y']]\n",
    "    \n",
    "    return prophet_df\n",
    "\n",
    "def prepare_next_week_data(df):\n",
    "    \"\"\"\n",
    "    Prepare data for next week average prediction.\n",
    "    We'll create a new column 'y' that represents the average close price for the next 5 trading days.\n",
    "    \"\"\"\n",
    "    # Make a copy to avoid modifying the original dataframe\n",
    "    df_copy = df.copy()\n",
    "    \n",
    "    # Ensure datetime format for ds column\n",
    "    df_copy['ds'] = pd.to_datetime(df_copy['ds'])\n",
    "    \n",
    "    # Sort by date\n",
    "    df_copy = df_copy.sort_values('ds')\n",
    "    \n",
    "    # Calculate the 5-day forward rolling average of close prices (representing a trading week)\n",
    "    df_copy['next_week_avg'] = df_copy['y'].shift(-5).rolling(window=5).mean()\n",
    "    \n",
    "    # Drop rows with NaN values in the next_week_avg column (last 9 rows)\n",
    "    df_copy = df_copy.dropna(subset=['next_week_avg'])\n",
    "    \n",
    "    # Create the Prophet format dataframe\n",
    "    prophet_df = pd.DataFrame({\n",
    "        'ds': df_copy['ds'],\n",
    "        'y': df_copy['next_week_avg']\n",
    "    })\n",
    "    \n",
    "    return prophet_df\n",
    "\n",
    "def prepare_next_month_data(df):\n",
    "    \"\"\"\n",
    "    Prepare data for next month average prediction.\n",
    "    We'll create a new column 'y' that represents the average close price for the next 21 trading days.\n",
    "    \"\"\"\n",
    "    # Make a copy to avoid modifying the original dataframe\n",
    "    df_copy = df.copy()\n",
    "    \n",
    "    # Ensure datetime format for ds column\n",
    "    df_copy['ds'] = pd.to_datetime(df_copy['ds'])\n",
    "    \n",
    "    # Sort by date\n",
    "    df_copy = df_copy.sort_values('ds')\n",
    "    \n",
    "    # Calculate the 21-day forward rolling average of close prices (representing a trading month)\n",
    "    df_copy['next_month_avg'] = df_copy['y'].shift(-21).rolling(window=21).mean()\n",
    "    \n",
    "    # Drop rows with NaN values in the next_month_avg column\n",
    "    df_copy = df_copy.dropna(subset=['next_month_avg'])\n",
    "    \n",
    "    # Create the Prophet format dataframe\n",
    "    prophet_df = pd.DataFrame({\n",
    "        'ds': df_copy['ds'],\n",
    "        'y': df_copy['next_month_avg']\n",
    "    })\n",
    "    \n",
    "    return prophet_df"
   ]
  },
  {
   "cell_type": "markdown",
   "metadata": {},
   "source": [
    "## Process Each Stock"
   ]
  },
  {
   "cell_type": "code",
   "execution_count": 4,
   "metadata": {},
   "outputs": [],
   "source": [
    "def process_stocks():\n",
    "    \"\"\"Process all stocks and create datasets for different prediction periods\"\"\"\n",
    "    results = []\n",
    "    \n",
    "    for stock in stocks:\n",
    "        try:\n",
    "            # Construct input file path\n",
    "            input_file = os.path.join(input_folder, f\"{stock}_prophet.csv\")\n",
    "            \n",
    "            # Read the stock data\n",
    "            df = pd.read_csv(input_file)\n",
    "            \n",
    "            # Prepare data for different prediction periods\n",
    "            day_data = prepare_next_day_data(df)\n",
    "            week_data = prepare_next_week_data(df)\n",
    "            month_data = prepare_next_month_data(df)\n",
    "            \n",
    "            # Save the prepared data\n",
    "            day_data.to_csv(os.path.join(output_folders['day'], f\"{stock}_prophet_day.csv\"), index=False)\n",
    "            week_data.to_csv(os.path.join(output_folders['week'], f\"{stock}_prophet_week.csv\"), index=False)\n",
    "            month_data.to_csv(os.path.join(output_folders['month'], f\"{stock}_prophet_month.csv\"), index=False)\n",
    "            \n",
    "            results.append({\n",
    "                'stock': stock,\n",
    "                'status': 'Success',\n",
    "                'day_rows': len(day_data),\n",
    "                'week_rows': len(week_data),\n",
    "                'month_rows': len(month_data)\n",
    "            })\n",
    "            \n",
    "        except Exception as e:\n",
    "            results.append({\n",
    "                'stock': stock,\n",
    "                'status': f'Error: {str(e)}',\n",
    "                'day_rows': 0,\n",
    "                'week_rows': 0,\n",
    "                'month_rows': 0\n",
    "            })\n",
    "    \n",
    "    return pd.DataFrame(results)"
   ]
  },
  {
   "cell_type": "code",
   "execution_count": 5,
   "metadata": {},
   "outputs": [
    {
     "data": {
      "application/vnd.microsoft.datawrangler.viewer.v0+json": {
       "columns": [
        {
         "name": "index",
         "rawType": "int64",
         "type": "integer"
        },
        {
         "name": "stock",
         "rawType": "object",
         "type": "string"
        },
        {
         "name": "status",
         "rawType": "object",
         "type": "string"
        },
        {
         "name": "day_rows",
         "rawType": "int64",
         "type": "integer"
        },
        {
         "name": "week_rows",
         "rawType": "int64",
         "type": "integer"
        },
        {
         "name": "month_rows",
         "rawType": "int64",
         "type": "integer"
        }
       ],
       "conversionMethod": "pd.DataFrame",
       "ref": "54d2f394-7984-4d01-8123-f813847ce2ba",
       "rows": [
        [
         "0",
         "AAPL",
         "Success",
         "2513",
         "2504",
         "2472"
        ],
        [
         "1",
         "MSFT",
         "Success",
         "2513",
         "2504",
         "2472"
        ],
        [
         "2",
         "GOOG",
         "Success",
         "2513",
         "2504",
         "2472"
        ],
        [
         "3",
         "AMZN",
         "Success",
         "2513",
         "2504",
         "2472"
        ],
        [
         "4",
         "TSLA",
         "Success",
         "2513",
         "2504",
         "2472"
        ],
        [
         "5",
         "META",
         "Success",
         "2513",
         "2504",
         "2472"
        ],
        [
         "6",
         "NVDA",
         "Success",
         "2513",
         "2504",
         "2472"
        ],
        [
         "7",
         "SPY",
         "Success",
         "2513",
         "2504",
         "2472"
        ],
        [
         "8",
         "V",
         "Success",
         "2513",
         "2504",
         "2472"
        ],
        [
         "9",
         "DIS",
         "Success",
         "2513",
         "2504",
         "2472"
        ],
        [
         "10",
         "NFLX",
         "Success",
         "2513",
         "2504",
         "2472"
        ],
        [
         "11",
         "PYPL",
         "Success",
         "2477",
         "2468",
         "2436"
        ],
        [
         "12",
         "BABA",
         "Success",
         "2513",
         "2504",
         "2472"
        ],
        [
         "13",
         "IBM",
         "Success",
         "2513",
         "2504",
         "2472"
        ],
        [
         "14",
         "AMD",
         "Success",
         "2512",
         "2503",
         "2471"
        ],
        [
         "15",
         "BA",
         "Success",
         "2513",
         "2504",
         "2472"
        ],
        [
         "16",
         "INTC",
         "Success",
         "2513",
         "2504",
         "2472"
        ],
        [
         "17",
         "T",
         "Success",
         "2513",
         "2504",
         "2472"
        ],
        [
         "18",
         "GS",
         "Success",
         "2513",
         "2504",
         "2472"
        ],
        [
         "19",
         "NKE",
         "Success",
         "2513",
         "2504",
         "2472"
        ]
       ],
       "shape": {
        "columns": 5,
        "rows": 20
       }
      },
      "text/html": [
       "<div>\n",
       "<style scoped>\n",
       "    .dataframe tbody tr th:only-of-type {\n",
       "        vertical-align: middle;\n",
       "    }\n",
       "\n",
       "    .dataframe tbody tr th {\n",
       "        vertical-align: top;\n",
       "    }\n",
       "\n",
       "    .dataframe thead th {\n",
       "        text-align: right;\n",
       "    }\n",
       "</style>\n",
       "<table border=\"1\" class=\"dataframe\">\n",
       "  <thead>\n",
       "    <tr style=\"text-align: right;\">\n",
       "      <th></th>\n",
       "      <th>stock</th>\n",
       "      <th>status</th>\n",
       "      <th>day_rows</th>\n",
       "      <th>week_rows</th>\n",
       "      <th>month_rows</th>\n",
       "    </tr>\n",
       "  </thead>\n",
       "  <tbody>\n",
       "    <tr>\n",
       "      <th>0</th>\n",
       "      <td>AAPL</td>\n",
       "      <td>Success</td>\n",
       "      <td>2513</td>\n",
       "      <td>2504</td>\n",
       "      <td>2472</td>\n",
       "    </tr>\n",
       "    <tr>\n",
       "      <th>1</th>\n",
       "      <td>MSFT</td>\n",
       "      <td>Success</td>\n",
       "      <td>2513</td>\n",
       "      <td>2504</td>\n",
       "      <td>2472</td>\n",
       "    </tr>\n",
       "    <tr>\n",
       "      <th>2</th>\n",
       "      <td>GOOG</td>\n",
       "      <td>Success</td>\n",
       "      <td>2513</td>\n",
       "      <td>2504</td>\n",
       "      <td>2472</td>\n",
       "    </tr>\n",
       "    <tr>\n",
       "      <th>3</th>\n",
       "      <td>AMZN</td>\n",
       "      <td>Success</td>\n",
       "      <td>2513</td>\n",
       "      <td>2504</td>\n",
       "      <td>2472</td>\n",
       "    </tr>\n",
       "    <tr>\n",
       "      <th>4</th>\n",
       "      <td>TSLA</td>\n",
       "      <td>Success</td>\n",
       "      <td>2513</td>\n",
       "      <td>2504</td>\n",
       "      <td>2472</td>\n",
       "    </tr>\n",
       "    <tr>\n",
       "      <th>5</th>\n",
       "      <td>META</td>\n",
       "      <td>Success</td>\n",
       "      <td>2513</td>\n",
       "      <td>2504</td>\n",
       "      <td>2472</td>\n",
       "    </tr>\n",
       "    <tr>\n",
       "      <th>6</th>\n",
       "      <td>NVDA</td>\n",
       "      <td>Success</td>\n",
       "      <td>2513</td>\n",
       "      <td>2504</td>\n",
       "      <td>2472</td>\n",
       "    </tr>\n",
       "    <tr>\n",
       "      <th>7</th>\n",
       "      <td>SPY</td>\n",
       "      <td>Success</td>\n",
       "      <td>2513</td>\n",
       "      <td>2504</td>\n",
       "      <td>2472</td>\n",
       "    </tr>\n",
       "    <tr>\n",
       "      <th>8</th>\n",
       "      <td>V</td>\n",
       "      <td>Success</td>\n",
       "      <td>2513</td>\n",
       "      <td>2504</td>\n",
       "      <td>2472</td>\n",
       "    </tr>\n",
       "    <tr>\n",
       "      <th>9</th>\n",
       "      <td>DIS</td>\n",
       "      <td>Success</td>\n",
       "      <td>2513</td>\n",
       "      <td>2504</td>\n",
       "      <td>2472</td>\n",
       "    </tr>\n",
       "    <tr>\n",
       "      <th>10</th>\n",
       "      <td>NFLX</td>\n",
       "      <td>Success</td>\n",
       "      <td>2513</td>\n",
       "      <td>2504</td>\n",
       "      <td>2472</td>\n",
       "    </tr>\n",
       "    <tr>\n",
       "      <th>11</th>\n",
       "      <td>PYPL</td>\n",
       "      <td>Success</td>\n",
       "      <td>2477</td>\n",
       "      <td>2468</td>\n",
       "      <td>2436</td>\n",
       "    </tr>\n",
       "    <tr>\n",
       "      <th>12</th>\n",
       "      <td>BABA</td>\n",
       "      <td>Success</td>\n",
       "      <td>2513</td>\n",
       "      <td>2504</td>\n",
       "      <td>2472</td>\n",
       "    </tr>\n",
       "    <tr>\n",
       "      <th>13</th>\n",
       "      <td>IBM</td>\n",
       "      <td>Success</td>\n",
       "      <td>2513</td>\n",
       "      <td>2504</td>\n",
       "      <td>2472</td>\n",
       "    </tr>\n",
       "    <tr>\n",
       "      <th>14</th>\n",
       "      <td>AMD</td>\n",
       "      <td>Success</td>\n",
       "      <td>2512</td>\n",
       "      <td>2503</td>\n",
       "      <td>2471</td>\n",
       "    </tr>\n",
       "    <tr>\n",
       "      <th>15</th>\n",
       "      <td>BA</td>\n",
       "      <td>Success</td>\n",
       "      <td>2513</td>\n",
       "      <td>2504</td>\n",
       "      <td>2472</td>\n",
       "    </tr>\n",
       "    <tr>\n",
       "      <th>16</th>\n",
       "      <td>INTC</td>\n",
       "      <td>Success</td>\n",
       "      <td>2513</td>\n",
       "      <td>2504</td>\n",
       "      <td>2472</td>\n",
       "    </tr>\n",
       "    <tr>\n",
       "      <th>17</th>\n",
       "      <td>T</td>\n",
       "      <td>Success</td>\n",
       "      <td>2513</td>\n",
       "      <td>2504</td>\n",
       "      <td>2472</td>\n",
       "    </tr>\n",
       "    <tr>\n",
       "      <th>18</th>\n",
       "      <td>GS</td>\n",
       "      <td>Success</td>\n",
       "      <td>2513</td>\n",
       "      <td>2504</td>\n",
       "      <td>2472</td>\n",
       "    </tr>\n",
       "    <tr>\n",
       "      <th>19</th>\n",
       "      <td>NKE</td>\n",
       "      <td>Success</td>\n",
       "      <td>2513</td>\n",
       "      <td>2504</td>\n",
       "      <td>2472</td>\n",
       "    </tr>\n",
       "  </tbody>\n",
       "</table>\n",
       "</div>"
      ],
      "text/plain": [
       "   stock   status  day_rows  week_rows  month_rows\n",
       "0   AAPL  Success      2513       2504        2472\n",
       "1   MSFT  Success      2513       2504        2472\n",
       "2   GOOG  Success      2513       2504        2472\n",
       "3   AMZN  Success      2513       2504        2472\n",
       "4   TSLA  Success      2513       2504        2472\n",
       "5   META  Success      2513       2504        2472\n",
       "6   NVDA  Success      2513       2504        2472\n",
       "7    SPY  Success      2513       2504        2472\n",
       "8      V  Success      2513       2504        2472\n",
       "9    DIS  Success      2513       2504        2472\n",
       "10  NFLX  Success      2513       2504        2472\n",
       "11  PYPL  Success      2477       2468        2436\n",
       "12  BABA  Success      2513       2504        2472\n",
       "13   IBM  Success      2513       2504        2472\n",
       "14   AMD  Success      2512       2503        2471\n",
       "15    BA  Success      2513       2504        2472\n",
       "16  INTC  Success      2513       2504        2472\n",
       "17     T  Success      2513       2504        2472\n",
       "18    GS  Success      2513       2504        2472\n",
       "19   NKE  Success      2513       2504        2472"
      ]
     },
     "execution_count": 5,
     "metadata": {},
     "output_type": "execute_result"
    }
   ],
   "source": [
    "# Process all stocks and display results\n",
    "results_df = process_stocks()\n",
    "results_df"
   ]
  },
  {
   "cell_type": "markdown",
   "metadata": {},
   "source": [
    "## Data Verification\n",
    "\n",
    "Let's verify the structure of one example from each prediction period to ensure the data is correctly formatted."
   ]
  },
  {
   "cell_type": "code",
   "execution_count": 6,
   "metadata": {},
   "outputs": [
    {
     "name": "stdout",
     "output_type": "stream",
     "text": [
      "Day prediction data sample for AAPL:\n"
     ]
    },
    {
     "data": {
      "application/vnd.microsoft.datawrangler.viewer.v0+json": {
       "columns": [
        {
         "name": "index",
         "rawType": "int64",
         "type": "integer"
        },
        {
         "name": "ds",
         "rawType": "object",
         "type": "string"
        },
        {
         "name": "y",
         "rawType": "float64",
         "type": "float"
        }
       ],
       "conversionMethod": "pd.DataFrame",
       "ref": "dfa3dfd9-8a8e-47eb-b270-71392e2219a7",
       "rows": [
        [
         "0",
         "2015-05-13 00:00:00-04:00",
         "28.25906753540039"
        ],
        [
         "1",
         "2015-05-14 00:00:00-04:00",
         "28.918397903442383"
        ],
        [
         "2",
         "2015-05-15 00:00:00-04:00",
         "28.87802505493164"
        ],
        [
         "3",
         "2015-05-18 00:00:00-04:00",
         "29.19647979736328"
        ],
        [
         "4",
         "2015-05-19 00:00:00-04:00",
         "29.169572830200195"
        ]
       ],
       "shape": {
        "columns": 2,
        "rows": 5
       }
      },
      "text/html": [
       "<div>\n",
       "<style scoped>\n",
       "    .dataframe tbody tr th:only-of-type {\n",
       "        vertical-align: middle;\n",
       "    }\n",
       "\n",
       "    .dataframe tbody tr th {\n",
       "        vertical-align: top;\n",
       "    }\n",
       "\n",
       "    .dataframe thead th {\n",
       "        text-align: right;\n",
       "    }\n",
       "</style>\n",
       "<table border=\"1\" class=\"dataframe\">\n",
       "  <thead>\n",
       "    <tr style=\"text-align: right;\">\n",
       "      <th></th>\n",
       "      <th>ds</th>\n",
       "      <th>y</th>\n",
       "    </tr>\n",
       "  </thead>\n",
       "  <tbody>\n",
       "    <tr>\n",
       "      <th>0</th>\n",
       "      <td>2015-05-13 00:00:00-04:00</td>\n",
       "      <td>28.259068</td>\n",
       "    </tr>\n",
       "    <tr>\n",
       "      <th>1</th>\n",
       "      <td>2015-05-14 00:00:00-04:00</td>\n",
       "      <td>28.918398</td>\n",
       "    </tr>\n",
       "    <tr>\n",
       "      <th>2</th>\n",
       "      <td>2015-05-15 00:00:00-04:00</td>\n",
       "      <td>28.878025</td>\n",
       "    </tr>\n",
       "    <tr>\n",
       "      <th>3</th>\n",
       "      <td>2015-05-18 00:00:00-04:00</td>\n",
       "      <td>29.196480</td>\n",
       "    </tr>\n",
       "    <tr>\n",
       "      <th>4</th>\n",
       "      <td>2015-05-19 00:00:00-04:00</td>\n",
       "      <td>29.169573</td>\n",
       "    </tr>\n",
       "  </tbody>\n",
       "</table>\n",
       "</div>"
      ],
      "text/plain": [
       "                          ds          y\n",
       "0  2015-05-13 00:00:00-04:00  28.259068\n",
       "1  2015-05-14 00:00:00-04:00  28.918398\n",
       "2  2015-05-15 00:00:00-04:00  28.878025\n",
       "3  2015-05-18 00:00:00-04:00  29.196480\n",
       "4  2015-05-19 00:00:00-04:00  29.169573"
      ]
     },
     "metadata": {},
     "output_type": "display_data"
    },
    {
     "name": "stdout",
     "output_type": "stream",
     "text": [
      "\n",
      "Week prediction data sample for AAPL:\n"
     ]
    },
    {
     "data": {
      "application/vnd.microsoft.datawrangler.viewer.v0+json": {
       "columns": [
        {
         "name": "index",
         "rawType": "int64",
         "type": "integer"
        },
        {
         "name": "ds",
         "rawType": "object",
         "type": "string"
        },
        {
         "name": "y",
         "rawType": "float64",
         "type": "float"
        }
       ],
       "conversionMethod": "pd.DataFrame",
       "ref": "de9b3f95-5f72-4fae-bcd4-21038548906f",
       "rows": [
        [
         "0",
         "2015-05-19 00:00:00-04:00",
         "29.407283782958984"
        ],
        [
         "1",
         "2015-05-20 00:00:00-04:00",
         "29.484429168701173"
        ],
        [
         "2",
         "2015-05-21 00:00:00-04:00",
         "29.4346435546875"
        ],
        [
         "3",
         "2015-05-22 00:00:00-04:00",
         "29.34493980407715"
        ],
        [
         "4",
         "2015-05-26 00:00:00-04:00",
         "29.360189819335936"
        ]
       ],
       "shape": {
        "columns": 2,
        "rows": 5
       }
      },
      "text/html": [
       "<div>\n",
       "<style scoped>\n",
       "    .dataframe tbody tr th:only-of-type {\n",
       "        vertical-align: middle;\n",
       "    }\n",
       "\n",
       "    .dataframe tbody tr th {\n",
       "        vertical-align: top;\n",
       "    }\n",
       "\n",
       "    .dataframe thead th {\n",
       "        text-align: right;\n",
       "    }\n",
       "</style>\n",
       "<table border=\"1\" class=\"dataframe\">\n",
       "  <thead>\n",
       "    <tr style=\"text-align: right;\">\n",
       "      <th></th>\n",
       "      <th>ds</th>\n",
       "      <th>y</th>\n",
       "    </tr>\n",
       "  </thead>\n",
       "  <tbody>\n",
       "    <tr>\n",
       "      <th>0</th>\n",
       "      <td>2015-05-19 00:00:00-04:00</td>\n",
       "      <td>29.407284</td>\n",
       "    </tr>\n",
       "    <tr>\n",
       "      <th>1</th>\n",
       "      <td>2015-05-20 00:00:00-04:00</td>\n",
       "      <td>29.484429</td>\n",
       "    </tr>\n",
       "    <tr>\n",
       "      <th>2</th>\n",
       "      <td>2015-05-21 00:00:00-04:00</td>\n",
       "      <td>29.434644</td>\n",
       "    </tr>\n",
       "    <tr>\n",
       "      <th>3</th>\n",
       "      <td>2015-05-22 00:00:00-04:00</td>\n",
       "      <td>29.344940</td>\n",
       "    </tr>\n",
       "    <tr>\n",
       "      <th>4</th>\n",
       "      <td>2015-05-26 00:00:00-04:00</td>\n",
       "      <td>29.360190</td>\n",
       "    </tr>\n",
       "  </tbody>\n",
       "</table>\n",
       "</div>"
      ],
      "text/plain": [
       "                          ds          y\n",
       "0  2015-05-19 00:00:00-04:00  29.407284\n",
       "1  2015-05-20 00:00:00-04:00  29.484429\n",
       "2  2015-05-21 00:00:00-04:00  29.434644\n",
       "3  2015-05-22 00:00:00-04:00  29.344940\n",
       "4  2015-05-26 00:00:00-04:00  29.360190"
      ]
     },
     "metadata": {},
     "output_type": "display_data"
    },
    {
     "name": "stdout",
     "output_type": "stream",
     "text": [
      "\n",
      "Month prediction data sample for AAPL:\n"
     ]
    },
    {
     "data": {
      "application/vnd.microsoft.datawrangler.viewer.v0+json": {
       "columns": [
        {
         "name": "index",
         "rawType": "int64",
         "type": "integer"
        },
        {
         "name": "ds",
         "rawType": "object",
         "type": "string"
        },
        {
         "name": "y",
         "rawType": "float64",
         "type": "float"
        }
       ],
       "conversionMethod": "pd.DataFrame",
       "ref": "567584c1-20fb-4a51-a9f8-949024d45a98",
       "rows": [
        [
         "0",
         "2015-06-11 00:00:00-04:00",
         "28.26472845531645"
        ],
        [
         "1",
         "2015-06-12 00:00:00-04:00",
         "28.248069399879093"
        ],
        [
         "2",
         "2015-06-15 00:00:00-04:00",
         "28.24700137547084"
        ],
        [
         "3",
         "2015-06-16 00:00:00-04:00",
         "28.25671913510277"
        ],
        [
         "4",
         "2015-06-17 00:00:00-04:00",
         "28.28149477640788"
        ]
       ],
       "shape": {
        "columns": 2,
        "rows": 5
       }
      },
      "text/html": [
       "<div>\n",
       "<style scoped>\n",
       "    .dataframe tbody tr th:only-of-type {\n",
       "        vertical-align: middle;\n",
       "    }\n",
       "\n",
       "    .dataframe tbody tr th {\n",
       "        vertical-align: top;\n",
       "    }\n",
       "\n",
       "    .dataframe thead th {\n",
       "        text-align: right;\n",
       "    }\n",
       "</style>\n",
       "<table border=\"1\" class=\"dataframe\">\n",
       "  <thead>\n",
       "    <tr style=\"text-align: right;\">\n",
       "      <th></th>\n",
       "      <th>ds</th>\n",
       "      <th>y</th>\n",
       "    </tr>\n",
       "  </thead>\n",
       "  <tbody>\n",
       "    <tr>\n",
       "      <th>0</th>\n",
       "      <td>2015-06-11 00:00:00-04:00</td>\n",
       "      <td>28.264728</td>\n",
       "    </tr>\n",
       "    <tr>\n",
       "      <th>1</th>\n",
       "      <td>2015-06-12 00:00:00-04:00</td>\n",
       "      <td>28.248069</td>\n",
       "    </tr>\n",
       "    <tr>\n",
       "      <th>2</th>\n",
       "      <td>2015-06-15 00:00:00-04:00</td>\n",
       "      <td>28.247001</td>\n",
       "    </tr>\n",
       "    <tr>\n",
       "      <th>3</th>\n",
       "      <td>2015-06-16 00:00:00-04:00</td>\n",
       "      <td>28.256719</td>\n",
       "    </tr>\n",
       "    <tr>\n",
       "      <th>4</th>\n",
       "      <td>2015-06-17 00:00:00-04:00</td>\n",
       "      <td>28.281495</td>\n",
       "    </tr>\n",
       "  </tbody>\n",
       "</table>\n",
       "</div>"
      ],
      "text/plain": [
       "                          ds          y\n",
       "0  2015-06-11 00:00:00-04:00  28.264728\n",
       "1  2015-06-12 00:00:00-04:00  28.248069\n",
       "2  2015-06-15 00:00:00-04:00  28.247001\n",
       "3  2015-06-16 00:00:00-04:00  28.256719\n",
       "4  2015-06-17 00:00:00-04:00  28.281495"
      ]
     },
     "metadata": {},
     "output_type": "display_data"
    }
   ],
   "source": [
    "# Sample stock for verification\n",
    "sample_stock = \"AAPL\"\n",
    "\n",
    "# Load samples from each prediction period\n",
    "day_sample = pd.read_csv(os.path.join(output_folders['day'], f\"{sample_stock}_prophet_day.csv\"))\n",
    "week_sample = pd.read_csv(os.path.join(output_folders['week'], f\"{sample_stock}_prophet_week.csv\"))\n",
    "month_sample = pd.read_csv(os.path.join(output_folders['month'], f\"{sample_stock}_prophet_month.csv\"))\n",
    "\n",
    "# Display first few rows of each sample\n",
    "print(f\"Day prediction data sample for {sample_stock}:\")\n",
    "display(day_sample.head())\n",
    "\n",
    "print(f\"\\nWeek prediction data sample for {sample_stock}:\")\n",
    "display(week_sample.head())\n",
    "\n",
    "print(f\"\\nMonth prediction data sample for {sample_stock}:\")\n",
    "display(month_sample.head())"
   ]
  },
  {
   "cell_type": "markdown",
   "metadata": {},
   "source": [
    "## Data Analysis\n",
    "\n",
    "Let's analyze the data to understand the difference between the different prediction targets."
   ]
  },
  {
   "cell_type": "code",
   "execution_count": 7,
   "metadata": {},
   "outputs": [],
   "source": [
    "def analyze_prediction_targets(stock):\n",
    "    \"\"\"Analyze and compare the different prediction targets for a given stock\"\"\"\n",
    "    # Load data\n",
    "    day_data = pd.read_csv(os.path.join(output_folders['day'], f\"{stock}_prophet_day.csv\"))\n",
    "    week_data = pd.read_csv(os.path.join(output_folders['week'], f\"{stock}_prophet_week.csv\"))\n",
    "    month_data = pd.read_csv(os.path.join(output_folders['month'], f\"{stock}_prophet_month.csv\"))\n",
    "    \n",
    "    # Convert dates to datetime for consistent comparison\n",
    "    day_data['ds'] = pd.to_datetime(day_data['ds'])\n",
    "    week_data['ds'] = pd.to_datetime(week_data['ds'])\n",
    "    month_data['ds'] = pd.to_datetime(month_data['ds'])\n",
    "    \n",
    "    # Find common date range\n",
    "    start_date = max(day_data['ds'].min(), week_data['ds'].min(), month_data['ds'].min())\n",
    "    end_date = min(day_data['ds'].max(), week_data['ds'].max(), month_data['ds'].max())\n",
    "    \n",
    "    # Filter data to common date range\n",
    "    day_filtered = day_data[(day_data['ds'] >= start_date) & (day_data['ds'] <= end_date)]\n",
    "    week_filtered = week_data[(week_data['ds'] >= start_date) & (week_data['ds'] <= end_date)]\n",
    "    month_filtered = month_data[(month_data['ds'] >= start_date) & (month_data['ds'] <= end_date)]\n",
    "    \n",
    "    # Merge datasets on date\n",
    "    merged = pd.merge(day_filtered, week_filtered, on='ds', suffixes=('_day', '_week'))\n",
    "    merged = pd.merge(merged, month_filtered, on='ds')\n",
    "    merged = merged.rename(columns={'y': 'y_month'})\n",
    "    \n",
    "    # Calculate basic statistics\n",
    "    stats = {\n",
    "        'day_mean': merged['y_day'].mean(),\n",
    "        'week_mean': merged['y_week'].mean(),\n",
    "        'month_mean': merged['y_month'].mean(),\n",
    "        'day_std': merged['y_day'].std(),\n",
    "        'week_std': merged['y_week'].std(),\n",
    "        'month_std': merged['y_month'].std(),\n",
    "        'day_week_corr': merged['y_day'].corr(merged['y_week']),\n",
    "        'day_month_corr': merged['y_day'].corr(merged['y_month']),\n",
    "        'week_month_corr': merged['y_week'].corr(merged['y_month'])\n",
    "    }\n",
    "    \n",
    "    return stats"
   ]
  },
  {
   "cell_type": "code",
   "execution_count": 8,
   "metadata": {},
   "outputs": [
    {
     "data": {
      "application/vnd.microsoft.datawrangler.viewer.v0+json": {
       "columns": [
        {
         "name": "index",
         "rawType": "object",
         "type": "string"
        },
        {
         "name": "Value",
         "rawType": "float64",
         "type": "float"
        }
       ],
       "conversionMethod": "pd.DataFrame",
       "ref": "8264d284-a502-493f-9580-910ed0311d35",
       "rows": [
        [
         "day_mean",
         "100.72582762989798"
        ],
        [
         "week_mean",
         "100.9303685498469"
        ],
        [
         "month_mean",
         "101.49272742516126"
        ],
        [
         "day_std",
         "68.09853246955504"
        ],
        [
         "week_std",
         "68.10653481972275"
        ],
        [
         "month_std",
         "68.13527817515912"
        ],
        [
         "day_week_corr",
         "0.9988757093477619"
        ],
        [
         "day_month_corr",
         "0.9965265449579844"
        ],
        [
         "week_month_corr",
         "0.9981065990884822"
        ]
       ],
       "shape": {
        "columns": 1,
        "rows": 9
       }
      },
      "text/html": [
       "<div>\n",
       "<style scoped>\n",
       "    .dataframe tbody tr th:only-of-type {\n",
       "        vertical-align: middle;\n",
       "    }\n",
       "\n",
       "    .dataframe tbody tr th {\n",
       "        vertical-align: top;\n",
       "    }\n",
       "\n",
       "    .dataframe thead th {\n",
       "        text-align: right;\n",
       "    }\n",
       "</style>\n",
       "<table border=\"1\" class=\"dataframe\">\n",
       "  <thead>\n",
       "    <tr style=\"text-align: right;\">\n",
       "      <th></th>\n",
       "      <th>Value</th>\n",
       "    </tr>\n",
       "  </thead>\n",
       "  <tbody>\n",
       "    <tr>\n",
       "      <th>day_mean</th>\n",
       "      <td>100.725828</td>\n",
       "    </tr>\n",
       "    <tr>\n",
       "      <th>week_mean</th>\n",
       "      <td>100.930369</td>\n",
       "    </tr>\n",
       "    <tr>\n",
       "      <th>month_mean</th>\n",
       "      <td>101.492727</td>\n",
       "    </tr>\n",
       "    <tr>\n",
       "      <th>day_std</th>\n",
       "      <td>68.098532</td>\n",
       "    </tr>\n",
       "    <tr>\n",
       "      <th>week_std</th>\n",
       "      <td>68.106535</td>\n",
       "    </tr>\n",
       "    <tr>\n",
       "      <th>month_std</th>\n",
       "      <td>68.135278</td>\n",
       "    </tr>\n",
       "    <tr>\n",
       "      <th>day_week_corr</th>\n",
       "      <td>0.998876</td>\n",
       "    </tr>\n",
       "    <tr>\n",
       "      <th>day_month_corr</th>\n",
       "      <td>0.996527</td>\n",
       "    </tr>\n",
       "    <tr>\n",
       "      <th>week_month_corr</th>\n",
       "      <td>0.998107</td>\n",
       "    </tr>\n",
       "  </tbody>\n",
       "</table>\n",
       "</div>"
      ],
      "text/plain": [
       "                      Value\n",
       "day_mean         100.725828\n",
       "week_mean        100.930369\n",
       "month_mean       101.492727\n",
       "day_std           68.098532\n",
       "week_std          68.106535\n",
       "month_std         68.135278\n",
       "day_week_corr      0.998876\n",
       "day_month_corr     0.996527\n",
       "week_month_corr    0.998107"
      ]
     },
     "execution_count": 8,
     "metadata": {},
     "output_type": "execute_result"
    }
   ],
   "source": [
    "# Analyze a sample stock\n",
    "sample_analysis = analyze_prediction_targets(\"AAPL\")\n",
    "pd.DataFrame([sample_analysis]).T.rename(columns={0: 'Value'})"
   ]
  },
  {
   "cell_type": "markdown",
   "metadata": {},
   "source": [
    "## Summary\n",
    "\n",
    "This notebook has successfully prepared stock data for prediction using Prophet for three different time periods:\n",
    "\n",
    "1. Next day close price (daily prediction)\n",
    "2. Next week average close price (weekly prediction)\n",
    "3. Next month average close price (monthly prediction)\n",
    "\n",
    "For each stock, we've created three separate datasets specifically formatted for each prediction period. The data has been saved in the following folders:\n",
    "\n",
    "- `data/prophet/day/` - Contains data for next-day predictions\n",
    "- `data/prophet/week/` - Contains data for next-week predictions\n",
    "- `data/prophet/month/` - Contains data for next-month predictions\n",
    "\n",
    "Each file follows the naming convention: `stockname_prophet_period.csv` where period is day, week, or month.\n",
    "\n",
    "The Prophet model requires data with 'ds' (datetime) and 'y' (target value) columns, which our prepared datasets follow."
   ]
  }
 ],
 "metadata": {
  "kernelspec": {
   "display_name": "venv",
   "language": "python",
   "name": "python3"
  },
  "language_info": {
   "codemirror_mode": {
    "name": "ipython",
    "version": 3
   },
   "file_extension": ".py",
   "mimetype": "text/x-python",
   "name": "python",
   "nbconvert_exporter": "python",
   "pygments_lexer": "ipython3",
   "version": "3.11.12"
  }
 },
 "nbformat": 4,
 "nbformat_minor": 4
}
