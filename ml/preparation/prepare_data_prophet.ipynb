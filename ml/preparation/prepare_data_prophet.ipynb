{
 "cells": [
  {
   "cell_type": "markdown",
   "metadata": {},
   "source": [
    "# Data Preparation for Prophet Model\n",
    "\n",
    "This notebook prepares the cleaned stock data for use with the Prophet model. Prophet requires specific formatting:\n",
    "- A column named 'ds' containing dates\n",
    "- A column named 'y' containing the target values (closing prices)\n",
    "\n",
    "We'll process each of the 20 stock datasets and save them in the appropriate format."
   ]
  },
  {
   "cell_type": "code",
   "execution_count": 1,
   "metadata": {},
   "source": [
    "import pandas as pd\n",
    "import numpy as np\n",
    "import os\n",
    "from datetime import datetime, timedelta\n",
    "import matplotlib.pyplot as plt\n",
    "%matplotlib inline"
   ]
  },
  {
   "cell_type": "markdown",
   "metadata": {},
   "source": [
    "## 1. Define Stock List and Data Paths"
   ]
  },
  {
   "cell_type": "code",
   "execution_count": 2,
   "metadata": {},
   "source": [
    "# List of stock symbols\n",
    "stocks = [\"AAPL\", \"MSFT\", \"GOOG\", \"AMZN\", \"TSLA\", \n",
    "          \"META\", \"NVDA\", \"SPY\", \"V\", \"DIS\",\n",
    "          \"NFLX\", \"PYPL\", \"BABA\", \"IBM\", \"AMD\",\n",
    "          \"BA\", \"INTC\", \"T\", \"GS\", \"NKE\"]\n",
    "\n",
    "# Paths for input and output data\n",
    "input_folder = \"data/cleaned\"\n",
    "output_folder = \"data/prophet\"\n",
    "\n",
    "# Create output directory if it doesn't exist\n",
    "os.makedirs(output_folder, exist_ok=True)"
   ]
  },
  {
   "cell_type": "markdown",
   "metadata": {},
   "source": [
    "## 2. Prophet Data Preparation Function\n",
    "\n",
    "Prophet requires a specific format with two main columns:\n",
    "- `ds`: Date column\n",
    "- `y`: Target value (typically closing price for stock prediction)"
   ]
  },
  {
   "cell_type": "code",
   "execution_count": 3,
   "metadata": {},
   "source": [
    "def prepare_prophet_data(df):\n",
    "    \"\"\"\n",
    "    Prepare stock data for Prophet model.\n",
    "    \n",
    "    Parameters:\n",
    "    - df: Cleaned dataframe with stock data\n",
    "    \n",
    "    Returns:\n",
    "    - DataFrame formatted for Prophet\n",
    "    \"\"\"\n",
    "    # Create a copy to avoid modifying the original\n",
    "    prophet_df = df.copy()\n",
    "    \n",
    "    # Prophet requires columns named 'ds' (date) and 'y' (target)\n",
    "    prophet_df = prophet_df.rename(columns={'date': 'ds', 'close': 'y'})\n",
    "    \n",
    "    # Select only needed columns for basic Prophet model\n",
    "    basic_cols = ['ds', 'y']\n",
    "    \n",
    "    # Add additional regressor columns that might help the model\n",
    "    regressor_cols = [\n",
    "        'open',\n",
    "        'high',\n",
    "        'low',\n",
    "        'volume',\n",
    "        'ma5',\n",
    "        'ma20',\n",
    "        'ma50',\n",
    "        'volatility',\n",
    "        'volume_ma20',\n",
    "        'return'\n",
    "    ]\n",
    "    \n",
    "    # Combine columns\n",
    "    selected_cols = basic_cols + [col for col in regressor_cols if col in prophet_df.columns]\n",
    "    prophet_df = prophet_df[selected_cols]\n",
    "    \n",
    "    # Add a prediction target column for 5 days ahead (can be used for longer forecasts)\n",
    "    if 'next_day_close' in df.columns:\n",
    "        prophet_df['next_day_y'] = df['next_day_close']\n",
    "        prophet_df['price_up'] = df['price_up']\n",
    "    \n",
    "    return prophet_df"
   ]
  },
  {
   "cell_type": "markdown",
   "metadata": {},
   "source": [
    "## 3. Process Each Stock and Save Prophet Format Data"
   ]
  },
  {
   "cell_type": "code",
   "execution_count": 4,
   "metadata": {},
   "source": [
    "results_summary = []\n",
    "\n",
    "for stock in stocks:\n",
    "    try:\n",
    "        # Input file path\n",
    "        input_file = f\"{input_folder}/{stock}_cleaned.csv\"\n",
    "        \n",
    "        # Check if file exists\n",
    "        if not os.path.exists(input_file):\n",
    "            print(f\"Warning: {input_file} does not exist. Skipping {stock}.\")\n",
    "            continue\n",
    "        \n",
    "        # Read cleaned data\n",
    "        df = pd.read_csv(input_file)\n",
    "        \n",
    "        # Ensure date column is in datetime format\n",
    "        df['date'] = pd.to_datetime(df['date'])\n",
    "        \n",
    "        # Prepare data for Prophet\n",
    "        prophet_df = prepare_prophet_data(df)\n",
    "        \n",
    "        # Output file path\n",
    "        output_file = f\"{output_folder}/{stock}_prophet.csv\"\n",
    "        \n",
    "        # Save to CSV\n",
    "        prophet_df.to_csv(output_file, index=False)\n",
    "        \n",
    "        # Collect summary statistics\n",
    "        summary = {\n",
    "            'stock': stock,\n",
    "            'rows': len(prophet_df),\n",
    "            'start_date': prophet_df['ds'].min().strftime('%Y-%m-%d'),\n",
    "            'end_date': prophet_df['ds'].max().strftime('%Y-%m-%d'),\n",
    "            'min_price': round(prophet_df['y'].min(), 2),\n",
    "            'max_price': round(prophet_df['y'].max(), 2),\n",
    "            'avg_price': round(prophet_df['y'].mean(), 2),\n",
    "            'file_size_kb': round(os.path.getsize(output_file) / 1024, 2)\n",
    "        }\n",
    "        \n",
    "        results_summary.append(summary)\n",
    "        print(f\"Processed {stock}: {len(prophet_df)} rows saved to {output_file}\")\n",
    "        \n",
    "    except Exception as e:\n",
    "        print(f\"Error processing {stock}: {str(e)}\")\n",
    "\n",
    "# Create a summary DataFrame\n",
    "summary_df = pd.DataFrame(results_summary)\n",
    "print(\"\\nData preparation for Prophet completed!\")"
   ]
  },
  {
   "cell_type": "markdown",
   "metadata": {},
   "source": [
    "## 4. Display Summary of Prepared Datasets"
   ]
  },
  {
   "cell_type": "code",
   "execution_count": 5,
   "metadata": {},
   "source": [
    "# Display summary table\n",
    "summary_df"
   ]
  },
  {
   "cell_type": "markdown",
   "metadata": {},
   "source": [
    "## 5. Examine a Sample Dataset"
   ]
  },
  {
   "cell_type": "code",
   "execution_count": 6,
   "metadata": {},
   "source": [
    "# Load sample dataset (AAPL)\n",
    "sample_file = f\"{output_folder}/AAPL_prophet.csv\"\n",
    "if os.path.exists(sample_file):\n",
    "    sample_df = pd.read_csv(sample_file)\n",
    "    print(f\"Sample from AAPL_prophet.csv (First 5 rows):\")\n",
    "    display(sample_df.head())\n",
    "    \n",
    "    # Plot the data\n",
    "    plt.figure(figsize=(12, 6))\n",
    "    sample_df['ds'] = pd.to_datetime(sample_df['ds'])\n",
    "    plt.plot(sample_df['ds'], sample_df['y'])\n",
    "    plt.title('AAPL Stock Price')\n",
    "    plt.xlabel('Date')\n",
    "    plt.ylabel('Closing Price ($)')\n",
    "    plt.grid(True)\n",
    "    plt.tight_layout()\n",
    "    plt.show()\n",
    "else:\n",
    "    print(\"Sample file not found. Please run the data preparation first.\")"
   ]
  },
  {
   "cell_type": "markdown",
   "metadata": {},
   "source": [
    "## 6. Data Ready for Prophet\n",
    "\n",
    "Our data is now ready for training Prophet models. The prepared datasets include:\n",
    "\n",
    "1. Required Prophet columns (`ds` for dates and `y` for target values)\n",
    "2. Additional regressors that can be used as external features\n",
    "3. Next day price information for evaluating forecasts\n",
    "\n",
    "The data is saved in the `/data/prophet/` directory with filenames like `STOCK_prophet.csv`."
   ]
  }
 ],
 "metadata": {
  "kernelspec": {
   "display_name": "Python 3",
   "language": "python",
   "name": "python3"
  },
  "language_info": {
   "codemirror_mode": {
    "name": "ipython",
    "version": 3
   },
   "file_extension": ".py",
   "mimetype": "text/x-python",
   "name": "python",
   "nbconvert_exporter": "python",
   "pygments_lexer": "ipython3",
   "version": "3.11.4"
  }
 },
 "nbformat": 4,
 "nbformat_minor": 4
}