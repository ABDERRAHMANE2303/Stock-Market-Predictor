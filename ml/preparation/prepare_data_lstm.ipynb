{
 "cells": [
  {
   "cell_type": "markdown",
   "metadata": {},
   "source": [
    "# Data Preparation for LSTM Model\n",
    "\n",
    "This notebook prepares the cleaned stock data for use with the LSTM model. LSTM requires sequential data formatted in a specific way:\n",
    "- Input sequences of fixed length (lookback window)\n",
    "- Data scaled to a consistent range (typically 0-1)\n",
    "- Target values for each sequence\n",
    "\n",
    "We'll process each of the 20 stock datasets and save them in the appropriate format."
   ]
  },
  {
   "cell_type": "code",
   "execution_count": 2,
   "metadata": {},
   "outputs": [],
   "source": [
    "import pandas as pd\n",
    "import numpy as np\n",
    "import os\n",
    "from datetime import datetime, timedelta\n",
    "import matplotlib.pyplot as plt\n",
    "from sklearn.preprocessing import MinMaxScaler\n",
    "%matplotlib inline"
   ]
  },
  {
   "cell_type": "markdown",
   "metadata": {},
   "source": [
    "## 1. Define Stock List and Data Paths"
   ]
  },
  {
   "cell_type": "code",
   "execution_count": 3,
   "metadata": {},
   "outputs": [],
   "source": [
    "# List of stock symbols\n",
    "stocks = [\"AAPL\", \"MSFT\", \"GOOG\", \"AMZN\", \"TSLA\", \n",
    "          \"META\", \"NVDA\", \"SPY\", \"V\", \"DIS\",\n",
    "          \"NFLX\", \"PYPL\", \"BABA\", \"IBM\", \"AMD\",\n",
    "          \"BA\", \"INTC\", \"T\", \"GS\", \"NKE\"]\n",
    "\n",
    "# Paths for input and output data\n",
    "\n",
    "# Path to the project root (go up 2 levels from this file)\n",
    "project_root = os.path.abspath(os.path.join(os.getcwd(), \"../..\"))\n",
    "\n",
    "# Correct paths\n",
    "input_folder = os.path.join(project_root, \"data\", \"cleaned\")\n",
    "output_folder = os.path.join(project_root, \"data\", \"lstm\", \"initial\")\n",
    "\n",
    "# Ensure output directory exists\n",
    "os.makedirs(output_folder, exist_ok=True)\n"
   ]
  },
  {
   "cell_type": "markdown",
   "metadata": {},
   "source": [
    "## 2. LSTM Data Preparation Function\n",
    "\n",
    "For LSTM, we need to:\n",
    "1. Select relevant features\n",
    "2. Scale all features to a consistent range (0-1)\n",
    "3. Include date information for reference, although it won't be used in the model directly\n",
    "4. Add both next-day price and binary direction (up/down) targets"
   ]
  },
  {
   "cell_type": "code",
   "execution_count": 4,
   "metadata": {},
   "outputs": [],
   "source": [
    "def prepare_lstm_data(df):\n",
    "    \"\"\"\n",
    "    Prepare stock data for LSTM model.\n",
    "    \n",
    "    Parameters:\n",
    "    - df: Cleaned dataframe with stock data\n",
    "    \n",
    "    Returns:\n",
    "    - DataFrame formatted for LSTM\n",
    "    \"\"\"\n",
    "    # Create a copy to avoid modifying the original\n",
    "    lstm_df = df.copy()\n",
    "    \n",
    "    # Ensure date is in datetime format\n",
    "    lstm_df['date'] = pd.to_datetime(lstm_df['date'])\n",
    "    \n",
    "    # Select features to use for LSTM\n",
    "    feature_columns = [\n",
    "        'open',\n",
    "        'high',\n",
    "        'low',\n",
    "        'close',\n",
    "        'volume',\n",
    "        'return',\n",
    "        'ma5',\n",
    "        'ma20',\n",
    "        'ma50',\n",
    "        'volatility',\n",
    "        'volume_ma20',\n",
    "        'day_of_week',\n",
    "        'month',\n",
    "    ]\n",
    "    \n",
    "    # Filter features to those that exist in the dataset\n",
    "    features = [col for col in feature_columns if col in lstm_df.columns]\n",
    "    \n",
    "    # Create a separate dataframe for scaling\n",
    "    scaling_df = lstm_df[features].copy()\n",
    "    \n",
    "    # Initialize scaler\n",
    "    scaler = MinMaxScaler()\n",
    "    \n",
    "    # Scale the features\n",
    "    scaled_features = scaler.fit_transform(scaling_df)\n",
    "    \n",
    "    # Convert back to dataframe with proper column names\n",
    "    scaled_df = pd.DataFrame(scaled_features, columns=[f\"{col}_scaled\" for col in features])\n",
    "    \n",
    "    # Add date column back\n",
    "    scaled_df['date'] = lstm_df['date'].values\n",
    "    \n",
    "    # Add target variables\n",
    "    if 'next_day_close' in lstm_df.columns:\n",
    "        scaled_df['next_day_close'] = lstm_df['next_day_close']\n",
    "        \n",
    "        # Create a scaler just for the closing price\n",
    "        close_scaler = MinMaxScaler()\n",
    "        close_values = lstm_df[['close']].values\n",
    "        close_scaler.fit(close_values)\n",
    "        \n",
    "        # Scale next day close\n",
    "        next_day_values = lstm_df[['next_day_close']].values\n",
    "        scaled_df['next_day_close_scaled'] = close_scaler.transform(next_day_values).flatten()\n",
    "    \n",
    "    # Add price direction (binary classification target)\n",
    "    if 'price_up' in lstm_df.columns:\n",
    "        scaled_df['price_up'] = lstm_df['price_up']\n",
    "    \n",
    "    # Add scaler parameters as metadata columns (for inverse scaling later)\n",
    "    # We'll add min and max for each feature\n",
    "    for i, feature in enumerate(features):\n",
    "        scaled_df[f\"{feature}_min\"] = scaler.data_min_[i]\n",
    "        scaled_df[f\"{feature}_max\"] = scaler.data_max_[i]\n",
    "    \n",
    "    # Add close_scaler parameters (most important for predictions)\n",
    "    if 'next_day_close' in lstm_df.columns:\n",
    "        scaled_df['close_min'] = close_scaler.data_min_[0]\n",
    "        scaled_df['close_max'] = close_scaler.data_max_[0]\n",
    "    \n",
    "    return scaled_df"
   ]
  },
  {
   "cell_type": "markdown",
   "metadata": {},
   "source": [
    "## 3. Process Each Stock and Save LSTM Format Data"
   ]
  },
  {
   "cell_type": "code",
   "execution_count": 6,
   "metadata": {},
   "outputs": [
    {
     "name": "stderr",
     "output_type": "stream",
     "text": [
      "/tmp/ipykernel_21921/2823756281.py:15: FutureWarning: In a future version of pandas, parsing datetimes with mixed time zones will raise an error unless `utc=True`. Please specify `utc=True` to opt in to the new behaviour and silence this warning. To create a `Series` with mixed offsets and `object` dtype, please use `apply` and `datetime.datetime.strptime`\n",
      "  lstm_df['date'] = pd.to_datetime(lstm_df['date'])\n",
      "/tmp/ipykernel_21921/2823756281.py:15: FutureWarning: In a future version of pandas, parsing datetimes with mixed time zones will raise an error unless `utc=True`. Please specify `utc=True` to opt in to the new behaviour and silence this warning. To create a `Series` with mixed offsets and `object` dtype, please use `apply` and `datetime.datetime.strptime`\n",
      "  lstm_df['date'] = pd.to_datetime(lstm_df['date'])\n"
     ]
    },
    {
     "name": "stdout",
     "output_type": "stream",
     "text": [
      "Processed AAPL: 2513 rows saved to /home/abderrahmane/Stock-Market-Predictor/data/lstm/AAPL_lstm.csv\n",
      "Processed MSFT: 2513 rows saved to /home/abderrahmane/Stock-Market-Predictor/data/lstm/MSFT_lstm.csv\n"
     ]
    },
    {
     "name": "stderr",
     "output_type": "stream",
     "text": [
      "/tmp/ipykernel_21921/2823756281.py:15: FutureWarning: In a future version of pandas, parsing datetimes with mixed time zones will raise an error unless `utc=True`. Please specify `utc=True` to opt in to the new behaviour and silence this warning. To create a `Series` with mixed offsets and `object` dtype, please use `apply` and `datetime.datetime.strptime`\n",
      "  lstm_df['date'] = pd.to_datetime(lstm_df['date'])\n",
      "/tmp/ipykernel_21921/2823756281.py:15: FutureWarning: In a future version of pandas, parsing datetimes with mixed time zones will raise an error unless `utc=True`. Please specify `utc=True` to opt in to the new behaviour and silence this warning. To create a `Series` with mixed offsets and `object` dtype, please use `apply` and `datetime.datetime.strptime`\n",
      "  lstm_df['date'] = pd.to_datetime(lstm_df['date'])\n"
     ]
    },
    {
     "name": "stdout",
     "output_type": "stream",
     "text": [
      "Processed GOOG: 2513 rows saved to /home/abderrahmane/Stock-Market-Predictor/data/lstm/GOOG_lstm.csv\n",
      "Processed AMZN: 2513 rows saved to /home/abderrahmane/Stock-Market-Predictor/data/lstm/AMZN_lstm.csv\n"
     ]
    },
    {
     "name": "stderr",
     "output_type": "stream",
     "text": [
      "/tmp/ipykernel_21921/2823756281.py:15: FutureWarning: In a future version of pandas, parsing datetimes with mixed time zones will raise an error unless `utc=True`. Please specify `utc=True` to opt in to the new behaviour and silence this warning. To create a `Series` with mixed offsets and `object` dtype, please use `apply` and `datetime.datetime.strptime`\n",
      "  lstm_df['date'] = pd.to_datetime(lstm_df['date'])\n"
     ]
    },
    {
     "name": "stdout",
     "output_type": "stream",
     "text": [
      "Processed TSLA: 2513 rows saved to /home/abderrahmane/Stock-Market-Predictor/data/lstm/TSLA_lstm.csv\n"
     ]
    },
    {
     "name": "stderr",
     "output_type": "stream",
     "text": [
      "/tmp/ipykernel_21921/2823756281.py:15: FutureWarning: In a future version of pandas, parsing datetimes with mixed time zones will raise an error unless `utc=True`. Please specify `utc=True` to opt in to the new behaviour and silence this warning. To create a `Series` with mixed offsets and `object` dtype, please use `apply` and `datetime.datetime.strptime`\n",
      "  lstm_df['date'] = pd.to_datetime(lstm_df['date'])\n",
      "/tmp/ipykernel_21921/2823756281.py:15: FutureWarning: In a future version of pandas, parsing datetimes with mixed time zones will raise an error unless `utc=True`. Please specify `utc=True` to opt in to the new behaviour and silence this warning. To create a `Series` with mixed offsets and `object` dtype, please use `apply` and `datetime.datetime.strptime`\n",
      "  lstm_df['date'] = pd.to_datetime(lstm_df['date'])\n"
     ]
    },
    {
     "name": "stdout",
     "output_type": "stream",
     "text": [
      "Processed META: 2513 rows saved to /home/abderrahmane/Stock-Market-Predictor/data/lstm/META_lstm.csv\n",
      "Processed NVDA: 2513 rows saved to /home/abderrahmane/Stock-Market-Predictor/data/lstm/NVDA_lstm.csv\n",
      "Processed SPY: 2513 rows saved to /home/abderrahmane/Stock-Market-Predictor/data/lstm/SPY_lstm.csv\n"
     ]
    },
    {
     "name": "stderr",
     "output_type": "stream",
     "text": [
      "/tmp/ipykernel_21921/2823756281.py:15: FutureWarning: In a future version of pandas, parsing datetimes with mixed time zones will raise an error unless `utc=True`. Please specify `utc=True` to opt in to the new behaviour and silence this warning. To create a `Series` with mixed offsets and `object` dtype, please use `apply` and `datetime.datetime.strptime`\n",
      "  lstm_df['date'] = pd.to_datetime(lstm_df['date'])\n",
      "/tmp/ipykernel_21921/2823756281.py:15: FutureWarning: In a future version of pandas, parsing datetimes with mixed time zones will raise an error unless `utc=True`. Please specify `utc=True` to opt in to the new behaviour and silence this warning. To create a `Series` with mixed offsets and `object` dtype, please use `apply` and `datetime.datetime.strptime`\n",
      "  lstm_df['date'] = pd.to_datetime(lstm_df['date'])\n"
     ]
    },
    {
     "name": "stdout",
     "output_type": "stream",
     "text": [
      "Processed V: 2513 rows saved to /home/abderrahmane/Stock-Market-Predictor/data/lstm/V_lstm.csv\n"
     ]
    },
    {
     "name": "stderr",
     "output_type": "stream",
     "text": [
      "/tmp/ipykernel_21921/2823756281.py:15: FutureWarning: In a future version of pandas, parsing datetimes with mixed time zones will raise an error unless `utc=True`. Please specify `utc=True` to opt in to the new behaviour and silence this warning. To create a `Series` with mixed offsets and `object` dtype, please use `apply` and `datetime.datetime.strptime`\n",
      "  lstm_df['date'] = pd.to_datetime(lstm_df['date'])\n"
     ]
    },
    {
     "name": "stdout",
     "output_type": "stream",
     "text": [
      "Processed DIS: 2513 rows saved to /home/abderrahmane/Stock-Market-Predictor/data/lstm/DIS_lstm.csv\n",
      "Processed NFLX: 2513 rows saved to /home/abderrahmane/Stock-Market-Predictor/data/lstm/NFLX_lstm.csv\n"
     ]
    },
    {
     "name": "stderr",
     "output_type": "stream",
     "text": [
      "/tmp/ipykernel_21921/2823756281.py:15: FutureWarning: In a future version of pandas, parsing datetimes with mixed time zones will raise an error unless `utc=True`. Please specify `utc=True` to opt in to the new behaviour and silence this warning. To create a `Series` with mixed offsets and `object` dtype, please use `apply` and `datetime.datetime.strptime`\n",
      "  lstm_df['date'] = pd.to_datetime(lstm_df['date'])\n",
      "/tmp/ipykernel_21921/2823756281.py:15: FutureWarning: In a future version of pandas, parsing datetimes with mixed time zones will raise an error unless `utc=True`. Please specify `utc=True` to opt in to the new behaviour and silence this warning. To create a `Series` with mixed offsets and `object` dtype, please use `apply` and `datetime.datetime.strptime`\n",
      "  lstm_df['date'] = pd.to_datetime(lstm_df['date'])\n"
     ]
    },
    {
     "name": "stdout",
     "output_type": "stream",
     "text": [
      "Processed PYPL: 2477 rows saved to /home/abderrahmane/Stock-Market-Predictor/data/lstm/PYPL_lstm.csv\n"
     ]
    },
    {
     "name": "stderr",
     "output_type": "stream",
     "text": [
      "/tmp/ipykernel_21921/2823756281.py:15: FutureWarning: In a future version of pandas, parsing datetimes with mixed time zones will raise an error unless `utc=True`. Please specify `utc=True` to opt in to the new behaviour and silence this warning. To create a `Series` with mixed offsets and `object` dtype, please use `apply` and `datetime.datetime.strptime`\n",
      "  lstm_df['date'] = pd.to_datetime(lstm_df['date'])\n"
     ]
    },
    {
     "name": "stdout",
     "output_type": "stream",
     "text": [
      "Processed BABA: 2513 rows saved to /home/abderrahmane/Stock-Market-Predictor/data/lstm/BABA_lstm.csv\n",
      "Processed IBM: 2513 rows saved to /home/abderrahmane/Stock-Market-Predictor/data/lstm/IBM_lstm.csv\n"
     ]
    },
    {
     "name": "stderr",
     "output_type": "stream",
     "text": [
      "/tmp/ipykernel_21921/2823756281.py:15: FutureWarning: In a future version of pandas, parsing datetimes with mixed time zones will raise an error unless `utc=True`. Please specify `utc=True` to opt in to the new behaviour and silence this warning. To create a `Series` with mixed offsets and `object` dtype, please use `apply` and `datetime.datetime.strptime`\n",
      "  lstm_df['date'] = pd.to_datetime(lstm_df['date'])\n",
      "/tmp/ipykernel_21921/2823756281.py:15: FutureWarning: In a future version of pandas, parsing datetimes with mixed time zones will raise an error unless `utc=True`. Please specify `utc=True` to opt in to the new behaviour and silence this warning. To create a `Series` with mixed offsets and `object` dtype, please use `apply` and `datetime.datetime.strptime`\n",
      "  lstm_df['date'] = pd.to_datetime(lstm_df['date'])\n"
     ]
    },
    {
     "name": "stdout",
     "output_type": "stream",
     "text": [
      "Processed AMD: 2512 rows saved to /home/abderrahmane/Stock-Market-Predictor/data/lstm/AMD_lstm.csv\n"
     ]
    },
    {
     "name": "stderr",
     "output_type": "stream",
     "text": [
      "/tmp/ipykernel_21921/2823756281.py:15: FutureWarning: In a future version of pandas, parsing datetimes with mixed time zones will raise an error unless `utc=True`. Please specify `utc=True` to opt in to the new behaviour and silence this warning. To create a `Series` with mixed offsets and `object` dtype, please use `apply` and `datetime.datetime.strptime`\n",
      "  lstm_df['date'] = pd.to_datetime(lstm_df['date'])\n"
     ]
    },
    {
     "name": "stdout",
     "output_type": "stream",
     "text": [
      "Processed BA: 2513 rows saved to /home/abderrahmane/Stock-Market-Predictor/data/lstm/BA_lstm.csv\n"
     ]
    },
    {
     "name": "stderr",
     "output_type": "stream",
     "text": [
      "/tmp/ipykernel_21921/2823756281.py:15: FutureWarning: In a future version of pandas, parsing datetimes with mixed time zones will raise an error unless `utc=True`. Please specify `utc=True` to opt in to the new behaviour and silence this warning. To create a `Series` with mixed offsets and `object` dtype, please use `apply` and `datetime.datetime.strptime`\n",
      "  lstm_df['date'] = pd.to_datetime(lstm_df['date'])\n"
     ]
    },
    {
     "name": "stdout",
     "output_type": "stream",
     "text": [
      "Processed INTC: 2513 rows saved to /home/abderrahmane/Stock-Market-Predictor/data/lstm/INTC_lstm.csv\n",
      "Processed T: 2513 rows saved to /home/abderrahmane/Stock-Market-Predictor/data/lstm/T_lstm.csv\n"
     ]
    },
    {
     "name": "stderr",
     "output_type": "stream",
     "text": [
      "/tmp/ipykernel_21921/2823756281.py:15: FutureWarning: In a future version of pandas, parsing datetimes with mixed time zones will raise an error unless `utc=True`. Please specify `utc=True` to opt in to the new behaviour and silence this warning. To create a `Series` with mixed offsets and `object` dtype, please use `apply` and `datetime.datetime.strptime`\n",
      "  lstm_df['date'] = pd.to_datetime(lstm_df['date'])\n",
      "/tmp/ipykernel_21921/2823756281.py:15: FutureWarning: In a future version of pandas, parsing datetimes with mixed time zones will raise an error unless `utc=True`. Please specify `utc=True` to opt in to the new behaviour and silence this warning. To create a `Series` with mixed offsets and `object` dtype, please use `apply` and `datetime.datetime.strptime`\n",
      "  lstm_df['date'] = pd.to_datetime(lstm_df['date'])\n"
     ]
    },
    {
     "name": "stdout",
     "output_type": "stream",
     "text": [
      "Processed GS: 2513 rows saved to /home/abderrahmane/Stock-Market-Predictor/data/lstm/GS_lstm.csv\n",
      "Processed NKE: 2513 rows saved to /home/abderrahmane/Stock-Market-Predictor/data/lstm/NKE_lstm.csv\n",
      "\n",
      "Data preparation for LSTM completed!\n"
     ]
    },
    {
     "name": "stderr",
     "output_type": "stream",
     "text": [
      "/tmp/ipykernel_21921/2823756281.py:15: FutureWarning: In a future version of pandas, parsing datetimes with mixed time zones will raise an error unless `utc=True`. Please specify `utc=True` to opt in to the new behaviour and silence this warning. To create a `Series` with mixed offsets and `object` dtype, please use `apply` and `datetime.datetime.strptime`\n",
      "  lstm_df['date'] = pd.to_datetime(lstm_df['date'])\n"
     ]
    }
   ],
   "source": [
    "results_summary = []\n",
    "\n",
    "for stock in stocks:\n",
    "    try:\n",
    "        # Input file path\n",
    "        input_file = f\"{input_folder}/{stock}.csv\"\n",
    "        \n",
    "        # Check if file exists\n",
    "        if not os.path.exists(input_file):\n",
    "            print(f\"Warning: {input_file} does not exist. Skipping {stock}.\")\n",
    "            continue\n",
    "        \n",
    "        # Read cleaned data\n",
    "        df = pd.read_csv(input_file)\n",
    "        \n",
    "        # Prepare data for LSTM\n",
    "        lstm_df = prepare_lstm_data(df)\n",
    "        \n",
    "        # Output file path\n",
    "        output_file = f\"{output_folder}/{stock}_lstm.csv\"\n",
    "        \n",
    "        # Save to CSV\n",
    "        lstm_df.to_csv(output_file, index=False)\n",
    "        \n",
    "        # Collect summary statistics\n",
    "        summary = {\n",
    "            'stock': stock,\n",
    "            'rows': len(lstm_df),\n",
    "            'features': int((len(lstm_df.columns) - lstm_df.columns.str.contains('_min|_max|date|next_day|price_up').sum()) / 2),  # Divide by 2 because of _scaled columns\n",
    "            'start_date': lstm_df['date'].min().strftime('%Y-%m-%d') if isinstance(lstm_df['date'].iloc[0], pd.Timestamp) else pd.to_datetime(lstm_df['date'].min()).strftime('%Y-%m-%d'),\n",
    "            'end_date': lstm_df['date'].max().strftime('%Y-%m-%d') if isinstance(lstm_df['date'].iloc[0], pd.Timestamp) else pd.to_datetime(lstm_df['date'].max()).strftime('%Y-%m-%d'),\n",
    "            'file_size_kb': round(os.path.getsize(output_file) / 1024, 2)\n",
    "        }\n",
    "        \n",
    "        results_summary.append(summary)\n",
    "        print(f\"Processed {stock}: {len(lstm_df)} rows saved to {output_file}\")\n",
    "        \n",
    "    except Exception as e:\n",
    "        print(f\"Error processing {stock}: {str(e)}\")\n",
    "\n",
    "# Create a summary DataFrame\n",
    "summary_df = pd.DataFrame(results_summary)\n",
    "print(\"\\nData preparation for LSTM completed!\")"
   ]
  },
  {
   "cell_type": "markdown",
   "metadata": {},
   "source": [
    "## 4. Display Summary of Prepared Datasets"
   ]
  },
  {
   "cell_type": "code",
   "execution_count": 7,
   "metadata": {},
   "outputs": [
    {
     "data": {
      "text/html": [
       "<div>\n",
       "<style scoped>\n",
       "    .dataframe tbody tr th:only-of-type {\n",
       "        vertical-align: middle;\n",
       "    }\n",
       "\n",
       "    .dataframe tbody tr th {\n",
       "        vertical-align: top;\n",
       "    }\n",
       "\n",
       "    .dataframe thead th {\n",
       "        text-align: right;\n",
       "    }\n",
       "</style>\n",
       "<table border=\"1\" class=\"dataframe\">\n",
       "  <thead>\n",
       "    <tr style=\"text-align: right;\">\n",
       "      <th></th>\n",
       "      <th>stock</th>\n",
       "      <th>rows</th>\n",
       "      <th>features</th>\n",
       "      <th>start_date</th>\n",
       "      <th>end_date</th>\n",
       "      <th>file_size_kb</th>\n",
       "    </tr>\n",
       "  </thead>\n",
       "  <tbody>\n",
       "    <tr>\n",
       "      <th>0</th>\n",
       "      <td>AAPL</td>\n",
       "      <td>2513</td>\n",
       "      <td>6</td>\n",
       "      <td>2015-05-13</td>\n",
       "      <td>2025-05-08</td>\n",
       "      <td>1717.49</td>\n",
       "    </tr>\n",
       "    <tr>\n",
       "      <th>1</th>\n",
       "      <td>MSFT</td>\n",
       "      <td>2513</td>\n",
       "      <td>6</td>\n",
       "      <td>2015-05-13</td>\n",
       "      <td>2025-05-08</td>\n",
       "      <td>1705.56</td>\n",
       "    </tr>\n",
       "    <tr>\n",
       "      <th>2</th>\n",
       "      <td>GOOG</td>\n",
       "      <td>2513</td>\n",
       "      <td>6</td>\n",
       "      <td>2015-05-13</td>\n",
       "      <td>2025-05-08</td>\n",
       "      <td>1699.27</td>\n",
       "    </tr>\n",
       "    <tr>\n",
       "      <th>3</th>\n",
       "      <td>AMZN</td>\n",
       "      <td>2513</td>\n",
       "      <td>6</td>\n",
       "      <td>2015-05-13</td>\n",
       "      <td>2025-05-08</td>\n",
       "      <td>1714.99</td>\n",
       "    </tr>\n",
       "    <tr>\n",
       "      <th>4</th>\n",
       "      <td>TSLA</td>\n",
       "      <td>2513</td>\n",
       "      <td>6</td>\n",
       "      <td>2015-05-13</td>\n",
       "      <td>2025-05-08</td>\n",
       "      <td>1706.37</td>\n",
       "    </tr>\n",
       "    <tr>\n",
       "      <th>5</th>\n",
       "      <td>META</td>\n",
       "      <td>2513</td>\n",
       "      <td>6</td>\n",
       "      <td>2015-05-13</td>\n",
       "      <td>2025-05-08</td>\n",
       "      <td>1699.86</td>\n",
       "    </tr>\n",
       "    <tr>\n",
       "      <th>6</th>\n",
       "      <td>NVDA</td>\n",
       "      <td>2513</td>\n",
       "      <td>6</td>\n",
       "      <td>2015-05-13</td>\n",
       "      <td>2025-05-08</td>\n",
       "      <td>1753.35</td>\n",
       "    </tr>\n",
       "    <tr>\n",
       "      <th>7</th>\n",
       "      <td>SPY</td>\n",
       "      <td>2513</td>\n",
       "      <td>6</td>\n",
       "      <td>2015-05-13</td>\n",
       "      <td>2025-05-08</td>\n",
       "      <td>1701.79</td>\n",
       "    </tr>\n",
       "    <tr>\n",
       "      <th>8</th>\n",
       "      <td>V</td>\n",
       "      <td>2513</td>\n",
       "      <td>6</td>\n",
       "      <td>2015-05-13</td>\n",
       "      <td>2025-05-08</td>\n",
       "      <td>1669.54</td>\n",
       "    </tr>\n",
       "    <tr>\n",
       "      <th>9</th>\n",
       "      <td>DIS</td>\n",
       "      <td>2513</td>\n",
       "      <td>6</td>\n",
       "      <td>2015-05-13</td>\n",
       "      <td>2025-05-08</td>\n",
       "      <td>1701.93</td>\n",
       "    </tr>\n",
       "    <tr>\n",
       "      <th>10</th>\n",
       "      <td>NFLX</td>\n",
       "      <td>2513</td>\n",
       "      <td>6</td>\n",
       "      <td>2015-05-13</td>\n",
       "      <td>2025-05-08</td>\n",
       "      <td>1668.38</td>\n",
       "    </tr>\n",
       "    <tr>\n",
       "      <th>11</th>\n",
       "      <td>PYPL</td>\n",
       "      <td>2477</td>\n",
       "      <td>6</td>\n",
       "      <td>2015-07-06</td>\n",
       "      <td>2025-05-08</td>\n",
       "      <td>1654.46</td>\n",
       "    </tr>\n",
       "    <tr>\n",
       "      <th>12</th>\n",
       "      <td>BABA</td>\n",
       "      <td>2513</td>\n",
       "      <td>6</td>\n",
       "      <td>2015-05-13</td>\n",
       "      <td>2025-05-08</td>\n",
       "      <td>1694.83</td>\n",
       "    </tr>\n",
       "    <tr>\n",
       "      <th>13</th>\n",
       "      <td>IBM</td>\n",
       "      <td>2513</td>\n",
       "      <td>6</td>\n",
       "      <td>2015-05-13</td>\n",
       "      <td>2025-05-08</td>\n",
       "      <td>1698.90</td>\n",
       "    </tr>\n",
       "    <tr>\n",
       "      <th>14</th>\n",
       "      <td>AMD</td>\n",
       "      <td>2512</td>\n",
       "      <td>6</td>\n",
       "      <td>2015-05-13</td>\n",
       "      <td>2025-05-08</td>\n",
       "      <td>1723.06</td>\n",
       "    </tr>\n",
       "    <tr>\n",
       "      <th>15</th>\n",
       "      <td>BA</td>\n",
       "      <td>2513</td>\n",
       "      <td>6</td>\n",
       "      <td>2015-05-13</td>\n",
       "      <td>2025-05-08</td>\n",
       "      <td>1665.21</td>\n",
       "    </tr>\n",
       "    <tr>\n",
       "      <th>16</th>\n",
       "      <td>INTC</td>\n",
       "      <td>2513</td>\n",
       "      <td>6</td>\n",
       "      <td>2015-05-13</td>\n",
       "      <td>2025-05-08</td>\n",
       "      <td>1706.40</td>\n",
       "    </tr>\n",
       "    <tr>\n",
       "      <th>17</th>\n",
       "      <td>T</td>\n",
       "      <td>2513</td>\n",
       "      <td>6</td>\n",
       "      <td>2015-05-13</td>\n",
       "      <td>2025-05-08</td>\n",
       "      <td>1724.68</td>\n",
       "    </tr>\n",
       "    <tr>\n",
       "      <th>18</th>\n",
       "      <td>GS</td>\n",
       "      <td>2513</td>\n",
       "      <td>6</td>\n",
       "      <td>2015-05-13</td>\n",
       "      <td>2025-05-08</td>\n",
       "      <td>1696.03</td>\n",
       "    </tr>\n",
       "    <tr>\n",
       "      <th>19</th>\n",
       "      <td>NKE</td>\n",
       "      <td>2513</td>\n",
       "      <td>6</td>\n",
       "      <td>2015-05-13</td>\n",
       "      <td>2025-05-08</td>\n",
       "      <td>1704.22</td>\n",
       "    </tr>\n",
       "  </tbody>\n",
       "</table>\n",
       "</div>"
      ],
      "text/plain": [
       "   stock  rows  features  start_date    end_date  file_size_kb\n",
       "0   AAPL  2513         6  2015-05-13  2025-05-08       1717.49\n",
       "1   MSFT  2513         6  2015-05-13  2025-05-08       1705.56\n",
       "2   GOOG  2513         6  2015-05-13  2025-05-08       1699.27\n",
       "3   AMZN  2513         6  2015-05-13  2025-05-08       1714.99\n",
       "4   TSLA  2513         6  2015-05-13  2025-05-08       1706.37\n",
       "5   META  2513         6  2015-05-13  2025-05-08       1699.86\n",
       "6   NVDA  2513         6  2015-05-13  2025-05-08       1753.35\n",
       "7    SPY  2513         6  2015-05-13  2025-05-08       1701.79\n",
       "8      V  2513         6  2015-05-13  2025-05-08       1669.54\n",
       "9    DIS  2513         6  2015-05-13  2025-05-08       1701.93\n",
       "10  NFLX  2513         6  2015-05-13  2025-05-08       1668.38\n",
       "11  PYPL  2477         6  2015-07-06  2025-05-08       1654.46\n",
       "12  BABA  2513         6  2015-05-13  2025-05-08       1694.83\n",
       "13   IBM  2513         6  2015-05-13  2025-05-08       1698.90\n",
       "14   AMD  2512         6  2015-05-13  2025-05-08       1723.06\n",
       "15    BA  2513         6  2015-05-13  2025-05-08       1665.21\n",
       "16  INTC  2513         6  2015-05-13  2025-05-08       1706.40\n",
       "17     T  2513         6  2015-05-13  2025-05-08       1724.68\n",
       "18    GS  2513         6  2015-05-13  2025-05-08       1696.03\n",
       "19   NKE  2513         6  2015-05-13  2025-05-08       1704.22"
      ]
     },
     "execution_count": 7,
     "metadata": {},
     "output_type": "execute_result"
    }
   ],
   "source": [
    "# Display summary table\n",
    "summary_df"
   ]
  },
  {
   "cell_type": "markdown",
   "metadata": {},
   "source": [
    "## 5. Examine a Sample Dataset"
   ]
  },
  {
   "cell_type": "code",
   "execution_count": 8,
   "metadata": {},
   "outputs": [
    {
     "name": "stdout",
     "output_type": "stream",
     "text": [
      "Sample from AAPL_lstm.csv (First 5 rows):\n"
     ]
    },
    {
     "data": {
      "text/html": [
       "<div>\n",
       "<style scoped>\n",
       "    .dataframe tbody tr th:only-of-type {\n",
       "        vertical-align: middle;\n",
       "    }\n",
       "\n",
       "    .dataframe tbody tr th {\n",
       "        vertical-align: top;\n",
       "    }\n",
       "\n",
       "    .dataframe thead th {\n",
       "        text-align: right;\n",
       "    }\n",
       "</style>\n",
       "<table border=\"1\" class=\"dataframe\">\n",
       "  <thead>\n",
       "    <tr style=\"text-align: right;\">\n",
       "      <th></th>\n",
       "      <th>open_scaled</th>\n",
       "      <th>high_scaled</th>\n",
       "      <th>low_scaled</th>\n",
       "      <th>close_scaled</th>\n",
       "      <th>volume_scaled</th>\n",
       "      <th>return_scaled</th>\n",
       "      <th>ma5_scaled</th>\n",
       "      <th>ma20_scaled</th>\n",
       "      <th>ma50_scaled</th>\n",
       "      <th>volatility_scaled</th>\n",
       "      <th>price_up</th>\n",
       "    </tr>\n",
       "  </thead>\n",
       "  <tbody>\n",
       "    <tr>\n",
       "      <th>0</th>\n",
       "      <td>0.032421</td>\n",
       "      <td>0.031590</td>\n",
       "      <td>0.032728</td>\n",
       "      <td>0.031860</td>\n",
       "      <td>0.184693</td>\n",
       "      <td>0.539055</td>\n",
       "      <td>0.033372</td>\n",
       "      <td>0.033351</td>\n",
       "      <td>0.030997</td>\n",
       "      <td>0.089094</td>\n",
       "      <td>1</td>\n",
       "    </tr>\n",
       "    <tr>\n",
       "      <th>1</th>\n",
       "      <td>0.033611</td>\n",
       "      <td>0.033243</td>\n",
       "      <td>0.033949</td>\n",
       "      <td>0.034629</td>\n",
       "      <td>0.251889</td>\n",
       "      <td>0.539055</td>\n",
       "      <td>0.033372</td>\n",
       "      <td>0.033351</td>\n",
       "      <td>0.030997</td>\n",
       "      <td>0.089094</td>\n",
       "      <td>0</td>\n",
       "    </tr>\n",
       "    <tr>\n",
       "      <th>2</th>\n",
       "      <td>0.035180</td>\n",
       "      <td>0.033750</td>\n",
       "      <td>0.034943</td>\n",
       "      <td>0.034460</td>\n",
       "      <td>0.207160</td>\n",
       "      <td>0.451348</td>\n",
       "      <td>0.033372</td>\n",
       "      <td>0.033351</td>\n",
       "      <td>0.030997</td>\n",
       "      <td>0.089094</td>\n",
       "      <td>1</td>\n",
       "    </tr>\n",
       "    <tr>\n",
       "      <th>3</th>\n",
       "      <td>0.034528</td>\n",
       "      <td>0.034904</td>\n",
       "      <td>0.035085</td>\n",
       "      <td>0.035797</td>\n",
       "      <td>0.288203</td>\n",
       "      <td>0.495413</td>\n",
       "      <td>0.033372</td>\n",
       "      <td>0.033351</td>\n",
       "      <td>0.030997</td>\n",
       "      <td>0.089094</td>\n",
       "      <td>0</td>\n",
       "    </tr>\n",
       "    <tr>\n",
       "      <th>4</th>\n",
       "      <td>0.036711</td>\n",
       "      <td>0.035055</td>\n",
       "      <td>0.036297</td>\n",
       "      <td>0.035684</td>\n",
       "      <td>0.248242</td>\n",
       "      <td>0.453031</td>\n",
       "      <td>0.033372</td>\n",
       "      <td>0.033351</td>\n",
       "      <td>0.030997</td>\n",
       "      <td>0.089094</td>\n",
       "      <td>0</td>\n",
       "    </tr>\n",
       "  </tbody>\n",
       "</table>\n",
       "</div>"
      ],
      "text/plain": [
       "   open_scaled  high_scaled  low_scaled  close_scaled  volume_scaled  \\\n",
       "0     0.032421     0.031590    0.032728      0.031860       0.184693   \n",
       "1     0.033611     0.033243    0.033949      0.034629       0.251889   \n",
       "2     0.035180     0.033750    0.034943      0.034460       0.207160   \n",
       "3     0.034528     0.034904    0.035085      0.035797       0.288203   \n",
       "4     0.036711     0.035055    0.036297      0.035684       0.248242   \n",
       "\n",
       "   return_scaled  ma5_scaled  ma20_scaled  ma50_scaled  volatility_scaled  \\\n",
       "0       0.539055    0.033372     0.033351     0.030997           0.089094   \n",
       "1       0.539055    0.033372     0.033351     0.030997           0.089094   \n",
       "2       0.451348    0.033372     0.033351     0.030997           0.089094   \n",
       "3       0.495413    0.033372     0.033351     0.030997           0.089094   \n",
       "4       0.453031    0.033372     0.033351     0.030997           0.089094   \n",
       "\n",
       "   price_up  \n",
       "0         1  \n",
       "1         0  \n",
       "2         1  \n",
       "3         0  \n",
       "4         0  "
      ]
     },
     "metadata": {},
     "output_type": "display_data"
    },
    {
     "name": "stderr",
     "output_type": "stream",
     "text": [
      "/tmp/ipykernel_21921/4057071013.py:14: FutureWarning: In a future version of pandas, parsing datetimes with mixed time zones will raise an error unless `utc=True`. Please specify `utc=True` to opt in to the new behaviour and silence this warning. To create a `Series` with mixed offsets and `object` dtype, please use `apply` and `datetime.datetime.strptime`\n",
      "  sample_df['date'] = pd.to_datetime(sample_df['date'])\n"
     ]
    },
    {
     "data": {
      "image/png": "[encoded data removed]",
      "text/plain": [
       "<Figure size 1200x600 with 1 Axes>"
      ]
     },
     "metadata": {},
     "output_type": "display_data"
    }
   ],
   "source": [
    "# Load sample dataset (AAPL)\n",
    "sample_file = f\"{output_folder}/AAPL_lstm.csv\"\n",
    "if os.path.exists(sample_file):\n",
    "    sample_df = pd.read_csv(sample_file)\n",
    "    print(f\"Sample from AAPL_lstm.csv (First 5 rows):\")\n",
    "    \n",
    "    # Show first few rows (limited columns for readability)\n",
    "    display_cols = [col for col in sample_df.columns if 'min' not in col and 'max' not in col][:10]  # First 10 non-min/max columns\n",
    "    display_cols.append('price_up')  # Add target\n",
    "    display(sample_df[display_cols].head())\n",
    "    \n",
    "    # Plot the scaled closing prices\n",
    "    plt.figure(figsize=(12, 6))\n",
    "    sample_df['date'] = pd.to_datetime(sample_df['date'])\n",
    "    \n",
    "    if 'close_scaled' in sample_df.columns:\n",
    "        plt.plot(sample_df['date'], sample_df['close_scaled'], label='Scaled Close')\n",
    "        plt.title('AAPL Scaled Stock Price')\n",
    "        plt.xlabel('Date')\n",
    "        plt.ylabel('Scaled Value (0-1)')\n",
    "        plt.grid(True)\n",
    "        plt.legend()\n",
    "        plt.tight_layout()\n",
    "        plt.show()\n",
    "else:\n",
    "    print(\"Sample file not found. Please run the data preparation first.\")"
   ]
  },
  {
   "cell_type": "markdown",
   "metadata": {},
   "source": [
    "## 6. Helper Function to Create LSTM Sequences\n",
    "\n",
    "This function shows how to create the input sequences for LSTM models from the prepared data. This will be used in the training notebook but is included here for reference."
   ]
  },
  {
   "cell_type": "code",
   "execution_count": 7,
   "metadata": {},
   "outputs": [],
   "source": [
    "def create_sequences(df, feature_cols, target_col, sequence_length=60):\n",
    "    \"\"\"\n",
    "    Create sequences for LSTM training from prepared data.\n",
    "    \n",
    "    Parameters:\n",
    "    - df: Prepared DataFrame with scaled features\n",
    "    - feature_cols: List of feature column names to use\n",
    "    - target_col: Name of the target column\n",
    "    - sequence_length: Number of time steps in each sequence\n",
    "    \n",
    "    Returns:\n",
    "    - X: Input sequences (3D array)\n",
    "    - y: Target values\n",
    "    \"\"\"\n",
    "    # Extract feature and target data\n",
    "    data = df[feature_cols].values\n",
    "    target = df[target_col].values\n",
    "    \n",
    "    X, y = [], []\n",
    "    \n",
    "    # Create sequences\n",
    "    for i in range(len(data) - sequence_length):\n",
    "        X.append(data[i:i + sequence_length])\n",
    "        y.append(target[i + sequence_length])\n",
    "    \n",
    "    # Convert to numpy arrays\n",
    "    X = np.array(X)\n",
    "    y = np.array(y)\n",
    "    \n",
    "    return X, y\n",
    "\n",
    "# Example usage (commented out)\n",
    "\"\"\"\n",
    "# Example for when you're building the LSTM model:\n",
    "if os.path.exists(sample_file):\n",
    "    # Get all scaled feature columns\n",
    "    feature_cols = [col for col in sample_df.columns if col.endswith('_scaled') and col != 'next_day_close_scaled']\n",
    "    \n",
    "    # Create sequences for regression (predict next day price)\n",
    "    X_price, y_price = create_sequences(sample_df, feature_cols, 'next_day_close_scaled', sequence_length=30)\n",
    "    print(f\"Regression sequences shape: {X_price.shape}, Target shape: {y_price.shape}\")\n",
    "    \n",
    "    # Create sequences for classification (predict direction)\n",
    "    X_dir, y_dir = create_sequences(sample_df, feature_cols, 'price_up', sequence_length=30)\n",
    "    print(f\"Classification sequences shape: {X_dir.shape}, Target shape: {y_dir.shape}\")\n",
    "\"\"\""
   ]
  },
  {
   "cell_type": "markdown",
   "metadata": {},
   "source": [
    "## 7. Data Ready for LSTM\n",
    "\n",
    "Our data is now ready for training LSTM models. The prepared datasets include:\n",
    "\n",
    "1. Scaled features (using MinMaxScaler)\n",
    "2. Date information for reference\n",
    "3. Next day price information (both raw and scaled)\n",
    "4. Price direction binary target (0/1)\n",
    "5. Scaling parameters (min/max) for each feature to use for inverse scaling predictions\n",
    "\n",
    "The data is saved in the `/data/lstm/` directory with filenames like `STOCK_lstm.csv`.\n",
    "\n",
    "In the LSTM model training notebook, we'll use the `create_sequences` function to generate the input sequences needed for training."
   ]
  }
 ],
 "metadata": {
  "kernelspec": {
   "display_name": "venv",
   "language": "python",
   "name": "python3"
  },
  "language_info": {
   "codemirror_mode": {
    "name": "ipython",
    "version": 3
   },
   "file_extension": ".py",
   "mimetype": "text/x-python",
   "name": "python",
   "nbconvert_exporter": "python",
   "pygments_lexer": "ipython3",
   "version": "3.11.12"
  }
 },
 "nbformat": 4,
 "nbformat_minor": 4
}
