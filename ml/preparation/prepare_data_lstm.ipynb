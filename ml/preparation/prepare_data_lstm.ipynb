{
 "cells": [
  {
   "cell_type": "markdown",
   "metadata": {},
   "source": [
    "# Data Preparation for LSTM Models\n",
    "\n",
    "This notebook prepares stock data for LSTM models by:\n",
    "1. Loading clean data from `../data/cleaned/stock.csv`\n",
    "2. Adding technical indicators relevant for prediction\n",
    "3. Creating target variables for different prediction periods (day, week, month)\n",
    "4. Selecting features based on correlation with targets\n",
    "5. Preparing and exporting data to `../data/lstm/period/stock_lstm_period.csv`"
   ]
  },
  {
   "cell_type": "markdown",
   "metadata": {},
   "source": [
    "## 1. Import Libraries and Setup"
   ]
  },
  {
   "cell_type": "code",
   "execution_count": null,
   "metadata": {},
   "outputs": [],
   "source": [
    "# Import necessary libraries\n",
    "import pandas as pd\n",
    "import numpy as np\n",
    "import os\n",
    "from sklearn.preprocessing import MinMaxScaler\n",
    "import warnings\n",
    "warnings.filterwarnings('ignore')\n",
    "\n",
    "# Define the list of stocks to process\n",
    "stocks = [\n",
    "    'AAPL', 'MSFT', 'GOOG', 'AMZN', 'TSLA', 'META', 'NVDA', 'SPY', 'V', 'DIS',\n",
    "    'NFLX', 'PYPL', 'BABA', 'IBM', 'AMD', 'BA', 'INTC', 'T', 'GS', 'NKE'\n",
    "]\n",
    "\n",
    "# Create output directories\n",
    "for period in ['day', 'week', 'month']:\n",
    "    os.makedirs(f'../data/lstm/{period}', exist_ok=True)\n",
    "print(\"Output directories created.\")"
   ]
  },
  {
   "cell_type": "markdown",
   "metadata": {},
   "source": [
    "## 2. Data Loading Function"
   ]
  },
  {
   "cell_type": "code",
   "execution_count": null,
   "metadata": {},
   "outputs": [],
   "source": [
    "def load_data(stock):\n",
    "    \"\"\"Load stock data from cleaned files\"\"\"\n",
    "    file_path = f'../data/cleaned/{stock}.csv'\n",
    "    \n",
    "    if not os.path.exists(file_path):\n",
    "        print(f\"Warning: File {file_path} does not exist. Skipping.\")\n",
    "        return None\n",
    "    \n",
    "    df = pd.read_csv(file_path)\n",
    "    df['Date'] = pd.to_datetime(df['Date'])\n",
    "    df.set_index('Date', inplace=True)\n",
    "    \n",
    "    return df\n",
    "\n",
    "# Test with a sample stock\n",
    "sample_stock = 'AAPL'\n",
    "sample_df = load_data(sample_stock)\n",
    "\n",
    "if sample_df is not None:\n",
    "    print(f\"Loaded {sample_stock} data with shape: {sample_df.shape}\")\n",
    "    print(f\"Columns: {', '.join(sample_df.columns[:5])}...\")\n",
    "    print(f\"Date range: {sample_df.index.min()} to {sample_df.index.max()}\")"
   ]
  },
  {
   "cell_type": "markdown",
   "metadata": {},
   "source": [
    "## 3. Add Technical Indicators"
   ]
  },
  {
   "cell_type": "code",
   "execution_count": null,
   "metadata": {},
   "outputs": [],
   "source": [
    "def add_technical_indicators(df):\n",
    "    \"\"\"Add technical indicators useful for LSTM prediction\"\"\"\n",
    "    df_new = df.copy()\n",
    "    \n",
    "    # Bollinger Bands Percentage\n",
    "    if all(col in df_new.columns for col in ['BB_Upper', 'BB_Lower']):\n",
    "        df_new['BB_Percentage'] = (df_new['Close'] - df_new['BB_Lower']) / (df_new['BB_Upper'] - df_new['BB_Lower'])\n",
    "    \n",
    "    # Rate of Change (ROC)\n",
    "    for period in [5, 10, 20]:\n",
    "        df_new[f'ROC_{period}'] = df_new['Close'].pct_change(periods=period) * 100\n",
    "    \n",
    "    # True Range and ATR\n",
    "    df_new['TR'] = np.maximum(\n",
    "        df_new['High'] - df_new['Low'],\n",
    "        np.maximum(\n",
    "            abs(df_new['High'] - df_new['Close'].shift(1)),\n",
    "            abs(df_new['Low'] - df_new['Close'].shift(1))\n",
    "        )\n",
    "    )\n",
    "    df_new['ATR_14'] = df_new['TR'].rolling(window=14).mean()\n",
    "    \n",
    "    # Price momentum and acceleration\n",
    "    df_new['Momentum_5'] = df_new['Close'] - df_new['Close'].shift(5)\n",
    "    df_new['Momentum_10'] = df_new['Close'] - df_new['Close'].shift(10)\n",
    "    df_new['Acceleration_5'] = df_new['Momentum_5'] - df_new['Momentum_5'].shift(5)\n",
    "    \n",
    "    # Log returns\n",
    "    df_new['Log_Return_1D'] = np.log(df_new['Close'] / df_new['Close'].shift(1))\n",
    "    \n",
    "    # Drop NaN values\n",
    "    df_new = df_new.dropna()\n",
    "    \n",
    "    return df_new\n",
    "\n",
    "# Test with sample data\n",
    "if sample_df is not None:\n",
    "    enhanced_df = add_technical_indicators(sample_df)\n",
    "    new_columns = set(enhanced_df.columns) - set(sample_df.columns)\n",
    "    print(f\"Added {len(new_columns)} new technical indicators\")\n",
    "    print(f\"New shape: {enhanced_df.shape}\")"
   ]
  },
  {
   "cell_type": "markdown",
   "metadata": {},
   "source": [
    "## 4. Create Target Variables"
   ]
  },
  {
   "cell_type": "code",
   "execution_count": 59,
   "metadata": {},
   "outputs": [
    {
     "name": "stdout",
     "output_type": "stream",
     "text": [
      "Target class distribution:\n",
      "  Target_Next_Day: 52.9% Up, 47.1% Down\n",
      "  Target_Next_Week: 57.3% Up, 42.7% Down\n",
      "  Target_Next_Month: 61.3% Up, 38.7% Down\n"
     ]
    }
   ],
   "source": [
    "def create_target_variables(df):\n",
    "    \"\"\"Create target variables for different prediction periods\"\"\"\n",
    "    df_new = df.copy()\n",
    "    \n",
    "    # Next day price direction (1 if up, 0 if down)\n",
    "    df_new['Target_Next_Day'] = (df_new['Close'].shift(-1) > df_new['Close']).astype(int)\n",
    "    \n",
    "    # Next week average price direction\n",
    "    next_week_mean = df_new['Close'].rolling(window=5).mean().shift(-5)\n",
    "    df_new['Target_Next_Week'] = (next_week_mean > df_new['Close']).astype(int)\n",
    "    \n",
    "    # Next month average price direction\n",
    "    next_month_mean = df_new['Close'].rolling(window=21).mean().shift(-21)\n",
    "    df_new['Target_Next_Month'] = (next_month_mean > df_new['Close']).astype(int)\n",
    "    \n",
    "    # Drop rows with NaN target values\n",
    "    df_new = df_new.dropna(subset=['Target_Next_Day', 'Target_Next_Week', 'Target_Next_Month'])\n",
    "    \n",
    "    return df_new\n",
    "\n",
    "# Test with enhanced data\n",
    "if 'enhanced_df' in locals():\n",
    "    target_df = create_target_variables(enhanced_df)\n",
    "    print(\"Target class distribution:\")\n",
    "    for col in ['Target_Next_Day', 'Target_Next_Week', 'Target_Next_Month']:\n",
    "        up_pct = target_df[col].mean() * 100\n",
    "        print(f\"  {col}: {up_pct:.1f}% Up, {100-up_pct:.1f}% Down\")"
   ]
  },
  {
   "cell_type": "markdown",
   "metadata": {},
   "source": [
    "## 5. Feature Selection Based on Correlation"
   ]
  },
  {
   "cell_type": "code",
   "execution_count": 60,
   "metadata": {},
   "outputs": [
    {
     "name": "stdout",
     "output_type": "stream",
     "text": [
      "Found 108 feature pairs with correlation >= 0.8\n",
      "Selected 22 features, removed 24 highly correlated features\n",
      "Top 5 features: Target_1D, Target_Next_Week, Target_1W, Target_Next_Month, Target_1M\n"
     ]
    }
   ],
   "source": [
    "def select_features(df, target_column, threshold=0.8, verbose=False):\n",
    "    \"\"\"Select features based on correlation with target and remove highly correlated features\"\"\"\n",
    "    # Calculate correlation matrix\n",
    "    corr_matrix = df.corr(numeric_only=True)\n",
    "    \n",
    "    # Get target correlations\n",
    "    target_corr = corr_matrix[target_column].drop(target_column)\n",
    "    \n",
    "    # Find highly correlated feature pairs\n",
    "    high_corr_pairs = []\n",
    "    for i in range(len(corr_matrix.columns)):\n",
    "        for j in range(i+1, len(corr_matrix.columns)):\n",
    "            if abs(corr_matrix.iloc[i, j]) >= threshold:\n",
    "                col1, col2 = corr_matrix.columns[i], corr_matrix.columns[j]\n",
    "                # Skip if either column is the target\n",
    "                if col1 == target_column or col2 == target_column:\n",
    "                    continue\n",
    "                high_corr_pairs.append((col1, col2, abs(corr_matrix.iloc[i, j])))\n",
    "    \n",
    "    if verbose and high_corr_pairs:\n",
    "        print(f\"Found {len(high_corr_pairs)} feature pairs with correlation >= {threshold}\")\n",
    "    \n",
    "    # Sort features by absolute correlation with target\n",
    "    sorted_features = target_corr.abs().sort_values(ascending=False)\n",
    "    \n",
    "    # For each pair of highly correlated features, keep the one with higher correlation to target\n",
    "    removed_features = set()\n",
    "    for col1, col2, _ in high_corr_pairs:\n",
    "        if col1 in removed_features or col2 in removed_features:\n",
    "            continue\n",
    "            \n",
    "        # Keep the feature with higher correlation to target\n",
    "        corr1 = abs(target_corr.get(col1, 0))\n",
    "        corr2 = abs(target_corr.get(col2, 0))\n",
    "        \n",
    "        if corr1 >= corr2:\n",
    "            removed_features.add(col2)\n",
    "        else:\n",
    "            removed_features.add(col1)\n",
    "    \n",
    "    # Select features not in removed_features\n",
    "    selected_features = [col for col in sorted_features.index if col not in removed_features]\n",
    "    \n",
    "    # Add essential price and volume features if not already included\n",
    "    essential_features = ['Open', 'High', 'Low', 'Close', 'Volume']\n",
    "    for feature in essential_features:\n",
    "        if feature in df.columns and feature not in selected_features and feature not in removed_features:\n",
    "            selected_features.append(feature)\n",
    "    \n",
    "    if verbose:\n",
    "        print(f\"Selected {len(selected_features)} features, removed {len(removed_features)} highly correlated features\")\n",
    "    \n",
    "    return selected_features\n",
    "\n",
    "# Test feature selection\n",
    "if 'target_df' in locals():\n",
    "    selected_features_day = select_features(target_df, 'Target_Next_Day', verbose=True)\n",
    "    print(f\"Top 5 features: {', '.join(selected_features_day[:5])}\")"
   ]
  },
  {
   "cell_type": "markdown",
   "metadata": {},
   "source": [
    "## 6. Prepare Data for LSTM"
   ]
  },
  {
   "cell_type": "code",
   "execution_count": 61,
   "metadata": {},
   "outputs": [
    {
     "name": "stdout",
     "output_type": "stream",
     "text": [
      "Prepared data shape: (3645, 24)\n",
      "Columns: ['Target_1D', 'Target_Next_Week', 'Target_1W', 'Target_Next_Month', 'Target_1M']...\n"
     ]
    }
   ],
   "source": [
    "def prepare_data_for_lstm(df, feature_cols, target_col):\n",
    "    \"\"\"Prepare data for LSTM model by scaling features and adding date\"\"\"\n",
    "    # Select only needed columns\n",
    "    df_selected = df[feature_cols + [target_col]].copy()\n",
    "    \n",
    "    # Scale features (keeping the target as is)\n",
    "    scaler = MinMaxScaler()\n",
    "    df_scaled = pd.DataFrame(\n",
    "        scaler.fit_transform(df_selected[feature_cols]),\n",
    "        columns=feature_cols,\n",
    "        index=df_selected.index\n",
    "    )\n",
    "    \n",
    "    # Add target column back\n",
    "    df_scaled[target_col] = df_selected[target_col]\n",
    "    \n",
    "    # Add date column for reference\n",
    "    df_scaled['date'] = df_scaled.index\n",
    "    \n",
    "    return df_scaled\n",
    "\n",
    "# Test data preparation\n",
    "if 'target_df' in locals() and 'selected_features_day' in locals():\n",
    "    prepared_day = prepare_data_for_lstm(target_df, selected_features_day, 'Target_Next_Day')\n",
    "    print(f\"Prepared data shape: {prepared_day.shape}\")\n",
    "    print(f\"Columns: {prepared_day.columns[:5].tolist()}...\")"
   ]
  },
  {
   "cell_type": "markdown",
   "metadata": {},
   "source": [
    "## 7. Main Processing Function"
   ]
  },
  {
   "cell_type": "code",
   "execution_count": 62,
   "metadata": {},
   "outputs": [],
   "source": [
    "def process_stock(stock, verbose=False):\n",
    "    \"\"\"Process a single stock for all prediction periods\"\"\"\n",
    "    print(f\"Processing {stock}...\")\n",
    "    \n",
    "    # Load data\n",
    "    df = load_data(stock)\n",
    "    if df is None:\n",
    "        return\n",
    "    \n",
    "    # Add technical indicators\n",
    "    df_enhanced = add_technical_indicators(df)\n",
    "    \n",
    "    # Create target variables\n",
    "    df_targets = create_target_variables(df_enhanced)\n",
    "    \n",
    "    # Process for each prediction period\n",
    "    periods = {\n",
    "        'day': 'Target_Next_Day',\n",
    "        'week': 'Target_Next_Week',\n",
    "        'month': 'Target_Next_Month'\n",
    "    }\n",
    "    \n",
    "    for period, target_col in periods.items():\n",
    "        # Select features based on correlation\n",
    "        selected_features = select_features(df_targets, target_col, verbose=verbose)\n",
    "        \n",
    "        # Prepare data for LSTM\n",
    "        prepared_data = prepare_data_for_lstm(df_targets, selected_features, target_col)\n",
    "        \n",
    "        # Export prepared data\n",
    "        output_path = f'../data/lstm/{period}/{stock}_lstm_{period}.csv'\n",
    "        prepared_data.to_csv(output_path, index=False)\n",
    "        \n",
    "        print(f\"  {period.capitalize()}: {prepared_data.shape[0]} records, {len(selected_features)} features\")"
   ]
  },
  {
   "cell_type": "markdown",
   "metadata": {},
   "source": [
    "## 8. Process All Stocks"
   ]
  },
  {
   "cell_type": "code",
   "execution_count": null,
   "metadata": {},
   "outputs": [],
   "source": [
    "# Process all stocks\n",
    "for stock in stocks:\n",
    "    process_stock(stock)"
   ]
  },
  {
   "cell_type": "markdown",
   "metadata": {},
   "source": [
    "## 9. Data Quality Check"
   ]
  },
  {
   "cell_type": "code",
   "execution_count": 64,
   "metadata": {},
   "outputs": [
    {
     "name": "stdout",
     "output_type": "stream",
     "text": [
      "\n",
      "Data Quality Check - AAPL day:\n",
      "  Records: 3645, Features: 24\n",
      "  Missing values: 0\n",
      "  Target distribution: 52.9% Up, 47.1% Down\n",
      "  Top 3 features correlated with target:\n",
      "    - Target_1D: 1.0000\n",
      "    - Target_Next_Week: 0.4551\n",
      "    - Target_1W: 0.2829\n",
      "\n",
      "Data Quality Check - AAPL week:\n",
      "  Records: 3645, Features: 22\n",
      "  Missing values: 0\n",
      "  Target distribution: 57.3% Up, 42.7% Down\n",
      "  Top 3 features correlated with target:\n",
      "    - Target_1W: 0.7332\n",
      "    - Target_Next_Month: 0.4661\n",
      "    - Target_1D: 0.4551\n",
      "\n",
      "Data Quality Check - AAPL month:\n",
      "  Records: 3645, Features: 22\n",
      "  Missing values: 0\n",
      "  Target distribution: 61.3% Up, 38.7% Down\n",
      "  Top 3 features correlated with target:\n",
      "    - Target_1M: 0.6963\n",
      "    - Target_1W: 0.5251\n",
      "    - Target_Next_Week: 0.4661\n"
     ]
    }
   ],
   "source": [
    "def check_data_quality(stock, period):\n",
    "    \"\"\"Check the quality of prepared data\"\"\"\n",
    "    file_path = f'../data/lstm/{period}/{stock}_lstm_{period}.csv'\n",
    "    \n",
    "    if not os.path.exists(file_path):\n",
    "        print(f\"Warning: File {file_path} does not exist.\")\n",
    "        return None\n",
    "    \n",
    "    # Load data\n",
    "    df = pd.read_csv(file_path)\n",
    "    \n",
    "    # Basic checks\n",
    "    print(f\"\\nData Quality Check - {stock} {period}:\")\n",
    "    print(f\"  Records: {df.shape[0]}, Features: {df.shape[1]}\")\n",
    "    \n",
    "    # Check for missing values\n",
    "    missing_values = df.isnull().sum().sum()\n",
    "    print(f\"  Missing values: {missing_values}\")\n",
    "    \n",
    "    # Check target distribution\n",
    "    target_col = f\"Target_Next_{period.capitalize()}\"\n",
    "    if target_col in df.columns:\n",
    "        up_pct = df[target_col].mean() * 100\n",
    "        print(f\"  Target distribution: {up_pct:.1f}% Up, {100-up_pct:.1f}% Down\")\n",
    "    \n",
    "    # Simple feature correlation with target\n",
    "    df_numeric = df.select_dtypes(include=['float64', 'int64'])\n",
    "    if 'date' in df_numeric.columns:\n",
    "        df_numeric = df_numeric.drop(columns=['date'])\n",
    "        \n",
    "    if target_col in df_numeric.columns:\n",
    "        target_corr = df_numeric.corr()[target_col].abs().sort_values(ascending=False)\n",
    "        print(f\"  Top 3 features correlated with target:\")\n",
    "        for feature, corr in target_corr.drop(target_col).head(3).items():\n",
    "            print(f\"    - {feature}: {corr:.4f}\")\n",
    "    \n",
    "    return df\n",
    "\n",
    "# Check data quality for a sample stock\n",
    "sample_stock = 'AAPL'\n",
    "for period in ['day', 'week', 'month']:\n",
    "    check_data_quality(sample_stock, period)"
   ]
  },
  {
   "cell_type": "markdown",
   "metadata": {},
   "source": [
    "## 10. Overall Processing Summary"
   ]
  },
  {
   "cell_type": "code",
   "execution_count": 65,
   "metadata": {},
   "outputs": [
    {
     "name": "stdout",
     "output_type": "stream",
     "text": [
      "\n",
      "Processing Summary:\n",
      "  Day prediction: 20/20 files created\n",
      "  Week prediction: 20/20 files created\n",
      "  Month prediction: 20/20 files created\n",
      "  Total storage used: 74.45 MB\n",
      "\n",
      "All files have been created successfully!\n",
      "\n",
      "Target balance check (sample of stocks):\n",
      "  Day prediction:\n",
      "    - AAPL: 52.9% Up, 47.1% Down\n",
      "    - MSFT: 52.4% Up, 47.6% Down\n",
      "    - GOOG: 53.2% Up, 46.8% Down\n",
      "  Week prediction:\n",
      "    - AAPL: 57.3% Up, 42.7% Down\n",
      "    - MSFT: 57.3% Up, 42.7% Down\n",
      "    - GOOG: 55.4% Up, 44.6% Down\n",
      "  Month prediction:\n",
      "    - AAPL: 61.3% Up, 38.7% Down\n",
      "    - MSFT: 62.2% Up, 37.8% Down\n",
      "    - GOOG: 59.6% Up, 40.4% Down\n"
     ]
    }
   ],
   "source": [
    "def summarize_processing():\n",
    "    \"\"\"Summarize the data processing results\"\"\"\n",
    "    print(\"\\nProcessing Summary:\")\n",
    "    \n",
    "    all_files = []\n",
    "    missing_count = 0\n",
    "    for period in ['day', 'week', 'month']:\n",
    "        period_files = [f for f in os.listdir(f'../data/lstm/{period}') if f.endswith('.csv')]\n",
    "        all_files.extend([f\"../data/lstm/{period}/{f}\" for f in period_files])\n",
    "        \n",
    "        # Check for missing files\n",
    "        expected_count = len(stocks)\n",
    "        missing = expected_count - len(period_files)\n",
    "        missing_count += missing\n",
    "        \n",
    "        print(f\"  {period.capitalize()} prediction: {len(period_files)}/{expected_count} files created\")\n",
    "    \n",
    "    # Calculate total data size\n",
    "    total_size = sum(os.path.getsize(f) for f in all_files) / (1024 * 1024)  # Size in MB\n",
    "    print(f\"  Total storage used: {total_size:.2f} MB\")\n",
    "    \n",
    "    # Check for any issues\n",
    "    if missing_count > 0:\n",
    "        print(f\"\\nWarning: {missing_count} files are missing. Check for errors in processing.\")\n",
    "    else:\n",
    "        print(\"\\nAll files have been created successfully!\")\n",
    "    \n",
    "    # Sample a few files to check target balance\n",
    "    print(\"\\nTarget balance check (sample of stocks):\")\n",
    "    sample_stocks = stocks[:3]  # First 3 stocks as sample\n",
    "    for period in ['day', 'week', 'month']:\n",
    "        print(f\"  {period.capitalize()} prediction:\")\n",
    "        for stock in sample_stocks:\n",
    "            file_path = f'../data/lstm/{period}/{stock}_lstm_{period}.csv'\n",
    "            if os.path.exists(file_path):\n",
    "                df = pd.read_csv(file_path)\n",
    "                target_col = f\"Target_Next_{period.capitalize()}\"\n",
    "                up_pct = df[target_col].mean() * 100\n",
    "                print(f\"    - {stock}: {up_pct:.1f}% Up, {100-up_pct:.1f}% Down\")\n",
    "\n",
    "summarize_processing()"
   ]
  },
  {
   "cell_type": "markdown",
   "metadata": {},
   "source": [
    "sample of outputs "
   ]
  },
  {
   "cell_type": "code",
   "execution_count": 66,
   "metadata": {},
   "outputs": [],
   "source": [
    "day=pd.read_csv('../data/lstm/day/AAPL_lstm_day.csv')\n",
    "week=pd.read_csv('../data/lstm/week/AAPL_lstm_week.csv')\n",
    "month=pd.read_csv('../data/lstm/month/AAPL_lstm_month.csv')"
   ]
  },
  {
   "cell_type": "code",
   "execution_count": 67,
   "metadata": {},
   "outputs": [
    {
     "data": {
      "application/vnd.microsoft.datawrangler.viewer.v0+json": {
       "columns": [
        {
         "name": "index",
         "rawType": "int64",
         "type": "integer"
        },
        {
         "name": "Target_1D",
         "rawType": "float64",
         "type": "float"
        },
        {
         "name": "Target_Next_Week",
         "rawType": "float64",
         "type": "float"
        },
        {
         "name": "Target_1W",
         "rawType": "float64",
         "type": "float"
        },
        {
         "name": "Target_Next_Month",
         "rawType": "float64",
         "type": "float"
        },
        {
         "name": "Target_1M",
         "rawType": "float64",
         "type": "float"
        },
        {
         "name": "Monthly_Return",
         "rawType": "float64",
         "type": "float"
        },
        {
         "name": "BB_Percentage",
         "rawType": "float64",
         "type": "float"
        },
        {
         "name": "Daily_Return",
         "rawType": "float64",
         "type": "float"
        },
        {
         "name": "Volume_MA_20",
         "rawType": "float64",
         "type": "float"
        },
        {
         "name": "DayOfWeek",
         "rawType": "float64",
         "type": "float"
        },
        {
         "name": "Volatility_10D",
         "rawType": "float64",
         "type": "float"
        },
        {
         "name": "TR",
         "rawType": "float64",
         "type": "float"
        },
        {
         "name": "MACD_Hist",
         "rawType": "float64",
         "type": "float"
        },
        {
         "name": "STD_20",
         "rawType": "float64",
         "type": "float"
        },
        {
         "name": "Weekly_Return",
         "rawType": "float64",
         "type": "float"
        },
        {
         "name": "Acceleration_5",
         "rawType": "float64",
         "type": "float"
        },
        {
         "name": "Volatility_30D",
         "rawType": "float64",
         "type": "float"
        },
        {
         "name": "MACD_Signal",
         "rawType": "float64",
         "type": "float"
        },
        {
         "name": "Month",
         "rawType": "float64",
         "type": "float"
        },
        {
         "name": "BB_Width",
         "rawType": "float64",
         "type": "float"
        },
        {
         "name": "Momentum_5",
         "rawType": "float64",
         "type": "float"
        },
        {
         "name": "Daily_Change",
         "rawType": "float64",
         "type": "float"
        },
        {
         "name": "Target_Next_Day",
         "rawType": "int64",
         "type": "integer"
        },
        {
         "name": "date",
         "rawType": "object",
         "type": "string"
        }
       ],
       "conversionMethod": "pd.DataFrame",
       "ref": "b32f2de0-8614-445b-aeb9-2c67695a3817",
       "rows": [
        [
         "0",
         "0.0",
         "0.0",
         "1.0",
         "1.0",
         "1.0",
         "0.4024157671482042",
         "0.3746327307950587",
         "0.4448976263614006",
         "0.6023068388987989",
         "0.0",
         "0.1312458167679589",
         "0.0030639750656734",
         "0.5927611756191964",
         "0.0052695075438082",
         "0.4643417405838982",
         "0.3781711107476828",
         "0.1716958152452913",
         "0.5131748760971461",
         "0.9090909090909092",
         "0.1129109480701305",
         "0.6264320552785415",
         "0.3457324772531789",
         "0",
         "2010-11-15"
        ],
        [
         "1",
         "0.0",
         "1.0",
         "1.0",
         "1.0",
         "1.0",
         "0.3603838923964726",
         "0.2459501662761344",
         "0.3933405164414928",
         "0.5649332498162167",
         "0.25",
         "0.129882875470069",
         "0.007271712084681",
         "0.5900880203859096",
         "0.0059959983824453",
         "0.4412646616555314",
         "0.3792785753004588",
         "0.1542417774594384",
         "0.5121992582048426",
         "0.9090909090909092",
         "0.1280777750258997",
         "0.625344029252381",
         "0.3437520624182077",
         "0",
         "2010-11-16"
        ],
        [
         "2",
         "1.0",
         "1.0",
         "1.0",
         "1.0",
         "1.0",
         "0.3953178932585195",
         "0.247660313827303",
         "0.4434793671822455",
         "0.5491961494859346",
         "0.5",
         "0.1183442404867116",
         "0.0051206156993705",
         "0.5883653322873745",
         "0.0067808494634359",
         "0.4187245094907325",
         "0.3789216876188068",
         "0.1548220278628476",
         "0.5110358418144234",
         "0.9090909090909092",
         "0.1445620254382691",
         "0.6242074205726408",
         "0.3462586521544932",
         "1",
         "2010-11-17"
        ]
       ],
       "shape": {
        "columns": 24,
        "rows": 3
       }
      },
      "text/html": [
       "<div>\n",
       "<style scoped>\n",
       "    .dataframe tbody tr th:only-of-type {\n",
       "        vertical-align: middle;\n",
       "    }\n",
       "\n",
       "    .dataframe tbody tr th {\n",
       "        vertical-align: top;\n",
       "    }\n",
       "\n",
       "    .dataframe thead th {\n",
       "        text-align: right;\n",
       "    }\n",
       "</style>\n",
       "<table border=\"1\" class=\"dataframe\">\n",
       "  <thead>\n",
       "    <tr style=\"text-align: right;\">\n",
       "      <th></th>\n",
       "      <th>Target_1D</th>\n",
       "      <th>Target_Next_Week</th>\n",
       "      <th>Target_1W</th>\n",
       "      <th>Target_Next_Month</th>\n",
       "      <th>Target_1M</th>\n",
       "      <th>Monthly_Return</th>\n",
       "      <th>BB_Percentage</th>\n",
       "      <th>Daily_Return</th>\n",
       "      <th>Volume_MA_20</th>\n",
       "      <th>DayOfWeek</th>\n",
       "      <th>...</th>\n",
       "      <th>Weekly_Return</th>\n",
       "      <th>Acceleration_5</th>\n",
       "      <th>Volatility_30D</th>\n",
       "      <th>MACD_Signal</th>\n",
       "      <th>Month</th>\n",
       "      <th>BB_Width</th>\n",
       "      <th>Momentum_5</th>\n",
       "      <th>Daily_Change</th>\n",
       "      <th>Target_Next_Day</th>\n",
       "      <th>date</th>\n",
       "    </tr>\n",
       "  </thead>\n",
       "  <tbody>\n",
       "    <tr>\n",
       "      <th>0</th>\n",
       "      <td>0.0</td>\n",
       "      <td>0.0</td>\n",
       "      <td>1.0</td>\n",
       "      <td>1.0</td>\n",
       "      <td>1.0</td>\n",
       "      <td>0.402416</td>\n",
       "      <td>0.374633</td>\n",
       "      <td>0.444898</td>\n",
       "      <td>0.602307</td>\n",
       "      <td>0.00</td>\n",
       "      <td>...</td>\n",
       "      <td>0.464342</td>\n",
       "      <td>0.378171</td>\n",
       "      <td>0.171696</td>\n",
       "      <td>0.513175</td>\n",
       "      <td>0.909091</td>\n",
       "      <td>0.112911</td>\n",
       "      <td>0.626432</td>\n",
       "      <td>0.345732</td>\n",
       "      <td>0</td>\n",
       "      <td>2010-11-15</td>\n",
       "    </tr>\n",
       "    <tr>\n",
       "      <th>1</th>\n",
       "      <td>0.0</td>\n",
       "      <td>1.0</td>\n",
       "      <td>1.0</td>\n",
       "      <td>1.0</td>\n",
       "      <td>1.0</td>\n",
       "      <td>0.360384</td>\n",
       "      <td>0.245950</td>\n",
       "      <td>0.393341</td>\n",
       "      <td>0.564933</td>\n",
       "      <td>0.25</td>\n",
       "      <td>...</td>\n",
       "      <td>0.441265</td>\n",
       "      <td>0.379279</td>\n",
       "      <td>0.154242</td>\n",
       "      <td>0.512199</td>\n",
       "      <td>0.909091</td>\n",
       "      <td>0.128078</td>\n",
       "      <td>0.625344</td>\n",
       "      <td>0.343752</td>\n",
       "      <td>0</td>\n",
       "      <td>2010-11-16</td>\n",
       "    </tr>\n",
       "    <tr>\n",
       "      <th>2</th>\n",
       "      <td>1.0</td>\n",
       "      <td>1.0</td>\n",
       "      <td>1.0</td>\n",
       "      <td>1.0</td>\n",
       "      <td>1.0</td>\n",
       "      <td>0.395318</td>\n",
       "      <td>0.247660</td>\n",
       "      <td>0.443479</td>\n",
       "      <td>0.549196</td>\n",
       "      <td>0.50</td>\n",
       "      <td>...</td>\n",
       "      <td>0.418725</td>\n",
       "      <td>0.378922</td>\n",
       "      <td>0.154822</td>\n",
       "      <td>0.511036</td>\n",
       "      <td>0.909091</td>\n",
       "      <td>0.144562</td>\n",
       "      <td>0.624207</td>\n",
       "      <td>0.346259</td>\n",
       "      <td>1</td>\n",
       "      <td>2010-11-17</td>\n",
       "    </tr>\n",
       "  </tbody>\n",
       "</table>\n",
       "<p>3 rows × 24 columns</p>\n",
       "</div>"
      ],
      "text/plain": [
       "   Target_1D  Target_Next_Week  Target_1W  Target_Next_Month  Target_1M  \\\n",
       "0        0.0               0.0        1.0                1.0        1.0   \n",
       "1        0.0               1.0        1.0                1.0        1.0   \n",
       "2        1.0               1.0        1.0                1.0        1.0   \n",
       "\n",
       "   Monthly_Return  BB_Percentage  Daily_Return  Volume_MA_20  DayOfWeek  ...  \\\n",
       "0        0.402416       0.374633      0.444898      0.602307       0.00  ...   \n",
       "1        0.360384       0.245950      0.393341      0.564933       0.25  ...   \n",
       "2        0.395318       0.247660      0.443479      0.549196       0.50  ...   \n",
       "\n",
       "   Weekly_Return  Acceleration_5  Volatility_30D  MACD_Signal     Month  \\\n",
       "0       0.464342        0.378171        0.171696     0.513175  0.909091   \n",
       "1       0.441265        0.379279        0.154242     0.512199  0.909091   \n",
       "2       0.418725        0.378922        0.154822     0.511036  0.909091   \n",
       "\n",
       "   BB_Width  Momentum_5  Daily_Change  Target_Next_Day        date  \n",
       "0  0.112911    0.626432      0.345732                0  2010-11-15  \n",
       "1  0.128078    0.625344      0.343752                0  2010-11-16  \n",
       "2  0.144562    0.624207      0.346259                1  2010-11-17  \n",
       "\n",
       "[3 rows x 24 columns]"
      ]
     },
     "execution_count": 67,
     "metadata": {},
     "output_type": "execute_result"
    }
   ],
   "source": [
    "day.head(3)"
   ]
  },
  {
   "cell_type": "code",
   "execution_count": 68,
   "metadata": {},
   "outputs": [
    {
     "data": {
      "application/vnd.microsoft.datawrangler.viewer.v0+json": {
       "columns": [
        {
         "name": "index",
         "rawType": "int64",
         "type": "integer"
        },
        {
         "name": "Target_1W",
         "rawType": "float64",
         "type": "float"
        },
        {
         "name": "Target_Next_Month",
         "rawType": "float64",
         "type": "float"
        },
        {
         "name": "Target_1D",
         "rawType": "float64",
         "type": "float"
        },
        {
         "name": "Target_1M",
         "rawType": "float64",
         "type": "float"
        },
        {
         "name": "ROC_20",
         "rawType": "float64",
         "type": "float"
        },
        {
         "name": "BB_Percentage",
         "rawType": "float64",
         "type": "float"
        },
        {
         "name": "Volatility_30D",
         "rawType": "float64",
         "type": "float"
        },
        {
         "name": "Volatility_10D",
         "rawType": "float64",
         "type": "float"
        },
        {
         "name": "MACD_Hist",
         "rawType": "float64",
         "type": "float"
        },
        {
         "name": "Volume_MA_20",
         "rawType": "float64",
         "type": "float"
        },
        {
         "name": "Weekly_Return",
         "rawType": "float64",
         "type": "float"
        },
        {
         "name": "TR",
         "rawType": "float64",
         "type": "float"
        },
        {
         "name": "DayOfWeek",
         "rawType": "float64",
         "type": "float"
        },
        {
         "name": "Momentum_5",
         "rawType": "float64",
         "type": "float"
        },
        {
         "name": "Log_Return_1D",
         "rawType": "float64",
         "type": "float"
        },
        {
         "name": "MACD",
         "rawType": "float64",
         "type": "float"
        },
        {
         "name": "Month",
         "rawType": "float64",
         "type": "float"
        },
        {
         "name": "BB_Width",
         "rawType": "float64",
         "type": "float"
        },
        {
         "name": "Daily_Change",
         "rawType": "float64",
         "type": "float"
        },
        {
         "name": "Acceleration_5",
         "rawType": "float64",
         "type": "float"
        },
        {
         "name": "Target_Next_Week",
         "rawType": "int64",
         "type": "integer"
        },
        {
         "name": "date",
         "rawType": "object",
         "type": "string"
        }
       ],
       "conversionMethod": "pd.DataFrame",
       "ref": "c3b01815-8bc6-471b-8f32-401cb6151c19",
       "rows": [
        [
         "0",
         "1.0",
         "1.0",
         "0.0",
         "1.0",
         "0.380506106103185",
         "0.3746327307950587",
         "0.1716958152452913",
         "0.1312458167679589",
         "0.5927611756191964",
         "0.6023068388987989",
         "0.4643417405838982",
         "0.0030639750656734",
         "0.0",
         "0.6264320552785415",
         "0.4797577497393556",
         "0.5513463316730718",
         "0.9090909090909092",
         "0.1129109480701305",
         "0.3457324772531789",
         "0.3781711107476828",
         "0",
         "2010-11-15"
        ],
        [
         "1",
         "1.0",
         "1.0",
         "0.0",
         "1.0",
         "0.3950893540625089",
         "0.2459501662761344",
         "0.1542417774594384",
         "0.129882875470069",
         "0.5900880203859096",
         "0.5649332498162167",
         "0.4412646616555314",
         "0.007271712084681",
         "0.25",
         "0.625344029252381",
         "0.4273542875077971",
         "0.5495255826449956",
         "0.9090909090909092",
         "0.1280777750258997",
         "0.3437520624182077",
         "0.3792785753004588",
         "1",
         "2010-11-16"
        ],
        [
         "2",
         "1.0",
         "1.0",
         "1.0",
         "1.0",
         "0.3840395854674024",
         "0.247660313827303",
         "0.1548220278628476",
         "0.1183442404867116",
         "0.5883653322873745",
         "0.5491961494859346",
         "0.4187245094907325",
         "0.0051206156993705",
         "0.5",
         "0.6242074205726408",
         "0.478326458039875",
         "0.5478975665484311",
         "0.9090909090909092",
         "0.1445620254382691",
         "0.3462586521544932",
         "0.3789216876188068",
         "1",
         "2010-11-17"
        ]
       ],
       "shape": {
        "columns": 22,
        "rows": 3
       }
      },
      "text/html": [
       "<div>\n",
       "<style scoped>\n",
       "    .dataframe tbody tr th:only-of-type {\n",
       "        vertical-align: middle;\n",
       "    }\n",
       "\n",
       "    .dataframe tbody tr th {\n",
       "        vertical-align: top;\n",
       "    }\n",
       "\n",
       "    .dataframe thead th {\n",
       "        text-align: right;\n",
       "    }\n",
       "</style>\n",
       "<table border=\"1\" class=\"dataframe\">\n",
       "  <thead>\n",
       "    <tr style=\"text-align: right;\">\n",
       "      <th></th>\n",
       "      <th>Target_1W</th>\n",
       "      <th>Target_Next_Month</th>\n",
       "      <th>Target_1D</th>\n",
       "      <th>Target_1M</th>\n",
       "      <th>ROC_20</th>\n",
       "      <th>BB_Percentage</th>\n",
       "      <th>Volatility_30D</th>\n",
       "      <th>Volatility_10D</th>\n",
       "      <th>MACD_Hist</th>\n",
       "      <th>Volume_MA_20</th>\n",
       "      <th>...</th>\n",
       "      <th>DayOfWeek</th>\n",
       "      <th>Momentum_5</th>\n",
       "      <th>Log_Return_1D</th>\n",
       "      <th>MACD</th>\n",
       "      <th>Month</th>\n",
       "      <th>BB_Width</th>\n",
       "      <th>Daily_Change</th>\n",
       "      <th>Acceleration_5</th>\n",
       "      <th>Target_Next_Week</th>\n",
       "      <th>date</th>\n",
       "    </tr>\n",
       "  </thead>\n",
       "  <tbody>\n",
       "    <tr>\n",
       "      <th>0</th>\n",
       "      <td>1.0</td>\n",
       "      <td>1.0</td>\n",
       "      <td>0.0</td>\n",
       "      <td>1.0</td>\n",
       "      <td>0.380506</td>\n",
       "      <td>0.374633</td>\n",
       "      <td>0.171696</td>\n",
       "      <td>0.131246</td>\n",
       "      <td>0.592761</td>\n",
       "      <td>0.602307</td>\n",
       "      <td>...</td>\n",
       "      <td>0.00</td>\n",
       "      <td>0.626432</td>\n",
       "      <td>0.479758</td>\n",
       "      <td>0.551346</td>\n",
       "      <td>0.909091</td>\n",
       "      <td>0.112911</td>\n",
       "      <td>0.345732</td>\n",
       "      <td>0.378171</td>\n",
       "      <td>0</td>\n",
       "      <td>2010-11-15</td>\n",
       "    </tr>\n",
       "    <tr>\n",
       "      <th>1</th>\n",
       "      <td>1.0</td>\n",
       "      <td>1.0</td>\n",
       "      <td>0.0</td>\n",
       "      <td>1.0</td>\n",
       "      <td>0.395089</td>\n",
       "      <td>0.245950</td>\n",
       "      <td>0.154242</td>\n",
       "      <td>0.129883</td>\n",
       "      <td>0.590088</td>\n",
       "      <td>0.564933</td>\n",
       "      <td>...</td>\n",
       "      <td>0.25</td>\n",
       "      <td>0.625344</td>\n",
       "      <td>0.427354</td>\n",
       "      <td>0.549526</td>\n",
       "      <td>0.909091</td>\n",
       "      <td>0.128078</td>\n",
       "      <td>0.343752</td>\n",
       "      <td>0.379279</td>\n",
       "      <td>1</td>\n",
       "      <td>2010-11-16</td>\n",
       "    </tr>\n",
       "    <tr>\n",
       "      <th>2</th>\n",
       "      <td>1.0</td>\n",
       "      <td>1.0</td>\n",
       "      <td>1.0</td>\n",
       "      <td>1.0</td>\n",
       "      <td>0.384040</td>\n",
       "      <td>0.247660</td>\n",
       "      <td>0.154822</td>\n",
       "      <td>0.118344</td>\n",
       "      <td>0.588365</td>\n",
       "      <td>0.549196</td>\n",
       "      <td>...</td>\n",
       "      <td>0.50</td>\n",
       "      <td>0.624207</td>\n",
       "      <td>0.478326</td>\n",
       "      <td>0.547898</td>\n",
       "      <td>0.909091</td>\n",
       "      <td>0.144562</td>\n",
       "      <td>0.346259</td>\n",
       "      <td>0.378922</td>\n",
       "      <td>1</td>\n",
       "      <td>2010-11-17</td>\n",
       "    </tr>\n",
       "  </tbody>\n",
       "</table>\n",
       "<p>3 rows × 22 columns</p>\n",
       "</div>"
      ],
      "text/plain": [
       "   Target_1W  Target_Next_Month  Target_1D  Target_1M    ROC_20  \\\n",
       "0        1.0                1.0        0.0        1.0  0.380506   \n",
       "1        1.0                1.0        0.0        1.0  0.395089   \n",
       "2        1.0                1.0        1.0        1.0  0.384040   \n",
       "\n",
       "   BB_Percentage  Volatility_30D  Volatility_10D  MACD_Hist  Volume_MA_20  \\\n",
       "0       0.374633        0.171696        0.131246   0.592761      0.602307   \n",
       "1       0.245950        0.154242        0.129883   0.590088      0.564933   \n",
       "2       0.247660        0.154822        0.118344   0.588365      0.549196   \n",
       "\n",
       "   ...  DayOfWeek  Momentum_5  Log_Return_1D      MACD     Month  BB_Width  \\\n",
       "0  ...       0.00    0.626432       0.479758  0.551346  0.909091  0.112911   \n",
       "1  ...       0.25    0.625344       0.427354  0.549526  0.909091  0.128078   \n",
       "2  ...       0.50    0.624207       0.478326  0.547898  0.909091  0.144562   \n",
       "\n",
       "   Daily_Change  Acceleration_5  Target_Next_Week        date  \n",
       "0      0.345732        0.378171                 0  2010-11-15  \n",
       "1      0.343752        0.379279                 1  2010-11-16  \n",
       "2      0.346259        0.378922                 1  2010-11-17  \n",
       "\n",
       "[3 rows x 22 columns]"
      ]
     },
     "execution_count": 68,
     "metadata": {},
     "output_type": "execute_result"
    }
   ],
   "source": [
    "week.head(3)"
   ]
  },
  {
   "cell_type": "code",
   "execution_count": 69,
   "metadata": {},
   "outputs": [
    {
     "data": {
      "application/vnd.microsoft.datawrangler.viewer.v0+json": {
       "columns": [
        {
         "name": "index",
         "rawType": "int64",
         "type": "integer"
        },
        {
         "name": "Target_1M",
         "rawType": "float64",
         "type": "float"
        },
        {
         "name": "Target_1W",
         "rawType": "float64",
         "type": "float"
        },
        {
         "name": "Target_Next_Week",
         "rawType": "float64",
         "type": "float"
        },
        {
         "name": "Target_1D",
         "rawType": "float64",
         "type": "float"
        },
        {
         "name": "ATR_14",
         "rawType": "float64",
         "type": "float"
        },
        {
         "name": "Volume_MA_20",
         "rawType": "float64",
         "type": "float"
        },
        {
         "name": "Volatility_30D",
         "rawType": "float64",
         "type": "float"
        },
        {
         "name": "BB_Percentage",
         "rawType": "float64",
         "type": "float"
        },
        {
         "name": "ROC_20",
         "rawType": "float64",
         "type": "float"
        },
        {
         "name": "Volatility_10D",
         "rawType": "float64",
         "type": "float"
        },
        {
         "name": "BB_Width",
         "rawType": "float64",
         "type": "float"
        },
        {
         "name": "Weekly_Return",
         "rawType": "float64",
         "type": "float"
        },
        {
         "name": "Log_Return_1D",
         "rawType": "float64",
         "type": "float"
        },
        {
         "name": "MACD_Hist",
         "rawType": "float64",
         "type": "float"
        },
        {
         "name": "Daily_Change",
         "rawType": "float64",
         "type": "float"
        },
        {
         "name": "Momentum_5",
         "rawType": "float64",
         "type": "float"
        },
        {
         "name": "DayOfWeek",
         "rawType": "float64",
         "type": "float"
        },
        {
         "name": "MACD",
         "rawType": "float64",
         "type": "float"
        },
        {
         "name": "Acceleration_5",
         "rawType": "float64",
         "type": "float"
        },
        {
         "name": "Month",
         "rawType": "float64",
         "type": "float"
        },
        {
         "name": "Target_Next_Month",
         "rawType": "int64",
         "type": "integer"
        },
        {
         "name": "date",
         "rawType": "object",
         "type": "string"
        }
       ],
       "conversionMethod": "pd.DataFrame",
       "ref": "0376070f-aeb4-428e-8eb7-c8b05d727a4e",
       "rows": [
        [
         "0",
         "1.0",
         "1.0",
         "0.0",
         "0.0",
         "0.0060218022114894",
         "0.6023068388987989",
         "0.1716958152452913",
         "0.3746327307950587",
         "0.380506106103185",
         "0.1312458167679589",
         "0.1129109480701305",
         "0.4643417405838982",
         "0.4797577497393556",
         "0.5927611756191964",
         "0.3457324772531789",
         "0.6264320552785415",
         "0.0",
         "0.5513463316730718",
         "0.3781711107476828",
         "0.9090909090909092",
         "1",
         "2010-11-15"
        ],
        [
         "1",
         "1.0",
         "1.0",
         "1.0",
         "0.0",
         "0.0066433484663382",
         "0.5649332498162167",
         "0.1542417774594384",
         "0.2459501662761344",
         "0.3950893540625089",
         "0.129882875470069",
         "0.1280777750258997",
         "0.4412646616555314",
         "0.4273542875077971",
         "0.5900880203859096",
         "0.3437520624182077",
         "0.625344029252381",
         "0.25",
         "0.5495255826449956",
         "0.3792785753004588",
         "0.9090909090909092",
         "1",
         "2010-11-16"
        ],
        [
         "2",
         "1.0",
         "1.0",
         "1.0",
         "1.0",
         "0.0065074857134249",
         "0.5491961494859346",
         "0.1548220278628476",
         "0.247660313827303",
         "0.3840395854674024",
         "0.1183442404867116",
         "0.1445620254382691",
         "0.4187245094907325",
         "0.478326458039875",
         "0.5883653322873745",
         "0.3462586521544932",
         "0.6242074205726408",
         "0.5",
         "0.5478975665484311",
         "0.3789216876188068",
         "0.9090909090909092",
         "1",
         "2010-11-17"
        ]
       ],
       "shape": {
        "columns": 22,
        "rows": 3
       }
      },
      "text/html": [
       "<div>\n",
       "<style scoped>\n",
       "    .dataframe tbody tr th:only-of-type {\n",
       "        vertical-align: middle;\n",
       "    }\n",
       "\n",
       "    .dataframe tbody tr th {\n",
       "        vertical-align: top;\n",
       "    }\n",
       "\n",
       "    .dataframe thead th {\n",
       "        text-align: right;\n",
       "    }\n",
       "</style>\n",
       "<table border=\"1\" class=\"dataframe\">\n",
       "  <thead>\n",
       "    <tr style=\"text-align: right;\">\n",
       "      <th></th>\n",
       "      <th>Target_1M</th>\n",
       "      <th>Target_1W</th>\n",
       "      <th>Target_Next_Week</th>\n",
       "      <th>Target_1D</th>\n",
       "      <th>ATR_14</th>\n",
       "      <th>Volume_MA_20</th>\n",
       "      <th>Volatility_30D</th>\n",
       "      <th>BB_Percentage</th>\n",
       "      <th>ROC_20</th>\n",
       "      <th>Volatility_10D</th>\n",
       "      <th>...</th>\n",
       "      <th>Log_Return_1D</th>\n",
       "      <th>MACD_Hist</th>\n",
       "      <th>Daily_Change</th>\n",
       "      <th>Momentum_5</th>\n",
       "      <th>DayOfWeek</th>\n",
       "      <th>MACD</th>\n",
       "      <th>Acceleration_5</th>\n",
       "      <th>Month</th>\n",
       "      <th>Target_Next_Month</th>\n",
       "      <th>date</th>\n",
       "    </tr>\n",
       "  </thead>\n",
       "  <tbody>\n",
       "    <tr>\n",
       "      <th>0</th>\n",
       "      <td>1.0</td>\n",
       "      <td>1.0</td>\n",
       "      <td>0.0</td>\n",
       "      <td>0.0</td>\n",
       "      <td>0.006022</td>\n",
       "      <td>0.602307</td>\n",
       "      <td>0.171696</td>\n",
       "      <td>0.374633</td>\n",
       "      <td>0.380506</td>\n",
       "      <td>0.131246</td>\n",
       "      <td>...</td>\n",
       "      <td>0.479758</td>\n",
       "      <td>0.592761</td>\n",
       "      <td>0.345732</td>\n",
       "      <td>0.626432</td>\n",
       "      <td>0.00</td>\n",
       "      <td>0.551346</td>\n",
       "      <td>0.378171</td>\n",
       "      <td>0.909091</td>\n",
       "      <td>1</td>\n",
       "      <td>2010-11-15</td>\n",
       "    </tr>\n",
       "    <tr>\n",
       "      <th>1</th>\n",
       "      <td>1.0</td>\n",
       "      <td>1.0</td>\n",
       "      <td>1.0</td>\n",
       "      <td>0.0</td>\n",
       "      <td>0.006643</td>\n",
       "      <td>0.564933</td>\n",
       "      <td>0.154242</td>\n",
       "      <td>0.245950</td>\n",
       "      <td>0.395089</td>\n",
       "      <td>0.129883</td>\n",
       "      <td>...</td>\n",
       "      <td>0.427354</td>\n",
       "      <td>0.590088</td>\n",
       "      <td>0.343752</td>\n",
       "      <td>0.625344</td>\n",
       "      <td>0.25</td>\n",
       "      <td>0.549526</td>\n",
       "      <td>0.379279</td>\n",
       "      <td>0.909091</td>\n",
       "      <td>1</td>\n",
       "      <td>2010-11-16</td>\n",
       "    </tr>\n",
       "    <tr>\n",
       "      <th>2</th>\n",
       "      <td>1.0</td>\n",
       "      <td>1.0</td>\n",
       "      <td>1.0</td>\n",
       "      <td>1.0</td>\n",
       "      <td>0.006507</td>\n",
       "      <td>0.549196</td>\n",
       "      <td>0.154822</td>\n",
       "      <td>0.247660</td>\n",
       "      <td>0.384040</td>\n",
       "      <td>0.118344</td>\n",
       "      <td>...</td>\n",
       "      <td>0.478326</td>\n",
       "      <td>0.588365</td>\n",
       "      <td>0.346259</td>\n",
       "      <td>0.624207</td>\n",
       "      <td>0.50</td>\n",
       "      <td>0.547898</td>\n",
       "      <td>0.378922</td>\n",
       "      <td>0.909091</td>\n",
       "      <td>1</td>\n",
       "      <td>2010-11-17</td>\n",
       "    </tr>\n",
       "  </tbody>\n",
       "</table>\n",
       "<p>3 rows × 22 columns</p>\n",
       "</div>"
      ],
      "text/plain": [
       "   Target_1M  Target_1W  Target_Next_Week  Target_1D    ATR_14  Volume_MA_20  \\\n",
       "0        1.0        1.0               0.0        0.0  0.006022      0.602307   \n",
       "1        1.0        1.0               1.0        0.0  0.006643      0.564933   \n",
       "2        1.0        1.0               1.0        1.0  0.006507      0.549196   \n",
       "\n",
       "   Volatility_30D  BB_Percentage    ROC_20  Volatility_10D  ...  \\\n",
       "0        0.171696       0.374633  0.380506        0.131246  ...   \n",
       "1        0.154242       0.245950  0.395089        0.129883  ...   \n",
       "2        0.154822       0.247660  0.384040        0.118344  ...   \n",
       "\n",
       "   Log_Return_1D  MACD_Hist  Daily_Change  Momentum_5  DayOfWeek      MACD  \\\n",
       "0       0.479758   0.592761      0.345732    0.626432       0.00  0.551346   \n",
       "1       0.427354   0.590088      0.343752    0.625344       0.25  0.549526   \n",
       "2       0.478326   0.588365      0.346259    0.624207       0.50  0.547898   \n",
       "\n",
       "   Acceleration_5     Month  Target_Next_Month        date  \n",
       "0        0.378171  0.909091                  1  2010-11-15  \n",
       "1        0.379279  0.909091                  1  2010-11-16  \n",
       "2        0.378922  0.909091                  1  2010-11-17  \n",
       "\n",
       "[3 rows x 22 columns]"
      ]
     },
     "execution_count": 69,
     "metadata": {},
     "output_type": "execute_result"
    }
   ],
   "source": [
    "month.head(3)"
   ]
  }
 ],
 "metadata": {
  "kernelspec": {
   "display_name": "Python 3",
   "language": "python",
   "name": "python3"
  },
  "language_info": {
   "codemirror_mode": {
    "name": "ipython",
    "version": 3
   },
   "file_extension": ".py",
   "mimetype": "text/x-python",
   "name": "python",
   "nbconvert_exporter": "python",
   "pygments_lexer": "ipython3",
   "version": "3.8.10"
  }
 },
 "nbformat": 4,
 "nbformat_minor": 4
}
